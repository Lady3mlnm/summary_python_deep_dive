{
 "cells": [
  {
   "cell_type": "markdown",
   "metadata": {},
   "source": [
    "Speed tests from the course \"[Deep Dive (Part 3 - Hash Maps)](https://www.udemy.com/course/python-3-deep-dive-part-3/)\"\n",
    "\n",
    "(*These tests can intersect with tests in my earlier notebooks*)"
   ]
  },
  {
   "cell_type": "code",
   "execution_count": 1,
   "metadata": {},
   "outputs": [],
   "source": [
    "from timeit import timeit\n",
    "from random import randint\n",
    "from copy import deepcopy"
   ]
  },
  {
   "cell_type": "code",
   "execution_count": 2,
   "metadata": {},
   "outputs": [
    {
     "data": {
      "text/plain": [
       "1000000"
      ]
     },
     "execution_count": 2,
     "metadata": {},
     "output_type": "execute_result"
    }
   ],
   "source": [
    "big_d = {k: randint(1, 100) for k in range(1_000_000)}\n",
    "\n",
    "len(big_d)"
   ]
  },
  {
   "cell_type": "code",
   "execution_count": 3,
   "metadata": {},
   "outputs": [],
   "source": [
    "def f_unpacking(d):\n",
    "    d1 = {**d}\n",
    "    \n",
    "def f_copy(d):\n",
    "    d1 = d.copy()\n",
    "    \n",
    "def f_create(d):\n",
    "    d1 = dict(d)\n",
    "    \n",
    "def f_comprehension(d):\n",
    "    d1 = {k: v for k, v in d.items()}\n",
    "    \n",
    "def f_deepcopy(d):\n",
    "    d1 = deepcopy(d)"
   ]
  },
  {
   "cell_type": "code",
   "execution_count": 4,
   "metadata": {},
   "outputs": [
    {
     "data": {
      "text/plain": [
       "3.448218093999458"
      ]
     },
     "execution_count": 4,
     "metadata": {},
     "output_type": "execute_result"
    }
   ],
   "source": [
    "timeit('f_unpacking(big_d)', globals=globals(), number=100)"
   ]
  },
  {
   "cell_type": "code",
   "execution_count": 5,
   "metadata": {},
   "outputs": [
    {
     "data": {
      "text/plain": [
       "2.5693915160009055"
      ]
     },
     "execution_count": 5,
     "metadata": {},
     "output_type": "execute_result"
    }
   ],
   "source": [
    "timeit('f_copy(big_d)', globals=globals(), number=100)"
   ]
  },
  {
   "cell_type": "code",
   "execution_count": 6,
   "metadata": {},
   "outputs": [
    {
     "data": {
      "text/plain": [
       "3.4449262119997"
      ]
     },
     "execution_count": 6,
     "metadata": {},
     "output_type": "execute_result"
    }
   ],
   "source": [
    "timeit('f_create(big_d)', globals=globals(), number=100)"
   ]
  },
  {
   "cell_type": "code",
   "execution_count": 7,
   "metadata": {},
   "outputs": [
    {
     "data": {
      "text/plain": [
       "6.46217947399964"
      ]
     },
     "execution_count": 7,
     "metadata": {},
     "output_type": "execute_result"
    }
   ],
   "source": [
    "timeit('f_comprehension(big_d)', globals=globals(), number=100)"
   ]
  },
  {
   "cell_type": "code",
   "execution_count": 8,
   "metadata": {},
   "outputs": [
    {
     "data": {
      "text/plain": [
       "77.23119682499964"
      ]
     },
     "execution_count": 8,
     "metadata": {},
     "output_type": "execute_result"
    }
   ],
   "source": [
    "timeit('f_deepcopy(big_d)', globals=globals(), number=100)"
   ]
  },
  {
   "cell_type": "markdown",
   "metadata": {},
   "source": [
    "So, creating, unpacking and `.copy()` are about the same - certainly not significant enough to be concerned. A comprehension on the other hand is substantially slower - so, don't use comprehension syntax to do a simple shallow copy!\n",
    "\n",
    "`deepcopy` is almost indispensable in some situations but extremely slow."
   ]
  },
  {
   "cell_type": "markdown",
   "metadata": {},
   "source": [
    "<br>\n",
    "<br>\n",
    "<br>\n",
    "\n",
    "### Comparison of set, list, and dictionary\n",
    "\n",
    "(*time and memory*)"
   ]
  },
  {
   "cell_type": "code",
   "execution_count": 9,
   "metadata": {},
   "outputs": [],
   "source": [
    "n = 100_000\n",
    "ss = {i for i in range(n)}\n",
    "ls = [i for i in range(n)]\n",
    "dd = {i: None for i in range(n)}"
   ]
  },
  {
   "cell_type": "code",
   "execution_count": 10,
   "metadata": {},
   "outputs": [
    {
     "name": "stdout",
     "output_type": "stream",
     "text": [
      "0.12415216799854534\n",
      "0.0297039910001331\n",
      "0.030083904001003248\n"
     ]
    }
   ],
   "source": [
    "number = 1_000_000\n",
    "search = 9\n",
    "\n",
    "t_list = timeit(f'{search} in ls', globals=globals(), number=number)\n",
    "print(t_list)\n",
    "\n",
    "t_set = timeit(f'{search} in ss', globals=globals(), number=number)\n",
    "print(t_set)\n",
    "\n",
    "t_dict = timeit(f'{search} in dd', globals=globals(), number=number)\n",
    "print(t_dict)"
   ]
  },
  {
   "cell_type": "code",
   "execution_count": 11,
   "metadata": {},
   "outputs": [
    {
     "name": "stdout",
     "output_type": "stream",
     "text": [
      "10.092846550000104\n",
      "0.0003905810008291155\n",
      "0.00041182800123351626\n"
     ]
    }
   ],
   "source": [
    "number = 10_000\n",
    "search = 99_999\n",
    "\n",
    "t_list = timeit(f'{search} in ls', globals=globals(), number=number)\n",
    "print(t_list)\n",
    "\n",
    "t_set = timeit(f'{search} in ss', globals=globals(), number=number)\n",
    "print(t_set)\n",
    "\n",
    "t_dict = timeit(f'{search} in dd', globals=globals(), number=number)\n",
    "print(t_dict)"
   ]
  },
  {
   "cell_type": "code",
   "execution_count": 12,
   "metadata": {},
   "outputs": [
    {
     "name": "stdout",
     "output_type": "stream",
     "text": [
      "8.880738728999859\n",
      "0.00029584600088128354\n",
      "0.00030759800029045437\n"
     ]
    }
   ],
   "source": [
    "number = 10_000\n",
    "search = -1\n",
    "\n",
    "t_list = timeit(f'{search} not in ls', globals=globals(), number=number)\n",
    "print(t_list)\n",
    "\n",
    "t_set = timeit(f'{search} not in ss', globals=globals(), number=number)\n",
    "print(t_set)\n",
    "\n",
    "t_dict = timeit(f'{search} not in dd', globals=globals(), number=number)\n",
    "print(t_dict)"
   ]
  },
  {
   "cell_type": "code",
   "execution_count": 13,
   "metadata": {},
   "outputs": [
    {
     "name": "stdout",
     "output_type": "stream",
     "text": [
      "824440\n",
      "4194504\n",
      "5242952\n"
     ]
    }
   ],
   "source": [
    "print(ls.__sizeof__())\n",
    "print(ss.__sizeof__())\n",
    "print(dd.__sizeof__())"
   ]
  },
  {
   "cell_type": "code",
   "execution_count": 14,
   "metadata": {},
   "outputs": [
    {
     "name": "stdout",
     "output_type": "stream",
     "text": [
      "40\n",
      "200\n",
      "216\n"
     ]
    }
   ],
   "source": [
    "ls = list()\n",
    "ss = set()\n",
    "dd = dict()\n",
    "\n",
    "print(ls.__sizeof__())\n",
    "print(ss.__sizeof__())\n",
    "print(dd.__sizeof__())"
   ]
  },
  {
   "cell_type": "code",
   "execution_count": 15,
   "metadata": {},
   "outputs": [
    {
     "name": "stdout",
     "output_type": "stream",
     "text": [
      "72\n",
      "200\n",
      "216\n"
     ]
    }
   ],
   "source": [
    "ls.append(10)\n",
    "ss.add(10)\n",
    "dd[10] = None\n",
    "\n",
    "print(ls.__sizeof__())\n",
    "print(ss.__sizeof__())\n",
    "print(dd.__sizeof__())"
   ]
  },
  {
   "cell_type": "markdown",
   "metadata": {},
   "source": [
    "See also FAQ \"[Membership testing more than one values](https://www.udemy.com/course/python-3-deep-dive-part-3/learn/lecture/12049174#questions/6317828)\""
   ]
  },
  {
   "cell_type": "markdown",
   "metadata": {},
   "source": [
    "<br>\n",
    "<br>\n",
    "<br>\n",
    "\n",
    "### Iterating over dictionary vs iterating its view"
   ]
  },
  {
   "cell_type": "code",
   "execution_count": 16,
   "metadata": {},
   "outputs": [
    {
     "name": "stdout",
     "output_type": "stream",
     "text": [
      "1.5688883200000419\n",
      "1.5699621809999371\n",
      "1.5648812769995857\n"
     ]
    }
   ],
   "source": [
    "d = {k: randint(0, 100) for k in range(10_000)}\n",
    "keys = d.keys()\n",
    "\n",
    "def iter_direct(d):\n",
    "    for k in d:\n",
    "        pass\n",
    "    \n",
    "def iter_view(d):\n",
    "    for k in d.keys():\n",
    "        pass\n",
    "    \n",
    "def iter_view_direct(view):  # here we get view object, not dictionary\n",
    "    for k in view:\n",
    "        pass\n",
    "    \n",
    "print(timeit('iter_direct(d)', globals=globals(), number=20_000))\n",
    "print(timeit('iter_view(d)', globals=globals(), number=20_000))\n",
    "print(timeit('iter_view_direct(keys)', globals=globals(), number=20_000))"
   ]
  },
  {
   "cell_type": "code",
   "execution_count": null,
   "metadata": {},
   "outputs": [],
   "source": []
  }
 ],
 "metadata": {
  "kernelspec": {
   "display_name": "Python 3",
   "language": "python",
   "name": "python3"
  },
  "language_info": {
   "codemirror_mode": {
    "name": "ipython",
    "version": 3
   },
   "file_extension": ".py",
   "mimetype": "text/x-python",
   "name": "python",
   "nbconvert_exporter": "python",
   "pygments_lexer": "ipython3",
   "version": "3.7.3"
  }
 },
 "nbformat": 4,
 "nbformat_minor": 4
}
