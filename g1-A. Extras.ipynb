{
 "cells": [
  {
   "cell_type": "markdown",
   "metadata": {},
   "source": [
    "for the course \"<a target=\"_blank\" href=\"https://www.udemy.com/course/python-3-deep-dive-part-1/\">Python 3: Deep Drive (part 1 - Functional)</a>\",<br>\n",
    "section 10: \"Extras\"\n",
    "<br>\n",
    "<br>\n",
    "Here is mostly review of innovations in Python 3.6"
   ]
  },
  {
   "cell_type": "markdown",
   "metadata": {},
   "source": [
    "<br>\n",
    "<br>\n",
    "<hr>\n",
    "<h3>Type annotations</h3>"
   ]
  },
  {
   "cell_type": "code",
   "execution_count": 1,
   "metadata": {},
   "outputs": [],
   "source": [
    "my_list: list = [1, 2, 3]"
   ]
  },
  {
   "cell_type": "code",
   "execution_count": 2,
   "metadata": {},
   "outputs": [],
   "source": [
    "def squares(ls: list) -> list:\n",
    "    return [e ** 2 for n in ls]"
   ]
  },
  {
   "cell_type": "markdown",
   "metadata": {},
   "source": [
    "docs:<br>\n",
    "<a href=\"https://www.python.org/dev/peps/pep-0484/\">\"Type Hints\" (PEP 484)</a> <br>\n",
    "<a href=\"https://www.python.org/dev/peps/pep-0526/\">\"Syntax for Variable Annotations\" (PEP 526)</a>   "
   ]
  },
  {
   "cell_type": "markdown",
   "metadata": {},
   "source": [
    "<br>\n",
    "<br>\n",
    "<hr>\n",
    "<h3>Dictionary ordering</h3>\n",
    "<h5>Moving element to the end [<i>equivalent of move_to_end(last=True) from OrderedDict</i>]:</h5>"
   ]
  },
  {
   "cell_type": "code",
   "execution_count": 3,
   "metadata": {},
   "outputs": [
    {
     "name": "stdout",
     "output_type": "stream",
     "text": [
      "start:          {'a': 1, 'b': 2, 'c': 3}\n",
      "moved a to end: {'b': 2, 'c': 3, 'a': 1}\n"
     ]
    }
   ],
   "source": [
    "dd = {'a': 1, 'b': 2, 'c': 3}\n",
    "print('start:         ', dd)\n",
    "\n",
    "dd['a'] = dd.pop('a')\n",
    "print('moved a to end:', dd)"
   ]
  },
  {
   "cell_type": "markdown",
   "metadata": {},
   "source": [
    "<br>\n",
    "<h5>Moving element to front [<i>equivalent of move_to_end(last=False) from OrderedDict</i>]:</h5>"
   ]
  },
  {
   "cell_type": "code",
   "execution_count": 4,
   "metadata": {},
   "outputs": [
    {
     "name": "stdout",
     "output_type": "stream",
     "text": [
      "start:            {'a': 1, 'b': 2, 'c': 3, 'z': 10}\n",
      "moved c to front: {'c': 3, 'a': 1, 'b': 2, 'z': 10}\n"
     ]
    }
   ],
   "source": [
    "# way 1: in-place modification\n",
    "\n",
    "dd = {'a': 1, 'b': 2, 'c': 3, 'z': 10}\n",
    "print('start:           ', dd)\n",
    "\n",
    "dd['c'] = dd.pop('c')\n",
    "\n",
    "for i in range(len(dd)-1):\n",
    "    key = next(iter(dd.keys()))\n",
    "    dd[key] = dd.pop(key)\n",
    "    \n",
    "print('moved c to front:', dd)"
   ]
  },
  {
   "cell_type": "code",
   "execution_count": 5,
   "metadata": {},
   "outputs": [
    {
     "name": "stdout",
     "output_type": "stream",
     "text": [
      "start:            {'a': 1, 'b': 2, 'c': 3, 'z': 10}\n",
      "moved c to front: {'c': 3, 'a': 1, 'b': 2, 'z': 10}\n"
     ]
    }
   ],
   "source": [
    "# way 2: via creation of a new dictionary\n",
    "\n",
    "dd = {'a': 1, 'b': 2, 'c': 3, 'z': 10}\n",
    "print('start:           ', dd)\n",
    "\n",
    "dd = {'c': dd['c'], **dd}\n",
    "\n",
    "print('moved c to front:', dd)"
   ]
  },
  {
   "cell_type": "markdown",
   "metadata": {},
   "source": [
    "<br>\n",
    "<h5>Pop last item:</h5>"
   ]
  },
  {
   "cell_type": "code",
   "execution_count": 6,
   "metadata": {},
   "outputs": [
    {
     "name": "stdout",
     "output_type": "stream",
     "text": [
      "('c', 3)\n",
      "{'a': 1, 'b': 2}\n"
     ]
    }
   ],
   "source": [
    "dd = {'a': 1, 'b': 2, 'c': 3}\n",
    "\n",
    "print(dd.popitem())\n",
    "print(dd)"
   ]
  },
  {
   "cell_type": "markdown",
   "metadata": {},
   "source": [
    "<br>\n",
    "<h5>Pop first item:</h5>"
   ]
  },
  {
   "cell_type": "code",
   "execution_count": 7,
   "metadata": {},
   "outputs": [
    {
     "name": "stdout",
     "output_type": "stream",
     "text": [
      "a\n",
      "1\n",
      "{'b': 2, 'c': 3}\n"
     ]
    }
   ],
   "source": [
    "dd = {'a': 1, 'b': 2, 'c': 3}\n",
    "\n",
    "key = list(dd.keys())[0]  # key = next(iter(dd.keys()))\n",
    "\n",
    "print(key)\n",
    "print(dd.pop(key))\n",
    "print(dd)"
   ]
  },
  {
   "cell_type": "markdown",
   "metadata": {},
   "source": [
    "<br>\n",
    "\n",
    "Implementation of a dictionary see at <a href=\"http://code.activestate.com/recipes/578375/\">code.activestate.com/recipes/578375</a>"
   ]
  },
  {
   "cell_type": "markdown",
   "metadata": {},
   "source": [
    "<br>\n",
    "<br>\n",
    "<hr>\n",
    "<h3>Underscores in numeric literals</h3>"
   ]
  },
  {
   "cell_type": "code",
   "execution_count": 8,
   "metadata": {},
   "outputs": [
    {
     "data": {
      "text/plain": [
       "'1_000_000'"
      ]
     },
     "execution_count": 8,
     "metadata": {},
     "output_type": "execute_result"
    }
   ],
   "source": [
    "'{:_}'.format(1000000)"
   ]
  },
  {
   "cell_type": "code",
   "execution_count": 9,
   "metadata": {},
   "outputs": [
    {
     "data": {
      "text/plain": [
       "'F_4240'"
      ]
     },
     "execution_count": 9,
     "metadata": {},
     "output_type": "execute_result"
    }
   ],
   "source": [
    "'{:_X}'.format(1000000)"
   ]
  },
  {
   "cell_type": "code",
   "execution_count": 10,
   "metadata": {},
   "outputs": [
    {
     "data": {
      "text/plain": [
       "'f_4240'"
      ]
     },
     "execution_count": 10,
     "metadata": {},
     "output_type": "execute_result"
    }
   ],
   "source": [
    "'{:_x}'.format(1000000)"
   ]
  },
  {
   "cell_type": "code",
   "execution_count": 11,
   "metadata": {},
   "outputs": [
    {
     "data": {
      "text/plain": [
       "1000000"
      ]
     },
     "execution_count": 11,
     "metadata": {},
     "output_type": "execute_result"
    }
   ],
   "source": [
    "int('F_4240', 16)"
   ]
  },
  {
   "cell_type": "code",
   "execution_count": 12,
   "metadata": {},
   "outputs": [
    {
     "data": {
      "text/plain": [
       "256"
      ]
     },
     "execution_count": 12,
     "metadata": {},
     "output_type": "execute_result"
    }
   ],
   "source": [
    "int('0b_1_0000_0000', 2)"
   ]
  },
  {
   "cell_type": "markdown",
   "metadata": {},
   "source": [
    "docs: <a href=\"https://www.python.org/dev/peps/pep-0515/\">\"Underscores in Numeric Literals\" (PEP 515)</a>"
   ]
  },
  {
   "cell_type": "markdown",
   "metadata": {},
   "source": [
    "<br>\n",
    "<br>\n",
    "<hr>\n",
    "<h3>Types of string formatting</h3>"
   ]
  },
  {
   "cell_type": "markdown",
   "metadata": {},
   "source": [
    "\"Old style\" (\"C-style\") (% operator)"
   ]
  },
  {
   "cell_type": "code",
   "execution_count": 13,
   "metadata": {},
   "outputs": [
    {
     "data": {
      "text/plain": [
       "'10 / 3 = 3.33'"
      ]
     },
     "execution_count": 13,
     "metadata": {},
     "output_type": "execute_result"
    }
   ],
   "source": [
    "'%d / %d = %.2f' % (10, 3, 10/3)"
   ]
  },
  {
   "cell_type": "markdown",
   "metadata": {},
   "source": [
    "<br>\n",
    "\"New style\" (str.format)"
   ]
  },
  {
   "cell_type": "code",
   "execution_count": 14,
   "metadata": {},
   "outputs": [
    {
     "data": {
      "text/plain": [
       "'10 / 3 = 3.33'"
      ]
     },
     "execution_count": 14,
     "metadata": {},
     "output_type": "execute_result"
    }
   ],
   "source": [
    "'{} / {} = {:.2f}'.format(10, 3, 10/3)"
   ]
  },
  {
   "cell_type": "code",
   "execution_count": 15,
   "metadata": {},
   "outputs": [
    {
     "data": {
      "text/plain": [
       "'10 / 3 = 3.33'"
      ]
     },
     "execution_count": 15,
     "metadata": {},
     "output_type": "execute_result"
    }
   ],
   "source": [
    "'{1} / {2} = {0:.2f}'.format(10/3, 10, 3)"
   ]
  },
  {
   "cell_type": "code",
   "execution_count": 16,
   "metadata": {},
   "outputs": [
    {
     "data": {
      "text/plain": [
       "'10 / 3 = 3.33'"
      ]
     },
     "execution_count": 16,
     "metadata": {},
     "output_type": "execute_result"
    }
   ],
   "source": [
    "'{numerator} / {denominator} = {quotient:.2f}'.format(quotient=10/3, numerator=10, denominator=3)"
   ]
  },
  {
   "cell_type": "markdown",
   "metadata": {},
   "source": [
    "<br>\n",
    "f-strings"
   ]
  },
  {
   "cell_type": "code",
   "execution_count": 17,
   "metadata": {},
   "outputs": [
    {
     "data": {
      "text/plain": [
       "'10 / 3 = 3.33'"
      ]
     },
     "execution_count": 17,
     "metadata": {},
     "output_type": "execute_result"
    }
   ],
   "source": [
    "n = 10\n",
    "d = 3\n",
    "f'{n} / {d} = {n/d:.2f}'"
   ]
  },
  {
   "cell_type": "markdown",
   "metadata": {},
   "source": [
    "<br>\n",
    "docs:<br>\n",
    "\n",
    "\"PyFormat\": <a href=\"https://pyformat.info/\">pyformat.info</a> (<i>without f-strings</i>) <br>\n",
    "\"Python String Formatting Best Practices\": <a href=\"https://realpython.com/python-string-formatting/\">realpython.com/python-string-formatting</a> <br>\n",
    "<a href=\"https://www.python.org/dev/peps/pep-0498/\">\"Formatted String Literals\" (PEP 498)</a>"
   ]
  },
  {
   "cell_type": "markdown",
   "metadata": {},
   "source": [
    "<br>\n",
    "<br>\n",
    "<hr>\n",
    "<h3>Random module</h3>"
   ]
  },
  {
   "cell_type": "code",
   "execution_count": 18,
   "metadata": {},
   "outputs": [],
   "source": [
    "import random"
   ]
  },
  {
   "cell_type": "markdown",
   "metadata": {},
   "source": [
    "docs: <a href=\"https://docs.python.org/3/library/random.html\">official documentation of random-module"
   ]
  },
  {
   "cell_type": "markdown",
   "metadata": {},
   "source": [
    "<br>\n",
    "Counting number of elements in a list:"
   ]
  },
  {
   "cell_type": "code",
   "execution_count": 19,
   "metadata": {},
   "outputs": [],
   "source": [
    "lst = [random.randint(0, 9) for _ in range(1_000_000)]"
   ]
  },
  {
   "cell_type": "code",
   "execution_count": 20,
   "metadata": {},
   "outputs": [
    {
     "data": {
      "text/plain": [
       "{0: 100507,\n",
       " 1: 99739,\n",
       " 2: 100434,\n",
       " 3: 99640,\n",
       " 4: 99699,\n",
       " 5: 100323,\n",
       " 6: 100213,\n",
       " 7: 99424,\n",
       " 8: 100142,\n",
       " 9: 99879}"
      ]
     },
     "execution_count": 20,
     "metadata": {},
     "output_type": "execute_result"
    }
   ],
   "source": [
    "# way 1\n",
    "def freq_analysis(lst):\n",
    "    return {k: lst.count(k) for k in set(lst)}\n",
    "\n",
    "frequencies_dict = freq_analysis(lst)\n",
    "frequencies_dict"
   ]
  },
  {
   "cell_type": "code",
   "execution_count": 21,
   "metadata": {},
   "outputs": [
    {
     "data": {
      "text/plain": [
       "Counter({5: 100323,\n",
       "         7: 99424,\n",
       "         3: 99640,\n",
       "         1: 99739,\n",
       "         0: 100507,\n",
       "         6: 100213,\n",
       "         8: 100142,\n",
       "         4: 99699,\n",
       "         9: 99879,\n",
       "         2: 100434})"
      ]
     },
     "execution_count": 21,
     "metadata": {},
     "output_type": "execute_result"
    }
   ],
   "source": [
    "# way 2\n",
    "from collections import Counter\n",
    "\n",
    "frequencies_dict2 = Counter(lst)\n",
    "frequencies_dict2"
   ]
  },
  {
   "cell_type": "markdown",
   "metadata": {},
   "source": [
    "<br>\n",
    "<br>\n",
    "<hr>\n",
    "<h3>Timing code using 'timeit'</h3>"
   ]
  },
  {
   "cell_type": "code",
   "execution_count": 22,
   "metadata": {},
   "outputs": [],
   "source": [
    "from timeit import timeit\n",
    "import math"
   ]
  },
  {
   "cell_type": "code",
   "execution_count": 23,
   "metadata": {},
   "outputs": [
    {
     "name": "stdout",
     "output_type": "stream",
     "text": [
      "Help on function timeit in module timeit:\n",
      "\n",
      "timeit(stmt='pass', setup='pass', timer=<built-in function perf_counter>, number=1000000, globals=None)\n",
      "    Convenience function to create Timer object and call timeit method.\n",
      "\n"
     ]
    }
   ],
   "source": [
    "help(timeit)"
   ]
  },
  {
   "cell_type": "code",
   "execution_count": 24,
   "metadata": {},
   "outputs": [
    {
     "data": {
      "text/plain": [
       "0.18752275999941048"
      ]
     },
     "execution_count": 24,
     "metadata": {},
     "output_type": "execute_result"
    }
   ],
   "source": [
    "# way 1\n",
    "timeit(stmt='import math\\nmath.sqrt(2)')"
   ]
  },
  {
   "cell_type": "code",
   "execution_count": 25,
   "metadata": {},
   "outputs": [
    {
     "data": {
      "text/plain": [
       "0.07626327500020125"
      ]
     },
     "execution_count": 25,
     "metadata": {},
     "output_type": "execute_result"
    }
   ],
   "source": [
    "# way 2\n",
    "timeit(setup='import math', stmt='math.sqrt(2)')"
   ]
  },
  {
   "cell_type": "code",
   "execution_count": 26,
   "metadata": {},
   "outputs": [
    {
     "data": {
      "text/plain": [
       "0.0515235719994962"
      ]
     },
     "execution_count": 26,
     "metadata": {},
     "output_type": "execute_result"
    }
   ],
   "source": [
    "timeit(setup='from math import sqrt', stmt='sqrt(2)')"
   ]
  },
  {
   "cell_type": "code",
   "execution_count": 27,
   "metadata": {},
   "outputs": [
    {
     "data": {
      "text/plain": [
       "0.11219355299999734"
      ]
     },
     "execution_count": 27,
     "metadata": {},
     "output_type": "execute_result"
    }
   ],
   "source": [
    "# way 3\n",
    "timeit(stmt='math.sqrt(2)', globals=globals())"
   ]
  },
  {
   "cell_type": "markdown",
   "metadata": {},
   "source": [
    "<br>\n",
    "<br>\n",
    "<hr>\n",
    "<h3>Sentinel values for parameters defaults</h3>"
   ]
  },
  {
   "cell_type": "code",
   "execution_count": 28,
   "metadata": {},
   "outputs": [],
   "source": [
    "def validate(a=object()):\n",
    "    default_a = validate.__defaults__[0]\n",
    "    \n",
    "    if a is not default_a:\n",
    "        print('argument is provided')\n",
    "    else:\n",
    "        print('argument is absent')"
   ]
  },
  {
   "cell_type": "code",
   "execution_count": 29,
   "metadata": {},
   "outputs": [
    {
     "name": "stdout",
     "output_type": "stream",
     "text": [
      "argument is absent\n"
     ]
    }
   ],
   "source": [
    "validate()"
   ]
  },
  {
   "cell_type": "code",
   "execution_count": 30,
   "metadata": {},
   "outputs": [
    {
     "name": "stdout",
     "output_type": "stream",
     "text": [
      "argument is provided\n"
     ]
    }
   ],
   "source": [
    "validate(None)"
   ]
  },
  {
   "cell_type": "code",
   "execution_count": 31,
   "metadata": {},
   "outputs": [
    {
     "name": "stdout",
     "output_type": "stream",
     "text": [
      "argument is provided\n"
     ]
    }
   ],
   "source": [
    "validate(a=None)"
   ]
  },
  {
   "cell_type": "markdown",
   "metadata": {},
   "source": [
    "<br>"
   ]
  },
  {
   "cell_type": "code",
   "execution_count": 32,
   "metadata": {},
   "outputs": [],
   "source": [
    "def validate(a=object(), b=object(), *, kw=object()):\n",
    "    default_a = validate.__defaults__[0]\n",
    "    default_b = validate.__defaults__[1]\n",
    "    default_kw = validate.__kwdefaults__['kw']\n",
    "    \n",
    "    print(f\"argument a is {'absent' if a is default_a else 'provided'}\")\n",
    "    print(f\"argument b is {'absent' if b is default_b else 'provided'}\")\n",
    "    print(f\"argument kw is {'absent' if kw is default_kw else 'provided'}\")"
   ]
  },
  {
   "cell_type": "code",
   "execution_count": 33,
   "metadata": {},
   "outputs": [
    {
     "name": "stdout",
     "output_type": "stream",
     "text": [
      "argument a is provided\n",
      "argument b is absent\n",
      "argument kw is provided\n"
     ]
    }
   ],
   "source": [
    "validate(None, kw=None)"
   ]
  },
  {
   "cell_type": "markdown",
   "metadata": {},
   "source": [
    "<br>\n",
    "<br>\n",
    "<hr>\n",
    "<h3>Simulating a simple switch in Python</h3>"
   ]
  },
  {
   "cell_type": "markdown",
   "metadata": {},
   "source": [
    "method 1: via elif"
   ]
  },
  {
   "cell_type": "code",
   "execution_count": 34,
   "metadata": {},
   "outputs": [],
   "source": [
    "def dow_switch_fn(dow):\n",
    "    if dow == 1:\n",
    "        fn = lambda: print('Monday')\n",
    "    elif dow == 2:\n",
    "        fn = lambda: print('Tuesday')\n",
    "    elif dow == 3:\n",
    "        fn = lambda: print('Wednesday')\n",
    "    elif dow == 4:\n",
    "        fn = lambda: print('Thursday')\n",
    "    elif dow == 5:\n",
    "        fn = lambda: print('Friday')\n",
    "    elif dow == 6:\n",
    "        fn = lambda: print('Saturday')\n",
    "    elif dow == 7:\n",
    "        fn = lambda: print('Sunday')\n",
    "    else:\n",
    "        fn = lambda: print('Invalid day of week')\n",
    "    \n",
    "    return fn()"
   ]
  },
  {
   "cell_type": "code",
   "execution_count": 35,
   "metadata": {},
   "outputs": [
    {
     "name": "stdout",
     "output_type": "stream",
     "text": [
      "Monday\n"
     ]
    }
   ],
   "source": [
    "dow_switch_fn(1)"
   ]
  },
  {
   "cell_type": "code",
   "execution_count": 36,
   "metadata": {},
   "outputs": [
    {
     "name": "stdout",
     "output_type": "stream",
     "text": [
      "Invalid day of week\n"
     ]
    }
   ],
   "source": [
    "dow_switch_fn(10)"
   ]
  },
  {
   "cell_type": "markdown",
   "metadata": {},
   "source": [
    "<br>"
   ]
  },
  {
   "cell_type": "markdown",
   "metadata": {},
   "source": [
    "method 2: via dictionary"
   ]
  },
  {
   "cell_type": "code",
   "execution_count": 37,
   "metadata": {},
   "outputs": [],
   "source": [
    "def dow_switch_dict(dow):\n",
    "    dow_dict = {\n",
    "        1: lambda: print('Monday'),\n",
    "        2: lambda: print('Tuesday'),\n",
    "        3: lambda: print('Wednesday'),\n",
    "        4: lambda: print('Thursday'),\n",
    "        5: lambda: print('Friday'),\n",
    "        6: lambda: print('Saturday'),\n",
    "        7: lambda: print('Sunday'),\n",
    "        'default': lambda: print('Invalid day of week')\n",
    "    }\n",
    "    \n",
    "    return dow_dict.get(dow, dow_dict['default'])()"
   ]
  },
  {
   "cell_type": "code",
   "execution_count": 38,
   "metadata": {},
   "outputs": [
    {
     "name": "stdout",
     "output_type": "stream",
     "text": [
      "Tuesday\n"
     ]
    }
   ],
   "source": [
    "dow_switch_dict(2)"
   ]
  },
  {
   "cell_type": "code",
   "execution_count": 39,
   "metadata": {},
   "outputs": [
    {
     "name": "stdout",
     "output_type": "stream",
     "text": [
      "Invalid day of week\n"
     ]
    }
   ],
   "source": [
    "dow_switch_dict(10)"
   ]
  },
  {
   "cell_type": "markdown",
   "metadata": {},
   "source": [
    "<br>"
   ]
  },
  {
   "cell_type": "markdown",
   "metadata": {},
   "source": [
    "method 3a: via decorator"
   ]
  },
  {
   "cell_type": "code",
   "execution_count": 40,
   "metadata": {},
   "outputs": [],
   "source": [
    "def switcher(fn):\n",
    "    registry = dict()\n",
    "    registry['default'] = fn  # create dictionary 'registry' with one initial value\n",
    "    \n",
    "    def register(case):       # replenish the dictionary by new pairs 'case: fn'\n",
    "        def inner(fn):\n",
    "            registry[case] = fn\n",
    "            return fn         # we return 'fn' so we can stack decorators\n",
    "        return inner\n",
    "    \n",
    "    def decorator(case):      # retrieve 'fn' according to received 'case'\n",
    "        fn = registry.get(case, registry['default'])\n",
    "        return fn()\n",
    "    \n",
    "    decorator.register = register  # attach function 'register' to returned function 'decorator'\n",
    "    return decorator"
   ]
  },
  {
   "cell_type": "code",
   "execution_count": 41,
   "metadata": {},
   "outputs": [
    {
     "data": {
      "text/plain": [
       "<function __main__.<lambda>()>"
      ]
     },
     "execution_count": 41,
     "metadata": {},
     "output_type": "execute_result"
    }
   ],
   "source": [
    "@switcher\n",
    "def dow():\n",
    "    return 'Invalid day of week'\n",
    "    \n",
    "@dow.register(1)\n",
    "def dow_1():\n",
    "    return 'Monday'\n",
    "\n",
    "dow.register(2)(lambda: 'Tuesday')\n",
    "dow.register(3)(lambda: 'Wednesday')\n",
    "dow.register(4)(lambda: 'Thursday')\n",
    "dow.register(5)(lambda: 'Friday')\n",
    "dow.register(6)(lambda: 'Saturday')\n",
    "dow.register(7)(lambda: 'Sunday')"
   ]
  },
  {
   "cell_type": "code",
   "execution_count": 42,
   "metadata": {},
   "outputs": [
    {
     "name": "stdout",
     "output_type": "stream",
     "text": [
      "Monday\n",
      "Tuesday\n",
      "Wednesday\n",
      "Thursday\n",
      "Friday\n",
      "Saturday\n",
      "Sunday\n",
      "Invalid day of week\n"
     ]
    }
   ],
   "source": [
    "for i in range(1,9):\n",
    "    print(dow(i))"
   ]
  },
  {
   "cell_type": "markdown",
   "metadata": {},
   "source": [
    "<br>\n",
    "method 3b: small modification in attempt to make this method more understandable"
   ]
  },
  {
   "cell_type": "code",
   "execution_count": 43,
   "metadata": {},
   "outputs": [],
   "source": [
    "def switcher_smpl(fn_default):  # here the decordator remembers 'fn_default'\n",
    "    registry = dict()           # create empty dictionary 'register'\n",
    "    \n",
    "    def register(case):         # replenish the dictionary by new pairs 'case: fn'\n",
    "        def inner(fn):\n",
    "            registry[case] = fn\n",
    "            return fn           # we return 'fn' so we can stack decorators\n",
    "        return inner\n",
    "    \n",
    "    def decorator(case):        # retrieve 'fn' according to received 'case'\n",
    "        fn = registry.get(case, fn_default)\n",
    "        return fn()\n",
    "    \n",
    "    decorator.register = register  # attach function 'register' to returned function 'decorator'\n",
    "    return decorator"
   ]
  },
  {
   "cell_type": "code",
   "execution_count": 44,
   "metadata": {},
   "outputs": [
    {
     "data": {
      "text/plain": [
       "<function __main__.<lambda>()>"
      ]
     },
     "execution_count": 44,
     "metadata": {},
     "output_type": "execute_result"
    }
   ],
   "source": [
    "@switcher_smpl\n",
    "def dow_smpl():\n",
    "    return 'Invalid day of week'\n",
    "    \n",
    "@dow_smpl.register(1)\n",
    "def dow_1():\n",
    "    return 'Monday'\n",
    "\n",
    "dow_smpl.register(2)(lambda: 'Tuesday')\n",
    "dow_smpl.register(3)(lambda: 'Wednesday')\n",
    "dow_smpl.register(4)(lambda: 'Thursday')\n",
    "dow_smpl.register(5)(lambda: 'Friday')\n",
    "dow_smpl.register(6)(lambda: 'Saturday')\n",
    "dow_smpl.register(7)(lambda: 'Sunday')"
   ]
  },
  {
   "cell_type": "code",
   "execution_count": 45,
   "metadata": {},
   "outputs": [
    {
     "name": "stdout",
     "output_type": "stream",
     "text": [
      "Monday\n",
      "Tuesday\n",
      "Wednesday\n",
      "Thursday\n",
      "Friday\n",
      "Saturday\n",
      "Sunday\n",
      "Invalid day of week\n"
     ]
    }
   ],
   "source": [
    "for i in range(1,9):\n",
    "    print(dow_smpl(i))"
   ]
  },
  {
   "cell_type": "markdown",
   "metadata": {},
   "source": [
    "<br>\n",
    "docs about dispatch-technique:<br>\n",
    "\n",
    "<a href=\"https://www.python.org/dev/peps/pep-0443/\">\"Single-dispatch generic functions\" (PEP 443)</a> <br>\n",
    "\"Five-minute Multimethods in Python\": <a href=\"https://www.artima.com/weblogs/viewpost.jsp?thread=101605\">artima.com/weblogs/…</a>"
   ]
  },
  {
   "cell_type": "markdown",
   "metadata": {},
   "source": [
    "<br>\n",
    "<br>\n",
    "<hr>\n",
    "<h3>Command line arguments</h3>"
   ]
  },
  {
   "cell_type": "markdown",
   "metadata": {},
   "source": [
    "Simple case:\n",
    "<pre>\n",
    "import argparse\n",
    "\n",
    "parser = argparse.ArgumentParser(description='your description')\n",
    "    \n",
    "parser.add_argument('a', help='first integer', type=int)\n",
    "parser.add_argument('b', help='second integer', type=int)\n",
    "\n",
    "args = parser.parse_args()\n",
    "    \n",
    "a = args.a\n",
    "b = args.b\n",
    "</pre>"
   ]
  },
  {
   "cell_type": "markdown",
   "metadata": {},
   "source": [
    "<br>Cases with more functional:\n",
    "<pre>\n",
    "import argparse\n",
    "\n",
    "parser = argparse.ArgumentParser(description='your description')\n",
    "\n",
    "parser.add_argument('-f', '--first', help='first name', type=str, required=False, dest='first_name')\n",
    "parser.add_argument('-l', '--last', help='last name', type=str, required=True, dest='last_name')\n",
    "parser.add_argument('--yob', help='year of birth', type=int, required=True, dest='birth_year')\n",
    "\n",
    "# determine number of parameters (via nargs)\n",
    "parser.add_argument('--sq', help='list of numbers to square', nargs='*', type=float)\n",
    "parser.add_argument('--cu', help='list of numbers to cube', nargs='+', type=float, required=True, dest='cubes')\n",
    "\n",
    "# work with defaults\n",
    "parser.add_argument('--monty', action='store_const', const='Python')\n",
    "parser.add_argument('-n', '--name', default='John')\n",
    "\n",
    "# work with flags\n",
    "parser.add_argument('-v', '--verbose', action='store_const', const=True, default=False)\n",
    "parser.add_argument('-v2', action='store_const', const=True)\n",
    "parser.add_argument('-q', '--quiet', action='store_true')  # equivalent to action='store_const', const=True, default=False\n",
    "\n",
    "# mutually exclusive flags\n",
    "group = parser.add_mutually_exclusive_group()\n",
    "group.add_argument('-v', '--verbose', action='store_true')\n",
    "group.add_argument('-q', '--quiet', action='store_true')\n",
    "\n",
    "args = parser.parse_args()\n",
    "</pre>\n",
    "\n",
    "docs:<br>\n",
    "<a href=\"https://docs.python.org/3/library/argparse.html\">official documentation of argparse-module</a> <br>\n",
    "<a href=\"https://docs.python.org/3/howto/argparse.html\">Argparse Tutorial</a>"
   ]
  },
  {
   "cell_type": "code",
   "execution_count": null,
   "metadata": {},
   "outputs": [],
   "source": []
  }
 ],
 "metadata": {
  "kernelspec": {
   "display_name": "Python 3",
   "language": "python",
   "name": "python3"
  },
  "language_info": {
   "codemirror_mode": {
    "name": "ipython",
    "version": 3
   },
   "file_extension": ".py",
   "mimetype": "text/x-python",
   "name": "python",
   "nbconvert_exporter": "python",
   "pygments_lexer": "ipython3",
   "version": "3.7.3"
  }
 },
 "nbformat": 4,
 "nbformat_minor": 4
}
