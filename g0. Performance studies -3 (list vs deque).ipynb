{
 "cells": [
  {
   "cell_type": "code",
   "execution_count": 1,
   "metadata": {},
   "outputs": [],
   "source": [
    "from timeit import timeit\n",
    "from collections import deque"
   ]
  },
  {
   "cell_type": "markdown",
   "metadata": {},
   "source": [
    "<br>\n",
    "\n",
    "### Lists and Deques for queues\n",
    "\n",
    "From \"Deep Drive 2\" > lecture \"[113. Coroutines - Coding](https://www.udemy.com/course/python-3-deep-dive-part-2/learn/lecture/11185864)\"\n",
    "\n",
    "Some timing differences between `lists` and `deques` when inserting and popping elements.<br>\n",
    "Compare this with appending elements to a `list` as well."
   ]
  },
  {
   "cell_type": "code",
   "execution_count": 2,
   "metadata": {},
   "outputs": [],
   "source": [
    "list_size = 10_000\n",
    "\n",
    "def append_to_list(n=list_size):\n",
    "    lst = []\n",
    "    for i in range(n):\n",
    "        lst.append(i)\n",
    "\n",
    "def insert_front_of_list(n=list_size):\n",
    "    lst = []\n",
    "    for i in range(n):\n",
    "        lst.insert(0, i)\n",
    "        \n",
    "lst = [i for i in range(list_size)]\n",
    "def pop_from_list(lst=lst):\n",
    "    for _ in range(len(lst)):\n",
    "        lst.pop()\n",
    "        \n",
    "lst = [i for i in range(list_size)]\n",
    "def pop_from_front_of_list(lst=lst):\n",
    "    for _ in range(len(lst)):\n",
    "        lst.pop(0)"
   ]
  },
  {
   "cell_type": "markdown",
   "metadata": {},
   "source": [
    "Let's time those out:"
   ]
  },
  {
   "cell_type": "code",
   "execution_count": 3,
   "metadata": {},
   "outputs": [
    {
     "data": {
      "text/plain": [
       "0.5777737729999899"
      ]
     },
     "execution_count": 3,
     "metadata": {},
     "output_type": "execute_result"
    }
   ],
   "source": [
    "timeit('append_to_list()', globals=globals(), number=1_000)"
   ]
  },
  {
   "cell_type": "code",
   "execution_count": 4,
   "metadata": {},
   "outputs": [
    {
     "data": {
      "text/plain": [
       "28.491118993000043"
      ]
     },
     "execution_count": 4,
     "metadata": {},
     "output_type": "execute_result"
    }
   ],
   "source": [
    "timeit('insert_front_of_list()', globals=globals(), number=1_000)"
   ]
  },
  {
   "cell_type": "code",
   "execution_count": 5,
   "metadata": {},
   "outputs": [
    {
     "data": {
      "text/plain": [
       "0.0010119279999685205"
      ]
     },
     "execution_count": 5,
     "metadata": {},
     "output_type": "execute_result"
    }
   ],
   "source": [
    "timeit('pop_from_list()', globals=globals(), number=1_000)"
   ]
  },
  {
   "cell_type": "code",
   "execution_count": 6,
   "metadata": {},
   "outputs": [
    {
     "data": {
      "text/plain": [
       "0.00747791399999187"
      ]
     },
     "execution_count": 6,
     "metadata": {},
     "output_type": "execute_result"
    }
   ],
   "source": [
    "timeit('pop_from_front_of_list()', globals=globals(), number=1_000)"
   ]
  },
  {
   "cell_type": "markdown",
   "metadata": {},
   "source": [
    "As you can see, insert elements at the front of the list is not very efficient compared to the end of the list. So lists are OK to use as stacks, but not as queues."
   ]
  },
  {
   "cell_type": "markdown",
   "metadata": {},
   "source": [
    "<br>\n",
    "\n",
    "The standard library's deque is efficient at adding/removing items from both the start and end of the collection:"
   ]
  },
  {
   "cell_type": "code",
   "execution_count": 7,
   "metadata": {},
   "outputs": [],
   "source": [
    "list_size = 10_000\n",
    "\n",
    "def append_to_deque(n=list_size):\n",
    "    dq = deque()\n",
    "    for i in range(n):\n",
    "        dq.append(i)\n",
    "\n",
    "def insert_front_of_deque(n=list_size):\n",
    "    dq = deque()\n",
    "    for i in range(n):\n",
    "        dq.appendleft(i)\n",
    "        \n",
    "dq = deque(i for i in range(list_size))\n",
    "def pop_from_deque(dq=dq):\n",
    "    for _ in range(len(lst)):\n",
    "        dq.pop()\n",
    "        \n",
    "dq = deque(i for i in range(list_size))\n",
    "def pop_from_front_of_deque(dq=dq):\n",
    "    for _ in range(len(lst)):\n",
    "        dq.popleft()"
   ]
  },
  {
   "cell_type": "code",
   "execution_count": 8,
   "metadata": {},
   "outputs": [
    {
     "data": {
      "text/plain": [
       "0.6097814000000312"
      ]
     },
     "execution_count": 8,
     "metadata": {},
     "output_type": "execute_result"
    }
   ],
   "source": [
    "timeit('append_to_deque()', globals=globals(), number=1_000)"
   ]
  },
  {
   "cell_type": "code",
   "execution_count": 9,
   "metadata": {},
   "outputs": [
    {
     "data": {
      "text/plain": [
       "0.5749034500000221"
      ]
     },
     "execution_count": 9,
     "metadata": {},
     "output_type": "execute_result"
    }
   ],
   "source": [
    "timeit('insert_front_of_deque()', globals=globals(), number=1_000)"
   ]
  },
  {
   "cell_type": "code",
   "execution_count": 10,
   "metadata": {},
   "outputs": [
    {
     "data": {
      "text/plain": [
       "0.00023821600001383558"
      ]
     },
     "execution_count": 10,
     "metadata": {},
     "output_type": "execute_result"
    }
   ],
   "source": [
    "timeit('pop_from_deque()', globals=globals(), number=1_000)"
   ]
  },
  {
   "cell_type": "code",
   "execution_count": 11,
   "metadata": {},
   "outputs": [
    {
     "data": {
      "text/plain": [
       "0.00021221900004775307"
      ]
     },
     "execution_count": 11,
     "metadata": {},
     "output_type": "execute_result"
    }
   ],
   "source": [
    "timeit('pop_from_front_of_deque()', globals=globals(), number=1_000)"
   ]
  },
  {
   "cell_type": "code",
   "execution_count": null,
   "metadata": {},
   "outputs": [],
   "source": []
  }
 ],
 "metadata": {
  "kernelspec": {
   "display_name": "Python 3",
   "language": "python",
   "name": "python3"
  },
  "language_info": {
   "codemirror_mode": {
    "name": "ipython",
    "version": 3
   },
   "file_extension": ".py",
   "mimetype": "text/x-python",
   "name": "python",
   "nbconvert_exporter": "python",
   "pygments_lexer": "ipython3",
   "version": "3.7.3"
  }
 },
 "nbformat": 4,
 "nbformat_minor": 4
}
