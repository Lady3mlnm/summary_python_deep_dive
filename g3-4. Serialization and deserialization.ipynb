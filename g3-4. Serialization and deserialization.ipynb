{
 "cells": [
  {
   "cell_type": "markdown",
   "metadata": {},
   "source": [
    "### JSON serialization"
   ]
  },
  {
   "cell_type": "markdown",
   "metadata": {},
   "source": [
    "The concept of serializing/deserializing is also often called **marshalling**."
   ]
  },
  {
   "cell_type": "markdown",
   "metadata": {},
   "source": [
    "In JSON only this types are supported:\n",
    "\n",
    "* **Strings**: delimited by double quotes\n",
    "* **Booleans**: `true` / `false`\n",
    "* **Numbers**: integers and floats (including exponential notation, e.g. `1.3E2`) - all considered floats\n",
    "* **Arrays**: an **ordered** collection of zero or more items of any valid JSON type\n",
    "* **Objects**: an **unordered** collection of `key:value` pairs, keys must be strings\n",
    "* **NULL**: a null object, denoted by `null` and equivalent to `None` in Python"
   ]
  },
  {
   "cell_type": "markdown",
   "metadata": {},
   "source": [
    "Serializing a dictionary to JSON is done by functions `dump` and `dumps`: `dumps` serializes to a string, while `dump` writes the serialization to a file (*more accurately, a stream*).\n",
    "\n",
    "Deserialization is done by functions `load` and `loads`, analogically."
   ]
  },
  {
   "cell_type": "code",
   "execution_count": 1,
   "metadata": {},
   "outputs": [],
   "source": [
    "import json\n",
    "from decimal import Decimal\n",
    "from fractions import Fraction\n",
    "from datetime import datetime"
   ]
  },
  {
   "cell_type": "code",
   "execution_count": 2,
   "metadata": {},
   "outputs": [
    {
     "name": "stdout",
     "output_type": "stream",
     "text": [
      "<class 'str'>\n"
     ]
    },
    {
     "data": {
      "text/plain": [
       "'{\"a\": 100, \"b\": 200}'"
      ]
     },
     "execution_count": 2,
     "metadata": {},
     "output_type": "execute_result"
    }
   ],
   "source": [
    "d1 = {'a': 100, 'b': 200}\n",
    "d1_json = json.dumps(d1)\n",
    "\n",
    "print(type(d1_json))\n",
    "d1_json"
   ]
  },
  {
   "cell_type": "markdown",
   "metadata": {},
   "source": [
    "We can obtain a better looking JSON string by specifying an indent for the `dump` or `dumps` functions:"
   ]
  },
  {
   "cell_type": "code",
   "execution_count": 3,
   "metadata": {},
   "outputs": [
    {
     "name": "stdout",
     "output_type": "stream",
     "text": [
      "{\n",
      "  \"a\": 100,\n",
      "  \"b\": 200\n",
      "}\n"
     ]
    }
   ],
   "source": [
    "print(json.dumps(d1, indent=2))"
   ]
  },
  {
   "cell_type": "markdown",
   "metadata": {},
   "source": [
    "<br>\n",
    "\n",
    "Deserialize the JSON string to dictionary:"
   ]
  },
  {
   "cell_type": "code",
   "execution_count": 4,
   "metadata": {},
   "outputs": [
    {
     "name": "stdout",
     "output_type": "stream",
     "text": [
      "<class 'dict'>\n"
     ]
    },
    {
     "data": {
      "text/plain": [
       "{'a': 100, 'b': 200}"
      ]
     },
     "execution_count": 4,
     "metadata": {},
     "output_type": "execute_result"
    }
   ],
   "source": [
    "d2 = json.loads(d1_json)\n",
    "\n",
    "print(type(d2))\n",
    "d2"
   ]
  },
  {
   "cell_type": "code",
   "execution_count": 5,
   "metadata": {},
   "outputs": [
    {
     "name": "stdout",
     "output_type": "stream",
     "text": [
      "True\n",
      "False\n"
     ]
    }
   ],
   "source": [
    "# check of identity\n",
    "print(d1 == d2)\n",
    "print(d1 is d2)"
   ]
  },
  {
   "cell_type": "markdown",
   "metadata": {},
   "source": [
    "**Caveat!** Remember that the JSON keys are always interpreted as strings.<br>\n",
    "Python tuples are serialized into JSON lists and are deserialized into Python lists.<br>\n",
    "So it is not always true that `d == loads(dumps(d))`."
   ]
  },
  {
   "cell_type": "markdown",
   "metadata": {},
   "source": [
    "**Caveat!** Order of keys is not guaranteed - JSON object is an unordered collection."
   ]
  },
  {
   "cell_type": "markdown",
   "metadata": {},
   "source": [
    "<br>\n",
    "\n",
    "Some specific data types are not serialized into JSON by default."
   ]
  },
  {
   "cell_type": "code",
   "execution_count": 6,
   "metadata": {},
   "outputs": [
    {
     "name": "stdout",
     "output_type": "stream",
     "text": [
      "Object of type Decimal is not JSON serializable\n"
     ]
    }
   ],
   "source": [
    "try:\n",
    "    json.dumps({'a': Decimal('0.1')})\n",
    "except TypeError as ex:\n",
    "    print(ex)"
   ]
  },
  {
   "cell_type": "code",
   "execution_count": 7,
   "metadata": {},
   "outputs": [
    {
     "name": "stdout",
     "output_type": "stream",
     "text": [
      "Object of type complex is not JSON serializable\n"
     ]
    }
   ],
   "source": [
    "try:\n",
    "    json.dumps({\"a\": 1+1j})\n",
    "except TypeError as ex:\n",
    "    print(ex)"
   ]
  },
  {
   "cell_type": "markdown",
   "metadata": {},
   "source": [
    "Sometimes it is possible to get around the problem using the string representation of the object:"
   ]
  },
  {
   "cell_type": "code",
   "execution_count": 8,
   "metadata": {},
   "outputs": [
    {
     "data": {
      "text/plain": [
       "'{\"a\": \"0.5\"}'"
      ]
     },
     "execution_count": 8,
     "metadata": {},
     "output_type": "execute_result"
    }
   ],
   "source": [
    "json.dumps({\"a\": str(Decimal(0.5))})"
   ]
  },
  {
   "cell_type": "markdown",
   "metadata": {},
   "source": [
    "But pay attention that we got back a string, not a number. And the result can be correct for some data but improper for other data:"
   ]
  },
  {
   "cell_type": "code",
   "execution_count": 9,
   "metadata": {},
   "outputs": [
    {
     "data": {
      "text/plain": [
       "'{\"a\": \"0.1000000000000000055511151231257827021181583404541015625\"}'"
      ]
     },
     "execution_count": 9,
     "metadata": {},
     "output_type": "execute_result"
    }
   ],
   "source": [
    "json.dumps({\"a\": str(Decimal(0.1))})"
   ]
  },
  {
   "cell_type": "markdown",
   "metadata": {},
   "source": [
    "<br>\n",
    "\n",
    "Serialization of custom objects.<br>\n",
    "One approach is to write a custom JSON serializer in the class itself."
   ]
  },
  {
   "cell_type": "code",
   "execution_count": 10,
   "metadata": {},
   "outputs": [],
   "source": [
    "class Person:\n",
    "    def __init__(self, name, age):\n",
    "        self.name = name\n",
    "        self.age = age\n",
    "    \n",
    "    def __repr__(self):\n",
    "        return f'Person(name={self.name}, age={self.age})'\n",
    "    \n",
    "    def toJSON(self):\n",
    "        return dict(name=self.name, age=self.age)"
   ]
  },
  {
   "cell_type": "code",
   "execution_count": 11,
   "metadata": {},
   "outputs": [
    {
     "name": "stdout",
     "output_type": "stream",
     "text": [
      "{'name': 'John', 'age': 130}\n"
     ]
    }
   ],
   "source": [
    "p = Person('John', 130)\n",
    "\n",
    "print(p.toJSON())"
   ]
  },
  {
   "cell_type": "markdown",
   "metadata": {},
   "source": [
    "Now we can serialize the object as follows:"
   ]
  },
  {
   "cell_type": "code",
   "execution_count": 12,
   "metadata": {},
   "outputs": [
    {
     "name": "stdout",
     "output_type": "stream",
     "text": [
      "{\n",
      "  \"john\": {\n",
      "    \"name\": \"John\",\n",
      "    \"age\": 130\n",
      "  }\n",
      "}\n"
     ]
    }
   ],
   "source": [
    "print(json.dumps({\"john\": p.toJSON()}, indent=2))"
   ]
  },
  {
   "cell_type": "markdown",
   "metadata": {},
   "source": [
    "<br>\n",
    "Often we can make our life a little easier by using the `vars` function (or the `__dict__` attribute) to return a dictionary of our object attributes:"
   ]
  },
  {
   "cell_type": "code",
   "execution_count": 13,
   "metadata": {},
   "outputs": [
    {
     "data": {
      "text/plain": [
       "{'name': 'John', 'age': 130}"
      ]
     },
     "execution_count": 13,
     "metadata": {},
     "output_type": "execute_result"
    }
   ],
   "source": [
    "vars(p)"
   ]
  },
  {
   "cell_type": "code",
   "execution_count": 14,
   "metadata": {},
   "outputs": [
    {
     "data": {
      "text/plain": [
       "{'name': 'John', 'age': 130}"
      ]
     },
     "execution_count": 14,
     "metadata": {},
     "output_type": "execute_result"
    }
   ],
   "source": [
    "p.__dict__"
   ]
  },
  {
   "cell_type": "code",
   "execution_count": 15,
   "metadata": {},
   "outputs": [
    {
     "name": "stdout",
     "output_type": "stream",
     "text": [
      "{\n",
      "  \"john\": {\n",
      "    \"name\": \"John\",\n",
      "    \"age\": 130\n",
      "  }\n",
      "}\n"
     ]
    }
   ],
   "source": [
    "class Person:\n",
    "    def __init__(self, name, age):\n",
    "        self.name = name\n",
    "        self.age = age\n",
    "    \n",
    "    def __repr__(self):\n",
    "        return f'Person(name={self.name}, age={self.age})'\n",
    "    \n",
    "    def toJSON(self):\n",
    "        return vars(self)   # self.__dict__\n",
    "    \n",
    "\n",
    "print(json.dumps({\"john\": p.toJSON()}, indent=2))"
   ]
  },
  {
   "cell_type": "markdown",
   "metadata": {},
   "source": [
    "This works but this approach is cumbersome."
   ]
  },
  {
   "cell_type": "markdown",
   "metadata": {},
   "source": [
    "<br>\n",
    "\n",
    "<br>\n",
    "\n",
    "### Custom JSON serialization"
   ]
  },
  {
   "cell_type": "markdown",
   "metadata": {},
   "source": [
    "For datetimes the most common format is the **ISO 8601** format - you can read up about it at https://en.wikipedia.org/wiki/ISO_8601.<br>\n",
    "Basically the format is:\n",
    "\n",
    "*YYYY-MM-DD* **T** *HH:MM:SS*"
   ]
  },
  {
   "cell_type": "code",
   "execution_count": 16,
   "metadata": {},
   "outputs": [
    {
     "data": {
      "text/plain": [
       "datetime.datetime(2020, 11, 15, 5, 14, 52, 610100)"
      ]
     },
     "execution_count": 16,
     "metadata": {},
     "output_type": "execute_result"
    }
   ],
   "source": [
    "current = datetime.utcnow()\n",
    "\n",
    "current"
   ]
  },
  {
   "cell_type": "code",
   "execution_count": 17,
   "metadata": {},
   "outputs": [
    {
     "data": {
      "text/plain": [
       "'2020-11-15 05:14:52.610100'"
      ]
     },
     "execution_count": 17,
     "metadata": {},
     "output_type": "execute_result"
    }
   ],
   "source": [
    "str(current)"
   ]
  },
  {
   "cell_type": "markdown",
   "metadata": {},
   "source": [
    "This is not quite ISO-8601. We could write a custom formatter ourselves:"
   ]
  },
  {
   "cell_type": "code",
   "execution_count": 18,
   "metadata": {},
   "outputs": [],
   "source": [
    "def format_iso(dt):\n",
    "    return dt.strftime('%Y-%m-%dT%H:%M:%S')"
   ]
  },
  {
   "cell_type": "markdown",
   "metadata": {},
   "source": [
    "(more info at https://docs.python.org/3/library/datetime.html#strftime-strptime-behavior)"
   ]
  },
  {
   "cell_type": "code",
   "execution_count": 19,
   "metadata": {},
   "outputs": [
    {
     "data": {
      "text/plain": [
       "'2020-11-15T05:14:52'"
      ]
     },
     "execution_count": 19,
     "metadata": {},
     "output_type": "execute_result"
    }
   ],
   "source": [
    "format_iso(current)"
   ]
  },
  {
   "cell_type": "markdown",
   "metadata": {},
   "source": [
    "Though for this particular case there is even a simpler approach:"
   ]
  },
  {
   "cell_type": "code",
   "execution_count": 20,
   "metadata": {},
   "outputs": [
    {
     "data": {
      "text/plain": [
       "'2020-11-15T05:14:52'"
      ]
     },
     "execution_count": 20,
     "metadata": {},
     "output_type": "execute_result"
    }
   ],
   "source": [
    "current.isoformat(timespec='seconds')"
   ]
  },
  {
   "cell_type": "markdown",
   "metadata": {},
   "source": [
    "Now we can serialize our `datetime` object to JSON (*via preliminary conversion time data to string*):"
   ]
  },
  {
   "cell_type": "code",
   "execution_count": 21,
   "metadata": {},
   "outputs": [
    {
     "data": {
      "text/plain": [
       "'{\"time\": \"2020-11-15T05:14:52.610100\", \"message\": \"testing\"}'"
      ]
     },
     "execution_count": 21,
     "metadata": {},
     "output_type": "execute_result"
    }
   ],
   "source": [
    "log_record = {'time': current.isoformat(),\n",
    "              'message': 'testing'}\n",
    "\n",
    "json.dumps(log_record)"
   ]
  },
  {
   "cell_type": "markdown",
   "metadata": {},
   "source": [
    "But that means that we must preliminary convert all necessary data to string.<br>\n",
    "If we deal with many dictionaries and arbitrary structures, this can quickly become tedious and unmanageable.\n",
    "\n",
    "The simplest way is to specify a function that `dump`/`dumps` will call when it encounters something it cannot serialize:"
   ]
  },
  {
   "cell_type": "code",
   "execution_count": 22,
   "metadata": {},
   "outputs": [
    {
     "data": {
      "text/plain": [
       "'{\"time\": \"2020-11-15T05:14:52.610100\", \"message\": \"testing\"}'"
      ]
     },
     "execution_count": 22,
     "metadata": {},
     "output_type": "execute_result"
    }
   ],
   "source": [
    "def format_iso(dt):\n",
    "    return dt.isoformat()\n",
    "\n",
    "json.dumps(log_record, default=format_iso)"
   ]
  },
  {
   "cell_type": "markdown",
   "metadata": {},
   "source": [
    "<br>\n",
    "\n",
    "But here we have limitations.<br>\n",
    "The more universal way is to use a dispatcher. See https://docs.python.org/3/library/functools.html#functools.singledispatch"
   ]
  },
  {
   "cell_type": "code",
   "execution_count": 23,
   "metadata": {},
   "outputs": [],
   "source": [
    "def custom_json_formatter(arg):\n",
    "    if isinstance(arg, datetime):\n",
    "        return arg.isoformat()\n",
    "    elif isinstance(arg, set):\n",
    "        return list(arg)"
   ]
  },
  {
   "cell_type": "code",
   "execution_count": 24,
   "metadata": {},
   "outputs": [],
   "source": [
    "log_record = {\n",
    "    'time': datetime.utcnow(),\n",
    "    'message': 'Testing...',\n",
    "    'other': {'a', 'b', 'c'}\n",
    "}"
   ]
  },
  {
   "cell_type": "code",
   "execution_count": 25,
   "metadata": {},
   "outputs": [
    {
     "data": {
      "text/plain": [
       "'{\"time\": \"2020-11-15T05:14:53.031563\", \"message\": \"Testing...\", \"other\": [\"a\", \"c\", \"b\"]}'"
      ]
     },
     "execution_count": 25,
     "metadata": {},
     "output_type": "execute_result"
    }
   ],
   "source": [
    "json.dumps(log_record, default=custom_json_formatter)"
   ]
  },
  {
   "cell_type": "markdown",
   "metadata": {},
   "source": [
    "<br>\n",
    "\n",
    "More complicated example."
   ]
  },
  {
   "cell_type": "code",
   "execution_count": 26,
   "metadata": {},
   "outputs": [
    {
     "data": {
      "text/plain": [
       "{'x': 10, 'y': 10}"
      ]
     },
     "execution_count": 26,
     "metadata": {},
     "output_type": "execute_result"
    }
   ],
   "source": [
    "class Point:\n",
    "    def __init__(self, x, y):\n",
    "        self.x = x\n",
    "        self.y = y\n",
    "        \n",
    "    def __repr__(self):\n",
    "        return f'Point(x={self.x}, y={self.y})'\n",
    "\n",
    "\n",
    "pt1 = Point(10, 10)\n",
    "vars(pt1)"
   ]
  },
  {
   "cell_type": "code",
   "execution_count": 27,
   "metadata": {},
   "outputs": [],
   "source": [
    "log_record = dict(time=datetime.utcnow(),\n",
    "                  message='Created new point',\n",
    "                  point=pt1,\n",
    "                  created_by=p)"
   ]
  },
  {
   "cell_type": "code",
   "execution_count": 28,
   "metadata": {},
   "outputs": [],
   "source": [
    "def custom_json_formatter(arg):\n",
    "    if isinstance(arg, datetime):\n",
    "        return arg.isoformat()\n",
    "    elif isinstance(arg, set):\n",
    "        return list(arg)\n",
    "    else:\n",
    "        try:\n",
    "            return arg.toJSON()\n",
    "        except AttributeError:\n",
    "            try:\n",
    "                return vars(arg)\n",
    "            except TypeError:\n",
    "                return str(arg)"
   ]
  },
  {
   "cell_type": "code",
   "execution_count": 29,
   "metadata": {},
   "outputs": [
    {
     "name": "stdout",
     "output_type": "stream",
     "text": [
      "{\n",
      "  \"time\": \"2020-11-15T05:14:53.164268\",\n",
      "  \"message\": \"Created new point\",\n",
      "  \"point\": {\n",
      "    \"x\": 10,\n",
      "    \"y\": 10\n",
      "  },\n",
      "  \"created_by\": {\n",
      "    \"name\": \"John\",\n",
      "    \"age\": 130\n",
      "  }\n",
      "}\n"
     ]
    }
   ],
   "source": [
    "print(json.dumps(log_record, default=custom_json_formatter, indent=2))"
   ]
  },
  {
   "cell_type": "markdown",
   "metadata": {},
   "source": [
    "<br>\n",
    "\n",
    "<br>\n",
    "\n",
    "### Custom JSON encoding using JSONEncoder"
   ]
  },
  {
   "cell_type": "markdown",
   "metadata": {},
   "source": [
    "Python know how to encode the \"standard\" types (`str`, `int`, `float`, `list`, `dict`, *etc*) using a special class - `JSONEncoder`.<br>\n",
    "This class supports the following encodings:\n",
    "\n",
    "|Python |JSON  |\n",
    "|:----|:---|\n",
    "| `dict` | object `{...}`|\n",
    "| `list`, `tuple` | array `[...]` |\n",
    "| `str`  | string `\"...\"`|\n",
    "| `int`, `float` | number |\n",
    "| `int` or `float` `Enums` | number |\n",
    "| `bool` | `true` or `false` |\n",
    "| `None` | `null` |\n",
    "\n",
    "(see https://docs.python.org/3/library/json.html#json.JSONEncoder)\n",
    "\n",
    "Anything beyond those Python types causes `TypeError` exception.\n",
    "\n",
    "We can see how this class encodes objects by calling an instance of it directly:"
   ]
  },
  {
   "cell_type": "code",
   "execution_count": 30,
   "metadata": {},
   "outputs": [
    {
     "data": {
      "text/plain": [
       "'[1, 2, 3]'"
      ]
     },
     "execution_count": 30,
     "metadata": {},
     "output_type": "execute_result"
    }
   ],
   "source": [
    "default_encoder = json.JSONEncoder()\n",
    "default_encoder.encode((1, 2, 3))"
   ]
  },
  {
   "cell_type": "code",
   "execution_count": 31,
   "metadata": {},
   "outputs": [],
   "source": [
    "# for non-supported objects:\n",
    "# default_encoder.encode({1, 2, 3})  #> TypeError: Object of type set is not JSON serializable\n",
    "# default_encoder.encode(1+1j)       #> TypeError: Object of type complex is not JSON serializable"
   ]
  },
  {
   "cell_type": "markdown",
   "metadata": {},
   "source": [
    "We can extend this `JSONEncoder` class and override the `default` method. "
   ]
  },
  {
   "cell_type": "code",
   "execution_count": 32,
   "metadata": {},
   "outputs": [],
   "source": [
    "class CustomJSONEncoder(json.JSONEncoder):\n",
    "    def default(self, arg):\n",
    "        if isinstance(arg, datetime):\n",
    "            return arg.isoformat()\n",
    "        else:\n",
    "            super().default(arg)\n",
    "\n",
    "\n",
    "custom_encoder = CustomJSONEncoder()"
   ]
  },
  {
   "cell_type": "code",
   "execution_count": 33,
   "metadata": {},
   "outputs": [
    {
     "data": {
      "text/plain": [
       "'true'"
      ]
     },
     "execution_count": 33,
     "metadata": {},
     "output_type": "execute_result"
    }
   ],
   "source": [
    "custom_encoder.encode(True)"
   ]
  },
  {
   "cell_type": "code",
   "execution_count": 34,
   "metadata": {},
   "outputs": [
    {
     "data": {
      "text/plain": [
       "'\"2020-11-15T05:14:53.387720\"'"
      ]
     },
     "execution_count": 34,
     "metadata": {},
     "output_type": "execute_result"
    }
   ],
   "source": [
    "custom_encoder.encode(datetime.utcnow())"
   ]
  },
  {
   "cell_type": "markdown",
   "metadata": {},
   "source": [
    "And we can now use this custom encoder by specifying it when we use `dump`/`dumps`:"
   ]
  },
  {
   "cell_type": "code",
   "execution_count": 35,
   "metadata": {},
   "outputs": [
    {
     "data": {
      "text/plain": [
       "'{\"name\": \"test\", \"time\": \"2020-11-15T05:14:53.422429\"}'"
      ]
     },
     "execution_count": 35,
     "metadata": {},
     "output_type": "execute_result"
    }
   ],
   "source": [
    "json.dumps(dict(name='test', time=datetime.utcnow()), cls=CustomJSONEncoder)"
   ]
  },
  {
   "cell_type": "markdown",
   "metadata": {},
   "source": [
    "One thing to note is that for both the `default` approach, and the `cls` approach, our method / encoder will only be used for types that Python cannot already serialize on its own (strings, integers, lists, *etc*)."
   ]
  },
  {
   "cell_type": "markdown",
   "metadata": {},
   "source": [
    "<br>\n",
    "\n",
    "<br>\n",
    "\n",
    "### Custom JSON decoding"
   ]
  },
  {
   "cell_type": "markdown",
   "metadata": {},
   "source": [
    "simple case:"
   ]
  },
  {
   "cell_type": "code",
   "execution_count": 36,
   "metadata": {},
   "outputs": [
    {
     "data": {
      "text/plain": [
       "{'name': 'Python', 'appeared': 1991, 'versions': ['2.x', '3.x']}"
      ]
     },
     "execution_count": 36,
     "metadata": {},
     "output_type": "execute_result"
    }
   ],
   "source": [
    "j1 = '''\n",
    "    {\n",
    "        \"name\": \"Python\",\n",
    "        \"appeared\": 1991,\n",
    "        \"versions\": [\"2.x\", \"3.x\"]\n",
    "    }\n",
    "'''\n",
    "\n",
    "json.loads(j1)"
   ]
  },
  {
   "cell_type": "markdown",
   "metadata": {},
   "source": [
    "<br>\n",
    "\n",
    "More complicated case. Suppose we have a JSON object where any object that contains the key/value pair `\"objecttype\": \"datetime\"` is guaranteed to contain another key called `\"value\"` containing a date time in the format %Y-%m-%dT%H:%M:%S."
   ]
  },
  {
   "cell_type": "code",
   "execution_count": 37,
   "metadata": {},
   "outputs": [],
   "source": [
    "j2 = '''\n",
    "{\n",
    "    \"time\": {\n",
    "        \"objecttype\": \"datetime\",\n",
    "        \"value\": \"2020-12-31T23:59:59\"\n",
    "    },\n",
    "    \"message\": \"created this json string\"\n",
    "}\n",
    "'''"
   ]
  },
  {
   "cell_type": "markdown",
   "metadata": {},
   "source": [
    "Here the easiest approach is to run through the dictionary and convert the datetime structures (schema) into actual datetime objects."
   ]
  },
  {
   "cell_type": "code",
   "execution_count": 38,
   "metadata": {},
   "outputs": [
    {
     "data": {
      "text/plain": [
       "{'time': {'objecttype': 'datetime', 'value': '2020-12-31T23:59:59'},\n",
       " 'message': 'created this json string'}"
      ]
     },
     "execution_count": 38,
     "metadata": {},
     "output_type": "execute_result"
    }
   ],
   "source": [
    "d = json.loads(j2)\n",
    "d"
   ]
  },
  {
   "cell_type": "code",
   "execution_count": 39,
   "metadata": {},
   "outputs": [
    {
     "data": {
      "text/plain": [
       "{'time': datetime.datetime(2020, 12, 31, 23, 59, 59),\n",
       " 'message': 'created this json string'}"
      ]
     },
     "execution_count": 39,
     "metadata": {},
     "output_type": "execute_result"
    }
   ],
   "source": [
    "for key, value in d.items():\n",
    "    if (isinstance(value, dict) and \n",
    "        'objecttype' in value and \n",
    "        value['objecttype'] == 'datetime'):\n",
    "        d[key] = datetime.strptime(value['value'], '%Y-%m-%dT%H:%M:%S')\n",
    "        \n",
    "d"
   ]
  },
  {
   "cell_type": "markdown",
   "metadata": {},
   "source": [
    "But this approach has limitations.<br>\n",
    "It is better to use an optional argument named `object_hook` that can reference a callable. This is very similar to the `default` argument we saw in the `dump`/`dumps` functions - but works for decoding instead of encoding. That callable, if specified, will be called for every value in the JSON object that is itself an object (including the root object). That dictionary will then be replaced by whatever that decoder returns."
   ]
  },
  {
   "cell_type": "code",
   "execution_count": 40,
   "metadata": {},
   "outputs": [
    {
     "data": {
      "text/plain": [
       "{'time': datetime.datetime(2020, 12, 31, 23, 59, 59),\n",
       " 'message': 'created this json string'}"
      ]
     },
     "execution_count": 40,
     "metadata": {},
     "output_type": "execute_result"
    }
   ],
   "source": [
    "def custom_decoder(arg):\n",
    "    if 'objecttype' in arg and arg['objecttype'] == 'datetime':\n",
    "        return datetime.strptime(arg['value'], '%Y-%m-%dT%H:%M:%S')\n",
    "    else:\n",
    "        return arg  # important, otherwise we lose anything that's not a date!\n",
    "\n",
    "\n",
    "d = json.loads(j2, object_hook=custom_decoder)\n",
    "d"
   ]
  },
  {
   "cell_type": "markdown",
   "metadata": {},
   "source": [
    "We can extend this custom decoder to include other structures (schemas). E.g. fraction decoder:"
   ]
  },
  {
   "cell_type": "code",
   "execution_count": 41,
   "metadata": {},
   "outputs": [],
   "source": [
    "def custom_decoder(arg):\n",
    "    r = arg\n",
    "    if 'objecttype' in arg:\n",
    "        if r['objecttype'] == 'datetime':\n",
    "            r = datetime.strptime(arg['value'], '%Y-%m-%dT%H:%M:%S')\n",
    "        elif arg['objecttype'] == 'fraction':\n",
    "            r = Fraction(arg['numerator'], arg['denominator'])\n",
    "    return r"
   ]
  },
  {
   "cell_type": "code",
   "execution_count": 42,
   "metadata": {},
   "outputs": [
    {
     "data": {
      "text/plain": [
       "{'cake': 'yummy chocolate cake',\n",
       " 'myShare': Fraction(1, 8),\n",
       " 'eaten': {'at': datetime.datetime(2018, 10, 21, 21, 30),\n",
       "  'time_taken': '30 seconds'}}"
      ]
     },
     "execution_count": 42,
     "metadata": {},
     "output_type": "execute_result"
    }
   ],
   "source": [
    "j3 = '''\n",
    "    {\n",
    "        \"cake\": \"yummy chocolate cake\",\n",
    "        \"myShare\": {\n",
    "            \"objecttype\": \"fraction\",\n",
    "            \"numerator\": 1,\n",
    "            \"denominator\": 8\n",
    "        },\n",
    "        \"eaten\": {\n",
    "            \"at\": {\n",
    "                \"objecttype\": \"datetime\",\n",
    "                \"value\": \"2018-10-21T21:30:00\"\n",
    "                },\n",
    "            \"time_taken\": \"30 seconds\"\n",
    "        }\n",
    "    }\n",
    "'''\n",
    "\n",
    "\n",
    "d = json.loads(j3, object_hook=custom_decoder)\n",
    "d"
   ]
  },
  {
   "cell_type": "markdown",
   "metadata": {},
   "source": [
    "<br>\n",
    "\n",
    "In case of having a class:"
   ]
  },
  {
   "cell_type": "code",
   "execution_count": 43,
   "metadata": {},
   "outputs": [],
   "source": [
    "class Person:\n",
    "    def __init__(self, name, ssn):\n",
    "        self.name = name\n",
    "        self.ssn = ssn\n",
    "        \n",
    "    def __repr__(self):\n",
    "        return f'Person(name={self.name}, ssn={self.ssn})'"
   ]
  },
  {
   "cell_type": "code",
   "execution_count": 44,
   "metadata": {},
   "outputs": [],
   "source": [
    "j = '''\n",
    "    {\n",
    "        \"accountHolder\": {\n",
    "            \"objecttype\": \"person\",\n",
    "            \"name\": \"Eric Idle\",\n",
    "            \"ssn\": 100\n",
    "        },\n",
    "        \"created\": {\n",
    "            \"objecttype\": \"datetime\",\n",
    "            \"value\": \"2018-10-21T03:00:00\"\n",
    "        }\n",
    "    }\n",
    "'''"
   ]
  },
  {
   "cell_type": "code",
   "execution_count": 45,
   "metadata": {},
   "outputs": [],
   "source": [
    "def custom_decoder(arg):\n",
    "    ret_value = arg\n",
    "    if 'objecttype' in arg:\n",
    "        if arg['objecttype'] == 'datetime':\n",
    "            ret_value = datetime.strptime(arg['value'], '%Y-%m-%dT%H:%M:%S')\n",
    "        elif arg['objecttype'] == 'fraction':\n",
    "            ret_value = Fraction(arg['numerator'], arg['denominator'])\n",
    "        elif arg['objecttype'] == 'person':\n",
    "            ret_value = Person(arg['name'], arg['ssn'])\n",
    "    return ret_value"
   ]
  },
  {
   "cell_type": "code",
   "execution_count": 46,
   "metadata": {},
   "outputs": [
    {
     "data": {
      "text/plain": [
       "{'accountHolder': Person(name=Eric Idle, ssn=100),\n",
       " 'created': datetime.datetime(2018, 10, 21, 3, 0)}"
      ]
     },
     "execution_count": 46,
     "metadata": {},
     "output_type": "execute_result"
    }
   ],
   "source": [
    "d = json.loads(j, object_hook=custom_decoder)\n",
    "\n",
    "d"
   ]
  },
  {
   "cell_type": "markdown",
   "metadata": {},
   "source": [
    "<br>\n",
    "\n",
    "<br>\n",
    "\n",
    "### Using JSONDecoder"
   ]
  },
  {
   "cell_type": "markdown",
   "metadata": {},
   "source": [
    "Just like we can use a subclass of `JSONEncoder` to customize our json encodings, we can use a subclass of the default `JSONDecoder` class to customize decoding our json strings.\n",
    "\n",
    "It works quite differently from the `JSONEncoder` subclassing though.\n",
    "\n",
    "When we subclass `JSONEncoder` we override the `default` method which then allows us to intercept encoding of specific types of objects, and delegate back to the parent class what we don't want to handle specifically.\n",
    "\n",
    "With the `JSONDecoder` class we override the `decode` function which passes us the **entire** JSON as a **string** and we have to return whatever Python object we want. There's no delegating anything back to the parent class unless we want to completely skip customizing the output."
   ]
  },
  {
   "cell_type": "code",
   "execution_count": 47,
   "metadata": {},
   "outputs": [],
   "source": [
    "j = '''\n",
    "    {\n",
    "        \"a\": 100,\n",
    "        \"b\": [1, 2, 3],\n",
    "        \"c\": \"python\",\n",
    "        \"d\": {\n",
    "            \"e\": 4,\n",
    "            \"f\": 5.5\n",
    "        }\n",
    "    }\n",
    "'''"
   ]
  },
  {
   "cell_type": "code",
   "execution_count": 49,
   "metadata": {},
   "outputs": [
    {
     "name": "stdout",
     "output_type": "stream",
     "text": [
      "decode: <class 'str'> \n",
      "    {\n",
      "        \"a\": 100,\n",
      "        \"b\": [1, 2, 3],\n",
      "        \"c\": \"python\",\n",
      "        \"d\": {\n",
      "            \"e\": 4,\n",
      "            \"f\": 5.5\n",
      "        }\n",
      "    }\n",
      "\n"
     ]
    },
    {
     "data": {
      "text/plain": [
       "'a simple string object'"
      ]
     },
     "execution_count": 49,
     "metadata": {},
     "output_type": "execute_result"
    }
   ],
   "source": [
    "class CustomDecoder(json.JSONDecoder):\n",
    "    def decode(self, arg):\n",
    "        print(\"decode:\", type(arg), arg)\n",
    "        return \"a simple string object\"\n",
    "\n",
    "    \n",
    "json.loads(j, cls=CustomDecoder)"
   ]
  },
  {
   "cell_type": "markdown",
   "metadata": {},
   "source": [
    "<br>"
   ]
  },
  {
   "cell_type": "code",
   "execution_count": 50,
   "metadata": {},
   "outputs": [],
   "source": [
    "class Point:\n",
    "    def __init__(self, x, y):\n",
    "        self.x = x\n",
    "        self.y = y\n",
    "        \n",
    "    def __repr__(self):\n",
    "        return f'Point(x={self.x}, y={self.y})'"
   ]
  },
  {
   "cell_type": "code",
   "execution_count": 51,
   "metadata": {},
   "outputs": [],
   "source": [
    "j_points = '''\n",
    "{\n",
    "    \"points\": [\n",
    "        [10, 20],\n",
    "        [-1, -2],\n",
    "        [0.5, 0.5]\n",
    "    ]\n",
    "}\n",
    "'''\n",
    "\n",
    "j_other = '''\n",
    "{\n",
    "    \"a\": 1,\n",
    "    \"b\": 2\n",
    "}\n",
    "'''"
   ]
  },
  {
   "cell_type": "code",
   "execution_count": null,
   "metadata": {},
   "outputs": [],
   "source": [
    "class CustomDecoder(json.JSONDecoder):\n",
    "    def decode(self, arg):\n",
    "        obj = json.loads(arg)\n",
    "        if 'points' in obj:  # top level\n",
    "            obj['points'] = [Point(x, y) \n",
    "                             for x, y in obj['points']]\n",
    "        return obj"
   ]
  },
  {
   "cell_type": "code",
   "execution_count": 55,
   "metadata": {},
   "outputs": [
    {
     "data": {
      "text/plain": [
       "'parsing object for points'"
      ]
     },
     "execution_count": 55,
     "metadata": {},
     "output_type": "execute_result"
    }
   ],
   "source": [
    "json.loads(j_points, cls=CustomDecoder)"
   ]
  },
  {
   "cell_type": "code",
   "execution_count": 56,
   "metadata": {},
   "outputs": [
    {
     "data": {
      "text/plain": [
       "{'a': 1, 'b': 2}"
      ]
     },
     "execution_count": 56,
     "metadata": {},
     "output_type": "execute_result"
    }
   ],
   "source": [
    "json.loads(j_other, cls=CustomDecoder)"
   ]
  },
  {
   "cell_type": "markdown",
   "metadata": {},
   "source": [
    "Decoding JSON into custom objects is not an easy task, that's why there are several 3rd party libraries that allow to serialize and deserialize JSON objects that follow a certain schema."
   ]
  },
  {
   "cell_type": "code",
   "execution_count": null,
   "metadata": {},
   "outputs": [],
   "source": []
  },
  {
   "cell_type": "code",
   "execution_count": null,
   "metadata": {},
   "outputs": [],
   "source": []
  },
  {
   "cell_type": "code",
   "execution_count": null,
   "metadata": {},
   "outputs": [],
   "source": []
  },
  {
   "cell_type": "code",
   "execution_count": null,
   "metadata": {},
   "outputs": [],
   "source": []
  },
  {
   "cell_type": "code",
   "execution_count": null,
   "metadata": {},
   "outputs": [],
   "source": []
  },
  {
   "cell_type": "code",
   "execution_count": null,
   "metadata": {},
   "outputs": [],
   "source": []
  },
  {
   "cell_type": "code",
   "execution_count": null,
   "metadata": {},
   "outputs": [],
   "source": []
  },
  {
   "cell_type": "code",
   "execution_count": null,
   "metadata": {},
   "outputs": [],
   "source": []
  },
  {
   "cell_type": "code",
   "execution_count": null,
   "metadata": {},
   "outputs": [],
   "source": []
  }
 ],
 "metadata": {
  "kernelspec": {
   "display_name": "Python 3",
   "language": "python",
   "name": "python3"
  },
  "language_info": {
   "codemirror_mode": {
    "name": "ipython",
    "version": 3
   },
   "file_extension": ".py",
   "mimetype": "text/x-python",
   "name": "python",
   "nbconvert_exporter": "python",
   "pygments_lexer": "ipython3",
   "version": "3.8.5"
  }
 },
 "nbformat": 4,
 "nbformat_minor": 4
}
