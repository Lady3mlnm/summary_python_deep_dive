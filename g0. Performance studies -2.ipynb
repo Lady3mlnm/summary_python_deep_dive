{
 "cells": [
  {
   "cell_type": "code",
   "execution_count": 1,
   "metadata": {},
   "outputs": [],
   "source": [
    "from timeit import timeit\n",
    "import copy\n",
    "from copy import deepcopy"
   ]
  },
  {
   "cell_type": "markdown",
   "metadata": {},
   "source": [
    "<br>\n",
    "<br>\n",
    "<h4>Comparison of times required for creation of list and tuple</h4>"
   ]
  },
  {
   "cell_type": "code",
   "execution_count": 2,
   "metadata": {},
   "outputs": [
    {
     "data": {
      "text/plain": [
       "0.09020333399894298"
      ]
     },
     "execution_count": 2,
     "metadata": {},
     "output_type": "execute_result"
    }
   ],
   "source": [
    "timeit('(1, 2, 3, 4, 5, 6, 7, 8, 9, 0)', number=10_000_000)"
   ]
  },
  {
   "cell_type": "code",
   "execution_count": 3,
   "metadata": {},
   "outputs": [
    {
     "data": {
      "text/plain": [
       "0.6200862780005991"
      ]
     },
     "execution_count": 3,
     "metadata": {},
     "output_type": "execute_result"
    }
   ],
   "source": [
    "timeit('[1, 2, 3, 4, 5, 6, 7, 8, 9, 0]', number=10_000_000)"
   ]
  },
  {
   "cell_type": "markdown",
   "metadata": {},
   "source": [
    "<br>"
   ]
  },
  {
   "cell_type": "code",
   "execution_count": 4,
   "metadata": {},
   "outputs": [
    {
     "data": {
      "text/plain": [
       "0.5818523990001268"
      ]
     },
     "execution_count": 4,
     "metadata": {},
     "output_type": "execute_result"
    }
   ],
   "source": [
    "timeit('(1, 2, 3, [10, 20, 30])', number=10_000_000)"
   ]
  },
  {
   "cell_type": "code",
   "execution_count": 5,
   "metadata": {},
   "outputs": [
    {
     "data": {
      "text/plain": [
       "0.6441977009999391"
      ]
     },
     "execution_count": 5,
     "metadata": {},
     "output_type": "execute_result"
    }
   ],
   "source": [
    "timeit('[1, 2, 3, [10, 20, 30]]', number=10_000_000)"
   ]
  },
  {
   "cell_type": "markdown",
   "metadata": {},
   "source": [
    "<b>Conclusion</b>:<br>\n",
    "Creation of tuple is several times faster (if tuple doesn't contain inside it mutable elements).\n",
    "<br>\n",
    "<br>\n",
    "<br>\n",
    "<br>"
   ]
  },
  {
   "cell_type": "markdown",
   "metadata": {},
   "source": [
    "<h4>Copying of list and tuple</h4>"
   ]
  },
  {
   "cell_type": "code",
   "execution_count": 6,
   "metadata": {},
   "outputs": [
    {
     "data": {
      "text/plain": [
       "(140234850116040, 140234849985096)"
      ]
     },
     "execution_count": 6,
     "metadata": {},
     "output_type": "execute_result"
    }
   ],
   "source": [
    "ls1 = [1, 2, 3]\n",
    "ls2 = list(ls1)\n",
    "id(ls1), id(ls2)"
   ]
  },
  {
   "cell_type": "code",
   "execution_count": 7,
   "metadata": {},
   "outputs": [
    {
     "data": {
      "text/plain": [
       "(140234910069960, 140234910069960)"
      ]
     },
     "execution_count": 7,
     "metadata": {},
     "output_type": "execute_result"
    }
   ],
   "source": [
    "tp1 = (1, 2, 3)\n",
    "tp2 = tuple(tp1)\n",
    "id(tp1), id(tp2)"
   ]
  },
  {
   "cell_type": "code",
   "execution_count": 8,
   "metadata": {},
   "outputs": [
    {
     "data": {
      "text/plain": [
       "0.6290794060005283"
      ]
     },
     "execution_count": 8,
     "metadata": {},
     "output_type": "execute_result"
    }
   ],
   "source": [
    "timeit('tuple((1, 2, 3, 4, 5, 6, 7, 8, 9, 0))', number=10_000_000)"
   ]
  },
  {
   "cell_type": "code",
   "execution_count": 9,
   "metadata": {},
   "outputs": [
    {
     "data": {
      "text/plain": [
       "1.0678065290012455"
      ]
     },
     "execution_count": 9,
     "metadata": {},
     "output_type": "execute_result"
    }
   ],
   "source": [
    "timeit('list((1, 2, 3, 4, 5, 6, 7, 8, 9, 0))', number=10_000_000)"
   ]
  },
  {
   "cell_type": "markdown",
   "metadata": {},
   "source": [
    "<b>Conclusion</b>:<br>\n",
    "When me create a copy of an immutable object (<i>such as tuple</i>), we only copy its address. So copying of an immutable object is faster than complete copying of a mutable object (<i>such as list</i>)\n",
    "<br>\n",
    "<br>\n",
    "<br>\n",
    "<br>"
   ]
  },
  {
   "cell_type": "markdown",
   "metadata": {},
   "source": [
    "<h4>Comparison of times required to access certain element in list and tuple</h4>"
   ]
  },
  {
   "cell_type": "code",
   "execution_count": 10,
   "metadata": {},
   "outputs": [],
   "source": [
    "tp = tuple(range(100_000))\n",
    "ls = list(tp)"
   ]
  },
  {
   "cell_type": "code",
   "execution_count": 11,
   "metadata": {},
   "outputs": [
    {
     "data": {
      "text/plain": [
       "0.2984104999995907"
      ]
     },
     "execution_count": 11,
     "metadata": {},
     "output_type": "execute_result"
    }
   ],
   "source": [
    "timeit('tp[99_999]', globals=globals(), number=10_000_000)"
   ]
  },
  {
   "cell_type": "code",
   "execution_count": 12,
   "metadata": {},
   "outputs": [
    {
     "data": {
      "text/plain": [
       "0.3033234029990126"
      ]
     },
     "execution_count": 12,
     "metadata": {},
     "output_type": "execute_result"
    }
   ],
   "source": [
    "timeit('ls[99_999]', globals=globals(), number=10_000_000)"
   ]
  },
  {
   "cell_type": "markdown",
   "metadata": {},
   "source": [
    "<b>Conclusion</b>:<br>\n",
    "In tuple access of elements is a little faster but the difference is small (<i>~10%</i>).\n",
    "<br>\n",
    "<br>\n",
    "<br>\n",
    "<br>"
   ]
  },
  {
   "cell_type": "markdown",
   "metadata": {},
   "source": [
    "<h4>Ways to copy list</h4>\n",
    "\n",
    "<i>(see <a href=\"https://www.udemy.com/course/python-3-deep-dive-part-2/learn/lecture/10059312#questions/5711457\">according discussion</a> in FAQ)</i>"
   ]
  },
  {
   "cell_type": "code",
   "execution_count": 13,
   "metadata": {},
   "outputs": [
    {
     "name": "stdout",
     "output_type": "stream",
     "text": [
      "<class 'list'>\n",
      "10000\n",
      "0\n",
      "1\n",
      "2\n"
     ]
    }
   ],
   "source": [
    "l1 = list(range(10_000))\n",
    "\n",
    "print(type(l1))      # just checking what we created\n",
    "print(len(l1))\n",
    "for i in range(3):\n",
    "    print(l1[i])"
   ]
  },
  {
   "cell_type": "code",
   "execution_count": 14,
   "metadata": {},
   "outputs": [
    {
     "data": {
      "text/plain": [
       "3.661404174999916"
      ]
     },
     "execution_count": 14,
     "metadata": {},
     "output_type": "execute_result"
    }
   ],
   "source": [
    "# copy package deep copy function\n",
    "# Attention: number of repeats here in only 1_000\n",
    "timeit('l2 = copy.deepcopy(l1)', globals=globals(), number=1_000)"
   ]
  },
  {
   "cell_type": "code",
   "execution_count": 15,
   "metadata": {},
   "outputs": [
    {
     "data": {
      "text/plain": [
       "3.6972762099994725"
      ]
     },
     "execution_count": 15,
     "metadata": {},
     "output_type": "execute_result"
    }
   ],
   "source": [
    "# copy package deep copy function (from copy import deepcopy)\n",
    "# Attention: number of repeats here in only 1_000\n",
    "timeit('l2 = deepcopy(l1)', globals=globals(), number=1_000)"
   ]
  },
  {
   "cell_type": "code",
   "execution_count": 16,
   "metadata": {},
   "outputs": [
    {
     "data": {
      "text/plain": [
       "1.4299854479995702"
      ]
     },
     "execution_count": 16,
     "metadata": {},
     "output_type": "execute_result"
    }
   ],
   "source": [
    "# list comprehension\n",
    "timeit('l2 = [e for e in l1]', globals=globals(), number=10_000)"
   ]
  },
  {
   "cell_type": "code",
   "execution_count": 17,
   "metadata": {},
   "outputs": [
    {
     "data": {
      "text/plain": [
       "0.35752305099958903"
      ]
     },
     "execution_count": 17,
     "metadata": {},
     "output_type": "execute_result"
    }
   ],
   "source": [
    "# list.extend\n",
    "timeit('l2.extend(l1)', setup='l2 = []', globals=globals(), number=10_000)"
   ]
  },
  {
   "cell_type": "code",
   "execution_count": 18,
   "metadata": {},
   "outputs": [
    {
     "data": {
      "text/plain": [
       "0.2939556179990177"
      ]
     },
     "execution_count": 18,
     "metadata": {},
     "output_type": "execute_result"
    }
   ],
   "source": [
    "# slice insert\n",
    "timeit('l2[:] = l1', setup='l2 = []', globals=globals(), number=10_000)"
   ]
  },
  {
   "cell_type": "code",
   "execution_count": 19,
   "metadata": {},
   "outputs": [
    {
     "data": {
      "text/plain": [
       "0.2774758239993389"
      ]
     },
     "execution_count": 19,
     "metadata": {},
     "output_type": "execute_result"
    }
   ],
   "source": [
    "# copy package copy function\n",
    "timeit('l2 = copy.copy(l1)', globals=globals(), number=10_000)"
   ]
  },
  {
   "cell_type": "code",
   "execution_count": 20,
   "metadata": {},
   "outputs": [
    {
     "data": {
      "text/plain": [
       "0.2638357720006752"
      ]
     },
     "execution_count": 20,
     "metadata": {},
     "output_type": "execute_result"
    }
   ],
   "source": [
    "# slicing\n",
    "timeit('l2 = l1[:]', globals=globals(), number=10_000)"
   ]
  },
  {
   "cell_type": "code",
   "execution_count": 21,
   "metadata": {},
   "outputs": [
    {
     "data": {
      "text/plain": [
       "0.26422927099883964"
      ]
     },
     "execution_count": 21,
     "metadata": {},
     "output_type": "execute_result"
    }
   ],
   "source": [
    "# list.copy()\n",
    "timeit('l2 = l1.copy()', globals=globals(), number=10_000)"
   ]
  },
  {
   "cell_type": "code",
   "execution_count": 22,
   "metadata": {},
   "outputs": [
    {
     "data": {
      "text/plain": [
       "0.2564165919993684"
      ]
     },
     "execution_count": 22,
     "metadata": {},
     "output_type": "execute_result"
    }
   ],
   "source": [
    "# list class\n",
    "timeit('l2 = list(l1)', globals=globals(), number=10_000)"
   ]
  },
  {
   "cell_type": "code",
   "execution_count": 23,
   "metadata": {},
   "outputs": [
    {
     "data": {
      "text/plain": [
       "0.2561833869986003"
      ]
     },
     "execution_count": 23,
     "metadata": {},
     "output_type": "execute_result"
    }
   ],
   "source": [
    "# unpacking\n",
    "timeit('l2 = [*l1]', globals=globals(), number=10_000)"
   ]
  },
  {
   "cell_type": "markdown",
   "metadata": {},
   "source": [
    "<b>Conclusion</b>:<br>\n",
    "According this test, the most effective ways to make a copy of list are\n",
    "* unpacking <code>[*l1]</code>\n",
    "* list class <code>list(l1)</code>\n",
    "* <code>list.copy()</code>\n",
    "* slicing <code>list[:]</code>\n",
    "\n",
    "In case of test restarting, the relative performance of some methods can slightly vary. This test does not claim to be universal - under other initial conditions and in a different software environment, other methods can be more effective.\n",
    "<br>\n",
    "<br>\n",
    "<br>\n",
    "<br>"
   ]
  },
  {
   "cell_type": "markdown",
   "metadata": {},
   "source": [
    "<h4>Ways to copy dictionary</h4>"
   ]
  },
  {
   "cell_type": "code",
   "execution_count": 24,
   "metadata": {},
   "outputs": [
    {
     "name": "stdout",
     "output_type": "stream",
     "text": [
      "<class 'dict'>\n",
      "10000\n",
      "0: v0\n",
      "1: v1\n",
      "2: v2\n"
     ]
    }
   ],
   "source": [
    "d1 = {k: 'v'+str(k) for k in range(10_000)}\n",
    "\n",
    "print(type(d1))      # just checking what we created\n",
    "print(len(d1))\n",
    "for i in range(3):\n",
    "    print(f'{i}: {d1[i]}')"
   ]
  },
  {
   "cell_type": "code",
   "execution_count": 25,
   "metadata": {},
   "outputs": [
    {
     "data": {
      "text/plain": [
       "7.632627085999047"
      ]
     },
     "execution_count": 25,
     "metadata": {},
     "output_type": "execute_result"
    }
   ],
   "source": [
    "# copy package deep copy function\n",
    "# Attention: number of repeats here in only 1_000\n",
    "timeit('d2 = copy.deepcopy(d1)', globals=globals(), number=1_000)"
   ]
  },
  {
   "cell_type": "code",
   "execution_count": 26,
   "metadata": {},
   "outputs": [
    {
     "data": {
      "text/plain": [
       "7.63018501499937"
      ]
     },
     "execution_count": 26,
     "metadata": {},
     "output_type": "execute_result"
    }
   ],
   "source": [
    "# copy package deep copy function (from copy import deepcopy)\n",
    "# Attention: number of repeats here in only 1_000\n",
    "timeit('d2 = deepcopy(d1)', globals=globals(), number=1_000)"
   ]
  },
  {
   "cell_type": "code",
   "execution_count": 27,
   "metadata": {},
   "outputs": [
    {
     "data": {
      "text/plain": [
       "4.235140976999901"
      ]
     },
     "execution_count": 27,
     "metadata": {},
     "output_type": "execute_result"
    }
   ],
   "source": [
    "# dictionary comprehension\n",
    "timeit('d2 = {k:v for k,v in d1.items()}', globals=globals(), number=10_000)"
   ]
  },
  {
   "cell_type": "code",
   "execution_count": 28,
   "metadata": {},
   "outputs": [
    {
     "data": {
      "text/plain": [
       "1.693716788000529"
      ]
     },
     "execution_count": 28,
     "metadata": {},
     "output_type": "execute_result"
    }
   ],
   "source": [
    "# dictionary class\n",
    "timeit('d2 = dict(d1)', globals=globals(), number=10_000)"
   ]
  },
  {
   "cell_type": "code",
   "execution_count": 29,
   "metadata": {},
   "outputs": [
    {
     "data": {
      "text/plain": [
       "1.7128342209998664"
      ]
     },
     "execution_count": 29,
     "metadata": {},
     "output_type": "execute_result"
    }
   ],
   "source": [
    "# unpacking\n",
    "timeit('d2 = {**d1}', globals=globals(), number=10_000)"
   ]
  },
  {
   "cell_type": "code",
   "execution_count": 30,
   "metadata": {},
   "outputs": [
    {
     "data": {
      "text/plain": [
       "1.1405235630008974"
      ]
     },
     "execution_count": 30,
     "metadata": {},
     "output_type": "execute_result"
    }
   ],
   "source": [
    "# dictionary.update\n",
    "timeit('d2.update(d1)', setup='d2 = dict()', globals=globals(), number=10_000)"
   ]
  },
  {
   "cell_type": "code",
   "execution_count": 31,
   "metadata": {},
   "outputs": [
    {
     "data": {
      "text/plain": [
       "0.6459458899989841"
      ]
     },
     "execution_count": 31,
     "metadata": {},
     "output_type": "execute_result"
    }
   ],
   "source": [
    "# copy package copy function\n",
    "timeit('d2 = copy.copy(d1)', globals=globals(), number=10_000)"
   ]
  },
  {
   "cell_type": "code",
   "execution_count": 32,
   "metadata": {},
   "outputs": [
    {
     "data": {
      "text/plain": [
       "0.6322297520000575"
      ]
     },
     "execution_count": 32,
     "metadata": {},
     "output_type": "execute_result"
    }
   ],
   "source": [
    "# dictionary.copy()\n",
    "timeit('d2 = d1.copy()', globals=globals(), number=10_000)"
   ]
  },
  {
   "cell_type": "markdown",
   "metadata": {},
   "source": [
    "<b>Conclusion</b>:<br>\n",
    "According this test, the most effective ways to make a copy of dictionary are\n",
    "* <code>dictionary.copy()</code>\n",
    "* copy function from copy package <code>copy.copy(d1)</code>\n",
    "\n",
    "Methods dictionary class <code>dict(d1)</code> and unpacking <code>{**d1}</code> turned out to be not so effective in comparison with other collection data types. \n",
    "\n",
    "In case of test restarting, the relative performance of some methods can slightly vary. This test does not claim to be universal - under other initial conditions and in a different software environment, other methods can be more effective.\n",
    "<br>\n",
    "<br>\n",
    "<br>\n",
    "<br>"
   ]
  },
  {
   "cell_type": "markdown",
   "metadata": {},
   "source": [
    "<h4>Ways to copy set</h4>"
   ]
  },
  {
   "cell_type": "code",
   "execution_count": 33,
   "metadata": {},
   "outputs": [
    {
     "name": "stdout",
     "output_type": "stream",
     "text": [
      "<class 'set'>\n",
      "10000\n"
     ]
    }
   ],
   "source": [
    "s1 = set(range(10_000))\n",
    "\n",
    "print(type(s1))      # just checking what we created\n",
    "print(len(s1))"
   ]
  },
  {
   "cell_type": "code",
   "execution_count": 34,
   "metadata": {},
   "outputs": [
    {
     "data": {
      "text/plain": [
       "3.8091872240001976"
      ]
     },
     "execution_count": 34,
     "metadata": {},
     "output_type": "execute_result"
    }
   ],
   "source": [
    "# copy package deepcopy function\n",
    "# Attention: number of repeats here in only 1_000\n",
    "timeit('s2 = copy.deepcopy(s1)', globals=globals(), number=1_000)"
   ]
  },
  {
   "cell_type": "code",
   "execution_count": 35,
   "metadata": {},
   "outputs": [
    {
     "data": {
      "text/plain": [
       "3.8385151470010896"
      ]
     },
     "execution_count": 35,
     "metadata": {},
     "output_type": "execute_result"
    }
   ],
   "source": [
    "# copy package deepcopy function (from copy import deepcopy)\n",
    "# Attention: number of repeats here in only 1_000\n",
    "timeit('s2 = deepcopy(s1)', globals=globals(), number=1_000)"
   ]
  },
  {
   "cell_type": "code",
   "execution_count": 36,
   "metadata": {},
   "outputs": [
    {
     "data": {
      "text/plain": [
       "2.23400232899985"
      ]
     },
     "execution_count": 36,
     "metadata": {},
     "output_type": "execute_result"
    }
   ],
   "source": [
    "# set comprehension\n",
    "timeit('s2 = {el for el in s1}', globals=globals(), number=10_000)"
   ]
  },
  {
   "cell_type": "code",
   "execution_count": 37,
   "metadata": {},
   "outputs": [
    {
     "data": {
      "text/plain": [
       "0.7605719479997788"
      ]
     },
     "execution_count": 37,
     "metadata": {},
     "output_type": "execute_result"
    }
   ],
   "source": [
    "# set.union\n",
    "timeit('s2.update(s1)', setup='s2 = set()', globals=globals(), number=10_000)"
   ]
  },
  {
   "cell_type": "code",
   "execution_count": 38,
   "metadata": {},
   "outputs": [
    {
     "data": {
      "text/plain": [
       "0.7509875030009425"
      ]
     },
     "execution_count": 38,
     "metadata": {},
     "output_type": "execute_result"
    }
   ],
   "source": [
    "# |= (short notation for set.union)\n",
    "timeit('s2 |= s1', setup='s2 = set()', globals=globals(), number=10_000)"
   ]
  },
  {
   "cell_type": "code",
   "execution_count": 40,
   "metadata": {},
   "outputs": [
    {
     "data": {
      "text/plain": [
       "0.5796467939999275"
      ]
     },
     "execution_count": 40,
     "metadata": {},
     "output_type": "execute_result"
    }
   ],
   "source": [
    "# copy package copy function\n",
    "timeit('s2 = copy.copy(s1)', globals=globals(), number=10_000)"
   ]
  },
  {
   "cell_type": "code",
   "execution_count": 39,
   "metadata": {},
   "outputs": [
    {
     "data": {
      "text/plain": [
       "0.577543269000671"
      ]
     },
     "execution_count": 39,
     "metadata": {},
     "output_type": "execute_result"
    }
   ],
   "source": [
    "# set.copy()\n",
    "timeit('s2 = s1.copy()', globals=globals(), number=10_000)"
   ]
  },
  {
   "cell_type": "code",
   "execution_count": 41,
   "metadata": {},
   "outputs": [
    {
     "data": {
      "text/plain": [
       "0.5564880860001722"
      ]
     },
     "execution_count": 41,
     "metadata": {},
     "output_type": "execute_result"
    }
   ],
   "source": [
    "# set class\n",
    "timeit('s2 = set(s1)', globals=globals(), number=10_000)"
   ]
  },
  {
   "cell_type": "code",
   "execution_count": 42,
   "metadata": {},
   "outputs": [
    {
     "data": {
      "text/plain": [
       "0.5758009989986022"
      ]
     },
     "execution_count": 42,
     "metadata": {},
     "output_type": "execute_result"
    }
   ],
   "source": [
    "# unpacking\n",
    "timeit('l2 = {*s1}', globals=globals(), number=10_000)"
   ]
  },
  {
   "cell_type": "markdown",
   "metadata": {},
   "source": [
    "<b>Conclusion</b>:<br>\n",
    "According this test, the most effective ways to make a copy of set are\n",
    "* unpacking <code>{*s1}</code>\n",
    "* set class <code>set(s1)</code>\n",
    "* <code>set.copy()</code>\n",
    "* copy function from copy package <code>copy.copy(s1)</code>\n",
    "\n",
    "In case of test restarting, the relative performance of some methods can slightly vary. This test does not claim to be universal - under other initial conditions and in a different software environment, other methods can be more effective.\n",
    "<br>\n",
    "<br>\n",
    "<br>\n",
    "<br>"
   ]
  },
  {
   "cell_type": "markdown",
   "metadata": {},
   "source": [
    "<h4>Performance sorted vs sort</h4>"
   ]
  },
  {
   "cell_type": "code",
   "execution_count": 43,
   "metadata": {},
   "outputs": [],
   "source": [
    "from timeit import timeit\n",
    "import random"
   ]
  },
  {
   "cell_type": "code",
   "execution_count": 44,
   "metadata": {},
   "outputs": [
    {
     "data": {
      "text/plain": [
       "[864, 394, 776, 911, 430, 41, 265, 988, 523, 497]"
      ]
     },
     "execution_count": 44,
     "metadata": {},
     "output_type": "execute_result"
    }
   ],
   "source": [
    "random.seed(0)\n",
    "n = 10_000_000\n",
    "ls = [random.randint(0, 1000) for n in range(n)]\n",
    "\n",
    "# Let's look what inside beginning of ls\n",
    "ls[:10]"
   ]
  },
  {
   "cell_type": "code",
   "execution_count": 45,
   "metadata": {},
   "outputs": [
    {
     "data": {
      "text/plain": [
       "1.4526819139991858"
      ]
     },
     "execution_count": 45,
     "metadata": {},
     "output_type": "execute_result"
    }
   ],
   "source": [
    "timeit(stmt='sorted(ls)', globals=globals(), number=1)"
   ]
  },
  {
   "cell_type": "code",
   "execution_count": 46,
   "metadata": {},
   "outputs": [
    {
     "data": {
      "text/plain": [
       "1.3251406619983754"
      ]
     },
     "execution_count": 46,
     "metadata": {},
     "output_type": "execute_result"
    }
   ],
   "source": [
    "timeit(stmt='ls.sort()', globals=globals(), number=1)"
   ]
  },
  {
   "cell_type": "code",
   "execution_count": 47,
   "metadata": {},
   "outputs": [
    {
     "data": {
      "text/plain": [
       "[0, 0, 0, 0, 0, 0, 0, 0, 0, 0]"
      ]
     },
     "execution_count": 47,
     "metadata": {},
     "output_type": "execute_result"
    }
   ],
   "source": [
    "# Now, after 'sort', the beginning of ls is the next:\n",
    "ls[:10]"
   ]
  },
  {
   "cell_type": "code",
   "execution_count": 48,
   "metadata": {},
   "outputs": [
    {
     "data": {
      "text/plain": [
       "0.4687143390001438"
      ]
     },
     "execution_count": 48,
     "metadata": {},
     "output_type": "execute_result"
    }
   ],
   "source": [
    "# double sort of already sorted list is much faster\n",
    "timeit(stmt='sorted(ls)', globals=globals(), number=1)"
   ]
  },
  {
   "cell_type": "code",
   "execution_count": 49,
   "metadata": {},
   "outputs": [
    {
     "data": {
      "text/plain": [
       "0.24087869200047862"
      ]
     },
     "execution_count": 49,
     "metadata": {},
     "output_type": "execute_result"
    }
   ],
   "source": [
    "timeit(stmt='ls.sort()', globals=globals(), number=1)"
   ]
  },
  {
   "cell_type": "markdown",
   "metadata": {},
   "source": [
    "<b>Conclusion</b>:<br>\n",
    "In-place sort via <code>ls.sort()</code> is a little faster than creating an ordered copy via <code>sorted(ls)</code> <i>(~5-10%)</i>.<br>\n",
    "Sorting of already partially ordered sequence is noticeably faster than sorting of completely chaotic sequence.\n",
    "<br>\n",
    "<br>\n",
    "<br>\n",
    "<br>"
   ]
  },
  {
   "cell_type": "code",
   "execution_count": null,
   "metadata": {},
   "outputs": [],
   "source": []
  }
 ],
 "metadata": {
  "kernelspec": {
   "display_name": "Python 3",
   "language": "python",
   "name": "python3"
  },
  "language_info": {
   "codemirror_mode": {
    "name": "ipython",
    "version": 3
   },
   "file_extension": ".py",
   "mimetype": "text/x-python",
   "name": "python",
   "nbconvert_exporter": "python",
   "pygments_lexer": "ipython3",
   "version": "3.7.3"
  }
 },
 "nbformat": 4,
 "nbformat_minor": 4
}
