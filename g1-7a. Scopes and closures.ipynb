{
 "cells": [
  {
   "cell_type": "markdown",
   "metadata": {},
   "source": [
    "for the course \"<a target=\"_blank\" href=\"https://www.udemy.com/course/python-3-deep-dive-part-1/\">Python 3: Deep Drive (part 1 - Functional)</a>\",<br>\n",
    "section 7: \"Scopes, Closures and Decorators\",<br>\n",
    "(Q&A for <a target=\"_blank\" href=\"https://www.udemy.com/course/python-3-deep-dive-part-1/learn/lecture/9376820#questions/8320248\">lecture 116</a>)"
   ]
  },
  {
   "cell_type": "markdown",
   "metadata": {},
   "source": [
    "<h3>Different scopes</h3>"
   ]
  },
  {
   "cell_type": "code",
   "execution_count": 1,
   "metadata": {},
   "outputs": [
    {
     "name": "stdout",
     "output_type": "stream",
     "text": [
      "global variable a\n",
      "outer_func b\n",
      "inner_func c\n",
      "outer_func d\n"
     ]
    }
   ],
   "source": [
    "a = 'global variable a'\n",
    "b = 'global variable b'\n",
    "c = 'global variable c'\n",
    "d = 'global variable d'\n",
    "e = 'global variable e'\n",
    "\n",
    "def outer_func():\n",
    "    a = 'outer_func a'\n",
    "    b = 'outer_func b'\n",
    "    c = 'outer_func c'\n",
    "    d = 'outer_func d'\n",
    "    # e - not mentioned\n",
    "    \n",
    "    def inner_func():\n",
    "        global a\n",
    "        nonlocal b\n",
    "        c = 'inner_func c'\n",
    "        # d - not mentioned: we can read it\n",
    "        #     but attempt assign to it create local variable\n",
    "        # nonlocal e → error\n",
    "        print(a, b, c, d, sep='\\n')\n",
    "\n",
    "    inner_func()\n",
    "\n",
    "outer_func()"
   ]
  },
  {
   "cell_type": "markdown",
   "metadata": {},
   "source": [
    "<br>\n",
    "<br>\n",
    "<hr>\n",
    "<h3>Closure</h3>"
   ]
  },
  {
   "cell_type": "code",
   "execution_count": 2,
   "metadata": {
    "scrolled": true
   },
   "outputs": [
    {
     "name": "stdout",
     "output_type": "stream",
     "text": [
      "Python rocks!\n",
      "Python rocks!\n",
      "\n",
      "(<cell at 0x7fbbb0445768: str object at 0x7fbbb56d22d0>,)\n",
      "('x',)\n"
     ]
    }
   ],
   "source": [
    "# Simplest closure\n",
    "def outer():\n",
    "    x = 'Python'                # 'x' → free variable\n",
    "    \n",
    "    def inner():                # 'inner()' → inner function\n",
    "        print(f'{x} rocks!')    # 'inner()' + 'x' → closure\n",
    "    \n",
    "    return inner                # \"returning\" a closure\n",
    "\n",
    "fn = outer()\n",
    "\n",
    "fn()                            #> Python rocks!\n",
    "fn()                            #> Python rocks!\n",
    "print()\n",
    "\n",
    "print(fn.__closure__)           #> (<cell at 0x…: str object at 0x…>,)\n",
    "print(fn.__code__.co_freevars)  #> ('x',)"
   ]
  },
  {
   "cell_type": "markdown",
   "metadata": {},
   "source": [
    "↑ <code>outer.x</code> and <code>inner.x</code> point to <b>intermediary cell</b>, that in its turn point to common value.<br>Therefore, if <code>x</code> changes it changes simultaneously for both scopes.<br><br>"
   ]
  },
  {
   "cell_type": "code",
   "execution_count": 3,
   "metadata": {},
   "outputs": [
    {
     "name": "stdout",
     "output_type": "stream",
     "text": [
      "Python rocks! -1\n",
      "Python rocks! -2\n",
      "\n",
      "Python rocks! -1\n",
      "Python rocks! -2\n",
      "\n",
      "(<cell at 0x7fbbb0445678: int object at 0x56367c0cb440>, <cell at 0x7fbbb04456a8: str object at 0x7fbbb56d22d0>)\n",
      "('n', 'x')\n"
     ]
    }
   ],
   "source": [
    "# Simplest closure with changeable free variable\n",
    "def outer():\n",
    "    x = 'Python'\n",
    "    n = 0\n",
    "    \n",
    "    def inner():\n",
    "        nonlocal n\n",
    "        n += 1\n",
    "        print(f'{x} rocks! -{n}')\n",
    "    \n",
    "    return inner\n",
    "\n",
    "fn1 = outer()\n",
    "fn2 = outer()\n",
    "\n",
    "fn1()                            #> Python rocks! -1\n",
    "fn1()                            #> Python rocks! -2\n",
    "print()\n",
    "\n",
    "fn2()                            #> Python rocks! -1\n",
    "fn2()                            #> Python rocks! -2\n",
    "print()\n",
    "\n",
    "print(fn1.__closure__)           #> (<cell at 0x…: int object at 0x…>,\n",
    "                                 #>  <cell at 0x…: str object at 0x…>)\n",
    "print(fn1.__code__.co_freevars)  #> ('n', 'x')"
   ]
  },
  {
   "cell_type": "code",
   "execution_count": 4,
   "metadata": {},
   "outputs": [
    {
     "name": "stdout",
     "output_type": "stream",
     "text": [
      "1 2 3 4\n"
     ]
    }
   ],
   "source": [
    "# Closure returning 2 functions with common free variable\n",
    "def outer():\n",
    "    count = 0\n",
    "    \n",
    "    def inc1():\n",
    "        nonlocal count\n",
    "        count += 1\n",
    "        return count\n",
    "    \n",
    "    def inc2():\n",
    "        nonlocal count\n",
    "        count += 1\n",
    "        return count\n",
    "    \n",
    "    return inc1, inc2\n",
    "\n",
    "g1, g2 = outer()\n",
    "print(g1(), g1(), g2(), g1())  #> 1 2 3 4"
   ]
  },
  {
   "cell_type": "code",
   "execution_count": 6,
   "metadata": {},
   "outputs": [
    {
     "name": "stdout",
     "output_type": "stream",
     "text": [
      "15\n",
      "25\n"
     ]
    }
   ],
   "source": [
    "# Closure with settable during run-time initial value of a free variable\n",
    "def adder(n):\n",
    "    def inner(x):\n",
    "        return x+n\n",
    "    return inner\n",
    "\n",
    "add_from_10 = adder(10)\n",
    "add_from_20 = adder(20)\n",
    "\n",
    "print( add_from_10(5) )  #> 15\n",
    "print( add_from_20(5) )  #> 25"
   ]
  },
  {
   "cell_type": "code",
   "execution_count": 7,
   "metadata": {},
   "outputs": [
    {
     "name": "stdout",
     "output_type": "stream",
     "text": [
      "35\n",
      "35\n",
      "35\n",
      "\n",
      "105\n",
      "105\n",
      "105\n",
      "\n",
      "None\n",
      "None\n",
      "None\n",
      "\n",
      "()\n",
      "()\n",
      "()\n",
      "\n",
      "<function <lambda> at 0x7fbbb03f6048>\n",
      "<function <lambda> at 0x7fbbb03f60d0>\n",
      "<function <lambda> at 0x7fbbb03f6158>\n",
      "\n"
     ]
    }
   ],
   "source": [
    "# POTENTIAL DANGER with unintentional closure\n",
    "adders = []\n",
    "\n",
    "for n in range(10,40,10):\n",
    "    adders.append(lambda x: x+n)\n",
    "\n",
    "for adr in adders:\n",
    "    print(adr(5))\n",
    "print()\n",
    "#> 35\n",
    "#> 35\n",
    "#> 35\n",
    "\n",
    "n = 100\n",
    "for adr in adders:\n",
    "    print(adr(5))\n",
    "print()\n",
    "#> 105\n",
    "#> 105\n",
    "#> 105\n",
    "\n",
    "for adr in adders:\n",
    "    print(adr.__closure__)\n",
    "print()\n",
    "#> None\n",
    "#> None\n",
    "#> None\n",
    "\n",
    "for adr in adders:\n",
    "    print(adr.__code__.co_freevars)\n",
    "print()\n",
    "#> ()\n",
    "#> ()\n",
    "#> ()\n",
    "\n",
    "for adr in adders:\n",
    "    print(adr)\n",
    "print()\n",
    "#> <function <lambda> at 0x7fc2d41f1620>\n",
    "#> <function <lambda> at 0x7fc2d41f1f28>\n",
    "#> <function <lambda> at 0x7fc2d411c488>"
   ]
  },
  {
   "cell_type": "code",
   "execution_count": 8,
   "metadata": {},
   "outputs": [
    {
     "name": "stdout",
     "output_type": "stream",
     "text": [
      "15\n",
      "25\n",
      "35\n",
      "\n",
      "65\n",
      "65\n",
      "65\n"
     ]
    }
   ],
   "source": [
    "# correction of the previous code\n",
    "adders = []\n",
    "\n",
    "for n in range(10,40,10):\n",
    "    adders.append(lambda x, *, start=n: start+x)\n",
    "\n",
    "for adr in adders:\n",
    "    print(adr(5))\n",
    "print()\n",
    "#> 15\n",
    "#> 25\n",
    "#> 35\n",
    "\n",
    "# but caution for such case\n",
    "for adr in adders:\n",
    "    print(adr(5, start=60))\n",
    "#> 65\n",
    "#> 65\n",
    "#> 65"
   ]
  },
  {
   "cell_type": "markdown",
   "metadata": {},
   "source": [
    "<br>\n",
    "<hr />\n",
    "<h4>Nested closure</h4>"
   ]
  },
  {
   "cell_type": "code",
   "execution_count": 9,
   "metadata": {},
   "outputs": [
    {
     "name": "stdout",
     "output_type": "stream",
     "text": [
      "102\n",
      "104\n"
     ]
    }
   ],
   "source": [
    "# nested closure -1    # skip\n",
    "def incrementer(n):\n",
    "    \n",
    "    # inner + n → outer closure\n",
    "    def inner(start):\n",
    "        current = start\n",
    "        \n",
    "        # inc + current + n → nested closure\n",
    "        def inc():\n",
    "            nonlocal current\n",
    "            current += n\n",
    "            return current\n",
    "\n",
    "        return inc\n",
    "    \n",
    "    return inner\n",
    "\n",
    "inc_2 = incrementer(2)\n",
    "inc_2_from_100 = inc_2(100)\n",
    "\n",
    "print(inc_2_from_100())  #> 102\n",
    "print(inc_2_from_100())  #> 104"
   ]
  },
  {
   "cell_type": "code",
   "execution_count": 10,
   "metadata": {},
   "outputs": [
    {
     "name": "stdout",
     "output_type": "stream",
     "text": [
      "102\n",
      "104\n"
     ]
    }
   ],
   "source": [
    "# nested closure -2\n",
    "def incrementer(start):\n",
    "    \n",
    "    # inner + start → outer closure\n",
    "    def inner(n):\n",
    "        current = start\n",
    "        \n",
    "        # inc + n + start → nested closure\n",
    "        def inc():\n",
    "            nonlocal current\n",
    "            current += n\n",
    "            return current\n",
    "\n",
    "        return inc\n",
    "    \n",
    "    return inner\n",
    "\n",
    "inc_from_100 = incrementer(100)\n",
    "inc_2_from_100 = inc_from_100(2)\n",
    "\n",
    "print(inc_2_from_100())  #> 102\n",
    "print(inc_2_from_100())  #> 104"
   ]
  },
  {
   "cell_type": "code",
   "execution_count": 11,
   "metadata": {
    "scrolled": true
   },
   "outputs": [
    {
     "name": "stdout",
     "output_type": "stream",
     "text": [
      "9\n",
      "100\n",
      "\n",
      "(<cell at 0x7fbbb0445348: int object at 0x56367c0cb440>,)\n",
      "('n',)\n"
     ]
    }
   ],
   "source": [
    "# example with nested closure\n",
    "def pow(n):\n",
    "    def inner(x):\n",
    "        return x**n\n",
    "    return inner\n",
    "\n",
    "square = pow(2)\n",
    "print(square(3))\n",
    "print(square(10))\n",
    "print()\n",
    "\n",
    "print(square.__closure__)\n",
    "print(square.__code__.co_freevars)"
   ]
  },
  {
   "cell_type": "markdown",
   "metadata": {},
   "source": [
    "---\n",
    "Application 1 (finding average of received numbers)"
   ]
  },
  {
   "cell_type": "code",
   "execution_count": 13,
   "metadata": {},
   "outputs": [
    {
     "name": "stdout",
     "output_type": "stream",
     "text": [
      "10.0\n",
      "15.0\n",
      "20.0\n"
     ]
    }
   ],
   "source": [
    "def averager():\n",
    "    total = 0\n",
    "    count = 0\n",
    "    \n",
    "    def add(n):\n",
    "        nonlocal total, count\n",
    "        total += n\n",
    "        count += 1\n",
    "        return total / count\n",
    "    \n",
    "    return add\n",
    "\n",
    "\n",
    "a = averager()\n",
    "\n",
    "print(a(10))\n",
    "print(a(20))\n",
    "print(a(30))"
   ]
  },
  {
   "cell_type": "code",
   "execution_count": 14,
   "metadata": {},
   "outputs": [
    {
     "name": "stdout",
     "output_type": "stream",
     "text": [
      "(<cell at 0x7fbbb0445d38: int object at 0x56367c0cb460>, <cell at 0x7fbbb0445a08: int object at 0x56367c0cbb80>)\n",
      "('count', 'total')\n"
     ]
    }
   ],
   "source": [
    "print(a.__closure__)\n",
    "print(a.__code__.co_freevars)"
   ]
  },
  {
   "cell_type": "markdown",
   "metadata": {},
   "source": [
    "---\n",
    "Application 2 (simplest timer)"
   ]
  },
  {
   "cell_type": "code",
   "execution_count": 15,
   "metadata": {},
   "outputs": [],
   "source": [
    "from time import perf_counter\n",
    "\n",
    "def simplest_timer():\n",
    "    start = perf_counter()\n",
    "    \n",
    "    def poll():\n",
    "        current = perf_counter()\n",
    "        return round(current - start, 3)\n",
    "    \n",
    "    return poll\n",
    "\n",
    "\n",
    "t = simplest_timer()"
   ]
  },
  {
   "cell_type": "code",
   "execution_count": 16,
   "metadata": {},
   "outputs": [
    {
     "data": {
      "text/plain": [
       "3.021"
      ]
     },
     "execution_count": 16,
     "metadata": {},
     "output_type": "execute_result"
    }
   ],
   "source": [
    "t()"
   ]
  },
  {
   "cell_type": "code",
   "execution_count": 17,
   "metadata": {},
   "outputs": [
    {
     "data": {
      "text/plain": [
       "8.675"
      ]
     },
     "execution_count": 17,
     "metadata": {},
     "output_type": "execute_result"
    }
   ],
   "source": [
    "t()"
   ]
  },
  {
   "cell_type": "code",
   "execution_count": 18,
   "metadata": {},
   "outputs": [
    {
     "name": "stdout",
     "output_type": "stream",
     "text": [
      "(<cell at 0x7fbbb04455b8: float object at 0x7fbbb044f558>,)\n",
      "('start',)\n"
     ]
    }
   ],
   "source": [
    "print(t.__closure__)\n",
    "print(t.__code__.co_freevars)"
   ]
  },
  {
   "cell_type": "markdown",
   "metadata": {},
   "source": [
    "---\n",
    "Application 3 (simplest counter)"
   ]
  },
  {
   "cell_type": "code",
   "execution_count": 19,
   "metadata": {},
   "outputs": [
    {
     "name": "stdout",
     "output_type": "stream",
     "text": [
      "11\n",
      "12\n"
     ]
    }
   ],
   "source": [
    "def counter(c=0):\n",
    "    def inc(increment=1):\n",
    "        nonlocal c\n",
    "        c += increment\n",
    "        return c\n",
    "    return inc\n",
    "    \n",
    "counter1 = counter(10)\n",
    "print(counter1())\n",
    "print(counter1())"
   ]
  },
  {
   "cell_type": "markdown",
   "metadata": {},
   "source": [
    "---\n",
    "Application 4 (counter of function calls)"
   ]
  },
  {
   "cell_type": "code",
   "execution_count": 20,
   "metadata": {
    "scrolled": true
   },
   "outputs": [
    {
     "name": "stdout",
     "output_type": "stream",
     "text": [
      "print has been called 1 times\n",
      "E\n",
      "print has been called 2 times\n",
      "l\n",
      "\n",
      "<lambda> has been called 1 times\n",
      "<lambda> has been called 2 times\n"
     ]
    }
   ],
   "source": [
    "def counter_func(fn):\n",
    "    cnt = 0\n",
    "    def inner(*args, **kwargs):\n",
    "        nonlocal cnt\n",
    "        cnt += 1\n",
    "        print(f'{fn.__name__} has been called {cnt} times')\n",
    "        return(fn(*args, **kwargs))\n",
    "    return inner\n",
    "\n",
    "counter2 = counter_func(print)\n",
    "counter2('E')\n",
    "counter2('l')\n",
    "print()\n",
    "\n",
    "counter_add = counter_func(lambda a,b: a+b)\n",
    "result = counter_add(1, 2)\n",
    "result = counter_add(3, 4)"
   ]
  },
  {
   "cell_type": "code",
   "execution_count": 21,
   "metadata": {
    "scrolled": true
   },
   "outputs": [
    {
     "name": "stdout",
     "output_type": "stream",
     "text": [
      "(<cell at 0x7fbbb0445df8: int object at 0x56367c0cb440>, <cell at 0x7fbbb0445d98: function object at 0x7fbbb03f6ea0>)\n",
      "('cnt', 'fn')\n"
     ]
    }
   ],
   "source": [
    "print(counter_add.__closure__)\n",
    "print(counter_add.__code__.co_freevars)"
   ]
  },
  {
   "cell_type": "markdown",
   "metadata": {},
   "source": [
    " "
   ]
  },
  {
   "cell_type": "code",
   "execution_count": 22,
   "metadata": {},
   "outputs": [
    {
     "name": "stdout",
     "output_type": "stream",
     "text": [
      "{'add': 2}\n"
     ]
    }
   ],
   "source": [
    "# more sophisticated version of the application,\n",
    "# the results are saved in outer dictionary\n",
    "\n",
    "counters = dict()\n",
    "\n",
    "def counter_func_general(fn, counters):\n",
    "    cnt = 0\n",
    "    def inner(*args, **kwargs):\n",
    "        nonlocal cnt\n",
    "        cnt += 1\n",
    "        counters[fn.__name__] = cnt\n",
    "        # print(f'{fn.__name__} has been called {cnt} times')\n",
    "        return fn(*args, **kwargs)\n",
    "    return inner\n",
    "\n",
    "\n",
    "def add(a, b):\n",
    "    return a+b\n",
    "\n",
    "\n",
    "counter_add = counter_func_general(add, counters)\n",
    "counter_add(1,2)\n",
    "counter_add(3,4)\n",
    "\n",
    "print(counters)"
   ]
  },
  {
   "cell_type": "code",
   "execution_count": 23,
   "metadata": {},
   "outputs": [
    {
     "name": "stdout",
     "output_type": "stream",
     "text": [
      "{'add': 2, 'fact': 2}\n"
     ]
    }
   ],
   "source": [
    "def fact(n):\n",
    "    product = 1\n",
    "    for i in range(2, n+1):\n",
    "        product *= i\n",
    "    return product\n",
    "\n",
    "\n",
    "fact = counter_func_general(fact, counters)\n",
    "fact(0)\n",
    "fact(6)\n",
    "\n",
    "print(counters)"
   ]
  },
  {
   "cell_type": "code",
   "execution_count": 24,
   "metadata": {},
   "outputs": [
    {
     "name": "stdout",
     "output_type": "stream",
     "text": [
      "(<cell at 0x7fbbb04457f8: int object at 0x56367c0cb440>, <cell at 0x7fbbb04454f8: dict object at 0x7fbbb0407ab0>, <cell at 0x7fbbb04451f8: function object at 0x7fbbb03f6e18>)\n"
     ]
    }
   ],
   "source": [
    "print(fact.__closure__)"
   ]
  },
  {
   "cell_type": "code",
   "execution_count": 25,
   "metadata": {},
   "outputs": [
    {
     "name": "stdout",
     "output_type": "stream",
     "text": [
      "('cnt', 'counters', 'fn')\n"
     ]
    }
   ],
   "source": [
    "print(fact.__code__.co_freevars)"
   ]
  },
  {
   "cell_type": "code",
   "execution_count": 26,
   "metadata": {},
   "outputs": [
    {
     "name": "stdout",
     "output_type": "stream",
     "text": [
      "inner\n"
     ]
    }
   ],
   "source": [
    "print(fact.__name__)"
   ]
  }
 ],
 "metadata": {
  "kernelspec": {
   "display_name": "Python 3",
   "language": "python",
   "name": "python3"
  },
  "language_info": {
   "codemirror_mode": {
    "name": "ipython",
    "version": 3
   },
   "file_extension": ".py",
   "mimetype": "text/x-python",
   "name": "python",
   "nbconvert_exporter": "python",
   "pygments_lexer": "ipython3",
   "version": "3.7.3"
  }
 },
 "nbformat": 4,
 "nbformat_minor": 2
}
