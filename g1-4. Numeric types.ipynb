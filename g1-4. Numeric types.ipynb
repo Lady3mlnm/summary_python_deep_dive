{
 "cells": [
  {
   "cell_type": "markdown",
   "metadata": {},
   "source": [
    "for the course \"<a target=\"_blank\" href=\"https://www.udemy.com/course/python-3-deep-dive-part-1/\">Python 3: Deep Drive (part 1 - Functional)</a>\",<br>\n",
    "section 4: \"Numeric types\""
   ]
  },
  {
   "cell_type": "code",
   "execution_count": 1,
   "metadata": {},
   "outputs": [],
   "source": [
    "import sys"
   ]
  },
  {
   "cell_type": "code",
   "execution_count": 2,
   "metadata": {
    "scrolled": true
   },
   "outputs": [
    {
     "name": "stdout",
     "output_type": "stream",
     "text": [
      "         0 - 24\n",
      "         1 - 28\n",
      "         2 - 28\n",
      "         7 - 28\n",
      "         8 - 28\n",
      "        63 - 28\n",
      "        64 - 28\n",
      "       512 - 28\n",
      "      1024 - 28\n",
      "      4096 - 28\n",
      "     16384 - 28\n",
      "     65536 - 28\n",
      "   1048576 - 28\n",
      "   1048576 - 28\n",
      "1073741823 - 28\n",
      "1073741824 - 32\n",
      "10715086071862673209484250490600018105614048117055336074437503883703510511249361224931983788156958581275946729175531468251871452856923140435984577574698574803934567774824230985421074605062371141877954182153046474983581941267398767559165543946077062914571196477686542167660429831652624386837205668069376 - 160\n"
     ]
    }
   ],
   "source": [
    "# Size of integers with different values\n",
    "count = 0\n",
    "for n in [0, 1, 2, 7, 8, 63, 64, 512, 1024, 4096, 16_384, 65_536, 1_048_576, 2**20, 2**30-1, 2**30, 2**1000]:\n",
    "    print(f'{n:10} - {sys.getsizeof(n)}')"
   ]
  },
  {
   "cell_type": "markdown",
   "metadata": {},
   "source": [
    "<br>"
   ]
  },
  {
   "cell_type": "code",
   "execution_count": 3,
   "metadata": {
    "scrolled": true
   },
   "outputs": [
    {
     "name": "stdout",
     "output_type": "stream",
     "text": [
      "-7 + -4 = -11\n",
      "-7 - -4 = -3\n",
      "-7 * -4 = 28\n",
      "-7 / -4 = 1.75\n",
      "-7 // -4 = 1\n",
      "-7 % -4 = -3\n"
     ]
    }
   ],
   "source": [
    "# just for learning and fun (these actions are redundant)\n",
    "\n",
    "a = -7\n",
    "b = -4\n",
    "\n",
    "for f in (lambda x, y: f'{x} + {y} = {x + y}',\n",
    "          lambda x, y: f'{x} - {y} = {x - y}',\n",
    "          lambda x, y: f'{x} * {y} = {x * y}',\n",
    "          lambda x, y: f'{x} / {y} = {x / y}',\n",
    "          lambda x, y: f'{x} // {y} = {x // y}',\n",
    "          lambda x, y: f'{x} % {y} = {x % y}'):\n",
    "    print(f(a, b))"
   ]
  },
  {
   "cell_type": "markdown",
   "metadata": {},
   "source": [
    "<br>"
   ]
  },
  {
   "cell_type": "code",
   "execution_count": 4,
   "metadata": {},
   "outputs": [
    {
     "data": {
      "text/plain": [
       "(10, 10, 10, 10, 10)"
      ]
     },
     "execution_count": 4,
     "metadata": {},
     "output_type": "execute_result"
    }
   ],
   "source": [
    "# entering numbers in different numeral systems\n",
    "b = int(\"1010\", 2)\n",
    "c = int(\"1010\", base = 2)\n",
    "d = int(\"A\", 16)\n",
    "e = 0b1010\n",
    "f = int('0b1010', 2)\n",
    "\n",
    "b, c, d, e, f"
   ]
  },
  {
   "cell_type": "code",
   "execution_count": 5,
   "metadata": {},
   "outputs": [
    {
     "name": "stdout",
     "output_type": "stream",
     "text": [
      "0b1110\n",
      "0o16\n",
      "0xe\n"
     ]
    }
   ],
   "source": [
    "# output numbers in different numeral systems\n",
    "x = 14\n",
    "print(bin(x))\n",
    "print(oct(x))\n",
    "print(hex(x))"
   ]
  },
  {
   "cell_type": "code",
   "execution_count": 6,
   "metadata": {},
   "outputs": [
    {
     "name": "stdout",
     "output_type": "stream",
     "text": [
      "22/7\n",
      "3.142857142857143\n"
     ]
    }
   ],
   "source": [
    "# fractions\n",
    "import fractions\n",
    "a = fractions.Fraction(22, 7)\n",
    "print( a )\n",
    "print( float(a) )"
   ]
  },
  {
   "cell_type": "markdown",
   "metadata": {},
   "source": [
    "<br> \n",
    "<hr>\n",
    "<h3>Fractions</h3>"
   ]
  },
  {
   "cell_type": "code",
   "execution_count": 7,
   "metadata": {},
   "outputs": [
    {
     "name": "stdout",
     "output_type": "stream",
     "text": [
      "22/7\n",
      "3.142857142857143\n"
     ]
    },
    {
     "data": {
      "text/plain": [
       "Fraction(22, 7)"
      ]
     },
     "execution_count": 7,
     "metadata": {},
     "output_type": "execute_result"
    }
   ],
   "source": [
    "from fractions import Fraction\n",
    "\n",
    "p = Fraction(22, 7)\n",
    "\n",
    "print(p)\n",
    "print(float(p))\n",
    "p"
   ]
  },
  {
   "cell_type": "code",
   "execution_count": 8,
   "metadata": {},
   "outputs": [
    {
     "name": "stdout",
     "output_type": "stream",
     "text": [
      "22\n",
      "7\n"
     ]
    }
   ],
   "source": [
    "print(p.numerator)\n",
    "print(p.denominator)"
   ]
  },
  {
   "cell_type": "code",
   "execution_count": 9,
   "metadata": {},
   "outputs": [
    {
     "name": "stdout",
     "output_type": "stream",
     "text": [
      "-22/7\n",
      "-22\n",
      "7\n"
     ]
    },
    {
     "data": {
      "text/plain": [
       "Fraction(-22, 7)"
      ]
     },
     "execution_count": 9,
     "metadata": {},
     "output_type": "execute_result"
    }
   ],
   "source": [
    "# Fractions are automatically simplified and set to standard form\n",
    "p_negative = Fraction(44, -14)\n",
    "\n",
    "print(p_negative)\n",
    "print(p_negative.numerator)\n",
    "print(p_negative.denominator)\n",
    "p_negative"
   ]
  },
  {
   "cell_type": "code",
   "execution_count": 10,
   "metadata": {},
   "outputs": [
    {
     "data": {
      "text/plain": [
       "Fraction(884279719003555, 281474976710656)"
      ]
     },
     "execution_count": 10,
     "metadata": {},
     "output_type": "execute_result"
    }
   ],
   "source": [
    "# representation of irrational number as fraction\n",
    "import math\n",
    "y = Fraction(math.pi)\n",
    "y"
   ]
  },
  {
   "cell_type": "code",
   "execution_count": 11,
   "metadata": {},
   "outputs": [
    {
     "data": {
      "text/plain": [
       "Fraction(22, 7)"
      ]
     },
     "execution_count": 11,
     "metadata": {},
     "output_type": "execute_result"
    }
   ],
   "source": [
    "# simplification/rounding of irrational fraction\n",
    "y2 = y.limit_denominator(10)\n",
    "y2"
   ]
  },
  {
   "cell_type": "markdown",
   "metadata": {},
   "source": [
    "<br>"
   ]
  },
  {
   "cell_type": "code",
   "execution_count": 12,
   "metadata": {},
   "outputs": [
    {
     "data": {
      "text/plain": [
       "Fraction(5404319552844595, 18014398509481984)"
      ]
     },
     "execution_count": 12,
     "metadata": {},
     "output_type": "execute_result"
    }
   ],
   "source": [
    "# WARNING:\n",
    "# due to specificity of inner representation sometimes fractions have intuitively enexpected behavior\n",
    "a = Fraction(0.3)\n",
    "a"
   ]
  },
  {
   "cell_type": "code",
   "execution_count": 13,
   "metadata": {},
   "outputs": [
    {
     "data": {
      "text/plain": [
       "Fraction(3, 10)"
      ]
     },
     "execution_count": 13,
     "metadata": {},
     "output_type": "execute_result"
    }
   ],
   "source": [
    "b = Fraction('0.3')\n",
    "b"
   ]
  },
  {
   "cell_type": "code",
   "execution_count": 14,
   "metadata": {},
   "outputs": [
    {
     "data": {
      "text/plain": [
       "Fraction(5404319552844595, 18014398509481984)"
      ]
     },
     "execution_count": 14,
     "metadata": {},
     "output_type": "execute_result"
    }
   ],
   "source": [
    "c = Fraction(3/10)\n",
    "c"
   ]
  },
  {
   "cell_type": "code",
   "execution_count": 15,
   "metadata": {},
   "outputs": [
    {
     "data": {
      "text/plain": [
       "Fraction(3, 10)"
      ]
     },
     "execution_count": 15,
     "metadata": {},
     "output_type": "execute_result"
    }
   ],
   "source": [
    "d = Fraction('3/10')\n",
    "d"
   ]
  },
  {
   "cell_type": "code",
   "execution_count": 16,
   "metadata": {},
   "outputs": [
    {
     "data": {
      "text/plain": [
       "Fraction(3, 10)"
      ]
     },
     "execution_count": 16,
     "metadata": {},
     "output_type": "execute_result"
    }
   ],
   "source": [
    "e = Fraction(denominator=10, numerator=3)\n",
    "e"
   ]
  },
  {
   "cell_type": "markdown",
   "metadata": {},
   "source": [
    "<br> "
   ]
  },
  {
   "cell_type": "code",
   "execution_count": 17,
   "metadata": {},
   "outputs": [
    {
     "name": "stdout",
     "output_type": "stream",
     "text": [
      "0.10000000000000000555\n",
      "0.29999999999999998890\n",
      "0.1 + 0.1 + 0.1 == 0.3 : False\n"
     ]
    }
   ],
   "source": [
    "print(format(0.1, '.20f'))\n",
    "print(format(0.3, '.20f'))\n",
    "\n",
    "a = 0.1 + 0.1 + 0.1\n",
    "b = 0.3\n",
    "print('0.1 + 0.1 + 0.1 == 0.3 :', a == b)"
   ]
  },
  {
   "cell_type": "code",
   "execution_count": 18,
   "metadata": {},
   "outputs": [
    {
     "data": {
      "text/plain": [
       "True"
      ]
     },
     "execution_count": 18,
     "metadata": {},
     "output_type": "execute_result"
    }
   ],
   "source": [
    "# solution of the problem\n",
    "\n",
    "from math import isclose\n",
    "\n",
    "isclose(a, b)                # isclose(a, b, *, rel_tol=1e-09, abs_tol=0.0)"
   ]
  },
  {
   "cell_type": "markdown",
   "metadata": {},
   "source": [
    "<br> \n",
    "<br> \n",
    "<hr>"
   ]
  },
  {
   "cell_type": "code",
   "execution_count": 19,
   "metadata": {
    "scrolled": true
   },
   "outputs": [
    {
     "name": "stdout",
     "output_type": "stream",
     "text": [
      "trunc(6.2) → 6,  int(6.2) → 6,     floor(6.2) → 6,  6.2 // 1 → 6.0,     ceil(6.2) → 7\n",
      "trunc(6.5) → 6,  int(6.5) → 6,     floor(6.5) → 6,  6.5 // 1 → 6.0,     ceil(6.5) → 7\n",
      "trunc(6.8) → 6,  int(6.8) → 6,     floor(6.8) → 6,  6.8 // 1 → 6.0,     ceil(6.8) → 7\n",
      "\n",
      "trunc(-6.2) → -6,  int(-6.2) → -6,     floor(-6.2) → -7,  -6.2 // 1 → -7.0,     ceil(-6.2) → -6\n",
      "trunc(-6.5) → -6,  int(-6.5) → -6,     floor(-6.5) → -7,  -6.5 // 1 → -7.0,     ceil(-6.5) → -6\n",
      "trunc(-6.8) → -6,  int(-6.8) → -6,     floor(-6.8) → -7,  -6.8 // 1 → -7.0,     ceil(-6.8) → -6\n"
     ]
    }
   ],
   "source": [
    "# coercing float to integer (trunc == int, floor, //, ceil)\n",
    "# (lecture 40)\n",
    "import math\n",
    "\n",
    "def coercing_test(ls):\n",
    "    for x in ls:\n",
    "        print(f'trunc({x}) → {math.trunc(x)},  ' +\n",
    "              f'int({x}) → {int(x)},     ' +\n",
    "              f'floor({x}) → {math.floor(x)},  ' +\n",
    "              f'{x} // 1 → {x // 1},     ' +\n",
    "              f'ceil({x}) → {math.ceil(x)}')\n",
    "\n",
    "ls = [6.2, 6.5, 6.8]\n",
    "coercing_test(ls)\n",
    "print()\n",
    "\n",
    "ls = [-6.2, -6.5, -6.8]\n",
    "coercing_test(ls)"
   ]
  },
  {
   "cell_type": "code",
   "execution_count": 20,
   "metadata": {},
   "outputs": [
    {
     "name": "stdout",
     "output_type": "stream",
     "text": [
      "round(6.5) → 6, <class 'int'>,   round(6.5, 0) → 6.0, <class 'float'>\n",
      "round(7.5) → 8, <class 'int'>,   round(7.5, 0) → 8.0, <class 'float'>\n",
      "\n",
      "round(-6.5) → -6, <class 'int'>,   round(-6.5, 0) → -6.0, <class 'float'>\n",
      "round(-7.5) → -8, <class 'int'>,   round(-7.5, 0) → -8.0, <class 'float'>\n"
     ]
    }
   ],
   "source": [
    "# rounding float\n",
    "import math\n",
    "\n",
    "def round_test(ls: list):\n",
    "    for x in ls:\n",
    "        print(f'round({x}) → {round(x)}, {type(round(x))},   ' +\n",
    "              f'round({x}, 0) → {round(x, 0)}, {type(round(x, 0))}')\n",
    "\n",
    "ls = [6.5, 7.5]\n",
    "round_test(ls)\n",
    "print()\n",
    "\n",
    "ls = [-6.5, -7.5]\n",
    "round_test(ls)"
   ]
  },
  {
   "cell_type": "code",
   "execution_count": 21,
   "metadata": {},
   "outputs": [
    {
     "name": "stdout",
     "output_type": "stream",
     "text": [
      "6 <class 'int'>\n",
      "6.0 <class 'float'>\n",
      "10.0 <class 'float'>\n"
     ]
    }
   ],
   "source": [
    "# rounding to int vs rounding to float\n",
    "x = 6.5\n",
    "print(round(x), type(round(x)))\n",
    "print(round(x, 0), type(round(x, 0)))\n",
    "print(round(x, -1), type(round(x, -1)))"
   ]
  },
  {
   "cell_type": "markdown",
   "metadata": {},
   "source": [
    "<br>"
   ]
  },
  {
   "cell_type": "code",
   "execution_count": 22,
   "metadata": {},
   "outputs": [
    {
     "name": "stdout",
     "output_type": "stream",
     "text": [
      "== abs ==      vs    == math.fabs ==\n",
      "6.5 \t\t\t 6.5\n",
      "6.5 \t\t\t 6.5\n",
      "0 \t\t\t 0.0\n",
      "0 \t\t\t 0.0\n",
      "\n",
      "4 <class 'int'> \t 4.0 <class 'float'>\n",
      "4 <class 'int'> \t 4.0 <class 'float'>\n"
     ]
    }
   ],
   "source": [
    "# abs vs math.fabs\n",
    "import math\n",
    "\n",
    "print('== abs ==      vs    == math.fabs ==')\n",
    "print(abs(6.5), '\\t\\t\\t', math.fabs(6.5))\n",
    "print(abs(-6.5), '\\t\\t\\t', math.fabs(-6.5))\n",
    "print(abs(0), '\\t\\t\\t', math.fabs(0))\n",
    "print(abs(-0), '\\t\\t\\t', math.fabs(-0))\n",
    "print()\n",
    "print(abs(4), type(abs(4)), '\\t', math.fabs(4), type(math.fabs(4)))\n",
    "print(abs(-4), type(abs(-4)), '\\t', math.fabs(-4), type(math.fabs(-4)))"
   ]
  },
  {
   "cell_type": "markdown",
   "metadata": {},
   "source": [
    "<br>"
   ]
  },
  {
   "cell_type": "code",
   "execution_count": 23,
   "metadata": {},
   "outputs": [
    {
     "name": "stdout",
     "output_type": "stream",
     "text": [
      "2.0\n",
      "-2.0\n",
      "2.0\n",
      "-2.0\n"
     ]
    }
   ],
   "source": [
    "# copy of number sign\n",
    "import math\n",
    "\n",
    "print(math.copysign(2, 3))\n",
    "print(math.copysign(2, -3))\n",
    "print(math.copysign(-2, 3))\n",
    "print(math.copysign(-2, -3))"
   ]
  },
  {
   "cell_type": "markdown",
   "metadata": {},
   "source": [
    "<br>"
   ]
  },
  {
   "cell_type": "code",
   "execution_count": 24,
   "metadata": {},
   "outputs": [
    {
     "name": "stdout",
     "output_type": "stream",
     "text": [
      "round(1.05, 1) → 1.1,   1.05000000000000004441\n",
      "round(1.15, 1) → 1.1,   1.14999999999999991118\n",
      "round(1.25, 1) → 1.2,   1.25000000000000000000\n",
      "round(1.35, 1) → 1.4,   1.35000000000000008882\n",
      "round(1.45, 1) → 1.4,   1.44999999999999995559\n",
      "round(1.55, 1) → 1.6,   1.55000000000000004441\n",
      "round(1.65, 1) → 1.6,   1.64999999999999991118\n",
      "round(1.75, 1) → 1.8,   1.75000000000000000000\n",
      "round(1.85, 1) → 1.9,   1.85000000000000008882\n",
      "round(1.95, 1) → 1.9,   1.94999999999999995559\n",
      "round(2.05, 1) → 2.0,   2.04999999999999982236\n"
     ]
    }
   ],
   "source": [
    "# WARNING:\n",
    "# due to specificity of inner representation \"banker's rounding\" is not always happens as expected\n",
    "# (see cases of 1.05, 1.15. 1.85, 1.95)\n",
    "# (lecture 41)\n",
    "for x in [1.05, 1.15, 1.25, 1.35, 1.45, 1.55, 1.65, 1.75, 1.85, 1.95, 2.05]:\n",
    "    print(f'round({x}, 1) → {round(x, 1)},   {x:.20f}')"
   ]
  },
  {
   "cell_type": "markdown",
   "metadata": {},
   "source": [
    "<br> \n",
    "<br> \n",
    "<hr>\n",
    "<h3>Decimals</h3>\n",
    "Decimal give more exact representation & comparison of decimal numbers,<br>\n",
    "though they are slower, take more memory and there're complications in work with them."
   ]
  },
  {
   "cell_type": "code",
   "execution_count": 25,
   "metadata": {},
   "outputs": [
    {
     "name": "stdout",
     "output_type": "stream",
     "text": [
      "10001000000.0000000000000000000000000\n",
      "execution_time: 9.87981049100199\n"
     ]
    }
   ],
   "source": [
    "from decimal import Decimal\n",
    "from time import perf_counter\n",
    "\n",
    "start = perf_counter()\n",
    "\n",
    "n = Decimal('100.01')\n",
    "accumulator = Decimal('0')\n",
    "for i in range(100_000_000):\n",
    "    accumulator += n\n",
    "\n",
    "end = perf_counter()\n",
    "print(format(accumulator, '.25f'))\n",
    "print('execution_time:', end-start)"
   ]
  },
  {
   "cell_type": "code",
   "execution_count": 26,
   "metadata": {
    "scrolled": true
   },
   "outputs": [
    {
     "name": "stdout",
     "output_type": "stream",
     "text": [
      "10001000000.0000000000000000000000000\n",
      "execution_time: 4.008846550001181\n"
     ]
    }
   ],
   "source": [
    "# acceleration of calculation using itertools.repeat\n",
    "from decimal import Decimal\n",
    "from time import perf_counter\n",
    "import itertools\n",
    "\n",
    "start = perf_counter()\n",
    "\n",
    "n = Decimal('100.01')\n",
    "l = itertools.repeat(n, 100_000_000)\n",
    "accumulator = sum(l)\n",
    "\n",
    "end = perf_counter()\n",
    "print(format(accumulator, '.25f'))\n",
    "print('execution_time:', end-start)"
   ]
  },
  {
   "cell_type": "code",
   "execution_count": 27,
   "metadata": {},
   "outputs": [
    {
     "name": "stdout",
     "output_type": "stream",
     "text": [
      "10001000000.0000000000000000000000000\n",
      "execution_time: 6.2321039870003005\n"
     ]
    }
   ],
   "source": [
    "# decimal with itertools.repeat\n",
    "from decimal import Decimal\n",
    "from time import perf_counter\n",
    "from operator import add\n",
    "import itertools\n",
    "from functools import reduce\n",
    "\n",
    "start = perf_counter()\n",
    "\n",
    "n = Decimal('100.01')\n",
    "l = itertools.repeat(n, 100_000_000)\n",
    "s = reduce(add, l)\n",
    "\n",
    "end = perf_counter()\n",
    "print(format(s, '.25f'))\n",
    "print('execution_time:', end-start)"
   ]
  },
  {
   "cell_type": "markdown",
   "metadata": {},
   "source": [
    "<br>\n",
    "Off-top for better understanding itertools.repeat.<br>\n",
    "From documentation (<a href=\"https://docs.python.org/3/library/itertools.html#itertools.repeat\">docs.python.org</a>):<br>\n",
    "<b>itertools.repeat(object[, times])</b> - Make an iterator that returns object over and over again. Runs indefinitely unless the times argument is specified.<br>"
   ]
  },
  {
   "cell_type": "code",
   "execution_count": 28,
   "metadata": {},
   "outputs": [
    {
     "name": "stdout",
     "output_type": "stream",
     "text": [
      "6\n",
      "6\n"
     ]
    }
   ],
   "source": [
    "# simple example of using itertools.repeat\n",
    "print(sum([2, 2, 2]))\n",
    "\n",
    "print(sum(itertools.repeat(2, 3)))"
   ]
  },
  {
   "cell_type": "markdown",
   "metadata": {},
   "source": [
    "<br>"
   ]
  },
  {
   "cell_type": "code",
   "execution_count": 29,
   "metadata": {},
   "outputs": [
    {
     "data": {
      "text/plain": [
       "True"
      ]
     },
     "execution_count": 29,
     "metadata": {},
     "output_type": "execute_result"
    }
   ],
   "source": [
    "# With decimal comparison is correct\n",
    "from decimal import Decimal\n",
    "\n",
    "a = Decimal('0.1') + Decimal('0.1') + Decimal('0.1')\n",
    "b = Decimal('0.3')\n",
    "a == b"
   ]
  },
  {
   "cell_type": "markdown",
   "metadata": {},
   "source": [
    "<br>\n",
    "<br>"
   ]
  },
  {
   "cell_type": "code",
   "execution_count": 30,
   "metadata": {},
   "outputs": [
    {
     "name": "stdout",
     "output_type": "stream",
     "text": [
      "1.771\n",
      "18.135\n"
     ]
    }
   ],
   "source": [
    "# Performance of decimal\n",
    "from decimal import Decimal\n",
    "from time import perf_counter\n",
    "\n",
    "def time_measure(f, n=1):\n",
    "    start = perf_counter()\n",
    "    f(n)\n",
    "    end = perf_counter()\n",
    "    print(format(end-start, '.3f'))\n",
    "    \n",
    "def run_float(n=1):\n",
    "    for i in range(n):\n",
    "        a = 3.1415\n",
    "\n",
    "def run_decimal(n=1):\n",
    "    for i in range(n):\n",
    "        a = Decimal('3.1415')\n",
    "\n",
    "        \n",
    "time_measure(run_float, 100_000_000)\n",
    "\n",
    "time_measure(run_decimal, 100_000_000)"
   ]
  },
  {
   "cell_type": "code",
   "execution_count": 31,
   "metadata": {},
   "outputs": [
    {
     "name": "stdout",
     "output_type": "stream",
     "text": [
      "24\n",
      "104\n"
     ]
    }
   ],
   "source": [
    "# Also see size of decimal\n",
    "from decimal import Decimal\n",
    "import sys\n",
    "\n",
    "x_float = 3.1415\n",
    "x_dec = Decimal('3.1415')\n",
    "\n",
    "print(sys.getsizeof(x_float))\n",
    "print(sys.getsizeof(x_dec))"
   ]
  },
  {
   "cell_type": "markdown",
   "metadata": {},
   "source": [
    "Decimals give exact pepresentation of decimal numbers, that allow to make exact calculations and comparisons.<br>\n",
    "But they have many minuses:<br>\n",
    "- Several times slower\n",
    "- Take several times more memory\n",
    "- Not all mathematical functions exist in decimal library (<i>we can use classical math-library, but in this case decimals are transformed to floats and thus we loss all advantages</i>)\n",
    "- Construction via strings and tuples\n",
    "- Caution with <b>//</b> and <b>&</b> over negative numbers - they behave differently than floats"
   ]
  },
  {
   "cell_type": "markdown",
   "metadata": {},
   "source": [
    "<br> \n",
    "<br> \n",
    "<hr>\n",
    "<h3>Complex numbers</h3>"
   ]
  },
  {
   "cell_type": "code",
   "execution_count": 32,
   "metadata": {},
   "outputs": [
    {
     "name": "stdout",
     "output_type": "stream",
     "text": [
      "True\n",
      "\n",
      "(1+2j) <class 'complex'>\n",
      "1.0 <class 'float'>\n",
      "2.0 <class 'float'>\n",
      "(1-2j) <class 'complex'>\n"
     ]
    }
   ],
   "source": [
    "a = complex(1, 2)\n",
    "b = 1 + 2j\n",
    "print(a == b)  # be careful, because this is comparison of floats, so here can be nuances\n",
    "print()\n",
    "\n",
    "print(a, type(a))\n",
    "print(a.real, type(a.real))\n",
    "print(a.imag, type(a.imag))\n",
    "print(a.conjugate(), type(a.conjugate()))"
   ]
  },
  {
   "cell_type": "code",
   "execution_count": 33,
   "metadata": {},
   "outputs": [
    {
     "name": "stdout",
     "output_type": "stream",
     "text": [
      "3.141592653589793 1.0\n",
      "-1.5707963267948966 1.0\n",
      "0.7853981633974483 1.4142135623730951\n"
     ]
    }
   ],
   "source": [
    "import cmath\n",
    "\n",
    "a = -1 + 0j\n",
    "print(cmath.phase(a), abs(a))\n",
    "\n",
    "b = -1j\n",
    "print(cmath.phase(b), abs(b))\n",
    " \n",
    "c = 1 + 1j\n",
    "print(cmath.phase(c), abs(c))"
   ]
  },
  {
   "cell_type": "code",
   "execution_count": 34,
   "metadata": {},
   "outputs": [
    {
     "data": {
      "text/plain": [
       "(1.0000000000000002+1j)"
      ]
     },
     "execution_count": 34,
     "metadata": {},
     "output_type": "execute_result"
    }
   ],
   "source": [
    "cmath.rect(math.sqrt(2), math.pi/4)"
   ]
  },
  {
   "cell_type": "markdown",
   "metadata": {},
   "source": [
    "<br>\n",
    "Euler's identity (Euler's equation): &nbsp; e<sup>i &pi;</sup> + 1 = 0 <br />"
   ]
  },
  {
   "cell_type": "code",
   "execution_count": 35,
   "metadata": {},
   "outputs": [
    {
     "name": "stdout",
     "output_type": "stream",
     "text": [
      "1.2246467991473532e-16j\n",
      "True\n"
     ]
    }
   ],
   "source": [
    "print(cmath.exp(1j * math.pi) + 1)   # alternative notation: print(cmath.exp(complex(0, math.pi)) + 1)\n",
    "\n",
    "print(cmath.isclose(cmath.exp(1j * math.pi) + 1, 0, abs_tol = 1e-10))"
   ]
  },
  {
   "cell_type": "code",
   "execution_count": 36,
   "metadata": {},
   "outputs": [
    {
     "name": "stdout",
     "output_type": "stream",
     "text": [
      "(4+6j)\n",
      "(-5+10j)\n"
     ]
    }
   ],
   "source": [
    "# Arithmetical actions with complex numbers\n",
    "print( (1+2j) + (3+4j) )\n",
    "print( (1+2j) * (3+4j) )"
   ]
  },
  {
   "cell_type": "markdown",
   "metadata": {},
   "source": [
    "<br> \n",
    "<br> \n",
    "<hr>\n",
    "<h3>Boolean</h3>"
   ]
  },
  {
   "cell_type": "code",
   "execution_count": 37,
   "metadata": {},
   "outputs": [
    {
     "name": "stdout",
     "output_type": "stream",
     "text": [
      "True\n",
      "True\n",
      "True\n"
     ]
    }
   ],
   "source": [
    "print( issubclass(bool, int) )\n",
    "print( isinstance(True, bool) )\n",
    "print( isinstance(True, int) )"
   ]
  },
  {
   "cell_type": "markdown",
   "metadata": {},
   "source": [
    "<br> \n",
    "<br> \n",
    "<hr>\n",
    "<h3>Short-Circuiting </h3>"
   ]
  },
  {
   "cell_type": "code",
   "execution_count": 38,
   "metadata": {},
   "outputs": [],
   "source": [
    "# Comparison of performance\n",
    "\n",
    "def traditional_if(ls, a, b, c):\n",
    "    if a in ls:\n",
    "        if b > c:\n",
    "            pass\n",
    "        \n",
    "def short_circuiting(ls, a, b, c):\n",
    "    if a in ls and b > c:\n",
    "        pass"
   ]
  },
  {
   "cell_type": "code",
   "execution_count": 39,
   "metadata": {},
   "outputs": [
    {
     "name": "stdout",
     "output_type": "stream",
     "text": [
      "109.95873114999995\n",
      "109.90547353100192\n"
     ]
    }
   ],
   "source": [
    "from timeit import timeit\n",
    "\n",
    "print( timeit(\"traditional_if([0,1], 0, 20, 10)\", globals=globals(), number=1_000_000_000) )\n",
    "# 107.977…\n",
    "\n",
    "print( timeit(\"short_circuiting([0,1], 0, 20, 10)\", globals=globals(), number=1_000_000_000) )\n",
    "# 108.217…"
   ]
  },
  {
   "cell_type": "markdown",
   "metadata": {},
   "source": [
    "<b>Conclusion</b>: In terms of performance there's no difference.\n",
    "<br>\n",
    "<br>\n",
    "<br>"
   ]
  },
  {
   "cell_type": "code",
   "execution_count": 40,
   "metadata": {},
   "outputs": [
    {
     "name": "stdout",
     "output_type": "stream",
     "text": [
      "Python\n",
      "None\n"
     ]
    }
   ],
   "source": [
    "a = 'Python'\n",
    "b = None\n",
    "\n",
    "print(a or None)\n",
    "print(b or None)"
   ]
  },
  {
   "cell_type": "markdown",
   "metadata": {},
   "source": [
    "<br>\n",
    "<b>X or Y</b>: &nbsp;  &nbsp;if X is truthy, returns X (<i>Y is not important</i>), otherwise returns Y (<i>in this case it all depends on Y</i>)<br />\n",
    "<b>X and Y</b>: if X is truthy, returns Y (<i>it all depends on Y</i>), otherwise returns X (<i>that is falsy</i>)<br />\n",
    "<b>X and Y</b>: if X is falsy,  &nbsp;returns X, otherwise returns Y<br />\n",
    "<br />\n",
    "( <i><b>!</b> So the expressions return <b>object</b>, not True/False, how in some other languages</i>)"
   ]
  },
  {
   "cell_type": "code",
   "execution_count": 41,
   "metadata": {},
   "outputs": [
    {
     "name": "stdout",
     "output_type": "stream",
     "text": [
      "n/a\n"
     ]
    }
   ],
   "source": [
    "s = None\n",
    "print( (s and s[0]) or 'n/a' )"
   ]
  },
  {
   "cell_type": "markdown",
   "metadata": {},
   "source": [
    "<br> \n",
    "<br> \n",
    "<hr>\n",
    "Helpful valiables in string module"
   ]
  },
  {
   "cell_type": "code",
   "execution_count": 42,
   "metadata": {},
   "outputs": [],
   "source": [
    "import string"
   ]
  },
  {
   "cell_type": "code",
   "execution_count": 43,
   "metadata": {
    "scrolled": false
   },
   "outputs": [
    {
     "name": "stdout",
     "output_type": "stream",
     "text": [
      "string.whitespace     :  \t\n",
      "\r",
      "\u000b",
      "\f",
      "\n",
      "string.ascii_lowercase: abcdefghijklmnopqrstuvwxyz\n",
      "string.ascii_uppercase: ABCDEFGHIJKLMNOPQRSTUVWXYZ\n",
      "string.ascii_letters  : abcdefghijklmnopqrstuvwxyzABCDEFGHIJKLMNOPQRSTUVWXYZ\n",
      "string.digits         : 0123456789\n",
      "string.hexdigits      : 0123456789abcdefABCDEF\n",
      "string.octdigits      : 01234567\n",
      "string.punctuation    : !\"#$%&'()*+,-./:;<=>?@[\\]^_`{|}~\n",
      "string.printable      : 0123456789abcdefghijklmnopqrstuvwxyzABCDEFGHIJKLMNOPQRSTUVWXYZ!\"#$%&'()*+,-./:;<=>?@[\\]^_`{|}~ \t\n",
      "\r",
      "\u000b",
      "\f",
      "\n"
     ]
    }
   ],
   "source": [
    "ls_methods = ['whitespace', 'ascii_lowercase', 'ascii_uppercase', 'ascii_letters',\n",
    "              'digits', 'hexdigits', 'octdigits', 'punctuation', 'printable']\n",
    "\n",
    "for st in ls_methods:\n",
    "    print(f\"string.{st:15}: {eval('string.'+st)}\")"
   ]
  },
  {
   "cell_type": "code",
   "execution_count": 44,
   "metadata": {
    "scrolled": false
   },
   "outputs": [
    {
     "name": "stdout",
     "output_type": "stream",
     "text": [
      "string.Formatter      : <class 'string.Formatter'>\n",
      "string.Template       : <class 'string.Template'>\n",
      "string.ascii_letters  : abcdefghijklmnopqrstuvwxyzABCDEFGHIJKLMNOPQRSTUVWXYZ\n",
      "string.ascii_lowercase: abcdefghijklmnopqrstuvwxyz\n",
      "string.ascii_uppercase: ABCDEFGHIJKLMNOPQRSTUVWXYZ\n",
      "string.capwords       : <function capwords at 0x7f46dd557950>\n",
      "string.digits         : 0123456789\n",
      "string.hexdigits      : 0123456789abcdefABCDEF\n",
      "string.octdigits      : 01234567\n",
      "string.printable      : 0123456789abcdefghijklmnopqrstuvwxyzABCDEFGHIJKLMNOPQRSTUVWXYZ!\"#$%&'()*+,-./:;<=>?@[\\]^_`{|}~ \t\n",
      "\r",
      "\u000b",
      "\f",
      "\n",
      "string.punctuation    : !\"#$%&'()*+,-./:;<=>?@[\\]^_`{|}~\n",
      "string.whitespace     :  \t\n",
      "\r",
      "\u000b",
      "\f",
      "\n"
     ]
    }
   ],
   "source": [
    "# more sophisticated way to output variables of module\n",
    "\n",
    "ls_methods = [item for item in dir(string) if not (item.startswith(\"__\") or item.startswith(\"_\"))]\n",
    "\n",
    "for st in ls_methods:\n",
    "    print(f\"string.{st:15}: {eval('string.'+st)}\")"
   ]
  }
 ],
 "metadata": {
  "kernelspec": {
   "display_name": "Python 3",
   "language": "python",
   "name": "python3"
  },
  "language_info": {
   "codemirror_mode": {
    "name": "ipython",
    "version": 3
   },
   "file_extension": ".py",
   "mimetype": "text/x-python",
   "name": "python",
   "nbconvert_exporter": "python",
   "pygments_lexer": "ipython3",
   "version": "3.7.3"
  }
 },
 "nbformat": 4,
 "nbformat_minor": 2
}
