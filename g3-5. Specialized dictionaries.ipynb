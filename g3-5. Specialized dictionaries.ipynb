{
 "cells": [
  {
   "cell_type": "markdown",
   "metadata": {},
   "source": [
    "## defaultdict"
   ]
  },
  {
   "cell_type": "markdown",
   "metadata": {},
   "source": [
    "The `defaultdict` is a specialized dictionary found in the `collections` module. (It is a subclass of the `dict` type)."
   ]
  },
  {
   "cell_type": "markdown",
   "metadata": {},
   "source": [
    "Approach with a traditional dictionary:"
   ]
  },
  {
   "cell_type": "code",
   "execution_count": 1,
   "metadata": {},
   "outputs": [
    {
     "name": "stdout",
     "output_type": "stream",
     "text": [
      "<class 'NoneType'>\n",
      "100\n"
     ]
    },
    {
     "data": {
      "text/plain": [
       "{}"
      ]
     },
     "execution_count": 1,
     "metadata": {},
     "output_type": "execute_result"
    }
   ],
   "source": [
    "d = {}\n",
    "\n",
    "# d['a']   # KeyError: 'a'\n",
    "\n",
    "result = d.get('a')\n",
    "print(type(result))\n",
    "\n",
    "result = d.get('a', 100)\n",
    "print(result)\n",
    "\n",
    "d # the dictionary itself doesn't change"
   ]
  },
  {
   "cell_type": "markdown",
   "metadata": {},
   "source": [
    "<br>\n",
    "\n",
    "Approach with a `defaultdict`:"
   ]
  },
  {
   "cell_type": "code",
   "execution_count": 2,
   "metadata": {},
   "outputs": [],
   "source": [
    "from collections import defaultdict"
   ]
  },
  {
   "cell_type": "code",
   "execution_count": 3,
   "metadata": {},
   "outputs": [
    {
     "name": "stdout",
     "output_type": "stream",
     "text": [
      "47\n"
     ]
    },
    {
     "data": {
      "text/plain": [
       "{'a': 47}"
      ]
     },
     "execution_count": 3,
     "metadata": {},
     "output_type": "execute_result"
    }
   ],
   "source": [
    "dd = defaultdict(lambda: 47)\n",
    "\n",
    "print(dd['a'])\n",
    "\n",
    "dict(dd)"
   ]
  },
  {
   "cell_type": "code",
   "execution_count": 4,
   "metadata": {},
   "outputs": [
    {
     "name": "stdout",
     "output_type": "stream",
     "text": [
      "True\n",
      "True\n"
     ]
    }
   ],
   "source": [
    "# Variable of type defaultdict is still a usually dictionary\n",
    "print(isinstance(dd, defaultdict))\n",
    "print(isinstance(dd, dict))"
   ]
  },
  {
   "cell_type": "markdown",
   "metadata": {},
   "source": [
    "<br>\n",
    "\n",
    "Very often we can see what looks like a type specified as the default factory - but in fact it is a corresponding function.<br>\n",
    "For example:"
   ]
  },
  {
   "cell_type": "code",
   "execution_count": 5,
   "metadata": {},
   "outputs": [
    {
     "data": {
      "text/plain": [
       "0"
      ]
     },
     "execution_count": 5,
     "metadata": {},
     "output_type": "execute_result"
    }
   ],
   "source": [
    "d = defaultdict(int)   # defaultdict(lambda: 0)\n",
    "d['a']"
   ]
  },
  {
   "cell_type": "code",
   "execution_count": 6,
   "metadata": {},
   "outputs": [
    {
     "data": {
      "text/plain": [
       "False"
      ]
     },
     "execution_count": 6,
     "metadata": {},
     "output_type": "execute_result"
    }
   ],
   "source": [
    "d = defaultdict(bool)  # defaultdict(lambda: False)\n",
    "d['a']"
   ]
  },
  {
   "cell_type": "code",
   "execution_count": 7,
   "metadata": {},
   "outputs": [
    {
     "data": {
      "text/plain": [
       "''"
      ]
     },
     "execution_count": 7,
     "metadata": {},
     "output_type": "execute_result"
    }
   ],
   "source": [
    "d = defaultdict(str)   # defaultdict(lambda: '')\n",
    "d['a']"
   ]
  },
  {
   "cell_type": "code",
   "execution_count": 8,
   "metadata": {},
   "outputs": [
    {
     "data": {
      "text/plain": [
       "[]"
      ]
     },
     "execution_count": 8,
     "metadata": {},
     "output_type": "execute_result"
    }
   ],
   "source": [
    "d = defaultdict(list)   # defaultdict(lambda: list())\n",
    "d['a']"
   ]
  },
  {
   "cell_type": "markdown",
   "metadata": {},
   "source": [
    "<br>\n",
    "\n",
    "Example.<br>\n",
    "We have a dictionary structure that has people's names as keys, and a dictionary for the value that contains the person's eye color. We want to create a dictionary of eye colors, with a list of the people's names that have that eye color (and 'unknown' as the key if the eye color was not specified)."
   ]
  },
  {
   "cell_type": "code",
   "execution_count": 9,
   "metadata": {},
   "outputs": [],
   "source": [
    "persons = {\n",
    "    'john': {'age': 20, 'eye_color': 'blue'},\n",
    "    'jack': {'age': 25, 'eye_color': 'brown'},\n",
    "    'jill': {'age': 22, 'eye_color': 'blue'},\n",
    "    'eric': {'age': 35},\n",
    "    'michael': {'age': 27}\n",
    "}"
   ]
  },
  {
   "cell_type": "code",
   "execution_count": 10,
   "metadata": {},
   "outputs": [
    {
     "data": {
      "text/plain": [
       "{'blue': ['john', 'jill'], 'brown': ['jack'], 'Unknown': ['eric', 'michael']}"
      ]
     },
     "execution_count": 10,
     "metadata": {},
     "output_type": "execute_result"
    }
   ],
   "source": [
    "eye_colors = defaultdict(list)\n",
    "\n",
    "for person, details in persons.items():\n",
    "    color = details.get('eye_color', 'Unknown')\n",
    "    eye_colors[color].append(person)\n",
    "    \n",
    "dict(eye_colors)"
   ]
  },
  {
   "cell_type": "markdown",
   "metadata": {},
   "source": [
    "<br>\n",
    "\n",
    "Alternative approach:"
   ]
  },
  {
   "cell_type": "code",
   "execution_count": 11,
   "metadata": {},
   "outputs": [],
   "source": [
    "from functools import partial"
   ]
  },
  {
   "cell_type": "code",
   "execution_count": 12,
   "metadata": {},
   "outputs": [],
   "source": [
    "eyedict = partial(defaultdict, lambda: 'unknown')"
   ]
  },
  {
   "cell_type": "code",
   "execution_count": 13,
   "metadata": {},
   "outputs": [],
   "source": [
    "persons = {\n",
    "    'john': eyedict(age=20, eye_color='blue'),\n",
    "    'jack': eyedict(age=20, eye_color='brown'),\n",
    "    'jill': eyedict(age=22, eye_color='blue'),\n",
    "    'eric': eyedict(age=35),\n",
    "    'michael': eyedict(age=27)\n",
    "}"
   ]
  },
  {
   "cell_type": "code",
   "execution_count": 14,
   "metadata": {},
   "outputs": [
    {
     "data": {
      "text/plain": [
       "{'blue': ['john', 'jill'], 'brown': ['jack'], 'unknown': ['eric', 'michael']}"
      ]
     },
     "execution_count": 14,
     "metadata": {},
     "output_type": "execute_result"
    }
   ],
   "source": [
    "eye_colors = defaultdict(list)\n",
    "\n",
    "for person, details in persons.items():\n",
    "    eye_colors[details['eye_color']].append(person)\n",
    "    \n",
    "dict(eye_colors)"
   ]
  },
  {
   "cell_type": "markdown",
   "metadata": {},
   "source": [
    "<br>\n",
    "\n",
    "<br>\n",
    "\n",
    "## defaultdict"
   ]
  },
  {
   "cell_type": "markdown",
   "metadata": {},
   "source": [
    "See notebook 'Standard data types/collections'."
   ]
  },
  {
   "cell_type": "markdown",
   "metadata": {},
   "source": [
    "<br>\n",
    "\n",
    "<br>\n",
    "\n",
    "## Counter"
   ]
  },
  {
   "cell_type": "code",
   "execution_count": 15,
   "metadata": {},
   "outputs": [],
   "source": [
    "from collections import Counter"
   ]
  },
  {
   "cell_type": "code",
   "execution_count": 16,
   "metadata": {},
   "outputs": [],
   "source": [
    "# sentence = 'the quick brown fox jumps over the lazy dog'\n",
    "sentence = 'anti-aging technologies'"
   ]
  },
  {
   "cell_type": "code",
   "execution_count": 17,
   "metadata": {
    "scrolled": false
   },
   "outputs": [
    {
     "data": {
      "text/plain": [
       "Counter({'a': 2,\n",
       "         'n': 3,\n",
       "         't': 2,\n",
       "         'i': 3,\n",
       "         '-': 1,\n",
       "         'g': 3,\n",
       "         ' ': 1,\n",
       "         'e': 2,\n",
       "         'c': 1,\n",
       "         'h': 1,\n",
       "         'o': 2,\n",
       "         'l': 1,\n",
       "         's': 1})"
      ]
     },
     "execution_count": 17,
     "metadata": {},
     "output_type": "execute_result"
    }
   ],
   "source": [
    "c1 = Counter()\n",
    "for c in sentence:\n",
    "    c1[c] += 1\n",
    "    \n",
    "c1"
   ]
  },
  {
   "cell_type": "code",
   "execution_count": 18,
   "metadata": {
    "scrolled": true
   },
   "outputs": [
    {
     "data": {
      "text/plain": [
       "Counter({'a': 2,\n",
       "         'n': 3,\n",
       "         't': 2,\n",
       "         'i': 3,\n",
       "         '-': 1,\n",
       "         'g': 3,\n",
       "         ' ': 1,\n",
       "         'e': 2,\n",
       "         'c': 1,\n",
       "         'h': 1,\n",
       "         'o': 2,\n",
       "         'l': 1,\n",
       "         's': 1})"
      ]
     },
     "execution_count": 18,
     "metadata": {},
     "output_type": "execute_result"
    }
   ],
   "source": [
    "# or, easier\n",
    "c1 = Counter(sentence)\n",
    "\n",
    "c1"
   ]
  },
  {
   "cell_type": "markdown",
   "metadata": {},
   "source": [
    "`Counter` has a slew of additional methods which make sense in the context of counters:\n",
    "\n",
    "1. Iterate through all the elements of counters, but repeat the elements as many times as their frequency\n",
    "2. Find the `n` most common (by frequency) elements\n",
    "3. Decrement the counters based on another `Counter` (or iterable)\n",
    "4. Increment the counters based on another `Counter` (or iterable)\n",
    "5. Specialized constructor for additional flexibility\n",
    "\n",
    "If you are familiar with multisets, then this is essentially a data structure that can be used for multisets."
   ]
  },
  {
   "cell_type": "code",
   "execution_count": 19,
   "metadata": {},
   "outputs": [],
   "source": [
    "import random"
   ]
  },
  {
   "cell_type": "code",
   "execution_count": 20,
   "metadata": {},
   "outputs": [
    {
     "data": {
      "text/plain": [
       "Counter({6: 95,\n",
       "         0: 97,\n",
       "         4: 91,\n",
       "         8: 76,\n",
       "         7: 94,\n",
       "         5: 89,\n",
       "         9: 85,\n",
       "         3: 80,\n",
       "         2: 88,\n",
       "         1: 107,\n",
       "         10: 98})"
      ]
     },
     "execution_count": 20,
     "metadata": {},
     "output_type": "execute_result"
    }
   ],
   "source": [
    "random.seed(0)\n",
    "\n",
    "my_list = [random.randint(0, 10) for _ in range(1_000)]\n",
    "\n",
    "c2 = Counter(my_list)\n",
    "c2"
   ]
  },
  {
   "cell_type": "markdown",
   "metadata": {},
   "source": [
    "We can also initialize a `Counter` object by passing in keyword arguments, or a dictionary:"
   ]
  },
  {
   "cell_type": "code",
   "execution_count": 21,
   "metadata": {},
   "outputs": [
    {
     "data": {
      "text/plain": [
       "Counter({'a': 1, 'b': 10})"
      ]
     },
     "execution_count": 21,
     "metadata": {},
     "output_type": "execute_result"
    }
   ],
   "source": [
    "c3 = Counter(a=1, b=10)\n",
    "c3"
   ]
  },
  {
   "cell_type": "code",
   "execution_count": 22,
   "metadata": {},
   "outputs": [
    {
     "data": {
      "text/plain": [
       "Counter({'a': 1, 'b': 10})"
      ]
     },
     "execution_count": 22,
     "metadata": {},
     "output_type": "execute_result"
    }
   ],
   "source": [
    "c3 = Counter({'a': 1, 'b': 10})\n",
    "c3"
   ]
  },
  {
   "cell_type": "markdown",
   "metadata": {},
   "source": [
    "<br>\n",
    "\n",
    "#### Finding the n most Common Elements"
   ]
  },
  {
   "cell_type": "code",
   "execution_count": 23,
   "metadata": {},
   "outputs": [],
   "source": [
    "import re"
   ]
  },
  {
   "cell_type": "code",
   "execution_count": 24,
   "metadata": {
    "scrolled": true
   },
   "outputs": [
    {
     "data": {
      "text/plain": [
       "['Life',\n",
       " 'extension',\n",
       " 'is',\n",
       " 'the',\n",
       " 'concept',\n",
       " 'of',\n",
       " 'extending',\n",
       " 'the',\n",
       " 'human',\n",
       " 'lifespan',\n",
       " 'either',\n",
       " 'modestly',\n",
       " 'through',\n",
       " 'improvements',\n",
       " 'in',\n",
       " 'medicine',\n",
       " 'or',\n",
       " 'dramatically',\n",
       " 'by',\n",
       " 'increasing',\n",
       " 'the',\n",
       " 'maximum',\n",
       " 'lifespan',\n",
       " 'beyond',\n",
       " 'its',\n",
       " 'generally',\n",
       " 'settled',\n",
       " 'limit',\n",
       " 'of',\n",
       " '125',\n",
       " 'years',\n",
       " 'Several',\n",
       " 'researchers',\n",
       " 'in',\n",
       " 'the',\n",
       " 'area',\n",
       " 'along',\n",
       " 'with',\n",
       " 'life',\n",
       " 'extensionists',\n",
       " 'immortalists',\n",
       " 'or',\n",
       " 'longevists',\n",
       " 'those',\n",
       " 'who',\n",
       " 'wish',\n",
       " 'to',\n",
       " 'achieve',\n",
       " 'longer',\n",
       " 'lives',\n",
       " 'themselves',\n",
       " 'postulate',\n",
       " 'that',\n",
       " 'future',\n",
       " 'breakthroughs',\n",
       " 'in',\n",
       " 'tissue',\n",
       " 'rejuvenation',\n",
       " 'stem',\n",
       " 'cells',\n",
       " 'regenerative',\n",
       " 'medicine',\n",
       " 'molecular',\n",
       " 'repair',\n",
       " 'gene',\n",
       " 'therapy',\n",
       " 'pharmaceuticals',\n",
       " 'and',\n",
       " 'organ',\n",
       " 'replacement',\n",
       " 'such',\n",
       " 'as',\n",
       " 'with',\n",
       " 'artificial',\n",
       " 'organs',\n",
       " 'or',\n",
       " 'xenotransplantations',\n",
       " 'will',\n",
       " 'eventually',\n",
       " 'enable',\n",
       " 'humans',\n",
       " 'to',\n",
       " 'have',\n",
       " 'indefinite',\n",
       " 'lifespans',\n",
       " 'through',\n",
       " 'complete',\n",
       " 'rejuvenation',\n",
       " 'to',\n",
       " 'a',\n",
       " 'healthy',\n",
       " 'youthful',\n",
       " 'condition',\n",
       " '']"
      ]
     },
     "execution_count": 24,
     "metadata": {},
     "output_type": "execute_result"
    }
   ],
   "source": [
    "sentence = \"Life extension is the concept of extending the human lifespan, either modestly through improvements in medicine or dramatically by increasing the maximum lifespan beyond its generally-settled limit of 125 years. Several researchers in the area, along with 'life extensionists', 'immortalists' or 'longevists' (those who wish to achieve longer lives themselves), postulate that future breakthroughs in tissue rejuvenation, stem cells, regenerative medicine, molecular repair, gene therapy, pharmaceuticals and organ replacement (such as with artificial organs or xenotransplantations) will eventually enable humans to have indefinite lifespans through complete rejuvenation to a healthy youthful condition.\"\n",
    "\n",
    "words = re.split('\\W+', sentence)\n",
    "\n",
    "words"
   ]
  },
  {
   "cell_type": "code",
   "execution_count": 25,
   "metadata": {
    "scrolled": true
   },
   "outputs": [
    {
     "data": {
      "text/plain": [
       "Counter({'life': 2,\n",
       "         'extension': 1,\n",
       "         'is': 1,\n",
       "         'the': 4,\n",
       "         'concept': 1,\n",
       "         'of': 2,\n",
       "         'extending': 1,\n",
       "         'human': 1,\n",
       "         'lifespan': 2,\n",
       "         'either': 1,\n",
       "         'modestly': 1,\n",
       "         'through': 2,\n",
       "         'improvements': 1,\n",
       "         'in': 3,\n",
       "         'medicine': 2,\n",
       "         'or': 3,\n",
       "         'dramatically': 1,\n",
       "         'by': 1,\n",
       "         'increasing': 1,\n",
       "         'maximum': 1,\n",
       "         'beyond': 1,\n",
       "         'its': 1,\n",
       "         'generally': 1,\n",
       "         'settled': 1,\n",
       "         'limit': 1,\n",
       "         '125': 1,\n",
       "         'years': 1,\n",
       "         'several': 1,\n",
       "         'researchers': 1,\n",
       "         'area': 1,\n",
       "         'along': 1,\n",
       "         'with': 2,\n",
       "         'extensionists': 1,\n",
       "         'immortalists': 1,\n",
       "         'longevists': 1,\n",
       "         'those': 1,\n",
       "         'who': 1,\n",
       "         'wish': 1,\n",
       "         'to': 3,\n",
       "         'achieve': 1,\n",
       "         'longer': 1,\n",
       "         'lives': 1,\n",
       "         'themselves': 1,\n",
       "         'postulate': 1,\n",
       "         'that': 1,\n",
       "         'future': 1,\n",
       "         'breakthroughs': 1,\n",
       "         'tissue': 1,\n",
       "         'rejuvenation': 2,\n",
       "         'stem': 1,\n",
       "         'cells': 1,\n",
       "         'regenerative': 1,\n",
       "         'molecular': 1,\n",
       "         'repair': 1,\n",
       "         'gene': 1,\n",
       "         'therapy': 1,\n",
       "         'pharmaceuticals': 1,\n",
       "         'and': 1,\n",
       "         'organ': 1,\n",
       "         'replacement': 1,\n",
       "         'such': 1,\n",
       "         'as': 1,\n",
       "         'artificial': 1,\n",
       "         'organs': 1,\n",
       "         'xenotransplantations': 1,\n",
       "         'will': 1,\n",
       "         'eventually': 1,\n",
       "         'enable': 1,\n",
       "         'humans': 1,\n",
       "         'have': 1,\n",
       "         'indefinite': 1,\n",
       "         'lifespans': 1,\n",
       "         'complete': 1,\n",
       "         'a': 1,\n",
       "         'healthy': 1,\n",
       "         'youthful': 1,\n",
       "         'condition': 1,\n",
       "         '': 1})"
      ]
     },
     "execution_count": 25,
     "metadata": {},
     "output_type": "execute_result"
    }
   ],
   "source": [
    "word_count = Counter(map(str.lower, words))\n",
    "\n",
    "word_count"
   ]
  },
  {
   "cell_type": "code",
   "execution_count": 26,
   "metadata": {},
   "outputs": [
    {
     "data": {
      "text/plain": [
       "[('the', 4),\n",
       " ('in', 3),\n",
       " ('or', 3),\n",
       " ('to', 3),\n",
       " ('life', 2),\n",
       " ('of', 2),\n",
       " ('lifespan', 2),\n",
       " ('through', 2),\n",
       " ('medicine', 2),\n",
       " ('with', 2)]"
      ]
     },
     "execution_count": 26,
     "metadata": {},
     "output_type": "execute_result"
    }
   ],
   "source": [
    "word_count.most_common(10)"
   ]
  },
  {
   "cell_type": "markdown",
   "metadata": {},
   "source": [
    "<br>\n",
    "\n",
    "#### Using Repeated Iteration"
   ]
  },
  {
   "cell_type": "code",
   "execution_count": 27,
   "metadata": {},
   "outputs": [
    {
     "data": {
      "text/plain": [
       "Counter({'a': 2, 'b': 2})"
      ]
     },
     "execution_count": 27,
     "metadata": {},
     "output_type": "execute_result"
    }
   ],
   "source": [
    "c1 = Counter('abba')\n",
    "c1"
   ]
  },
  {
   "cell_type": "code",
   "execution_count": 28,
   "metadata": {},
   "outputs": [
    {
     "name": "stdout",
     "output_type": "stream",
     "text": [
      "a\n",
      "b\n"
     ]
    }
   ],
   "source": [
    "for c in c1:\n",
    "    print(c)"
   ]
  },
  {
   "cell_type": "markdown",
   "metadata": {},
   "source": [
    "However, we can have an iteration that repeats the counter keys as many times as the indicated frequency:"
   ]
  },
  {
   "cell_type": "code",
   "execution_count": 29,
   "metadata": {},
   "outputs": [
    {
     "name": "stdout",
     "output_type": "stream",
     "text": [
      "a\n",
      "a\n",
      "b\n",
      "b\n"
     ]
    }
   ],
   "source": [
    "for c in c1.elements():\n",
    "    print(c)"
   ]
  },
  {
   "cell_type": "markdown",
   "metadata": {},
   "source": [
    "<br>\n",
    "\n",
    "#### Updating from another Iterable or Counter"
   ]
  },
  {
   "cell_type": "code",
   "execution_count": 30,
   "metadata": {},
   "outputs": [
    {
     "name": "stdout",
     "output_type": "stream",
     "text": [
      "Counter({'c': 5, 'b': 3, 'd': 3, 'a': 1})\n"
     ]
    }
   ],
   "source": [
    "c1 = Counter(a=1, b=2, c=3)\n",
    "c2 = Counter(b=1, c=2, d=3)\n",
    "\n",
    "c1.update(c2)\n",
    "print(c1)"
   ]
  },
  {
   "cell_type": "code",
   "execution_count": 31,
   "metadata": {},
   "outputs": [
    {
     "name": "stdout",
     "output_type": "stream",
     "text": [
      "Counter({'a': 1, 'b': 1, 'c': 1, 'd': -3})\n"
     ]
    }
   ],
   "source": [
    "# Instead of adding counters we can substract them\n",
    "c1 = Counter(a=1, b=2, c=3)\n",
    "c2 = Counter(b=1, c=2, d=3)\n",
    "\n",
    "c1.subtract(c2)\n",
    "print(c1)"
   ]
  },
  {
   "cell_type": "markdown",
   "metadata": {},
   "source": [
    "Notice the key `d` - since `Counters` default missing keys to `0`, when `d: 3` in `c2` was subtracted from `c1`, the counter for `d` was defaulted to `0`."
   ]
  },
  {
   "cell_type": "code",
   "execution_count": 32,
   "metadata": {},
   "outputs": [
    {
     "name": "stdout",
     "output_type": "stream",
     "text": [
      "Counter({'a': 2, 'b': 2, 'c': 2, 'd': 2, 'e': 2})\n",
      "Counter({'a': 3, 'b': 3, 'c': 3, 'd': 3, 'e': 3, 'f': 1})\n"
     ]
    }
   ],
   "source": [
    "# We can also use other types of arguments\n",
    "c1 = Counter('aabbccddee')\n",
    "print(c1)\n",
    "c1.update('abcdef')\n",
    "print(c1)"
   ]
  },
  {
   "cell_type": "markdown",
   "metadata": {},
   "source": [
    "<br>\n",
    "\n",
    "#### Mathematical Operations"
   ]
  },
  {
   "cell_type": "markdown",
   "metadata": {},
   "source": [
    "* `+`: same as `update`, but returns a new `Counter` object instead of an in-place update.\n",
    "* `-`: subtracts one counter from another, but discards zero and negative values\n",
    "* `&`: keeps the **minimum** of the key values\n",
    "* `|`: keeps the **maximum** of the key values"
   ]
  },
  {
   "cell_type": "code",
   "execution_count": 33,
   "metadata": {},
   "outputs": [
    {
     "data": {
      "text/plain": [
       "Counter({'a': 3, 'b': 4, 'c': 5})"
      ]
     },
     "execution_count": 33,
     "metadata": {},
     "output_type": "execute_result"
    }
   ],
   "source": [
    "c1 = Counter(a=2, b=2, c=2)\n",
    "c2 = Counter(a=1, b=2, c=3)\n",
    "c1 + c2"
   ]
  },
  {
   "cell_type": "code",
   "execution_count": 34,
   "metadata": {},
   "outputs": [
    {
     "data": {
      "text/plain": [
       "Counter({'a': 1})"
      ]
     },
     "execution_count": 34,
     "metadata": {},
     "output_type": "execute_result"
    }
   ],
   "source": [
    "c1 - c2"
   ]
  },
  {
   "cell_type": "code",
   "execution_count": 35,
   "metadata": {},
   "outputs": [
    {
     "data": {
      "text/plain": [
       "Counter({'a': 1, 'b': 1})"
      ]
     },
     "execution_count": 35,
     "metadata": {},
     "output_type": "execute_result"
    }
   ],
   "source": [
    "c1 = Counter(a=5, b=1)\n",
    "c2 = Counter(a=1, b=10)\n",
    "\n",
    "c1 & c2"
   ]
  },
  {
   "cell_type": "code",
   "execution_count": 36,
   "metadata": {},
   "outputs": [
    {
     "data": {
      "text/plain": [
       "Counter({'a': 5, 'b': 10})"
      ]
     },
     "execution_count": 36,
     "metadata": {},
     "output_type": "execute_result"
    }
   ],
   "source": [
    "c1 | c2"
   ]
  },
  {
   "cell_type": "markdown",
   "metadata": {},
   "source": [
    "The **unary** `+` can also be used to remove any non-positive count from the Counter:"
   ]
  },
  {
   "cell_type": "code",
   "execution_count": 37,
   "metadata": {},
   "outputs": [
    {
     "data": {
      "text/plain": [
       "Counter({'a': 10})"
      ]
     },
     "execution_count": 37,
     "metadata": {},
     "output_type": "execute_result"
    }
   ],
   "source": [
    "c1 = Counter(a=10, b=0, c=-10)\n",
    "+c1"
   ]
  },
  {
   "cell_type": "markdown",
   "metadata": {},
   "source": [
    "The **unary** `-` changes the sign of each counter, and removes any non-positive result:"
   ]
  },
  {
   "cell_type": "code",
   "execution_count": 38,
   "metadata": {},
   "outputs": [
    {
     "data": {
      "text/plain": [
       "Counter({'c': 10})"
      ]
     },
     "execution_count": 38,
     "metadata": {},
     "output_type": "execute_result"
    }
   ],
   "source": [
    "-c1"
   ]
  },
  {
   "cell_type": "markdown",
   "metadata": {},
   "source": [
    "<br>\n",
    "\n",
    "<br>\n",
    "\n",
    "## ChainMap"
   ]
  },
  {
   "cell_type": "code",
   "execution_count": 39,
   "metadata": {},
   "outputs": [],
   "source": [
    "from collections import ChainMap"
   ]
  },
  {
   "cell_type": "markdown",
   "metadata": {},
   "source": [
    "Remember the `chain` function in the `itertools` module? That allowed us to chain multiple iterables together to look like a single iterable.\n",
    "\n",
    "The `ChainMap` in the `collections` module is somewhat similar - it allows to chain multiple dictionaries (<i>mapping types more generally</i>) so it looks like a single mapping type.\n",
    "But there are some wrinkles.\n",
    "\n",
    "Let's look at some simple examples where we do not have key collisions first:"
   ]
  },
  {
   "cell_type": "code",
   "execution_count": 40,
   "metadata": {},
   "outputs": [
    {
     "name": "stdout",
     "output_type": "stream",
     "text": [
      "ChainMap({'a': 1, 'b': 2}, {'c': 3, 'd': 4}, {'e': 5, 'f': 6})\n"
     ]
    }
   ],
   "source": [
    "d1 = {'a': 1, 'b': 2}\n",
    "d2 = {'c': 3, 'd': 4}\n",
    "d3 = {'e': 5, 'f': 6}\n",
    "\n",
    "d = ChainMap(d1, d2, d3)\n",
    "\n",
    "print(d)"
   ]
  },
  {
   "cell_type": "code",
   "execution_count": 41,
   "metadata": {},
   "outputs": [
    {
     "name": "stdout",
     "output_type": "stream",
     "text": [
      "False\n",
      "<class 'collections.ChainMap'>\n"
     ]
    }
   ],
   "source": [
    "print(isinstance(d, dict))\n",
    "print(type(d))"
   ]
  },
  {
   "cell_type": "markdown",
   "metadata": {},
   "source": [
    "The result is not a dictionary, but a mapping type that we can use almost like a dictionary."
   ]
  },
  {
   "cell_type": "code",
   "execution_count": 42,
   "metadata": {},
   "outputs": [
    {
     "name": "stdout",
     "output_type": "stream",
     "text": [
      "e 5\n",
      "f 6\n",
      "c 3\n",
      "d 4\n",
      "a 1\n",
      "b 2\n"
     ]
    }
   ],
   "source": [
    "for k, v in d.items():\n",
    "    print(k, v)"
   ]
  },
  {
   "cell_type": "markdown",
   "metadata": {},
   "source": [
    "**Note** that the iteration order here, unlike a regular Python dictionary, is **not** guaranteed!"
   ]
  },
  {
   "cell_type": "markdown",
   "metadata": {},
   "source": [
    "<br>\n",
    "CAUTION.<br>\n",
    "What happens if we have key collision?"
   ]
  },
  {
   "cell_type": "code",
   "execution_count": 43,
   "metadata": {},
   "outputs": [
    {
     "data": {
      "text/plain": [
       "2"
      ]
     },
     "execution_count": 43,
     "metadata": {},
     "output_type": "execute_result"
    }
   ],
   "source": [
    "d1 = {'a': 1, 'b': 2}\n",
    "d2 = {'b': 20, 'c': 3}    # 'b' in two dictionaries\n",
    "\n",
    "d = ChainMap(d1, d2)\n",
    "\n",
    "d['b']"
   ]
  },
  {
   "cell_type": "markdown",
   "metadata": {},
   "source": [
    "As we can see, the value returned corresponds to the the value of the first key found in the chain."
   ]
  },
  {
   "cell_type": "code",
   "execution_count": 44,
   "metadata": {},
   "outputs": [
    {
     "name": "stdout",
     "output_type": "stream",
     "text": [
      "b 2\n",
      "c 3\n",
      "a 1\n"
     ]
    }
   ],
   "source": [
    "for k, v in d.items():\n",
    "    print(k, v)"
   ]
  },
  {
   "cell_type": "markdown",
   "metadata": {},
   "source": [
    "<br>\n",
    "\n",
    "Now let's look at how ChainMap objects handle inserts, deletes and updates."
   ]
  },
  {
   "cell_type": "code",
   "execution_count": 45,
   "metadata": {},
   "outputs": [
    {
     "name": "stdout",
     "output_type": "stream",
     "text": [
      "ChainMap({'a': 1, 'b': 2, 'z': 100}, {'c': 3, 'd': 4})\n",
      "{'a': 1, 'b': 2, 'z': 100}\n",
      "{'c': 3, 'd': 4}\n"
     ]
    }
   ],
   "source": [
    "d1 = {'a': 1, 'b': 2}\n",
    "d2 = {'c': 3, 'd': 4}\n",
    "\n",
    "d = ChainMap(d1, d2)\n",
    "\n",
    "d['z'] = 100\n",
    "\n",
    "print(d)\n",
    "print(d1)\n",
    "print(d2)"
   ]
  },
  {
   "cell_type": "markdown",
   "metadata": {},
   "source": [
    "As we can see, the new element was added to the chain map and in the **first** uderlying dictionary."
   ]
  },
  {
   "cell_type": "markdown",
   "metadata": {},
   "source": [
    "Let's try to update `c`, which is in the second dictionary:"
   ]
  },
  {
   "cell_type": "code",
   "execution_count": 46,
   "metadata": {},
   "outputs": [
    {
     "name": "stdout",
     "output_type": "stream",
     "text": [
      "ChainMap({'a': 1, 'b': 2, 'z': 100, 'c': 300}, {'c': 3, 'd': 4})\n",
      "{'a': 1, 'b': 2, 'z': 100, 'c': 300}\n",
      "{'c': 3, 'd': 4}\n"
     ]
    }
   ],
   "source": [
    "d['c'] = 300\n",
    "\n",
    "print(d)\n",
    "print(d1)\n",
    "print(d2)"
   ]
  },
  {
   "cell_type": "markdown",
   "metadata": {},
   "source": [
    "Deletion of item:"
   ]
  },
  {
   "cell_type": "code",
   "execution_count": 47,
   "metadata": {},
   "outputs": [
    {
     "name": "stdout",
     "output_type": "stream",
     "text": [
      "ChainMap({'a': 1, 'b': 2, 'z': 100}, {'c': 3, 'd': 4})\n",
      "{'a': 1, 'b': 2, 'z': 100}\n",
      "{'c': 3, 'd': 4}\n"
     ]
    }
   ],
   "source": [
    "del d['c']\n",
    "\n",
    "print(d)\n",
    "print(d1)\n",
    "print(d2)"
   ]
  },
  {
   "cell_type": "code",
   "execution_count": 48,
   "metadata": {},
   "outputs": [
    {
     "data": {
      "text/plain": [
       "2"
      ]
     },
     "execution_count": 48,
     "metadata": {},
     "output_type": "execute_result"
    }
   ],
   "source": [
    "d[c]  # now we use the instance of key 'c' in the second underlying dictionary"
   ]
  },
  {
   "cell_type": "code",
   "execution_count": 49,
   "metadata": {
    "scrolled": true
   },
   "outputs": [],
   "source": [
    "# del d['c']  # KeyError: \"Key not found in the first mapping: 'c'\""
   ]
  },
  {
   "cell_type": "markdown",
   "metadata": {},
   "source": [
    "We can't delete a key from the second underlying dictionary."
   ]
  },
  {
   "cell_type": "markdown",
   "metadata": {},
   "source": [
    "A `ChainMap` is built as a view on top of a sequence of mappings, and those maps are incorporated **by reference**.\n",
    "This means that if an underlying map is mutated, then the `ChainMap` instance will **see** the change:"
   ]
  },
  {
   "cell_type": "code",
   "execution_count": 50,
   "metadata": {},
   "outputs": [
    {
     "name": "stdout",
     "output_type": "stream",
     "text": [
      "ChainMap({'a': 100, 'b': 2}, {'c': 3, 'd': 4})\n"
     ]
    }
   ],
   "source": [
    "d1 = {'a': 1, 'b': 2}\n",
    "d2 = {'c': 3, 'd': 4}\n",
    "d = ChainMap(d1, d2)\n",
    "\n",
    "d1['a'] = 100\n",
    "\n",
    "print(d)"
   ]
  },
  {
   "cell_type": "markdown",
   "metadata": {},
   "source": [
    "A `ChainMap` also has other commands, and there're different tricks in work with it."
   ]
  },
  {
   "cell_type": "markdown",
   "metadata": {},
   "source": [
    "##### Example"
   ]
  },
  {
   "cell_type": "markdown",
   "metadata": {},
   "source": [
    "A typical application of a chain map is to create a mutable version of merged dictionaries that does not mutate the underlying dictionaries.\n",
    "\n",
    "Remember that mutating elements of a chain map mutates the elements only in the first map.\n",
    "\n",
    "Let's say we have a dictionary with some settings and we want to temporarily modify these settings, but without modifying the original dictionary.\n",
    "\n",
    "We could certainly copy the dictionary and work with the copy, discarding the copy when we no longer need it - but this incurs some overhead copying all the data.\n",
    "\n",
    "Instead we can use a chain map, by making the first dictionary in the chain a new empty dictionary - any updates we make will be made to that dictionary only, thereby preserving the other dictionaries."
   ]
  },
  {
   "cell_type": "code",
   "execution_count": 51,
   "metadata": {},
   "outputs": [],
   "source": [
    "config = {\n",
    "    'host': 'prod.deepdive.com',\n",
    "    'port': 5432,\n",
    "    'database': 'deepdive',\n",
    "    'user_id': 'my_user',\n",
    "    'user_pwd': 'my_pwd'\n",
    "}"
   ]
  },
  {
   "cell_type": "code",
   "execution_count": 52,
   "metadata": {},
   "outputs": [],
   "source": [
    "local_config = ChainMap({}, config)"
   ]
  },
  {
   "cell_type": "code",
   "execution_count": 53,
   "metadata": {},
   "outputs": [
    {
     "data": {
      "text/plain": [
       "[('host', 'prod.deepdive.com'),\n",
       " ('port', 5432),\n",
       " ('database', 'deepdive'),\n",
       " ('user_id', 'my_user'),\n",
       " ('user_pwd', 'my_pwd')]"
      ]
     },
     "execution_count": 53,
     "metadata": {},
     "output_type": "execute_result"
    }
   ],
   "source": [
    "list(local_config.items())"
   ]
  },
  {
   "cell_type": "markdown",
   "metadata": {},
   "source": [
    "And we can make changes to `local_config`:"
   ]
  },
  {
   "cell_type": "code",
   "execution_count": 54,
   "metadata": {},
   "outputs": [
    {
     "data": {
      "text/plain": [
       "[('host', 'prod.deepdive.com'),\n",
       " ('port', 5432),\n",
       " ('database', 'deepdive'),\n",
       " ('user_id', 'test_user'),\n",
       " ('user_pwd', 'test_pwd')]"
      ]
     },
     "execution_count": 54,
     "metadata": {},
     "output_type": "execute_result"
    }
   ],
   "source": [
    "local_config['user_id'] = 'test_user'\n",
    "local_config['user_pwd'] = 'test_pwd'\n",
    "\n",
    "list(local_config.items())"
   ]
  },
  {
   "cell_type": "markdown",
   "metadata": {},
   "source": [
    "But notice that our original dictionary is unaffected:"
   ]
  },
  {
   "cell_type": "code",
   "execution_count": 55,
   "metadata": {},
   "outputs": [
    {
     "data": {
      "text/plain": [
       "[('host', 'prod.deepdive.com'),\n",
       " ('port', 5432),\n",
       " ('database', 'deepdive'),\n",
       " ('user_id', 'my_user'),\n",
       " ('user_pwd', 'my_pwd')]"
      ]
     },
     "execution_count": 55,
     "metadata": {},
     "output_type": "execute_result"
    }
   ],
   "source": [
    "list(config.items())"
   ]
  },
  {
   "cell_type": "markdown",
   "metadata": {},
   "source": [
    "That's because the changes we made were reflected in the **first** dictionary in the chain, that earlier was empty:"
   ]
  },
  {
   "cell_type": "code",
   "execution_count": 56,
   "metadata": {},
   "outputs": [
    {
     "data": {
      "text/plain": [
       "[{'user_id': 'test_user', 'user_pwd': 'test_pwd'},\n",
       " {'host': 'prod.deepdive.com',\n",
       "  'port': 5432,\n",
       "  'database': 'deepdive',\n",
       "  'user_id': 'my_user',\n",
       "  'user_pwd': 'my_pwd'}]"
      ]
     },
     "execution_count": 56,
     "metadata": {},
     "output_type": "execute_result"
    }
   ],
   "source": [
    "local_config.maps"
   ]
  },
  {
   "cell_type": "code",
   "execution_count": null,
   "metadata": {},
   "outputs": [],
   "source": []
  }
 ],
 "metadata": {
  "kernelspec": {
   "display_name": "Python 3",
   "language": "python",
   "name": "python3"
  },
  "language_info": {
   "codemirror_mode": {
    "name": "ipython",
    "version": 3
   },
   "file_extension": ".py",
   "mimetype": "text/x-python",
   "name": "python",
   "nbconvert_exporter": "python",
   "pygments_lexer": "ipython3",
   "version": "3.8.5"
  }
 },
 "nbformat": 4,
 "nbformat_minor": 4
}
