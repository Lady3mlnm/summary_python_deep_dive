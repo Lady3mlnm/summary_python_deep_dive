{
 "cells": [
  {
   "cell_type": "markdown",
   "metadata": {},
   "source": [
    "Some experiments to determine the performance of different constructions in Python from the course \"<a target=\"_blank\" href=\"https://www.udemy.com/course/python-3-deep-dive-part-1/\">Python 3: Deep Drive (part 1 - Functional)</a>\"\n",
    "<br>\n",
    "<br>"
   ]
  },
  {
   "cell_type": "code",
   "execution_count": 2,
   "metadata": {},
   "outputs": [],
   "source": [
    "from timeit import timeit\n",
    "from time import perf_counter"
   ]
  },
  {
   "cell_type": "markdown",
   "metadata": {},
   "source": [
    "<br>\n",
    "<h4>Comparison methods to append list</h4>\n",
    "\n",
    "(Q&A for <a target=\"_blank\" href=\"https://www.udemy.com/course/python-3-deep-dive-part-1/learn/lecture/7740702#questions/4090730\">lecture 20</a>)"
   ]
  },
  {
   "cell_type": "code",
   "execution_count": 19,
   "metadata": {},
   "outputs": [
    {
     "name": "stdout",
     "output_type": "stream",
     "text": [
      "4.57979374200022\n",
      "4.861637532000714\n",
      "168.47923300099956\n"
     ]
    }
   ],
   "source": [
    "def f_append():\n",
    "    lst = []\n",
    "    for i in range(100_000):\n",
    "        lst.append(0)\n",
    "\n",
    "def f_plusassignment():\n",
    "    lst = []\n",
    "    for i in range(100_000):\n",
    "        lst += [0]\n",
    "\n",
    "def f_separate_operations():\n",
    "    lst = []\n",
    "    for i in range(100_000):\n",
    "        lst = lst + [0]\n",
    "        \n",
    "print(timeit(\"f_append()\", globals=globals(), number=1000))             #   4.367\n",
    "\n",
    "print(timeit(\"f_plusassignment()\", globals=globals(), number=1000))     #   4.784\n",
    "\n",
    "print(timeit(\"f_separate_operations()\", globals=globals(), number=10))  # 166.941\n",
    "\n",
    "# Pay attention that 'number'-s above are different"
   ]
  },
  {
   "cell_type": "markdown",
   "metadata": {},
   "source": [
    "<b>Conclusion</b>:<br>\n",
    "<code>lst.append(<new_value>)</code> is a little faster than <code>lst += [<new_value>]</code>.<br>\n",
    "<code>lst = lst + [<new_value>]</code> is very slow.\n",
    "<br>\n",
    "<br>\n",
    "<br>\n",
    "<br>"
   ]
  },
  {
   "cell_type": "markdown",
   "metadata": {},
   "source": [
    "<h4>Comparison methods to create a dictionary</h4>\n",
    "\n",
    "(Q&A for <a target=\"_blank\" href=\"https://www.udemy.com/course/python-3-deep-dive-part-1/learn/lecture/7740702#questions/6273628\">lecture 20</a>)"
   ]
  },
  {
   "cell_type": "code",
   "execution_count": 22,
   "metadata": {},
   "outputs": [
    {
     "name": "stdout",
     "output_type": "stream",
     "text": [
      "9.835534401001496\n",
      "23.475560528000642\n"
     ]
    }
   ],
   "source": [
    "print(timeit(\"dd = {'a': 10, 'b': 20, 'c': 30, 'd': 40, 'e': 50}\", globals=globals(), number=100_000_000))\n",
    "\n",
    "print(timeit(\"dd = dict(a=10, b=20, c=30, d=40, e=50)\", globals=globals(), number=100_000_000))"
   ]
  },
  {
   "cell_type": "markdown",
   "metadata": {},
   "source": [
    "<b>Conclusion</b>:<br>\n",
    "Classical way of dictionary creation is faster, than alternative way.\n",
    "<br>\n",
    "<br>\n",
    "<br>\n",
    "<br>"
   ]
  },
  {
   "cell_type": "markdown",
   "metadata": {},
   "source": [
    "<h4>Performance of decimal</h4>\n",
    "\n",
    "(from <a target=\"_blank\" href=\"https://www.udemy.com/course/python-3-deep-dive-part-1/learn/lecture/7649326/\">lecture 49</a>)"
   ]
  },
  {
   "cell_type": "code",
   "execution_count": 24,
   "metadata": {},
   "outputs": [
    {
     "name": "stdout",
     "output_type": "stream",
     "text": [
      "1.670\n",
      "15.991\n"
     ]
    }
   ],
   "source": [
    "from decimal import Decimal\n",
    "\n",
    "def time_measure(f, n=1):\n",
    "    start = perf_counter()\n",
    "    f(n)\n",
    "    end = perf_counter()\n",
    "    print(format(end-start, '.3f'))\n",
    "    \n",
    "def run_float(n=1):\n",
    "    for i in range(n):\n",
    "        a = 3.1415\n",
    "\n",
    "def run_decimal(n=1):\n",
    "    for i in range(n):\n",
    "        a = Decimal('3.1415')\n",
    "\n",
    "        \n",
    "time_measure(run_float, 100_000_000)\n",
    "\n",
    "time_measure(run_decimal, 100_000_000)"
   ]
  },
  {
   "cell_type": "code",
   "execution_count": 25,
   "metadata": {},
   "outputs": [
    {
     "name": "stdout",
     "output_type": "stream",
     "text": [
      "24\n",
      "104\n"
     ]
    }
   ],
   "source": [
    "# Also see size of decimal\n",
    "from decimal import Decimal\n",
    "import sys\n",
    "\n",
    "x_float = 3.1415\n",
    "x_dec = Decimal('3.1415')\n",
    "\n",
    "print(sys.getsizeof(x_float))\n",
    "print(sys.getsizeof(x_dec))"
   ]
  },
  {
   "cell_type": "markdown",
   "metadata": {},
   "source": [
    "<b>Conclusion</b>:<br>\n",
    "Decimals give exact pepresentation of decimal numbers, that allow to make exact calculations and comparisons.<br>\n",
    "But they have many minuses:<br>\n",
    "- Several times slower\n",
    "- Take several times more memory\n",
    "- Not all mathematical functions exist in decimal library (<i>we can use classical math-library, but in this case decimals are transformed to floats and thus we loss all advantages</i>)\n",
    "- Construction via strings and tuples\n",
    "- Caution with <b>//</b> and <b>&</b> over negative numbers - they behave differently than floats\n",
    "<br>\n",
    "<br>\n",
    "<br>\n",
    "<br>"
   ]
  },
  {
   "cell_type": "markdown",
   "metadata": {},
   "source": [
    "<h4>Short-circuiting</h4>\n",
    "\n",
    "(Q&A for <a target=\"_blank\" href=\"https://www.udemy.com/course/python-3-deep-dive-part-1/learn/lecture/7740702#questions/6416854\">lecture 55</a>)"
   ]
  },
  {
   "cell_type": "code",
   "execution_count": 27,
   "metadata": {},
   "outputs": [
    {
     "name": "stdout",
     "output_type": "stream",
     "text": [
      "111.29808742100067\n",
      "112.02503285800049\n"
     ]
    }
   ],
   "source": [
    "def traditional_if(ls, a, b, c):\n",
    "    if a in ls:\n",
    "        if b > c:\n",
    "            pass\n",
    "        \n",
    "def short_circuiting(ls, a, b, c):\n",
    "    if a in ls and b > c:\n",
    "        pass\n",
    "\n",
    "\n",
    "print( timeit(\"traditional_if([0,1], 0, 20, 10)\", globals=globals(), number=1_000_000_000) )\n",
    "# 107.977…\n",
    "\n",
    "print( timeit(\"short_circuiting([0,1], 0, 20, 10)\", globals=globals(), number=1_000_000_000) )\n",
    "# 108.217…"
   ]
  },
  {
   "cell_type": "markdown",
   "metadata": {},
   "source": [
    "<b>Conclusion</b>: In terms of performance there's no difference.\n",
    "<br>\n",
    "<br>\n",
    "<br>\n",
    "<br>"
   ]
  },
  {
   "cell_type": "markdown",
   "metadata": {},
   "source": [
    "<h4>Expetiment how quickly we can exchange values b/w two variables by different methods</h4>\n",
    "\n",
    "(Q&A for <a target=\"_blank\" href=\"https://www.udemy.com/course/python-3-deep-dive-part-1/learn/lecture/7740702#questions/8007436\">lecture 65</a>)"
   ]
  },
  {
   "cell_type": "code",
   "execution_count": 3,
   "metadata": {
    "scrolled": false
   },
   "outputs": [
    {
     "name": "stdout",
     "output_type": "stream",
     "text": [
      "69.32123058600064\n",
      "67.88939272600055\n"
     ]
    }
   ],
   "source": [
    "from timeit import timeit\n",
    "\n",
    "def three_pails(a, b):\n",
    "    t = a\n",
    "    a = b\n",
    "    b = t\n",
    "\n",
    "def tuple_exchange(a,b):\n",
    "    a, b = b, a  \n",
    "\n",
    "a = 300\n",
    "b = 400\n",
    "print( timeit(\"three_pails(a, b)\", globals = globals(), number = 1_000_000_000) )\n",
    "# results: 74.694 70.372 68.657 68.526 69.122 72.025\n",
    "\n",
    "print( timeit(\"tuple_exchange(a, b)\", globals = globals(), number = 1_000_000_000) )\n",
    "# results: 69.340 66.562 67.900 66.098 68.408 71.442 - compare in pairs"
   ]
  },
  {
   "cell_type": "markdown",
   "metadata": {},
   "source": [
    "I launched the code several times with little modifications (<b>so compare results in pairs</b>) and the way via tuple exchange was always a little faster then the way of \"three pails\" (<i>via imtermediate variable</i>). This behavior is persistent.\n",
    "<br>\n",
    "<br>\n",
    "<br>\n",
    "<br>"
   ]
  },
  {
   "cell_type": "markdown",
   "metadata": {},
   "source": [
    "<h4>comparison of map, list-comprehension, set-comprehension and list via generator ways</h4>\n",
    "\n",
    "(Q&A for <a target=\"_blank\" href=\"https://www.udemy.com/course/python-3-deep-dive-part-1/learn/lecture/7992292#questions/5734885\">lecture 88</a>)"
   ]
  },
  {
   "cell_type": "code",
   "execution_count": 16,
   "metadata": {},
   "outputs": [
    {
     "name": "stdout",
     "output_type": "stream",
     "text": [
      "map list:  21.90718785699937\n",
      "list comp: 19.1033946259995\n",
      "set comp:  34.86212292500022\n",
      "gen-list:  20.293640173998938\n",
      "gen-set:   36.81005980400005\n"
     ]
    }
   ],
   "source": [
    "l = list(range(1_000_000))\n",
    "number = 100\n",
    "\n",
    "# Map way\n",
    "print('map list:  ', end='')\n",
    "timing = timeit('list(map(lambda x: x**2, l))', globals=globals(), number=number)\n",
    "print(timing)             # 21.908\n",
    "\n",
    "# List-comprehension way\n",
    "print('list comp: ', end='')\n",
    "timing = timeit('[x**2 for x in l]', globals=globals(), number=number)\n",
    "print(timing)             # 19.081\n",
    "\n",
    "# Set-comprehension way\n",
    "print('set comp:  ', end='')\n",
    "timing = timeit('{x**2 for x in l}', globals=globals(), number=number)\n",
    "print(timing)             # 35.100\n",
    "\n",
    "# List via generator way\n",
    "print('gen-list:  ', end='')\n",
    "timing = timeit('list(x**2 for x in l)', globals=globals(), number=number)\n",
    "print(timing)             # 20.398\n",
    "\n",
    "# Set via generator way\n",
    "print('gen-set:   ', end='')\n",
    "timing = timeit('set(x**2 for x in l)', globals=globals(), number=number)\n",
    "print(timing)             # 36.992"
   ]
  },
  {
   "cell_type": "code",
   "execution_count": 3,
   "metadata": {},
   "outputs": [
    {
     "name": "stdout",
     "output_type": "stream",
     "text": [
      "Map vs Comprehension\n",
      "\tmap 22.03628074399967\n",
      "\tcomp-set 39.80989835800028\n",
      "\tcomp-list 23.804521611000382\n"
     ]
    }
   ],
   "source": [
    "# Comparison of map, set-comprehension and list-comprehension\n",
    "\n",
    "n = 1_000_000  # number of elements in the various iterables\n",
    "number = 100   # number of times to repeat timing\n",
    "\n",
    "def square(x):\n",
    "    return x ** 2\n",
    " \n",
    "def map_square(n):                 # 22.159…\n",
    "    list(map(square, range(n)))\n",
    "\n",
    "def map_comp_set(n):               # 40.770…\n",
    "    {square(i) for i in range(n)}\n",
    "\n",
    "def map_comp_list(n):              # 24.549…\n",
    "    [square(i) for i in range(n)]\n",
    "\n",
    "\n",
    "time_map = timeit('map_square(n)', globals=globals(), number=number)\n",
    "time_comp_set = timeit('map_comp_set(n)', globals=globals(), number=number)\n",
    "time_comp_list = timeit('map_comp_list(n)', globals=globals(), number=number)\n",
    " \n",
    "print('Map vs Comprehension')\n",
    "print('\\tmap      ', time_map)\n",
    "print('\\tcomp-set ', time_comp_set)\n",
    "print('\\tcomp-list', time_comp_list)"
   ]
  },
  {
   "cell_type": "code",
   "execution_count": 4,
   "metadata": {},
   "outputs": [
    {
     "name": "stdout",
     "output_type": "stream",
     "text": [
      "\n",
      "\n",
      "Map/Filter vs Comprehension\n",
      "\tmap/filter 31.889399649000552\n",
      "\tmap/filter_comp-set 44.857572980999976\n",
      "\tmap/filter_comp-list 39.882736380001006\n",
      "\tmap/filter_comp_with_func-set 48.68856400200093\n",
      "\tmap/filter_comp_with_func-list 44.04787846900035\n"
     ]
    }
   ],
   "source": [
    "# Continue of previous tests\n",
    "\n",
    "def filter_odd(x):\n",
    "    return x % 2\n",
    "\n",
    "def map_filter(n):                                          # 31.884…\n",
    "    list(filter(filter_odd, map(square, range(n))))\n",
    "\n",
    "def map_filter_comp_set(n):                                 # 45.523…\n",
    "    {square(i) for i in range(n) if square(i) % 2}\n",
    "\n",
    "def map_filter_comp_list(n):                                # 40.651…\n",
    "    [square(i) for i in range(n) if square(i) % 2]\n",
    "\n",
    "def map_filter_comp_func_set(n):                            # 50.089…\n",
    "    {square(i) for i in range(n) if filter_odd(square(i))}\n",
    "\n",
    "def map_filter_comp_func_list(n):                           # 44.608…\n",
    "    [square(i) for i in range(n) if filter_odd(square(i))]\n",
    "\n",
    "\n",
    "time_map_filter = \\\n",
    "        timeit('map_filter(n)', globals=globals(), number=number)\n",
    "time_map_filter_comp_set = \\\n",
    "        timeit('map_filter_comp_set(n)', globals=globals(), number=number)\n",
    "time_map_filter_comp_list = \\\n",
    "        timeit('map_filter_comp_list(n)', globals=globals(), number=number)\n",
    "time_map_filter_comp_func_set = \\\n",
    "        timeit('map_filter_comp_func_set(n)', globals=globals(), number=number)\n",
    "time_map_filter_comp_func_list = \\\n",
    "        timeit('map_filter_comp_func_list(n)', globals=globals(), number=number)\n",
    "\n",
    "print('Map/Filter vs Comprehension')\n",
    "print('\\tmap/filter                    ', time_map_filter)\n",
    "print('\\tmap/filter_comp-set           ', time_map_filter_comp_set)\n",
    "print('\\tmap/filter_comp-list          ', time_map_filter_comp_list)\n",
    "print('\\tmap/filter_comp_with_func-set ', time_map_filter_comp_func_set)\n",
    "print('\\tmap/filter_comp_with_func-list', time_map_filter_comp_func_list)"
   ]
  },
  {
   "cell_type": "markdown",
   "metadata": {},
   "source": [
    "<br>"
   ]
  },
  {
   "cell_type": "code",
   "execution_count": 17,
   "metadata": {},
   "outputs": [
    {
     "name": "stdout",
     "output_type": "stream",
     "text": [
      "Zip vs Comprehension\n",
      "\tzip 9.698506578999513\n",
      "\tcomp-set 32.07767276999948\n",
      "\tcomp-list 8.697016383001028\n"
     ]
    }
   ],
   "source": [
    "# Zip vs Comprehension\n",
    "\n",
    "def zip_func(n):                   # 9.753…\n",
    "    list(zip(range(n), range(n)))\n",
    "\n",
    "def zip_comp_set(n):               # 32.689…\n",
    "    {(i, i) for i in range(n)}\n",
    "\n",
    "def zip_comp_list(n):              # 8.760…\n",
    "    [(i, i) for i in range(n)]\n",
    "\n",
    "\n",
    "time_zip = timeit('zip_func(n)', globals=globals(), number=number)\n",
    "time_comp_set = timeit('zip_comp_set(n)', globals=globals(), number=number)\n",
    "time_comp_list = timeit('zip_comp_list(n)', globals=globals(), number=number)\n",
    "\n",
    "print('Zip vs Comprehension')\n",
    "print('\\tzip      ', time_zip)\n",
    "print('\\tcomp-set ', time_comp_set)\n",
    "print('\\tcomp-list', time_comp_list)"
   ]
  },
  {
   "cell_type": "markdown",
   "metadata": {},
   "source": [
    "<br>\n",
    "<br>"
   ]
  },
  {
   "cell_type": "markdown",
   "metadata": {},
   "source": [
    "<h4>Reduce functions 'all' and 'any'</h4>\n",
    "\n",
    "(Q&A for <a target=\"_blank\" href=\"https://www.udemy.com/course/python-3-deep-dive-part-1/learn/lecture/7740702#questions/8084100\">lecture 91</a>)"
   ]
  },
  {
   "cell_type": "code",
   "execution_count": 19,
   "metadata": {},
   "outputs": [
    {
     "name": "stdout",
     "output_type": "stream",
     "text": [
      "15.932003300998986\n",
      "30.239427294998677\n"
     ]
    }
   ],
   "source": [
    "number = 100_000_000\n",
    "\n",
    "timing1 = timeit('all([0,1,2,3,4,5,6,7,8,9,10,1,2,3,4,5,6,7,8,9,10,1,2,3,4,5,6,7,8,9,0])',\n",
    "                 globals=globals(), number=number)\n",
    "print(timing1)  # 16.330…\n",
    "\n",
    "timing2 = timeit('all([1,1,2,3,4,5,6,7,8,9,10,1,2,3,4,5,6,7,8,9,10,1,2,3,4,5,6,7,8,9,0])',\n",
    "                 globals=globals(), number=number)\n",
    "print(timing2)  # 31.232…"
   ]
  },
  {
   "cell_type": "code",
   "execution_count": null,
   "metadata": {},
   "outputs": [],
   "source": [
    "timing3 = timeit('any([0,0,0,0,0,0,0,0,0,0,0,0,0,0,0,0,0,0,0,0,0,0,0,0,0,0,0,0,0,0,0,1])',\n",
    "                 globals=globals(), number=number)\n",
    "print(timing3)  # 31.377…\n",
    "\n",
    "timing4 = timeit('any([1,0,0,0,0,0,0,0,0,0,0,0,0,0,0,0,0,0,0,0,0,0,0,0,0,0,0,0,0,0,0,1])',\n",
    "                 globals=globals(), number=number)\n",
    "print(timing4)  # 18.438…"
   ]
  },
  {
   "cell_type": "markdown",
   "metadata": {},
   "source": [
    "<b>Conclusion</b>:<br>\n",
    "Functions 'all' and 'any' really allow a little decrease processing time for some very long and monotonous lists due to short-circuiting, but the benefit in performance in symbolic."
   ]
  },
  {
   "cell_type": "markdown",
   "metadata": {},
   "source": [
    "<br>\n",
    "<br>\n",
    "<br>"
   ]
  },
  {
   "cell_type": "code",
   "execution_count": 21,
   "metadata": {},
   "outputs": [],
   "source": [
    "# You can always increase the accuracy of your experiments by disabling garbage collector:\n",
    "# import gc\n",
    "# gc.disable()\n",
    "\n",
    "# <your code>\n",
    "\n",
    "# gc.collect()"
   ]
  }
 ],
 "metadata": {
  "kernelspec": {
   "display_name": "Python 3",
   "language": "python",
   "name": "python3"
  },
  "language_info": {
   "codemirror_mode": {
    "name": "ipython",
    "version": 3
   },
   "file_extension": ".py",
   "mimetype": "text/x-python",
   "name": "python",
   "nbconvert_exporter": "python",
   "pygments_lexer": "ipython3",
   "version": "3.7.3"
  }
 },
 "nbformat": 4,
 "nbformat_minor": 2
}
