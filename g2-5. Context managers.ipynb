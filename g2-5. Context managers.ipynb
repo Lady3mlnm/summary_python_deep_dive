{
 "cells": [
  {
   "cell_type": "code",
   "execution_count": 1,
   "metadata": {},
   "outputs": [],
   "source": [
    "# Create context manager class\n",
    "class MyContext:\n",
    "    def __init__(self):\n",
    "        print('init running...')\n",
    "        self.obj = None\n",
    "    \n",
    "    def __enter__(self):\n",
    "        print('entering context...')\n",
    "        self.obj = 'the Return object'\n",
    "        return self.obj\n",
    "    \n",
    "    def __exit__(self, exc_type, exc_value, exc_tb):\n",
    "        print('exiting context...')\n",
    "        if exc_type:\n",
    "            print(f'*** Error occurred: {exc_type}, {exc_value}')\n",
    "        return True    # if False than the exception will be raised"
   ]
  },
  {
   "cell_type": "code",
   "execution_count": 2,
   "metadata": {},
   "outputs": [
    {
     "name": "stdout",
     "output_type": "stream",
     "text": [
      "init running...\n",
      "created context... \n",
      "\n",
      "entering context...\n",
      "the Return object\n",
      "exiting context...\n",
      "*** Error occurred: <class 'ValueError'>, \n"
     ]
    }
   ],
   "source": [
    "# create instance of the class\n",
    "ctx = MyContext()\n",
    "print('created context...', '\\n')\n",
    "\n",
    "with ctx as obj:   # with MyContext() as obj\n",
    "    print(obj)\n",
    "    raise ValueError()"
   ]
  },
  {
   "cell_type": "markdown",
   "metadata": {},
   "source": [
    "<br>"
   ]
  },
  {
   "cell_type": "code",
   "execution_count": 3,
   "metadata": {},
   "outputs": [],
   "source": [
    "class File:\n",
    "    def __init__(self, name, mode):\n",
    "        self.name = name\n",
    "        self.mode = mode\n",
    "        \n",
    "    def __enter__(self):\n",
    "        print('opening file...')\n",
    "        self.file = open(self.name, self.mode)\n",
    "        return self.file\n",
    "    \n",
    "    def __exit__(self, exc_type, exc_value, exc_tb):\n",
    "        print('closing file...')\n",
    "        self.file.close()\n",
    "        return False"
   ]
  },
  {
   "cell_type": "code",
   "execution_count": 4,
   "metadata": {},
   "outputs": [
    {
     "name": "stdout",
     "output_type": "stream",
     "text": [
      "opening file...\n",
      "closing file...\n"
     ]
    }
   ],
   "source": [
    "with File('test.txt', 'w') as fh:\n",
    "    fh.write('qwerty')"
   ]
  },
  {
   "cell_type": "code",
   "execution_count": 5,
   "metadata": {},
   "outputs": [
    {
     "name": "stdout",
     "output_type": "stream",
     "text": [
      "opening file...\n",
      "['qwerty']\n",
      "closing file...\n"
     ]
    }
   ],
   "source": [
    "with File('test.txt', 'r') as fh:\n",
    "    print(fh.readlines())"
   ]
  },
  {
   "cell_type": "markdown",
   "metadata": {},
   "source": [
    "<br>\n",
    "<br>\n",
    "<br>"
   ]
  },
  {
   "cell_type": "code",
   "execution_count": 6,
   "metadata": {},
   "outputs": [],
   "source": [
    "import decimal"
   ]
  },
  {
   "cell_type": "markdown",
   "metadata": {},
   "source": [
    "<br>\n",
    "\n",
    "How this is usually work"
   ]
  },
  {
   "cell_type": "code",
   "execution_count": 7,
   "metadata": {},
   "outputs": [
    {
     "data": {
      "text/plain": [
       "Context(prec=28, rounding=ROUND_HALF_EVEN, Emin=-999999, Emax=999999, capitals=1, clamp=0, flags=[], traps=[InvalidOperation, DivisionByZero, Overflow])"
      ]
     },
     "execution_count": 7,
     "metadata": {},
     "output_type": "execute_result"
    }
   ],
   "source": [
    "decimal.getcontext()"
   ]
  },
  {
   "cell_type": "code",
   "execution_count": 8,
   "metadata": {},
   "outputs": [
    {
     "data": {
      "text/plain": [
       "Context(prec=14, rounding=ROUND_HALF_EVEN, Emin=-999999, Emax=999999, capitals=1, clamp=0, flags=[], traps=[InvalidOperation, DivisionByZero, Overflow])"
      ]
     },
     "execution_count": 8,
     "metadata": {},
     "output_type": "execute_result"
    }
   ],
   "source": [
    "# let's change precision\n",
    "decimal.getcontext().prec = 14\n",
    "\n",
    "# check\n",
    "decimal.getcontext()"
   ]
  },
  {
   "cell_type": "code",
   "execution_count": 9,
   "metadata": {},
   "outputs": [],
   "source": [
    "# return precision to the initial value\n",
    "decimal.getcontext().prec = 28"
   ]
  },
  {
   "cell_type": "code",
   "execution_count": 10,
   "metadata": {},
   "outputs": [
    {
     "name": "stdout",
     "output_type": "stream",
     "text": [
      "0.33\n",
      "0.3333333333333333333333333333\n"
     ]
    }
   ],
   "source": [
    "old_prec = decimal.getcontext().prec\n",
    "decimal.getcontext().prec = 2\n",
    "print(decimal.Decimal(1) / decimal.Decimal(3))\n",
    "\n",
    "decimal.getcontext().prec = old_prec\n",
    "print(decimal.Decimal(1) / decimal.Decimal(3))"
   ]
  },
  {
   "cell_type": "markdown",
   "metadata": {},
   "source": [
    "<br>\n",
    "\n",
    "example 1: simplest"
   ]
  },
  {
   "cell_type": "code",
   "execution_count": 11,
   "metadata": {},
   "outputs": [],
   "source": [
    "# let's create context manager class\n",
    "class precision:\n",
    "    def __init__(self, prec):\n",
    "        self.prec = prec\n",
    "        self.current_prec = decimal.getcontext().prec\n",
    "        \n",
    "    def __enter__(self):\n",
    "        decimal.getcontext().prec = self.prec\n",
    "        \n",
    "    def __exit__(self, exc_type, exc_value, exc_td):\n",
    "        decimal.getcontext().prec = self.current_prec\n",
    "        return False"
   ]
  },
  {
   "cell_type": "code",
   "execution_count": 12,
   "metadata": {},
   "outputs": [
    {
     "name": "stdout",
     "output_type": "stream",
     "text": [
      "0.3333\n",
      "0.3333333333333333333333333333\n"
     ]
    }
   ],
   "source": [
    "with precision(4):\n",
    "    print(decimal.Decimal(1) / decimal.Decimal(3))\n",
    "print(decimal.Decimal(1) / decimal.Decimal(3))"
   ]
  },
  {
   "cell_type": "code",
   "execution_count": 13,
   "metadata": {},
   "outputs": [
    {
     "name": "stdout",
     "output_type": "stream",
     "text": [
      "0.33333\n",
      "0.3333333333333333333333333333\n"
     ]
    }
   ],
   "source": [
    "with decimal.localcontext() as ctx:\n",
    "    ctx.prec = 5\n",
    "    print(decimal.Decimal(1) / decimal.Decimal(3))\n",
    "print(decimal.Decimal(1) / decimal.Decimal(3))"
   ]
  },
  {
   "cell_type": "markdown",
   "metadata": {},
   "source": [
    "<br>\n",
    "\n",
    "example 2: time measurement"
   ]
  },
  {
   "cell_type": "code",
   "execution_count": 14,
   "metadata": {},
   "outputs": [],
   "source": [
    "from time import perf_counter, sleep"
   ]
  },
  {
   "cell_type": "code",
   "execution_count": 15,
   "metadata": {},
   "outputs": [],
   "source": [
    "class Timer:\n",
    "    def __init__(self):\n",
    "        self.elapsed = 0\n",
    "    \n",
    "    def __enter__(self):\n",
    "        self.start = perf_counter()\n",
    "        return self\n",
    "    \n",
    "    def __exit__(self, exc_type, exc_value, exc_tb):\n",
    "        self.stop = perf_counter()\n",
    "        self.elapsed = self.stop - self.start\n",
    "        return False"
   ]
  },
  {
   "cell_type": "code",
   "execution_count": 16,
   "metadata": {},
   "outputs": [
    {
     "name": "stdout",
     "output_type": "stream",
     "text": [
      "9902.034803222\n",
      "1.001064754998879\n",
      "9903.035867977\n"
     ]
    }
   ],
   "source": [
    "with Timer() as timer:\n",
    "    sleep(1)\n",
    "    \n",
    "print(timer.start)\n",
    "print(timer.elapsed)\n",
    "print(timer.stop)"
   ]
  },
  {
   "cell_type": "markdown",
   "metadata": {},
   "source": [
    "<br>\n",
    "\n",
    "example 3: writing to a file"
   ]
  },
  {
   "cell_type": "code",
   "execution_count": 17,
   "metadata": {},
   "outputs": [],
   "source": [
    "import sys\n",
    "\n",
    "class OutToFile:\n",
    "    def __init__(self, fname):\n",
    "        self._fname = fname\n",
    "        self._current_stdout = sys.stdout\n",
    "        \n",
    "    def __enter__(self):\n",
    "        self._file = open(self._fname, 'w')\n",
    "        sys.stdout = self._file\n",
    "        \n",
    "    def __exit__(self, exc_type, exc_value, exc_td):\n",
    "        sys.stdout = self._current_stdout\n",
    "        self._file.close()\n",
    "        return False"
   ]
  },
  {
   "cell_type": "code",
   "execution_count": 18,
   "metadata": {},
   "outputs": [],
   "source": [
    "with OutToFile('test.txt'):\n",
    "    print('Line 1')\n",
    "    print('Line 2')"
   ]
  },
  {
   "cell_type": "code",
   "execution_count": 19,
   "metadata": {},
   "outputs": [
    {
     "name": "stdout",
     "output_type": "stream",
     "text": [
      "Line 1\n",
      "Line 2\n"
     ]
    }
   ],
   "source": [
    "with open('test.txt') as fh:\n",
    "    for ln in fh:\n",
    "        print(ln, end='')"
   ]
  },
  {
   "cell_type": "code",
   "execution_count": 20,
   "metadata": {},
   "outputs": [
    {
     "name": "stdout",
     "output_type": "stream",
     "text": [
      "<class 'ipykernel.iostream.OutStream'>\n",
      "<ipykernel.iostream.OutStream object at 0x7fb8361ebb38>\n"
     ]
    }
   ],
   "source": [
    "# Let's look what is sys.stdout is\n",
    "print(type(sys.stdout))\n",
    "print(sys.stdout)"
   ]
  },
  {
   "cell_type": "markdown",
   "metadata": {},
   "source": [
    "<br>\n",
    "\n",
    "example 4: surrounding a text with a html-tag, including a tag inside a tag"
   ]
  },
  {
   "cell_type": "code",
   "execution_count": 21,
   "metadata": {},
   "outputs": [],
   "source": [
    "class Tag:\n",
    "    def __init__(self, tag):\n",
    "        self._tag = tag\n",
    "        \n",
    "    def __enter__(self):\n",
    "        print(f'<{self._tag}>', end='')\n",
    "        \n",
    "    def __exit__(self, exc_type, exc_value, exc_tb):\n",
    "        print(f'</{self._tag}>', end='')\n",
    "        return False"
   ]
  },
  {
   "cell_type": "code",
   "execution_count": 22,
   "metadata": {},
   "outputs": [
    {
     "name": "stdout",
     "output_type": "stream",
     "text": [
      "<p>some <b>bold</b> text</p>"
     ]
    }
   ],
   "source": [
    "with Tag('p'):\n",
    "    print('some ', end='')\n",
    "    with Tag('b'):\n",
    "        print('bold', end='')\n",
    "    print(' text', end='')"
   ]
  },
  {
   "cell_type": "markdown",
   "metadata": {},
   "source": [
    "<br>\n",
    "\n",
    "example 5: more complicated complex manager - creating nested list\n",
    "\n",
    "```\n",
    "Title\n",
    "→ Items 1\n",
    "   → sub item 1a\n",
    "   → sub item 1b\n",
    "→ Items 2\n",
    "   → sub item 2a\n",
    "   → sub item 2b\n",
    "```"
   ]
  },
  {
   "cell_type": "code",
   "execution_count": 23,
   "metadata": {},
   "outputs": [],
   "source": [
    "class ListMaker:\n",
    "    def __init__(self, title, prefix='→ ', indent=3):\n",
    "        self._title = title\n",
    "        self._prefix = prefix\n",
    "        self._indent = indent\n",
    "        self._current_indent = 0\n",
    "        print(title)\n",
    "        \n",
    "    def __enter__(self):\n",
    "        self._current_indent += self._indent\n",
    "        return self\n",
    "    \n",
    "    def __exit__(self, exc_type, exc_value, exc_tb):\n",
    "        self._current_indent -= self._indent\n",
    "        return False\n",
    "    \n",
    "    def print_item(self, arg):\n",
    "        s = ' ' * self._current_indent + self._prefix + str(arg)\n",
    "        print(s)"
   ]
  },
  {
   "cell_type": "code",
   "execution_count": 24,
   "metadata": {},
   "outputs": [
    {
     "name": "stdout",
     "output_type": "stream",
     "text": [
      "Items\n",
      "   → Item 1\n",
      "      → sub item 1a\n",
      "      → sub item 2a\n",
      "   → Item 2\n"
     ]
    }
   ],
   "source": [
    "with ListMaker('Items') as lm:\n",
    "    lm.print_item('Item 1')\n",
    "    with lm:\n",
    "        lm.print_item('sub item 1a')\n",
    "        lm.print_item('sub item 2a')\n",
    "    lm.print_item('Item 2')"
   ]
  },
  {
   "cell_type": "code",
   "execution_count": null,
   "metadata": {},
   "outputs": [],
   "source": []
  }
 ],
 "metadata": {
  "kernelspec": {
   "display_name": "Python 3",
   "language": "python",
   "name": "python3"
  },
  "language_info": {
   "codemirror_mode": {
    "name": "ipython",
    "version": 3
   },
   "file_extension": ".py",
   "mimetype": "text/x-python",
   "name": "python",
   "nbconvert_exporter": "python",
   "pygments_lexer": "ipython3",
   "version": "3.7.3"
  }
 },
 "nbformat": 4,
 "nbformat_minor": 4
}
