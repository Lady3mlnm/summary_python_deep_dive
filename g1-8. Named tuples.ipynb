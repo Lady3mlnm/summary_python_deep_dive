{
 "cells": [
  {
   "cell_type": "markdown",
   "metadata": {},
   "source": [
    "for the course \"<a target=\"_blank\" href=\"https://www.udemy.com/course/python-3-deep-dive-part-1/\">Python 3: Deep Drive (part 1 - Functional)</a>\",<br>\n",
    "section 8: \"Tuples as Data Structures and Named Tuples\",<br>\n",
    "(Q&A for <a target=\"_blank\" href=\"https://www.udemy.com/course/python-3-deep-dive-part-1/learn/lecture/9376820#questions/8389172\">lecture 127</a>)"
   ]
  },
  {
   "cell_type": "markdown",
   "metadata": {},
   "source": [
    "<h3>Named Tuples</h3>"
   ]
  },
  {
   "cell_type": "code",
   "execution_count": 1,
   "metadata": {},
   "outputs": [],
   "source": [
    "from collections import namedtuple"
   ]
  },
  {
   "cell_type": "code",
   "execution_count": 2,
   "metadata": {},
   "outputs": [
    {
     "name": "stdout",
     "output_type": "stream",
     "text": [
      "Named tuple: 72\n",
      "Dictionary : 240\n"
     ]
    }
   ],
   "source": [
    "# Memory consumption named_tuple vs dictionary\n",
    "import sys\n",
    "\n",
    "Person = namedtuple('Person','name age sex')\n",
    "nt = Person('Tom', 38, 'Male')\n",
    "d = {'name': 'Tom', 'age': 38, 'sex': 'Male'}\n",
    "\n",
    "print('Named tuple:', sys.getsizeof(nt))\n",
    "print('Dictionary :', sys.getsizeof(d))"
   ]
  },
  {
   "cell_type": "markdown",
   "metadata": {},
   "source": [
    "<br>\n",
    "<br>\n",
    "<h4>modifying</h4>"
   ]
  },
  {
   "cell_type": "code",
   "execution_count": 3,
   "metadata": {},
   "outputs": [],
   "source": [
    "from collections import namedtuple"
   ]
  },
  {
   "cell_type": "code",
   "execution_count": 4,
   "metadata": {},
   "outputs": [
    {
     "name": "stdout",
     "output_type": "stream",
     "text": [
      "Point3D(x=10, y=20, z=30)\n"
     ]
    }
   ],
   "source": [
    "# initial named tuple\n",
    "Point3D = namedtuple('Point3D', 'x, y, z')\n",
    "pt = Point3D(10, 20, 30)\n",
    "print(pt)                       #> Point3D(x=10, y=20, z=30)"
   ]
  },
  {
   "cell_type": "code",
   "execution_count": 5,
   "metadata": {},
   "outputs": [
    {
     "name": "stdout",
     "output_type": "stream",
     "text": [
      "(10, 20)\n",
      "Point3D(x=10, y=20, z=100)\n"
     ]
    }
   ],
   "source": [
    "# way 1a: via slicing and unpacking\n",
    "temp = pt[:-1]                  # alternative: *temp, _ = pt\n",
    "print(temp)                     #> (10, 20)\n",
    "\n",
    "pt = Point3D(*temp, 100)\n",
    "print(pt)                       #> Point3D(x=10, y=20, z=100)"
   ]
  },
  {
   "cell_type": "code",
   "execution_count": 6,
   "metadata": {},
   "outputs": [
    {
     "name": "stdout",
     "output_type": "stream",
     "text": [
      "[10, 20]\n",
      "Point3D(x=10, y=20, z=100)\n"
     ]
    }
   ],
   "source": [
    "# way 1b\n",
    "*temp, _ = pt\n",
    "print(temp)                     #> [10, 20]\n",
    "\n",
    "pr = Point3D(*temp, 200)\n",
    "print(pt)                       #> Point3D(x=10, y=20, z=30)"
   ]
  },
  {
   "cell_type": "code",
   "execution_count": 7,
   "metadata": {},
   "outputs": [
    {
     "name": "stdout",
     "output_type": "stream",
     "text": [
      "(10, 20, 300)\n",
      "Point3D(x=10, y=20, z=300)\n"
     ]
    }
   ],
   "source": [
    "# way 2: via _make\n",
    "temp = pt[:-1]\n",
    "new_values = temp + (300,)\n",
    "print(new_values)               #> (10, 20, 300)\n",
    "\n",
    "pt = Point3D._make(new_values)  # new_values - any iterable\n",
    "print(pt)                       #> Point3D(x=10, y=20, z=300)"
   ]
  },
  {
   "cell_type": "code",
   "execution_count": 8,
   "metadata": {},
   "outputs": [
    {
     "name": "stdout",
     "output_type": "stream",
     "text": [
      "Point3D(x=10, y=20, z=400)\n"
     ]
    }
   ],
   "source": [
    "# way 3: via _replace\n",
    "pt = pt._replace(z=400)\n",
    "print(pt)                       #> Point3D(x=10, y=20, z=400)"
   ]
  },
  {
   "cell_type": "markdown",
   "metadata": {},
   "source": [
    "<br>\n",
    "<br>\n",
    "<h4>extending</h4>"
   ]
  },
  {
   "cell_type": "code",
   "execution_count": 9,
   "metadata": {},
   "outputs": [
    {
     "name": "stdout",
     "output_type": "stream",
     "text": [
      "('x', 'y', 'z', 't')\n",
      "Point4D(x=10, y=20, z=30, t=40)\n"
     ]
    }
   ],
   "source": [
    "pt = Point3D(10, 20, 30)\n",
    "\n",
    "Point4D = namedtuple('Point4D', Point3D._fields + ('t',))\n",
    "print(Point4D._fields)          #> ('x', 'y', 'z', 't')\n",
    "\n",
    "pt4d = Point4D(*pt, 40)         # alternative: pt4d = Point4D._make(pt + (40,))\n",
    "print(pt4d)                     #> Point4D(x=10, y=20, z=30, t=40)"
   ]
  },
  {
   "cell_type": "markdown",
   "metadata": {},
   "source": [
    "<br>\n",
    "<br>\n",
    "<h4>DocStrings</h4>"
   ]
  },
  {
   "cell_type": "code",
   "execution_count": 10,
   "metadata": {},
   "outputs": [
    {
     "name": "stdout",
     "output_type": "stream",
     "text": [
      "Point3D(x, y, z)\n",
      "Alias for field number 0\n",
      "Alias for field number 1\n"
     ]
    }
   ],
   "source": [
    "# by default\n",
    "print(Point3D.__doc__)          #> Point3D(x, y, z)\n",
    "print(Point3D.x.__doc__)        #> Alias for field number 0\n",
    "print(Point3D.y.__doc__)        #> Alias for field number 1"
   ]
  },
  {
   "cell_type": "code",
   "execution_count": 11,
   "metadata": {
    "scrolled": true
   },
   "outputs": [
    {
     "name": "stdout",
     "output_type": "stream",
     "text": [
      "Help on class Point3D in module __main__:\n",
      "\n",
      "class Point3D(builtins.tuple)\n",
      " |  Point3D(x, y, z)\n",
      " |  \n",
      " |  Point3D(x, y, z)\n",
      " |  \n",
      " |  Method resolution order:\n",
      " |      Point3D\n",
      " |      builtins.tuple\n",
      " |      builtins.object\n",
      " |  \n",
      " |  Methods defined here:\n",
      " |  \n",
      " |  __getnewargs__(self)\n",
      " |      Return self as a plain tuple.  Used by copy and pickle.\n",
      " |  \n",
      " |  __repr__(self)\n",
      " |      Return a nicely formatted representation string\n",
      " |  \n",
      " |  _asdict(self)\n",
      " |      Return a new OrderedDict which maps field names to their values.\n",
      " |  \n",
      " |  _replace(_self, **kwds)\n",
      " |      Return a new Point3D object replacing specified fields with new values\n",
      " |  \n",
      " |  ----------------------------------------------------------------------\n",
      " |  Class methods defined here:\n",
      " |  \n",
      " |  _make(iterable) from builtins.type\n",
      " |      Make a new Point3D object from a sequence or iterable\n",
      " |  \n",
      " |  ----------------------------------------------------------------------\n",
      " |  Static methods defined here:\n",
      " |  \n",
      " |  __new__(_cls, x, y, z)\n",
      " |      Create new instance of Point3D(x, y, z)\n",
      " |  \n",
      " |  ----------------------------------------------------------------------\n",
      " |  Data descriptors defined here:\n",
      " |  \n",
      " |  x\n",
      " |      Alias for field number 0\n",
      " |  \n",
      " |  y\n",
      " |      Alias for field number 1\n",
      " |  \n",
      " |  z\n",
      " |      Alias for field number 2\n",
      " |  \n",
      " |  ----------------------------------------------------------------------\n",
      " |  Data and other attributes defined here:\n",
      " |  \n",
      " |  _fields = ('x', 'y', 'z')\n",
      " |  \n",
      " |  _fields_defaults = {}\n",
      " |  \n",
      " |  ----------------------------------------------------------------------\n",
      " |  Methods inherited from builtins.tuple:\n",
      " |  \n",
      " |  __add__(self, value, /)\n",
      " |      Return self+value.\n",
      " |  \n",
      " |  __contains__(self, key, /)\n",
      " |      Return key in self.\n",
      " |  \n",
      " |  __eq__(self, value, /)\n",
      " |      Return self==value.\n",
      " |  \n",
      " |  __ge__(self, value, /)\n",
      " |      Return self>=value.\n",
      " |  \n",
      " |  __getattribute__(self, name, /)\n",
      " |      Return getattr(self, name).\n",
      " |  \n",
      " |  __getitem__(self, key, /)\n",
      " |      Return self[key].\n",
      " |  \n",
      " |  __gt__(self, value, /)\n",
      " |      Return self>value.\n",
      " |  \n",
      " |  __hash__(self, /)\n",
      " |      Return hash(self).\n",
      " |  \n",
      " |  __iter__(self, /)\n",
      " |      Implement iter(self).\n",
      " |  \n",
      " |  __le__(self, value, /)\n",
      " |      Return self<=value.\n",
      " |  \n",
      " |  __len__(self, /)\n",
      " |      Return len(self).\n",
      " |  \n",
      " |  __lt__(self, value, /)\n",
      " |      Return self<value.\n",
      " |  \n",
      " |  __mul__(self, value, /)\n",
      " |      Return self*value.\n",
      " |  \n",
      " |  __ne__(self, value, /)\n",
      " |      Return self!=value.\n",
      " |  \n",
      " |  __rmul__(self, value, /)\n",
      " |      Return value*self.\n",
      " |  \n",
      " |  count(self, value, /)\n",
      " |      Return number of occurrences of value.\n",
      " |  \n",
      " |  index(self, value, start=0, stop=9223372036854775807, /)\n",
      " |      Return first index of value.\n",
      " |      \n",
      " |      Raises ValueError if the value is not present.\n",
      "\n"
     ]
    }
   ],
   "source": [
    "help(Point3D)"
   ]
  },
  {
   "cell_type": "code",
   "execution_count": 12,
   "metadata": {},
   "outputs": [
    {
     "name": "stdout",
     "output_type": "stream",
     "text": [
      "Represents a 3D Cartesian coordinate.\n",
      "x coordinate\n",
      "y coordinate\n"
     ]
    }
   ],
   "source": [
    "# change DocString\n",
    "Point3D.__doc__ = 'Represents a 3D Cartesian coordinate.'\n",
    "Point3D.x.__doc__ = 'x coordinate'\n",
    "Point3D.y.__doc__ = 'y coordinate'\n",
    "\n",
    "print(Point3D.__doc__)          #> Represents a 3D Cartesian coordinate.\n",
    "print(Point3D.x.__doc__)        #> x coordinate\n",
    "print(Point3D.y.__doc__)        #> y coordinate"
   ]
  },
  {
   "cell_type": "code",
   "execution_count": 13,
   "metadata": {},
   "outputs": [
    {
     "name": "stdout",
     "output_type": "stream",
     "text": [
      "Help on class Point3D in module __main__:\n",
      "\n",
      "class Point3D(builtins.tuple)\n",
      " |  Point3D(x, y, z)\n",
      " |  \n",
      " |  Represents a 3D Cartesian coordinate.\n",
      " |  \n",
      " |  Method resolution order:\n",
      " |      Point3D\n",
      " |      builtins.tuple\n",
      " |      builtins.object\n",
      " |  \n",
      " |  Methods defined here:\n",
      " |  \n",
      " |  __getnewargs__(self)\n",
      " |      Return self as a plain tuple.  Used by copy and pickle.\n",
      " |  \n",
      " |  __repr__(self)\n",
      " |      Return a nicely formatted representation string\n",
      " |  \n",
      " |  _asdict(self)\n",
      " |      Return a new OrderedDict which maps field names to their values.\n",
      " |  \n",
      " |  _replace(_self, **kwds)\n",
      " |      Return a new Point3D object replacing specified fields with new values\n",
      " |  \n",
      " |  ----------------------------------------------------------------------\n",
      " |  Class methods defined here:\n",
      " |  \n",
      " |  _make(iterable) from builtins.type\n",
      " |      Make a new Point3D object from a sequence or iterable\n",
      " |  \n",
      " |  ----------------------------------------------------------------------\n",
      " |  Static methods defined here:\n",
      " |  \n",
      " |  __new__(_cls, x, y, z)\n",
      " |      Create new instance of Point3D(x, y, z)\n",
      " |  \n",
      " |  ----------------------------------------------------------------------\n",
      " |  Data descriptors defined here:\n",
      " |  \n",
      " |  x\n",
      " |      x coordinate\n",
      " |  \n",
      " |  y\n",
      " |      y coordinate\n",
      " |  \n",
      " |  z\n",
      " |      Alias for field number 2\n",
      " |  \n",
      " |  ----------------------------------------------------------------------\n",
      " |  Data and other attributes defined here:\n",
      " |  \n",
      " |  _fields = ('x', 'y', 'z')\n",
      " |  \n",
      " |  _fields_defaults = {}\n",
      " |  \n",
      " |  ----------------------------------------------------------------------\n",
      " |  Methods inherited from builtins.tuple:\n",
      " |  \n",
      " |  __add__(self, value, /)\n",
      " |      Return self+value.\n",
      " |  \n",
      " |  __contains__(self, key, /)\n",
      " |      Return key in self.\n",
      " |  \n",
      " |  __eq__(self, value, /)\n",
      " |      Return self==value.\n",
      " |  \n",
      " |  __ge__(self, value, /)\n",
      " |      Return self>=value.\n",
      " |  \n",
      " |  __getattribute__(self, name, /)\n",
      " |      Return getattr(self, name).\n",
      " |  \n",
      " |  __getitem__(self, key, /)\n",
      " |      Return self[key].\n",
      " |  \n",
      " |  __gt__(self, value, /)\n",
      " |      Return self>value.\n",
      " |  \n",
      " |  __hash__(self, /)\n",
      " |      Return hash(self).\n",
      " |  \n",
      " |  __iter__(self, /)\n",
      " |      Implement iter(self).\n",
      " |  \n",
      " |  __le__(self, value, /)\n",
      " |      Return self<=value.\n",
      " |  \n",
      " |  __len__(self, /)\n",
      " |      Return len(self).\n",
      " |  \n",
      " |  __lt__(self, value, /)\n",
      " |      Return self<value.\n",
      " |  \n",
      " |  __mul__(self, value, /)\n",
      " |      Return self*value.\n",
      " |  \n",
      " |  __ne__(self, value, /)\n",
      " |      Return self!=value.\n",
      " |  \n",
      " |  __rmul__(self, value, /)\n",
      " |      Return value*self.\n",
      " |  \n",
      " |  count(self, value, /)\n",
      " |      Return number of occurrences of value.\n",
      " |  \n",
      " |  index(self, value, start=0, stop=9223372036854775807, /)\n",
      " |      Return first index of value.\n",
      " |      \n",
      " |      Raises ValueError if the value is not present.\n",
      "\n"
     ]
    }
   ],
   "source": [
    "help(Point3D)"
   ]
  },
  {
   "cell_type": "markdown",
   "metadata": {},
   "source": [
    "<br>\n",
    "<br>\n",
    "<h4>Default values</h4>"
   ]
  },
  {
   "cell_type": "code",
   "execution_count": 14,
   "metadata": {},
   "outputs": [],
   "source": [
    "Point3D = namedtuple('Point3D', 'x, y, z')"
   ]
  },
  {
   "cell_type": "code",
   "execution_count": 15,
   "metadata": {},
   "outputs": [
    {
     "name": "stdout",
     "output_type": "stream",
     "text": [
      "Point3D(x=0, y=0, z=0)\n",
      "Point3D(x=10, y=20, z=0)\n"
     ]
    }
   ],
   "source": [
    "# way 1: using a prototype & _replace (outdated method)\n",
    "pt_template = Point3D(0, 0, 0)\n",
    "print(pt_template)              #> Point3D(x=0, y=0, z=0)\n",
    "\n",
    "pt1 = pt_template._replace(x=10, y=20)\n",
    "print(pt1)                      #> Point3D(x=10, y=20, z=0)"
   ]
  },
  {
   "cell_type": "code",
   "execution_count": 16,
   "metadata": {},
   "outputs": [
    {
     "name": "stdout",
     "output_type": "stream",
     "text": [
      "Point3D(x=5, y=15, z=30)\n"
     ]
    }
   ],
   "source": [
    "# way 2: using __new__.__defaults__ (outdated method)\n",
    "Point3D.__new__.__defaults__ = (20,30)\n",
    "\n",
    "pt2 = Point3D(5, 15)\n",
    "print(pt2)                      #> Point3D(x=5, y=15, z=30)"
   ]
  },
  {
   "cell_type": "code",
   "execution_count": 17,
   "metadata": {},
   "outputs": [
    {
     "name": "stdout",
     "output_type": "stream",
     "text": [
      "Point3D(x=6, y=16, z=300)\n"
     ]
    }
   ],
   "source": [
    "# way 3: using argument 'defaults', which value is iterable (since Python 3.7)\n",
    "Point3D = namedtuple('Point3D', 'x, y, z', defaults=(200,300))\n",
    "\n",
    "pt3 = Point3D(6, 16)\n",
    "print(pt3)                      #> Point3D(x=6, y=16, z=300)"
   ]
  },
  {
   "cell_type": "markdown",
   "metadata": {},
   "source": [
    "<br> \n",
    "<br> \n",
    "<hr> \n",
    "<h4>Application-1: Returning multiple values</h4>"
   ]
  },
  {
   "cell_type": "code",
   "execution_count": 18,
   "metadata": {},
   "outputs": [],
   "source": [
    "from random import randint, random\n",
    "from collections import namedtuple"
   ]
  },
  {
   "cell_type": "code",
   "execution_count": 19,
   "metadata": {},
   "outputs": [],
   "source": [
    "Color = namedtuple('Color', 'red, blue, green, alpha')"
   ]
  },
  {
   "cell_type": "code",
   "execution_count": 20,
   "metadata": {},
   "outputs": [],
   "source": [
    "def random_color():\n",
    "    red = randint(0,255)\n",
    "    blue = randint(0,255)\n",
    "    green = randint(0,255)\n",
    "    alpha = round(random(), 2)\n",
    "    return Color(red, blue, green, alpha)"
   ]
  },
  {
   "cell_type": "code",
   "execution_count": 21,
   "metadata": {},
   "outputs": [
    {
     "name": "stdout",
     "output_type": "stream",
     "text": [
      "Color(red=171, blue=15, green=55, alpha=0.21)\n",
      "171 15 55 0.21\n"
     ]
    }
   ],
   "source": [
    "color = random_color()\n",
    "print(color)\n",
    "\n",
    "red, blue, green, alpha = color\n",
    "print(red, blue, green, alpha)"
   ]
  },
  {
   "cell_type": "markdown",
   "metadata": {},
   "source": [
    "<br> \n",
    "<br> \n",
    "<h4>Application-2: Alternative to dictionaries</h4>"
   ]
  },
  {
   "cell_type": "code",
   "execution_count": 22,
   "metadata": {},
   "outputs": [],
   "source": [
    "from collections import namedtuple"
   ]
  },
  {
   "cell_type": "code",
   "execution_count": 23,
   "metadata": {},
   "outputs": [],
   "source": [
    "# Fucntion converts a list of dictionary to a list of named tuples\n",
    "# Names in the dictionary must be a valid names for named tuple\n",
    "def tuplify_dicts(dicts):\n",
    "    keys = {key for dict_ in dicts for key in dict_.keys()}          # generate keys\n",
    "    Struct = namedtuple('Struct', sorted(keys), defaults=(None,)*len(keys))  # create returning class with default values\n",
    "    return [Struct(**dict_) for dict_ in dicts]"
   ]
  },
  {
   "cell_type": "code",
   "execution_count": 24,
   "metadata": {},
   "outputs": [
    {
     "data": {
      "text/plain": [
       "[Struct(key1=1, key2=2, key3=None),\n",
       " Struct(key1=3, key2=4, key3=None),\n",
       " Struct(key1=5, key2=6, key3=7),\n",
       " Struct(key1=None, key2=100, key3=None)]"
      ]
     },
     "execution_count": 24,
     "metadata": {},
     "output_type": "execute_result"
    }
   ],
   "source": [
    "# example of work\n",
    "data_list = [\n",
    "    {'key1':1, 'key2':2},\n",
    "    {'key1':3, 'key2':4},\n",
    "    {'key1':5, 'key2':6, 'key3':7},\n",
    "    {'key2':100}\n",
    "]\n",
    "\n",
    "tuple_list = tuplify_dicts(data_list)\n",
    "tuple_list"
   ]
  }
 ],
 "metadata": {
  "kernelspec": {
   "display_name": "Python 3",
   "language": "python",
   "name": "python3"
  },
  "language_info": {
   "codemirror_mode": {
    "name": "ipython",
    "version": 3
   },
   "file_extension": ".py",
   "mimetype": "text/x-python",
   "name": "python",
   "nbconvert_exporter": "python",
   "pygments_lexer": "ipython3",
   "version": "3.7.3"
  }
 },
 "nbformat": 4,
 "nbformat_minor": 2
}
