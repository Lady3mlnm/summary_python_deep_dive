{
 "cells": [
  {
   "cell_type": "markdown",
   "metadata": {},
   "source": [
    "<h3>List vs Tuple</h3>"
   ]
  },
  {
   "cell_type": "code",
   "execution_count": 1,
   "metadata": {},
   "outputs": [],
   "source": [
    "from dis import dis\n",
    "import sys"
   ]
  },
  {
   "cell_type": "code",
   "execution_count": 2,
   "metadata": {},
   "outputs": [
    {
     "name": "stdout",
     "output_type": "stream",
     "text": [
      "  1           0 LOAD_CONST               0 ((1, 2, 3, 'a'))\n",
      "              2 RETURN_VALUE\n"
     ]
    }
   ],
   "source": [
    "dis(compile('(1, 2, 3, \"a\")', 'string', 'eval'))"
   ]
  },
  {
   "cell_type": "code",
   "execution_count": 3,
   "metadata": {},
   "outputs": [
    {
     "name": "stdout",
     "output_type": "stream",
     "text": [
      "  1           0 LOAD_CONST               0 (1)\n",
      "              2 LOAD_CONST               1 (2)\n",
      "              4 LOAD_CONST               2 (3)\n",
      "              6 LOAD_CONST               3 ('a')\n",
      "              8 BUILD_LIST               4\n",
      "             10 RETURN_VALUE\n"
     ]
    }
   ],
   "source": [
    "dis(compile('[1, 2, 3, \"a\"]', 'string', 'eval'))"
   ]
  },
  {
   "cell_type": "code",
   "execution_count": 4,
   "metadata": {},
   "outputs": [
    {
     "name": "stdout",
     "output_type": "stream",
     "text": [
      "  1           0 LOAD_CONST               0 (1)\n",
      "              2 LOAD_CONST               1 (2)\n",
      "              4 LOAD_CONST               2 (3)\n",
      "              6 LOAD_CONST               3 (10)\n",
      "              8 LOAD_CONST               4 (20)\n",
      "             10 BUILD_LIST               2\n",
      "             12 BUILD_TUPLE              4\n",
      "             14 RETURN_VALUE\n"
     ]
    }
   ],
   "source": [
    "dis(compile('(1, 2, 3, [10, 20])', 'string', 'eval'))"
   ]
  },
  {
   "cell_type": "code",
   "execution_count": 5,
   "metadata": {},
   "outputs": [
    {
     "name": "stdout",
     "output_type": "stream",
     "text": [
      "  1           0 LOAD_NAME                0 (fn1)\n",
      "              2 LOAD_CONST               0 (10)\n",
      "              4 LOAD_CONST               1 (20)\n",
      "              6 BUILD_TUPLE              3\n",
      "              8 RETURN_VALUE\n"
     ]
    }
   ],
   "source": [
    "def fn1():\n",
    "    pass\n",
    "\n",
    "dis(compile('(fn1, 10, 20)', 'string', 'eval'))"
   ]
  },
  {
   "cell_type": "markdown",
   "metadata": {},
   "source": [
    "<br>\n",
    "<br>\n",
    "Copying of list and tuple:"
   ]
  },
  {
   "cell_type": "code",
   "execution_count": 6,
   "metadata": {},
   "outputs": [
    {
     "data": {
      "text/plain": [
       "(140576161002312, 140576195461256)"
      ]
     },
     "execution_count": 6,
     "metadata": {},
     "output_type": "execute_result"
    }
   ],
   "source": [
    "ls1 = [1, 2, 3]\n",
    "ls2 = list(ls1)\n",
    "id(ls1), id(ls2)"
   ]
  },
  {
   "cell_type": "code",
   "execution_count": 7,
   "metadata": {},
   "outputs": [
    {
     "data": {
      "text/plain": [
       "(140576160523752, 140576160523752)"
      ]
     },
     "execution_count": 7,
     "metadata": {},
     "output_type": "execute_result"
    }
   ],
   "source": [
    "tp1 = (1, 2, 3)\n",
    "tp2 = tuple(tp1)\n",
    "id(tp1), id(tp2)"
   ]
  },
  {
   "cell_type": "markdown",
   "metadata": {},
   "source": [
    "<br>\n",
    "<br>\n",
    "Storage efficiency:"
   ]
  },
  {
   "cell_type": "code",
   "execution_count": 8,
   "metadata": {},
   "outputs": [
    {
     "name": "stdout",
     "output_type": "stream",
     "text": [
      " 1 items:  56,   Δ=8\n",
      " 2 items:  64,   Δ=8\n",
      " 3 items:  72,   Δ=8\n",
      " 4 items:  80,   Δ=8\n",
      " 5 items:  88,   Δ=8\n",
      " 6 items:  96,   Δ=8\n",
      " 7 items: 104,   Δ=8\n",
      " 8 items: 112,   Δ=8\n",
      " 9 items: 120,   Δ=8\n",
      "10 items: 128,   Δ=8\n"
     ]
    }
   ],
   "source": [
    "tp_empty = tuple()\n",
    "prev = sys.getsizeof(tp_empty)\n",
    "\n",
    "for i in range(1,11):\n",
    "    tp = tuple(range(i))\n",
    "    size_c = sys.getsizeof(tp)\n",
    "    delta = size_c - prev\n",
    "    prev = size_c\n",
    "    print(f'{i:2} items: {size_c:3},   Δ={delta}')"
   ]
  },
  {
   "cell_type": "code",
   "execution_count": 9,
   "metadata": {},
   "outputs": [
    {
     "name": "stdout",
     "output_type": "stream",
     "text": [
      " 1 items:  96,   Δ=32\n",
      " 2 items: 104,   Δ= 8\n",
      " 3 items: 112,   Δ= 8\n",
      " 4 items: 120,   Δ= 8\n",
      " 5 items: 128,   Δ= 8\n",
      " 6 items: 136,   Δ= 8\n",
      " 7 items: 144,   Δ= 8\n",
      " 8 items: 160,   Δ=16\n",
      " 9 items: 192,   Δ=32\n",
      "10 items: 200,   Δ= 8\n",
      "11 items: 208,   Δ= 8\n",
      "12 items: 216,   Δ= 8\n",
      "13 items: 224,   Δ= 8\n",
      "14 items: 232,   Δ= 8\n",
      "15 items: 240,   Δ= 8\n",
      "16 items: 256,   Δ=16\n",
      "17 items: 264,   Δ= 8\n",
      "18 items: 272,   Δ= 8\n",
      "19 items: 280,   Δ= 8\n",
      "20 items: 288,   Δ= 8\n",
      "21 items: 296,   Δ= 8\n",
      "22 items: 304,   Δ= 8\n",
      "23 items: 312,   Δ= 8\n",
      "24 items: 328,   Δ=16\n",
      "25 items: 336,   Δ= 8\n",
      "26 items: 344,   Δ= 8\n",
      "27 items: 352,   Δ= 8\n",
      "28 items: 360,   Δ= 8\n"
     ]
    }
   ],
   "source": [
    "ls_empty = list()\n",
    "prev = sys.getsizeof(ls_empty)\n",
    "\n",
    "for i in range(1,29):\n",
    "    ls = list(range(i))\n",
    "    size_c = sys.getsizeof(ls)\n",
    "    delta = size_c - prev\n",
    "    prev = size_c\n",
    "    print(f'{i:2} items: {size_c:3},   Δ={delta:2}')"
   ]
  },
  {
   "cell_type": "code",
   "execution_count": 10,
   "metadata": {},
   "outputs": [
    {
     "name": "stdout",
     "output_type": "stream",
     "text": [
      " 0 items:  64\n",
      " 1 items:  96,   Δ=32,   id=140576160261384\n",
      " 2 items:  96,   Δ= 0,   id=140576160261384,   shift=-32\n",
      " 3 items:  96,   Δ= 0,   id=140576160261384,   shift=-32\n",
      " 4 items:  96,   Δ= 0,   id=140576160261384,   shift=-32\n",
      " 5 items: 128,   Δ=32,   id=140576160261384,   shift=-32\n",
      " 6 items: 128,   Δ= 0,   id=140576160261384,   shift=-32\n",
      " 7 items: 128,   Δ= 0,   id=140576160261384,   shift=-32\n",
      " 8 items: 128,   Δ= 0,   id=140576160261384,   shift=-32\n",
      " 9 items: 192,   Δ=64,   id=140576160261384,   shift=-32\n",
      "10 items: 192,   Δ= 0,   id=140576160261384,   shift=-32\n",
      "11 items: 192,   Δ= 0,   id=140576160261384,   shift=-32\n",
      "12 items: 192,   Δ= 0,   id=140576160261384,   shift=-32\n",
      "13 items: 192,   Δ= 0,   id=140576160261384,   shift=-32\n",
      "14 items: 192,   Δ= 0,   id=140576160261384,   shift=-32\n",
      "15 items: 192,   Δ= 0,   id=140576160261384,   shift=-32\n",
      "16 items: 192,   Δ= 0,   id=140576160261384,   shift=-32\n",
      "17 items: 264,   Δ=72,   id=140576160261384,   shift=-32\n",
      "18 items: 264,   Δ= 0,   id=140576160261384,   shift=-32\n",
      "19 items: 264,   Δ= 0,   id=140576160261384,   shift=-32\n",
      "20 items: 264,   Δ= 0,   id=140576160261384,   shift=-32\n",
      "21 items: 264,   Δ= 0,   id=140576160261384,   shift=-32\n",
      "22 items: 264,   Δ= 0,   id=140576160261384,   shift=-32\n",
      "23 items: 264,   Δ= 0,   id=140576160261384,   shift=-32\n",
      "24 items: 264,   Δ= 0,   id=140576160261384,   shift=-32\n",
      "25 items: 264,   Δ= 0,   id=140576160261384,   shift=-32\n",
      "26 items: 344,   Δ=80,   id=140576160261384,   shift=-32\n",
      "27 items: 344,   Δ= 0,   id=140576160261384,   shift=-32\n",
      "28 items: 344,   Δ= 0,   id=140576160261384,   shift=-32\n"
     ]
    }
   ],
   "source": [
    "ls = list()\n",
    "prev = sys.getsizeof(ls)\n",
    "print(f' 0 items: {prev:3}')\n",
    "      \n",
    "for i in range(1,29):\n",
    "    ls.append(i)\n",
    "    size_c = sys.getsizeof(ls)\n",
    "    delta = size_c - prev\n",
    "    prev = size_c\n",
    "    if len(ls) <= 1:\n",
    "        print(f'{i:2} items: {size_c:3},   Δ={delta:2},   id={id(ls)}')\n",
    "    else:\n",
    "        print(f'{i:2} items: {size_c:3},   Δ={delta:2},   id={id(ls)},   shift={id(ls[-2]) - id(ls[-1])}')"
   ]
  },
  {
   "cell_type": "markdown",
   "metadata": {},
   "source": [
    "<br>\n",
    "<br>\n",
    "<br>\n",
    "<br>\n",
    "<h3>Shadow copy vs Deep copy</h3>"
   ]
  },
  {
   "cell_type": "code",
   "execution_count": 11,
   "metadata": {},
   "outputs": [],
   "source": [
    "import copy"
   ]
  },
  {
   "cell_type": "code",
   "execution_count": 12,
   "metadata": {},
   "outputs": [
    {
     "name": "stdout",
     "output_type": "stream",
     "text": [
      "source:      [[100, 1], [2, 2]]\n",
      "Shadow copy: [[100, 1], [2, 2]]\n",
      "Deep copy:   [[1, 1], [2, 2]]\n"
     ]
    }
   ],
   "source": [
    "pt1 = [1, 1]\n",
    "pt2 = [2, 2]\n",
    "ln1 = [pt1, pt2]\n",
    "\n",
    "ln1_shadow_cp = copy.copy(ln1)\n",
    "ln1_deep_cp = copy.deepcopy(ln1)\n",
    "\n",
    "pt1[0] = 100\n",
    "\n",
    "print('source:     ', ln1)\n",
    "print('Shadow copy:', ln1_shadow_cp)\n",
    "print('Deep copy:  ', ln1_deep_cp)"
   ]
  },
  {
   "cell_type": "markdown",
   "metadata": {},
   "source": [
    "<br>\n",
    "<br>\n",
    "<br>\n",
    "<br>\n",
    "<h3>Slicing</h3>"
   ]
  },
  {
   "cell_type": "code",
   "execution_count": 13,
   "metadata": {},
   "outputs": [
    {
     "name": "stdout",
     "output_type": "stream",
     "text": [
      "<class 'slice'>\n",
      "1\n",
      "4\n",
      "2\n"
     ]
    }
   ],
   "source": [
    "s = slice(1, 4, 2)\n",
    "\n",
    "print(type(s))\n",
    "print(s.start)\n",
    "print(s.stop)\n",
    "print(s.step)"
   ]
  },
  {
   "cell_type": "code",
   "execution_count": 14,
   "metadata": {},
   "outputs": [
    {
     "data": {
      "text/plain": [
       "[10, 30]"
      ]
     },
     "execution_count": 14,
     "metadata": {},
     "output_type": "execute_result"
    }
   ],
   "source": [
    "ls = [0, 10, 20, 30, 40]\n",
    "\n",
    "ls[s]"
   ]
  },
  {
   "cell_type": "markdown",
   "metadata": {},
   "source": [
    "<br>\n",
    "\n",
    "work with <code>indices</code>:"
   ]
  },
  {
   "cell_type": "code",
   "execution_count": 15,
   "metadata": {},
   "outputs": [],
   "source": [
    "s = slice(1, 5)"
   ]
  },
  {
   "cell_type": "code",
   "execution_count": 16,
   "metadata": {},
   "outputs": [
    {
     "data": {
      "text/plain": [
       "(1, 4, 1)"
      ]
     },
     "execution_count": 16,
     "metadata": {},
     "output_type": "execute_result"
    }
   ],
   "source": [
    "s.indices(4)"
   ]
  },
  {
   "cell_type": "code",
   "execution_count": 17,
   "metadata": {},
   "outputs": [
    {
     "data": {
      "text/plain": [
       "(1, 5, 1)"
      ]
     },
     "execution_count": 17,
     "metadata": {},
     "output_type": "execute_result"
    }
   ],
   "source": [
    "s.indices(5)"
   ]
  },
  {
   "cell_type": "code",
   "execution_count": 18,
   "metadata": {},
   "outputs": [
    {
     "data": {
      "text/plain": [
       "(1, 5, 1)"
      ]
     },
     "execution_count": 18,
     "metadata": {},
     "output_type": "execute_result"
    }
   ],
   "source": [
    "s.indices(6)"
   ]
  },
  {
   "cell_type": "markdown",
   "metadata": {},
   "source": [
    "<br>"
   ]
  },
  {
   "cell_type": "code",
   "execution_count": 19,
   "metadata": {},
   "outputs": [
    {
     "data": {
      "text/plain": [
       "[5, 7, 9]"
      ]
     },
     "execution_count": 19,
     "metadata": {},
     "output_type": "execute_result"
    }
   ],
   "source": [
    "start = 5\n",
    "stop = 10\n",
    "step = 2\n",
    "length = 100\n",
    "\n",
    "list(range(*slice(start, stop, step).indices(length)))"
   ]
  },
  {
   "cell_type": "markdown",
   "metadata": {},
   "source": [
    "<br>\n",
    "<br>\n",
    "<br>\n",
    "<br>\n",
    "<h3>In-place concatenation and repetition</h3>\n",
    "\n",
    "Concatenation of lists and tuples:"
   ]
  },
  {
   "cell_type": "code",
   "execution_count": 20,
   "metadata": {},
   "outputs": [
    {
     "name": "stdout",
     "output_type": "stream",
     "text": [
      "140576161003400 - [0, 10]         140576161003912 - [20, 30]\n",
      "140576161002952 - [0, 10, 20, 30]\n"
     ]
    }
   ],
   "source": [
    "l1 = [0, 10]\n",
    "l2 = [20, 30]\n",
    "print(f'{id(l1)} - {l1}         {id(l2)} - {l2}')\n",
    "\n",
    "l1 = l1 + l2\n",
    "print(f'{id(l1)} - {l1}')"
   ]
  },
  {
   "cell_type": "code",
   "execution_count": 21,
   "metadata": {},
   "outputs": [
    {
     "name": "stdout",
     "output_type": "stream",
     "text": [
      "140576161003528 - [0, 10]         140576161003016 - [20, 30]\n",
      "140576161003528 - [0, 10, 20, 30]\n"
     ]
    }
   ],
   "source": [
    "l1 = [0, 10]\n",
    "l2 = [20, 30]\n",
    "print(f'{id(l1)} - {l1}         {id(l2)} - {l2}')\n",
    "\n",
    "l1 += l2\n",
    "print(f'{id(l1)} - {l1}')"
   ]
  },
  {
   "cell_type": "markdown",
   "metadata": {},
   "source": [
    "<br>\n",
    "<br>\n",
    "\n",
    "The same patterns with repetition:"
   ]
  },
  {
   "cell_type": "code",
   "execution_count": 22,
   "metadata": {},
   "outputs": [
    {
     "name": "stdout",
     "output_type": "stream",
     "text": [
      "140576161003912 - [0, 10]\n",
      "140576161003528 - [0, 10, 0, 10]\n"
     ]
    }
   ],
   "source": [
    "l1 = [0, 10]\n",
    "print(f'{id(l1)} - {l1}')\n",
    "\n",
    "l1 = l1 * 2\n",
    "print(f'{id(l1)} - {l1}')"
   ]
  },
  {
   "cell_type": "code",
   "execution_count": 23,
   "metadata": {},
   "outputs": [
    {
     "name": "stdout",
     "output_type": "stream",
     "text": [
      "140576161003208 - [0, 10]\n",
      "140576161003208 - [0, 10, 0, 10]\n"
     ]
    }
   ],
   "source": [
    "l1 = [0, 10]\n",
    "print(f'{id(l1)} - {l1}')\n",
    "\n",
    "l1 *= 2\n",
    "print(f'{id(l1)} - {l1}')"
   ]
  },
  {
   "cell_type": "markdown",
   "metadata": {},
   "source": [
    "<br>\n",
    "<br>\n",
    "It's interesting with addition of tuple to list:"
   ]
  },
  {
   "cell_type": "code",
   "execution_count": 24,
   "metadata": {},
   "outputs": [],
   "source": [
    "l1 = [0, 10]\n",
    "t1 = ('a', 'b')\n",
    "\n",
    "# l1 = l1 + t1   # error: can only concatenate list (not \"tuple\") to list"
   ]
  },
  {
   "cell_type": "code",
   "execution_count": 25,
   "metadata": {},
   "outputs": [
    {
     "name": "stdout",
     "output_type": "stream",
     "text": [
      "140576161004104 - [0, 10]           140576195452616 - ('a', 'b')\n",
      "140576161004104 - [0, 10, 'a', 'b']\n"
     ]
    }
   ],
   "source": [
    "l1 = [0, 10]\n",
    "t1 = ('a', 'b')\n",
    "\n",
    "print(f'{id(l1)} - {l1}           {id(t1)} - {t1}')\n",
    "\n",
    "l1 += t1\n",
    "print(f'{id(l1)} - {l1}')"
   ]
  },
  {
   "cell_type": "markdown",
   "metadata": {},
   "source": [
    "<br>\n",
    "<br>\n",
    "<br>\n",
    "<br>\n",
    "<h3>Shadow copy vs Deep copy</h3>"
   ]
  },
  {
   "cell_type": "code",
   "execution_count": 26,
   "metadata": {},
   "outputs": [
    {
     "name": "stdout",
     "output_type": "stream",
     "text": [
      "140576161004040\n",
      "140576161004040\n",
      "['p', 'y', 't', 'h', 'o', 'n', 4, 5]\n"
     ]
    }
   ],
   "source": [
    "# replacement\n",
    "ls = [1, 2, 3, 4, 5]\n",
    "print(id(ls))\n",
    "\n",
    "ls[0:3] = 'python'\n",
    "print(id(ls))\n",
    "print(ls)"
   ]
  },
  {
   "cell_type": "code",
   "execution_count": 27,
   "metadata": {},
   "outputs": [
    {
     "name": "stdout",
     "output_type": "stream",
     "text": [
      "140576161004232\n",
      "140576161004232\n",
      "['a', 2, 'b', 4, 'c']\n"
     ]
    }
   ],
   "source": [
    "# more complicated example of replacement (with extended slices)\n",
    "ls = [1, 2, 3, 4, 5]\n",
    "print(id(ls))\n",
    "ls[::2] = ('a', 'b', 'c')\n",
    "\n",
    "print(id(ls))\n",
    "print(ls)"
   ]
  },
  {
   "cell_type": "code",
   "execution_count": 28,
   "metadata": {},
   "outputs": [
    {
     "name": "stdout",
     "output_type": "stream",
     "text": [
      "140576161004040\n",
      "140576161004040\n",
      "[1, 2, 5]\n"
     ]
    }
   ],
   "source": [
    "# deletion\n",
    "ls = [1, 2, 3, 4, 5]\n",
    "print(id(ls))\n",
    "\n",
    "ls[2:4] = []  # or any other empty iterable such as ''\n",
    "print(id(ls))\n",
    "print(ls)"
   ]
  },
  {
   "cell_type": "code",
   "execution_count": 29,
   "metadata": {},
   "outputs": [
    {
     "name": "stdout",
     "output_type": "stream",
     "text": [
      "140576161002184\n",
      "140576161002184\n",
      "[1, 2, 'a', 'b', 3, 4, 5]\n"
     ]
    }
   ],
   "source": [
    "# insertion\n",
    "ls = [1, 2, 3, 4, 5]\n",
    "print(id(ls))\n",
    "ls[2:2] = ('a', 'b')\n",
    "\n",
    "print(id(ls))\n",
    "print(ls)"
   ]
  },
  {
   "cell_type": "markdown",
   "metadata": {},
   "source": [
    "<br>\n",
    "<br>\n",
    "<br>\n",
    "<br>\n",
    "<h3>Sorting sequences</h3>"
   ]
  },
  {
   "cell_type": "markdown",
   "metadata": {},
   "source": [
    "Sorting of dictionary:"
   ]
  },
  {
   "cell_type": "code",
   "execution_count": 30,
   "metadata": {},
   "outputs": [],
   "source": [
    "d = {'a': 100, 'c': 10, 'b':50}"
   ]
  },
  {
   "cell_type": "code",
   "execution_count": 31,
   "metadata": {},
   "outputs": [
    {
     "data": {
      "text/plain": [
       "['a', 'b', 'c']"
      ]
     },
     "execution_count": 31,
     "metadata": {},
     "output_type": "execute_result"
    }
   ],
   "source": [
    "sorted(d)"
   ]
  },
  {
   "cell_type": "code",
   "execution_count": 32,
   "metadata": {},
   "outputs": [
    {
     "data": {
      "text/plain": [
       "['c', 'b', 'a']"
      ]
     },
     "execution_count": 32,
     "metadata": {},
     "output_type": "execute_result"
    }
   ],
   "source": [
    "sorted(d, key=lambda k: d[k])"
   ]
  },
  {
   "cell_type": "markdown",
   "metadata": {},
   "source": [
    "<br>\n",
    "Sorting of list:"
   ]
  },
  {
   "cell_type": "code",
   "execution_count": 33,
   "metadata": {},
   "outputs": [],
   "source": [
    "t = 'this', 'parrot', 'is', 'a', 'late', 'bird'"
   ]
  },
  {
   "cell_type": "code",
   "execution_count": 34,
   "metadata": {},
   "outputs": [
    {
     "data": {
      "text/plain": [
       "['a', 'bird', 'is', 'late', 'parrot', 'this']"
      ]
     },
     "execution_count": 34,
     "metadata": {},
     "output_type": "execute_result"
    }
   ],
   "source": [
    "sorted(t)"
   ]
  },
  {
   "cell_type": "code",
   "execution_count": 35,
   "metadata": {},
   "outputs": [
    {
     "data": {
      "text/plain": [
       "['a', 'is', 'this', 'late', 'bird', 'parrot']"
      ]
     },
     "execution_count": 35,
     "metadata": {},
     "output_type": "execute_result"
    }
   ],
   "source": [
    "sorted(t, key=lambda s: len(s))"
   ]
  },
  {
   "cell_type": "markdown",
   "metadata": {},
   "source": [
    "Here words 'this', 'late', 'bird' are located according rules of stable sort."
   ]
  },
  {
   "cell_type": "markdown",
   "metadata": {},
   "source": [
    "<br>\n",
    "If we sort tuple via <code>sorted</code> we get list:"
   ]
  },
  {
   "cell_type": "code",
   "execution_count": 36,
   "metadata": {},
   "outputs": [],
   "source": [
    "tp_complex = 0, 10+10j, 3-3j, 4+4j, 5-2j"
   ]
  },
  {
   "cell_type": "code",
   "execution_count": 37,
   "metadata": {},
   "outputs": [
    {
     "data": {
      "text/plain": [
       "[0, (3-3j), (5-2j), (4+4j), (10+10j)]"
      ]
     },
     "execution_count": 37,
     "metadata": {},
     "output_type": "execute_result"
    }
   ],
   "source": [
    "sorted(tp_complex, key=abs)"
   ]
  },
  {
   "cell_type": "markdown",
   "metadata": {},
   "source": [
    "<br>\n",
    "Sorting of objects of our class:"
   ]
  },
  {
   "cell_type": "code",
   "execution_count": 38,
   "metadata": {},
   "outputs": [],
   "source": [
    "class MyClass:\n",
    "    def __init__(self, name, val):\n",
    "        self.name = name\n",
    "        self.val = val\n",
    "        \n",
    "    def __repr__(self):\n",
    "        return f'MyClass({self.name}, {self.val})'\n",
    "    \n",
    "    def __lt__(self, other):\n",
    "        return self.val < other.val"
   ]
  },
  {
   "cell_type": "code",
   "execution_count": 39,
   "metadata": {},
   "outputs": [],
   "source": [
    "c1 = MyClass('c1', 20)\n",
    "c2 = MyClass('c2', 10)\n",
    "c3 = MyClass('c3', 20)\n",
    "c4 = MyClass('c4', 10)\n",
    "cs = [c1, c2, c3, c4]"
   ]
  },
  {
   "cell_type": "code",
   "execution_count": 40,
   "metadata": {},
   "outputs": [
    {
     "data": {
      "text/plain": [
       "[MyClass(c2, 10), MyClass(c4, 10), MyClass(c1, 20), MyClass(c3, 20)]"
      ]
     },
     "execution_count": 40,
     "metadata": {},
     "output_type": "execute_result"
    }
   ],
   "source": [
    "sorted(cs)"
   ]
  },
  {
   "cell_type": "code",
   "execution_count": 41,
   "metadata": {},
   "outputs": [
    {
     "data": {
      "text/plain": [
       "[MyClass(c4, 10), MyClass(c3, 20), MyClass(c2, 10), MyClass(c1, 20)]"
      ]
     },
     "execution_count": 41,
     "metadata": {},
     "output_type": "execute_result"
    }
   ],
   "source": [
    "sorted(cs, key=lambda c: c.name, reverse=True)"
   ]
  },
  {
   "cell_type": "markdown",
   "metadata": {},
   "source": [
    "<br>\n",
    "<br>\n",
    "<br>\n",
    "<br>\n",
    "<h3>List comprehensions</h3>"
   ]
  },
  {
   "cell_type": "markdown",
   "metadata": {},
   "source": [
    "Creating list of tuple where the first number is divided by 2 the the second is divided by 3:"
   ]
  },
  {
   "cell_type": "code",
   "execution_count": 42,
   "metadata": {},
   "outputs": [
    {
     "name": "stdout",
     "output_type": "stream",
     "text": [
      "(2, 3)\n",
      "(2, 6)\n",
      "(4, 3)\n",
      "(4, 6)\n"
     ]
    }
   ],
   "source": [
    "# Classical approach\n",
    "ls = []\n",
    "for i in range(1,5):\n",
    "    if i%2 == 0:\n",
    "        for j in range(1,7):\n",
    "            if j%3 == 0:\n",
    "                ls.append((i,j))\n",
    "                \n",
    "print(*ls, sep='\\n')"
   ]
  },
  {
   "cell_type": "code",
   "execution_count": 43,
   "metadata": {},
   "outputs": [
    {
     "name": "stdout",
     "output_type": "stream",
     "text": [
      "(2, 3)\n",
      "(2, 6)\n",
      "(4, 3)\n",
      "(4, 6)\n"
     ]
    }
   ],
   "source": [
    "# List comprehension\n",
    "ls = [ (i, j)\n",
    "     for i in range(1,5) if i%2 == 0\n",
    "     for j in range(1,7) if j%3 == 0 ]\n",
    "\n",
    "print(*ls, sep='\\n')"
   ]
  },
  {
   "cell_type": "markdown",
   "metadata": {},
   "source": [
    "<br>\n",
    "<br>\n",
    "Let's look inside list comprehension object (that de-facto is function):"
   ]
  },
  {
   "cell_type": "code",
   "execution_count": 44,
   "metadata": {},
   "outputs": [
    {
     "data": {
      "text/plain": [
       "<code object <module> at 0x7fda701c29c0, file \"string\", line 1>"
      ]
     },
     "execution_count": 44,
     "metadata": {},
     "output_type": "execute_result"
    }
   ],
   "source": [
    "compiled_code = compile('[i**2 for i in (1,2,3)]', filename='string', mode='eval')\n",
    "\n",
    "compiled_code"
   ]
  },
  {
   "cell_type": "code",
   "execution_count": 45,
   "metadata": {},
   "outputs": [
    {
     "name": "stdout",
     "output_type": "stream",
     "text": [
      "  1           0 LOAD_CONST               0 (<code object <listcomp> at 0x7fda701c2a50, file \"string\", line 1>)\n",
      "              2 LOAD_CONST               1 ('<listcomp>')\n",
      "              4 MAKE_FUNCTION            0\n",
      "              6 LOAD_CONST               2 ((1, 2, 3))\n",
      "              8 GET_ITER\n",
      "             10 CALL_FUNCTION            1\n",
      "             12 RETURN_VALUE\n",
      "\n",
      "Disassembly of <code object <listcomp> at 0x7fda701c2a50, file \"string\", line 1>:\n",
      "  1           0 BUILD_LIST               0\n",
      "              2 LOAD_FAST                0 (.0)\n",
      "        >>    4 FOR_ITER                12 (to 18)\n",
      "              6 STORE_FAST               1 (i)\n",
      "              8 LOAD_FAST                1 (i)\n",
      "             10 LOAD_CONST               0 (2)\n",
      "             12 BINARY_POWER\n",
      "             14 LIST_APPEND              2\n",
      "             16 JUMP_ABSOLUTE            4\n",
      "        >>   18 RETURN_VALUE\n"
     ]
    }
   ],
   "source": [
    "import dis\n",
    "\n",
    "dis.dis(compiled_code)"
   ]
  },
  {
   "cell_type": "markdown",
   "metadata": {},
   "source": [
    "<br>"
   ]
  },
  {
   "cell_type": "markdown",
   "metadata": {},
   "source": [
    "<br>\n",
    "Nested comprehensions on example of creating a Pascal's triangle:"
   ]
  },
  {
   "cell_type": "code",
   "execution_count": 46,
   "metadata": {},
   "outputs": [
    {
     "data": {
      "text/plain": [
       "[[1],\n",
       " [1, 1],\n",
       " [1, 2, 1],\n",
       " [1, 3, 3, 1],\n",
       " [1, 4, 6, 4, 1],\n",
       " [1, 5, 10, 10, 5, 1],\n",
       " [1, 6, 15, 20, 15, 6, 1],\n",
       " [1, 7, 21, 35, 35, 21, 7, 1],\n",
       " [1, 8, 28, 56, 70, 56, 28, 8, 1],\n",
       " [1, 9, 36, 84, 126, 126, 84, 36, 9, 1],\n",
       " [1, 10, 45, 120, 210, 252, 210, 120, 45, 10, 1]]"
      ]
     },
     "execution_count": 46,
     "metadata": {},
     "output_type": "execute_result"
    }
   ],
   "source": [
    "\"\"\"\n",
    "    1\n",
    "   1 1\n",
    "  1 2 1\n",
    " 1 3 3 1\n",
    "1 4 6 4 1\n",
    "\n",
    "Calculation of combinations: C(n, k) = n! / (k! * (n-k)!)\n",
    "\n",
    "            C(0,0)\n",
    "        C(1,0)  C(1,1)\n",
    "    C(2,0)  C(2,1)  C(2,3)\n",
    "C(3,0)  C(3,1)  C(3,2)  C(3,3)\n",
    "\"\"\"\n",
    "\n",
    "from math import factorial\n",
    "\n",
    "def combo(n, k):\n",
    "    return factorial(n) // (factorial(k) * factorial(n-k))\n",
    "\n",
    "size = 10\n",
    "\n",
    "pascal = [[combo(n, k) for k in range(n+1)] for n in range(size+1)]\n",
    "\n",
    "pascal"
   ]
  },
  {
   "cell_type": "markdown",
   "metadata": {},
   "source": [
    "<br>\n",
    "<br>\n",
    "Dot product (scalar product) of two vectors:"
   ]
  },
  {
   "cell_type": "code",
   "execution_count": 47,
   "metadata": {},
   "outputs": [
    {
     "name": "stdout",
     "output_type": "stream",
     "text": [
      "910\n",
      "910\n",
      "910\n",
      "910\n",
      "910\n"
     ]
    }
   ],
   "source": [
    "\"\"\"\n",
    "v1 = (c1, c2, c3, ..., cn)\n",
    "v2 = (d1, d2, d3, ..., dn)\n",
    "\n",
    "v1 . v2 = c1*d1 + c2*d2 + c3*d3 + ... + cn*dn\n",
    "\"\"\"\n",
    "\n",
    "v1 = (1, 2, 3, 4, 5, 6)\n",
    "v2 = (10, 20, 30, 40, 50, 60)\n",
    "\n",
    "# classical approach\n",
    "dot = 0\n",
    "for i in range(len(v1)):\n",
    "    dot += v1[i] * v2[i]\n",
    "    \n",
    "print(dot)\n",
    "\n",
    "\n",
    "\n",
    "# via list comprehension\n",
    "dot = sum([v1[i] * v2[i] for i in range(len(v2))])\n",
    "print(dot)\n",
    "\n",
    "# alternative\n",
    "dot = sum([n1 * n2 for n1, n2 in zip(v1, v2)])\n",
    "print(dot)\n",
    "\n",
    "\n",
    "\n",
    "# equivalent code via generator expression\n",
    "dot = sum(v1[i] * v2[i] for i in range(len(v2)))\n",
    "print(dot)\n",
    "\n",
    "# alternative\n",
    "dot = sum(n1 * n2 for n1, n2 in zip(v1, v2))\n",
    "print(dot)"
   ]
  },
  {
   "cell_type": "markdown",
   "metadata": {},
   "source": [
    "<br>\n",
    "<br>\n",
    "<h4>Watch out!!</h4>"
   ]
  },
  {
   "cell_type": "code",
   "execution_count": 48,
   "metadata": {},
   "outputs": [],
   "source": [
    "ls = []\n",
    "for number in range(5):\n",
    "    ls.append(number**2)"
   ]
  },
  {
   "cell_type": "code",
   "execution_count": 49,
   "metadata": {},
   "outputs": [
    {
     "data": {
      "text/plain": [
       "4"
      ]
     },
     "execution_count": 49,
     "metadata": {},
     "output_type": "execute_result"
    }
   ],
   "source": [
    "number"
   ]
  },
  {
   "cell_type": "code",
   "execution_count": 50,
   "metadata": {},
   "outputs": [],
   "source": [
    "if 'number' in globals():\n",
    "    del number"
   ]
  },
  {
   "cell_type": "code",
   "execution_count": 51,
   "metadata": {},
   "outputs": [],
   "source": [
    "# number  # error: name 'number' is not defined"
   ]
  },
  {
   "cell_type": "code",
   "execution_count": 52,
   "metadata": {},
   "outputs": [],
   "source": [
    "ls = [number**2 for number in range(5)]"
   ]
  },
  {
   "cell_type": "code",
   "execution_count": 53,
   "metadata": {},
   "outputs": [
    {
     "data": {
      "text/plain": [
       "False"
      ]
     },
     "execution_count": 53,
     "metadata": {},
     "output_type": "execute_result"
    }
   ],
   "source": [
    "'number' in globals()"
   ]
  },
  {
   "cell_type": "markdown",
   "metadata": {},
   "source": [
    "In classical loop the last value of iterator variable remained in the program, but in case of list comprehension iterator variable is fully isolated in the local scope. So change loop to list comprehension or <i>vice versa</i> can have consequences on value of variable that is used for iteration. For example:"
   ]
  },
  {
   "cell_type": "code",
   "execution_count": 54,
   "metadata": {},
   "outputs": [],
   "source": [
    "number = 100"
   ]
  },
  {
   "cell_type": "code",
   "execution_count": 55,
   "metadata": {},
   "outputs": [],
   "source": [
    "ls = []\n",
    "for number in range(5):\n",
    "    ls.append(number**2)"
   ]
  },
  {
   "cell_type": "code",
   "execution_count": 56,
   "metadata": {},
   "outputs": [
    {
     "data": {
      "text/plain": [
       "4"
      ]
     },
     "execution_count": 56,
     "metadata": {},
     "output_type": "execute_result"
    }
   ],
   "source": [
    "number"
   ]
  },
  {
   "cell_type": "code",
   "execution_count": 57,
   "metadata": {},
   "outputs": [],
   "source": [
    "number = 100"
   ]
  },
  {
   "cell_type": "code",
   "execution_count": 58,
   "metadata": {},
   "outputs": [],
   "source": [
    "ls = [number**2 for number in range(5)]"
   ]
  },
  {
   "cell_type": "code",
   "execution_count": 59,
   "metadata": {},
   "outputs": [
    {
     "data": {
      "text/plain": [
       "100"
      ]
     },
     "execution_count": 59,
     "metadata": {},
     "output_type": "execute_result"
    }
   ],
   "source": [
    "number"
   ]
  },
  {
   "cell_type": "markdown",
   "metadata": {},
   "source": [
    "<br>\n",
    "Another example."
   ]
  },
  {
   "cell_type": "code",
   "execution_count": 60,
   "metadata": {},
   "outputs": [
    {
     "data": {
      "text/plain": [
       "1"
      ]
     },
     "execution_count": 60,
     "metadata": {},
     "output_type": "execute_result"
    }
   ],
   "source": [
    "# fn_0 = lambda x: x**0\n",
    "# fn_1 = lambda x: x**1\n",
    "# fn_2 = lambda x: x**2\n",
    "# fn_3 = lambda x: x**3\n",
    "\n",
    "funcs = [lambda x: x**0, lambda x: x**1, lambda x: x**2, lambda x: x**3]\n",
    "\n",
    "funcs[0](10)"
   ]
  },
  {
   "cell_type": "markdown",
   "metadata": {},
   "source": [
    "As expected.\n",
    "\n",
    "But if we do the same via loop with iterator variable <code>i</code> :"
   ]
  },
  {
   "cell_type": "code",
   "execution_count": 61,
   "metadata": {},
   "outputs": [
    {
     "data": {
      "text/plain": [
       "100000"
      ]
     },
     "execution_count": 61,
     "metadata": {},
     "output_type": "execute_result"
    }
   ],
   "source": [
    "if 'i' in globals():\n",
    "    del i\n",
    "\n",
    "funcs = []\n",
    "for i in range(6):\n",
    "    funcs.append(lambda x: x**i)\n",
    "\n",
    "funcs[0](10)"
   ]
  },
  {
   "cell_type": "markdown",
   "metadata": {},
   "source": [
    "Such a strange result because <code>i</code> is global and at this moment == 5"
   ]
  },
  {
   "cell_type": "code",
   "execution_count": 62,
   "metadata": {},
   "outputs": [
    {
     "data": {
      "text/plain": [
       "1000000000000000000000000000000"
      ]
     },
     "execution_count": 62,
     "metadata": {},
     "output_type": "execute_result"
    }
   ],
   "source": [
    "i = 30\n",
    "\n",
    "funcs[0](10)"
   ]
  },
  {
   "cell_type": "markdown",
   "metadata": {},
   "source": [
    "<br>\n",
    "With list comprehension is the same:"
   ]
  },
  {
   "cell_type": "code",
   "execution_count": 63,
   "metadata": {},
   "outputs": [
    {
     "data": {
      "text/plain": [
       "10000"
      ]
     },
     "execution_count": 63,
     "metadata": {},
     "output_type": "execute_result"
    }
   ],
   "source": [
    "if 'i' in globals():\n",
    "    del i\n",
    "\n",
    "funcs = [lambda x: x**i for i in range(5)]\n",
    "\n",
    "funcs[0](10)"
   ]
  },
  {
   "cell_type": "markdown",
   "metadata": {},
   "source": [
    "<br>\n",
    "Variant of correction:"
   ]
  },
  {
   "cell_type": "code",
   "execution_count": 64,
   "metadata": {},
   "outputs": [
    {
     "data": {
      "text/plain": [
       "1"
      ]
     },
     "execution_count": 64,
     "metadata": {},
     "output_type": "execute_result"
    }
   ],
   "source": [
    "if 'i' in globals():\n",
    "    del i\n",
    "\n",
    "funcs = [lambda x, p=i: x**p for i in range(5)]\n",
    "\n",
    "funcs[0](10)"
   ]
  },
  {
   "cell_type": "code",
   "execution_count": 65,
   "metadata": {},
   "outputs": [
    {
     "data": {
      "text/plain": [
       "1000"
      ]
     },
     "execution_count": 65,
     "metadata": {},
     "output_type": "execute_result"
    }
   ],
   "source": [
    "# But a small flaw still remains. If somebody for some reason will write\n",
    "funcs[0](10, 3)"
   ]
  },
  {
   "cell_type": "code",
   "execution_count": null,
   "metadata": {},
   "outputs": [],
   "source": []
  }
 ],
 "metadata": {
  "kernelspec": {
   "display_name": "Python 3",
   "language": "python",
   "name": "python3"
  },
  "language_info": {
   "codemirror_mode": {
    "name": "ipython",
    "version": 3
   },
   "file_extension": ".py",
   "mimetype": "text/x-python",
   "name": "python",
   "nbconvert_exporter": "python",
   "pygments_lexer": "ipython3",
   "version": "3.7.3"
  }
 },
 "nbformat": 4,
 "nbformat_minor": 4
}
