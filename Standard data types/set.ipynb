{
 "cells": [
  {
   "cell_type": "markdown",
   "metadata": {},
   "source": [
    "A **set** object is an unordered collection of distinct hashable objects. Common uses include membership testing, removing duplicates from a sequence, and computing mathematical operations such as intersection, union, difference, and symmetric difference. … Being an unordered collection, sets do not record element position or order of insertion. Accordingly, sets do not support indexing, slicing, or other sequence-like behavior.\n",
    "\n",
    "There are currently two built-in set types, `set` and `frozenset`. The `set` type is mutable – the contents can be changed using methods like `add()` and `remove()`. Since it is mutable, it has no hash value and cannot be used as either a dictionary key or as an element of another set. The `frozenset` type is immutable and hashable – its contents cannot be altered after it is created; it can therefore be used as a dictionary key or as an element of another set.\n",
    "\n",
    "docs: [docs.python.org](https://docs.python.org/3/library/stdtypes.html#set), &nbsp; [w3schools.com](https://www.w3schools.com/python/python_sets.asp), &nbsp; [snakify.org](https://snakify.org/en/lessons/sets/)\n",
    "\n",
    "#### Content:\n",
    "\n",
    "- len, copy, in / not in\n",
    "\n",
    "- empty set and set constructor\n",
    "\n",
    "- add, remove, discard, pop, clear, del\n",
    "\n",
    "- union, update (|, |=)\n",
    "\n",
    "- intersection, intersection_update (&, &=)\n",
    "\n",
    "- difference, difference_update (-, -=)\n",
    "\n",
    "- symmetric_difference, symmetric_difference_update (^, ^=)\n",
    "\n",
    "- isdisjoint, issubset, issuperset (A != B, <=, >=)<br>\n",
    "A < B, A > B\n"
   ]
  },
  {
   "cell_type": "code",
   "execution_count": 1,
   "metadata": {
    "scrolled": true
   },
   "outputs": [
    {
     "name": "stdout",
     "output_type": "stream",
     "text": [
      "{'b', 'c', 'd', 'a'}\n",
      "b c d a\n",
      "b, c, d, a\n",
      "<class 'set'>\n",
      "4\n",
      "\n",
      "True\n",
      "False\n",
      "True\n",
      "\n"
     ]
    }
   ],
   "source": [
    "# Absence of repeating elements,\n",
    "# type,\n",
    "# len - the number of elements in set, is also called cardinality of set,\n",
    "# copy - a shallow copy,\n",
    "# x in s - test x for membership is s\n",
    "\n",
    "s = {'b', 'a', 'c', 'a', 'b', 'd'}\n",
    "print(s)               # {'d', 'a', 'b', 'c'}\n",
    "print(*s)              # d b c a\n",
    "print(*s, sep=', ')    # d, b, c, a\n",
    "print(type(s))         # <class 'set'>\n",
    "print(len(s))          # 4\n",
    "print()\n",
    "\n",
    "print('b' in s)        # True\n",
    "print('x' in s)        # False\n",
    "print('x' not in s)    # True\n",
    "\n",
    "print()\n",
    "\n",
    "# print(dir(s))        # [list of methods]"
   ]
  },
  {
   "cell_type": "code",
   "execution_count": 2,
   "metadata": {},
   "outputs": [
    {
     "name": "stdout",
     "output_type": "stream",
     "text": [
      "set()\n",
      "<class 'set'>\n",
      "\n",
      "{'b', 'c', 'd', 'a'}\n",
      "<class 'set'>\n"
     ]
    }
   ],
   "source": [
    "# empty set\n",
    "s_empty = set()\n",
    "\n",
    "print(s_empty)         # set()\n",
    "print(type(s_empty))   # <class 'set'>\n",
    "print()\n",
    "\n",
    "# set constructor\n",
    "sc = set(('b', 'a', 'c', 'a', 'b', 'd'))  # note the double brackets\n",
    "print(sc)              # {'d', 'a', 'b', 'c'}\n",
    "print(type(sc))"
   ]
  },
  {
   "cell_type": "code",
   "execution_count": 3,
   "metadata": {},
   "outputs": [
    {
     "name": "stdout",
     "output_type": "stream",
     "text": [
      "{'b', 'a'}\n",
      "{'b', 'a'}\n",
      "{'b', 'c', 'a'}\n",
      "{'b', 'c', 'a'}\n",
      "{'b', 'c', 'a'}\n"
     ]
    }
   ],
   "source": [
    "s = {'a', 'b', 'c'}\n",
    "\n",
    "s_copied_ref = s       # copy of references only\n",
    "\n",
    "s_copied1 = s.copy()   # shallow copy\n",
    "\n",
    "s_copied2 = set(s)\n",
    "\n",
    "s_copied3 = {*s}\n",
    "\n",
    "s.discard('c')   #  change the original set to test independence of copies\n",
    "\n",
    "print(s)               # {'b', 'a'}\n",
    "print(s_copied_ref)    # {'b', 'a'}\n",
    "print(s_copied1)       # {'b', 'a', 'c'}\n",
    "print(s_copied2)       # {'b', 'a', 'c'}\n",
    "print(s_copied3)       # {'b', 'a', 'c'}\n",
    "\n",
    "# All these methods of set copying show approximetely equal performance"
   ]
  },
  {
   "cell_type": "markdown",
   "metadata": {},
   "source": [
    "<br>\n",
    "<br>"
   ]
  },
  {
   "cell_type": "code",
   "execution_count": 4,
   "metadata": {},
   "outputs": [
    {
     "name": "stdout",
     "output_type": "stream",
     "text": [
      "{'b', 'c', 'a'}\n",
      "{10, 'b', 'c', 'a'}\n"
     ]
    }
   ],
   "source": [
    "# add - add a single element to the set\n",
    "s = {'b', 'a', 'c'}\n",
    "print(s)\n",
    "\n",
    "s.add(10)\n",
    "print(s)               # {'a', 'b', 10, 'c'}\n",
    "\n",
    "# if it is required to add several elements to the set than use 'update'"
   ]
  },
  {
   "cell_type": "code",
   "execution_count": 5,
   "metadata": {},
   "outputs": [
    {
     "name": "stdout",
     "output_type": "stream",
     "text": [
      "{'b', 'c', 'd', 'a'}\n",
      "{'c', 'd', 'a'}\n"
     ]
    }
   ],
   "source": [
    "# remove - remove an item from the set\n",
    "# (we must be sure that the item is present in the set, or otherwise get KeyError exception)\n",
    "s = {'b', 'a', 'c', 'd'}\n",
    "print(s)\n",
    "\n",
    "s.remove('b')          # expression itself return None\n",
    "print(s)               # {'d', 'a', 'c'}\n",
    "\n",
    "# s.remove('x')        # KeyError"
   ]
  },
  {
   "cell_type": "code",
   "execution_count": 6,
   "metadata": {},
   "outputs": [
    {
     "name": "stdout",
     "output_type": "stream",
     "text": [
      "{'b', 'c', 'd', 'a'}\n",
      "{'c', 'd', 'a'}\n",
      "{'c', 'd', 'a'}\n"
     ]
    }
   ],
   "source": [
    "# discard - safer analog of 'remove'\n",
    "# (if item is absent than do nothing)\n",
    "s = {'b', 'a', 'c', 'd'}\n",
    "print(s)\n",
    "\n",
    "s.discard('b')\n",
    "print(s)               # {'d', 'a', 'c'}\n",
    "\n",
    "s.discard('X')\n",
    "print(s)               # {'d', 'a', 'c'}"
   ]
  },
  {
   "cell_type": "code",
   "execution_count": 7,
   "metadata": {},
   "outputs": [
    {
     "name": "stdout",
     "output_type": "stream",
     "text": [
      "{'b', 'c', 'd', 'a'}\n",
      "b\n",
      "{'c', 'd', 'a'}\n"
     ]
    }
   ],
   "source": [
    "# pop - withdraws and returns one element, but we can't know for sure which exactly.\n",
    "#       The set must not be empty.\n",
    "s = {'b', 'a', 'c', 'd'}\n",
    "print(s)\n",
    "\n",
    "print(s.pop())             # d\n",
    "print(s)                   # {'a', 'b', 'c'}\n",
    "\n",
    "s_empty = set()\n",
    "# print(s_empty.pop())     # KeyError: 'pop from an empty set'"
   ]
  },
  {
   "cell_type": "code",
   "execution_count": 8,
   "metadata": {},
   "outputs": [
    {
     "name": "stdout",
     "output_type": "stream",
     "text": [
      "set()\n"
     ]
    }
   ],
   "source": [
    "# clear - clear the set from all elements\n",
    "s = {'b', 'a', 'c', 'd'}\n",
    "\n",
    "s.clear()                  # set()\n",
    "print(s)"
   ]
  },
  {
   "cell_type": "code",
   "execution_count": 9,
   "metadata": {},
   "outputs": [
    {
     "name": "stdout",
     "output_type": "stream",
     "text": [
      "True\n",
      "False\n"
     ]
    }
   ],
   "source": [
    "# del - delete the set completely\n",
    "s = {'b', 'a', 'c', 'd'}\n",
    "print('s' in globals())\n",
    "\n",
    "del s\n",
    "print('s' in globals())\n",
    "\n",
    "# print(s)   # NameError: name 's' is not defined\n",
    "             # for testing we can write 's' in globals() -> False"
   ]
  },
  {
   "cell_type": "markdown",
   "metadata": {},
   "source": [
    "<br>\n",
    "<br>"
   ]
  },
  {
   "cell_type": "code",
   "execution_count": 10,
   "metadata": {},
   "outputs": [
    {
     "name": "stdout",
     "output_type": "stream",
     "text": [
      "{10, 20, 'a'}\n",
      "{'b', 'a'}\n",
      "{20, 'a', 10, 'b'}\n",
      "\n",
      "{20, 'a', 10, 'b'}\n"
     ]
    }
   ],
   "source": [
    "# union - returns a new set with all items from both sets\n",
    "s  = {10, 20, 'a'}\n",
    "s2 = {'a', 'b'}\n",
    "\n",
    "s_union = s.union(s2)\n",
    "\n",
    "print(s)\n",
    "print(s2)\n",
    "print(s_union)             # {20, 10, 'a', 'b'}\n",
    "\n",
    "# partial synonym of 'union' is '|', but works only with set (not list).\n",
    "# Can be combined: D = A | B | C\n",
    "\n",
    "print()\n",
    "s_union_alt = {*s, *s2}    # exotic alternative of union\n",
    "print(s_union_alt)"
   ]
  },
  {
   "cell_type": "code",
   "execution_count": 11,
   "metadata": {},
   "outputs": [
    {
     "name": "stdout",
     "output_type": "stream",
     "text": [
      "{10, 20, 'a'}\n",
      "{20, 'a', 10, 'b'}\n",
      "{20, 'a', 10, 'b', 'W'}\n"
     ]
    }
   ],
   "source": [
    "# update - add multiple items to a set\n",
    "s = {10, 20, 'a'}\n",
    "print(s)\n",
    "\n",
    "s2 = {'a', 'b'}\n",
    "s.update(s2)               # note that items inside interable\n",
    "print(s)                   # {20, 10, 'a', 'b'}\n",
    "\n",
    "s2 = ['a', 'W']            # example 2: replenishment by list\n",
    "s.update(s2)        \n",
    "print(s)                   # {'W', 20, 10, 'a', 'b'}\n",
    "\n",
    "# 'update' is similar to 'union' ('|'), but modifies the current set instead of returning a new one.\n",
    "# In both cases instead s2 we can use several sets\n",
    "\n",
    "# partial synonym of 'update' is '|=', but works only with set (not list).\n",
    "# Can be combined: A |= B | C"
   ]
  },
  {
   "cell_type": "markdown",
   "metadata": {},
   "source": [
    "<br>\n",
    "<br>"
   ]
  },
  {
   "cell_type": "code",
   "execution_count": 12,
   "metadata": {},
   "outputs": [
    {
     "name": "stdout",
     "output_type": "stream",
     "text": [
      "{10, 20, 'a'}\n",
      "{'b', 'a'}\n",
      "{'a'}\n"
     ]
    }
   ],
   "source": [
    "# intersection - returns a set, that contains all items that are common for both sets\n",
    "s  = {10, 20, 'a'}\n",
    "s2 = {'a', 'b'}\n",
    "\n",
    "s_intsct = s.intersection(s2)\n",
    "\n",
    "print(s)\n",
    "print(s2)\n",
    "print(s_intsct)            # {'a'}\n",
    "\n",
    "# partial synonym of 'intersection' is '&'"
   ]
  },
  {
   "cell_type": "code",
   "execution_count": 13,
   "metadata": {},
   "outputs": [
    {
     "name": "stdout",
     "output_type": "stream",
     "text": [
      "{'a'}\n",
      "{'b', 'a'}\n"
     ]
    }
   ],
   "source": [
    "# intersection_update - removes the items in this set that are not present in other set\n",
    "s  = {10, 20, 'a'}\n",
    "s2 = {'a', 'b'}\n",
    "\n",
    "s.intersection_update(s2)\n",
    "print(s)                  # {'a'}\n",
    "print(s2)\n",
    "\n",
    "# The 'intersection_update' method is different from the 'intersection' in that\n",
    "# 'intersection' returns a new set, without the unwanted items,\n",
    "# and 'intersection_update' removes the unwanted items from the original set.\n",
    "\n",
    "# In both cases instead s2 we can use several sets.\n",
    "\n",
    "# partial synonym of 'intersection_update' is '&='"
   ]
  },
  {
   "cell_type": "markdown",
   "metadata": {},
   "source": [
    "<br>\n",
    "<br>"
   ]
  },
  {
   "cell_type": "code",
   "execution_count": 14,
   "metadata": {},
   "outputs": [
    {
     "name": "stdout",
     "output_type": "stream",
     "text": [
      "{10, 20, 'a'}\n",
      "{'b', 'a'}\n",
      "{10, 20}\n"
     ]
    }
   ],
   "source": [
    "# difference - returns a set containing the difference between two or more sets.\n",
    "# (The returned set contains items that exist only in the first set, and not in both sets.)\n",
    "s  = {10, 20, 'a'}\n",
    "s2 = {'a', 'b'}\n",
    "\n",
    "s_dif = s.difference(s2)\n",
    "\n",
    "print(s)\n",
    "print(s2)\n",
    "print(s_dif)               # {10, 20}\n",
    "\n",
    "# partial synonym of 'difference' is '-'"
   ]
  },
  {
   "cell_type": "code",
   "execution_count": 15,
   "metadata": {},
   "outputs": [
    {
     "name": "stdout",
     "output_type": "stream",
     "text": [
      "{10, 20}\n",
      "{'b', 'a'}\n"
     ]
    }
   ],
   "source": [
    "# difference_update - removes the items in this set that are also included in another, specified set\n",
    "# (removes the items that exist in both sets)\n",
    "s  = {10, 20, 'a'}\n",
    "s2 = {'a', 'b'}\n",
    "\n",
    "s.difference_update(s2)\n",
    "\n",
    "print(s)                   # {10, 20}\n",
    "print(s2)\n",
    "\n",
    "# 'difference_update' is similar to 'difference' but modifies current set instead of returning a new one\n",
    "\n",
    "# partial synonym of 'difference_update' is '-='"
   ]
  },
  {
   "cell_type": "markdown",
   "metadata": {},
   "source": [
    "<br>\n",
    "<br>"
   ]
  },
  {
   "cell_type": "code",
   "execution_count": 16,
   "metadata": {},
   "outputs": [
    {
     "name": "stdout",
     "output_type": "stream",
     "text": [
      "{10, 20, 'a'}\n",
      "{'b', 'a'}\n",
      "{10, 'b', 20}\n"
     ]
    }
   ],
   "source": [
    "# symmetric_difference - returns a set with the symmetric differences of two sets\n",
    "# (return a set that contains all items from both sets, except items that are common for both sets)\n",
    "s  = {10, 20, 'a'}\n",
    "s2 = {'a', 'b'}\n",
    "\n",
    "s_sym_dif = s.symmetric_difference(s2)\n",
    "\n",
    "print(s)\n",
    "print(s2)\n",
    "print(s_sym_dif)           # {'b', 10, 20}\n",
    "\n",
    "# partial synonym of 'symmetric_difference' is '^'"
   ]
  },
  {
   "cell_type": "code",
   "execution_count": 17,
   "metadata": {},
   "outputs": [
    {
     "name": "stdout",
     "output_type": "stream",
     "text": [
      "{10, 'b', 20}\n",
      "{'b', 'a'}\n"
     ]
    }
   ],
   "source": [
    "# symmetric_difference_update -\tinserts the symmetric differences from this set and another\n",
    "# (remove the items that are present in both sets, AND insert the items that is not present in both sets)\n",
    "s  = {10, 20, 'a'}\n",
    "s2 = {'a', 'b'}\n",
    "\n",
    "s.symmetric_difference_update(s2)\n",
    "\n",
    "print(s)                   # {'b', 10, 20}\n",
    "print(s2)\n",
    "\n",
    "# 'symmetric_difference_update' is similar to 'symmetric_difference'\n",
    "# but modifies current set instead of returning a new one\n",
    "\n",
    "# partial synonym of 'symmetric_difference_update' is '^='"
   ]
  },
  {
   "cell_type": "markdown",
   "metadata": {},
   "source": [
    "<br>\n",
    "<br>"
   ]
  },
  {
   "cell_type": "code",
   "execution_count": 18,
   "metadata": {},
   "outputs": [
    {
     "name": "stdout",
     "output_type": "stream",
     "text": [
      "False\n",
      "True\n"
     ]
    }
   ],
   "source": [
    "# isdisjoint - returns whether two sets contain completely different elements\n",
    "# (sets are disjoint if and only if their intersection is the empty set)\n",
    "s  = {10, 20, 'a'}\n",
    "s2 = {'a', 'b'}\n",
    "print(s.isdisjoint(s2))       # False\n",
    "\n",
    "\n",
    "s3 = {'W', 'Z'}\n",
    "print(s.isdisjoint(s3))       # True\n",
    "\n",
    "# synonym of 'isdisjoint' in '!='"
   ]
  },
  {
   "cell_type": "code",
   "execution_count": 19,
   "metadata": {},
   "outputs": [
    {
     "name": "stdout",
     "output_type": "stream",
     "text": [
      "False\n",
      "True\n",
      "True\n"
     ]
    }
   ],
   "source": [
    "# issubset - returns whether another set contains this set or not\n",
    "# (returns True if all items in the given set exist in the second set)\n",
    "s  = {10, 20, 'a'}\n",
    "s2 = {'a', 'b'}\n",
    "print(s.issubset(s2))      # False\n",
    "\n",
    "\n",
    "s3 = {10, 20, 'a', 'b'}\n",
    "print(s.issubset(s3))      # True\n",
    "\n",
    "\n",
    "s4 = {20, 10, 'a'}\n",
    "print(s.issubset(s4))      # True\n",
    "\n",
    "# synonym of 'issubset' is '<='"
   ]
  },
  {
   "cell_type": "code",
   "execution_count": 20,
   "metadata": {},
   "outputs": [
    {
     "name": "stdout",
     "output_type": "stream",
     "text": [
      "False\n",
      "True\n",
      "True\n"
     ]
    }
   ],
   "source": [
    "# issuperset - returns whether the set contains another set or not\n",
    "# (returns True if the given set contains all items of the second set)\n",
    "s  = {10, 20, 'a'}\n",
    "s2 = {'a', 'b'}\n",
    "print(s.issuperset(s2))   # False\n",
    "\n",
    "s3 = {10, 20}\n",
    "print(s.issuperset(s3))   # True\n",
    "\n",
    "s4 = {20, 10, 'a'}\n",
    "print(s.issuperset(s4))   # True\n",
    "\n",
    "# synonym of 'issuperset' is '>='"
   ]
  },
  {
   "cell_type": "markdown",
   "metadata": {},
   "source": [
    "`A < B` - test whether A is a proper subset of B, that is, `A <= B and A != B`\n",
    "\n",
    "`A > B` - test whether A is a proper superset of B, that is, `A >= B and A != B`"
   ]
  },
  {
   "cell_type": "markdown",
   "metadata": {},
   "source": [
    "<br>"
   ]
  },
  {
   "cell_type": "code",
   "execution_count": 21,
   "metadata": {},
   "outputs": [
    {
     "data": {
      "text/plain": [
       "True"
      ]
     },
     "execution_count": 21,
     "metadata": {},
     "output_type": "execute_result"
    }
   ],
   "source": [
    "# Comparison of set and frozenset:\n",
    "set('abc') == frozenset('abc')   # True"
   ]
  },
  {
   "cell_type": "code",
   "execution_count": null,
   "metadata": {},
   "outputs": [],
   "source": []
  }
 ],
 "metadata": {
  "kernelspec": {
   "display_name": "Python 3",
   "language": "python",
   "name": "python3"
  },
  "language_info": {
   "codemirror_mode": {
    "name": "ipython",
    "version": 3
   },
   "file_extension": ".py",
   "mimetype": "text/x-python",
   "name": "python",
   "nbconvert_exporter": "python",
   "pygments_lexer": "ipython3",
   "version": "3.8.1"
  }
 },
 "nbformat": 4,
 "nbformat_minor": 4
}
