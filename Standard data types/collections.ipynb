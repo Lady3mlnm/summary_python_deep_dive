{
 "cells": [
  {
   "cell_type": "code",
   "execution_count": 1,
   "metadata": {},
   "outputs": [],
   "source": [
    "from collections import deque, namedtuple, Counter, defaultdict, OrderedDict"
   ]
  },
  {
   "cell_type": "markdown",
   "metadata": {},
   "source": [
    "docs: [docs.python.org](https://docs.python.org/3/library/collections.html#collections)\n",
    "\n",
    "Contents of this Jupyter notebook:\n",
    "* deque\n",
    "* namedtuple\n",
    "* Counter\n",
    "* defaultdict\n",
    "* OrderedDict"
   ]
  },
  {
   "cell_type": "markdown",
   "metadata": {},
   "source": [
    "### deque"
   ]
  },
  {
   "cell_type": "markdown",
   "metadata": {},
   "source": [
    "**deque**(\\[iterable[, maxlen]\\])\n",
    "\n",
    "Returns a new deque object initialized left-to-right (*using* `append()`) with data from iterable. If iterable is not specified, the new deque is empty.\n",
    "\n",
    "Deques are a generalization of stacks and queues (*the name is pronounced “deck” and is short for “double-ended queue”*). Deques support time efficient appends and pops from either side of the deque with approximately the same O(1) performance in either direction.\n",
    "\n",
    "Though `list` objects support similar operations, they are optimized for fast fixed-length operations and incur O(n) memory movement costs for `pop(0)` and `insert(0, v)` operations which change both the size and position of the underlying data representation.\n",
    "\n",
    "In deque direct references as `dq[0]` is O(1) at both ends but slows to O(n) in the middle. So if your algorithm requires fast random access, use lists instead.\n",
    "\n",
    "If `maxlen` is specified, the deque is bounded to the given length. Once a bounded length deque is full, when new items are added, a corresponding number of items are discarded from the opposite end."
   ]
  },
  {
   "cell_type": "code",
   "execution_count": 2,
   "metadata": {},
   "outputs": [
    {
     "name": "stdout",
     "output_type": "stream",
     "text": [
      "deque(['g', 'h', 'i'])\n",
      "deque(['f', 'g', 'h', 'i', 'j'])\n",
      "j\n",
      "f\n",
      "deque(['g', 'h', 'i'])\n",
      "\n",
      "\n",
      "deque(['i', 'g', 'h'])\n",
      "deque(['g', 'h', 'i'])\n",
      "['i', 'h', 'g']\n",
      "deque(['i', 'h', 'g'])\n",
      "deque(['i', 'h', 'g'])\n",
      "\n",
      "\n",
      "deque(['g', 'h', 'i', 'j', 'k', 'l'])\n",
      "deque(['a', 'b', 'c', 'g', 'h', 'i', 'j', 'k', 'l'])\n",
      "\n",
      "None\n",
      "deque([])\n"
     ]
    }
   ],
   "source": [
    "dq = deque('ghi')    #  make a new deque with three items\n",
    "print(dq)            #> deque(['g', 'h', 'i'])\n",
    "\n",
    "dq.append('j')       #  add a new entry to the right side\n",
    "dq.appendleft('f')   #  add a new entry to the left side\n",
    "print(dq)            #> deque(['f', 'g', 'h', 'i', 'j']) \n",
    "\n",
    "print(dq.pop())      #  return and remove the rightmost item\n",
    "print(dq.popleft())  #  return and remove the leftmost item\n",
    "print(dq)            #> deque(['g', 'h', 'i'])\n",
    "print('\\n')\n",
    "\n",
    "\n",
    "dq.rotate(1)         #  right rotation\n",
    "print(dq)            #> deque(['i', 'g', 'h'])\n",
    "dq.rotate(-1)        #  right rotation\n",
    "print(dq)            #> deque(['i', 'g', 'h'])\n",
    "\n",
    "print(list(reversed(dq)))   #> ['i', 'h', 'g']   - list the contents of a deque in reverse\n",
    "print(deque(reversed(dq)))  #> deque(['i', 'h', 'g'])  - make a new deque in reverse order\n",
    "dq.reverse()                #> deque(['i', 'h', 'g'])  - reverse current deque\n",
    "print(dq)\n",
    "print('\\n')\n",
    "\n",
    "\n",
    "dq = deque('ghi')\n",
    "dq.extend('jkl')     #  add multiple elements at once to the end\n",
    "print(dq)            #> deque(['g', 'h', 'i', 'j', 'k', 'l'])\n",
    "dq.extendleft('cba') #  add multiple elements at once to the beginning, note reversing of elements\n",
    "print(dq)            #> deque(['a', 'b', 'c', 'g', 'h', 'i', 'j', 'k', 'l'])\n",
    "print()\n",
    "\n",
    "print(dq.maxlen)     #> None  -maximum size of deque, 'None' means unbounded\n",
    "\n",
    "dq.clear()           #  clear deque\n",
    "print(dq)            #> deque([])\n",
    "\n",
    "# dq.pop()           #> IndexError: pop from an empty deque"
   ]
  },
  {
   "cell_type": "markdown",
   "metadata": {},
   "source": [
    "<br>\n",
    "\n",
    "Example of using:"
   ]
  },
  {
   "cell_type": "code",
   "execution_count": 3,
   "metadata": {
    "scrolled": false
   },
   "outputs": [
    {
     "name": "stdout",
     "output_type": "stream",
     "text": [
      "d: deque([0, 40, 30])    s: 70 \n",
      "\n",
      "d: deque([40, 30, 50])   s: 120   elem: 50\n",
      "40.0 \n",
      "\n",
      "d: deque([30, 50, 46])   s: 126   elem: 46\n",
      "42.0 \n",
      "\n",
      "d: deque([50, 46, 39])   s: 135   elem: 39\n",
      "45.0 \n",
      "\n",
      "d: deque([46, 39, 44])   s: 129   elem: 44\n",
      "43.0\n"
     ]
    }
   ],
   "source": [
    "import itertools\n",
    "def moving_average(iterable, n=3):\n",
    "    it = iter(iterable)\n",
    "    \n",
    "    d = deque(itertools.islice(it, n-1))\n",
    "    d.appendleft(0)\n",
    "    s = sum(d)\n",
    "    print('d:', d, '   s:', s, '\\n')\n",
    "    \n",
    "    for elem in it:\n",
    "        s += elem - d.popleft()\n",
    "        d.append(elem)\n",
    "        print('d:', d, '  s:', s, '  elem:', elem)\n",
    "        yield s / n\n",
    "\n",
    "\n",
    "ls = [40, 30, 50, 46, 39, 44]\n",
    "it = moving_average(ls)\n",
    "\n",
    "print(next(it), '\\n')    #> d: deque([40, 30, 50])  s: 120  elem: 50\n",
    "                         #> 40.0\n",
    "    \n",
    "print(next(it), '\\n')    #> d: deque([30, 50, 46])  s: 126  elem: 46\n",
    "                         #> 42.0\n",
    "    \n",
    "print(next(it), '\\n')    #> d: deque([50, 46, 39])  s: 135  elem: 39\n",
    "                         #> 45.0\n",
    "    \n",
    "print(next(it))          #> d: deque([46, 39, 44])  s: 129  elem: 44\n",
    "                         #> 43.0"
   ]
  },
  {
   "cell_type": "markdown",
   "metadata": {},
   "source": [
    "<br>\n",
    "<br>\n",
    "\n",
    "### namedtuple"
   ]
  },
  {
   "cell_type": "markdown",
   "metadata": {},
   "source": [
    "`namedtuple` is a subclass of tuple (*i.e., inherits form tuple*). It adds a layer to assign property names to the positional elements.\n",
    "\n",
    "In other words, it is a function (*class factory*) which generates a new class.\n",
    "\n",
    "Named tuples assign meaning to each position in a tuple and allow for more readable, self-documenting code. They can be used wherever regular tuples are used, and they add the ability to access fields by name instead of position index."
   ]
  },
  {
   "cell_type": "markdown",
   "metadata": {},
   "source": [
    "**namedtuple**(typename, field_names, *, rename=False, defaults=None, module=None)\n",
    "\n",
    "Returns a new tuple subclass named *typename*. The new subclass is used to create tuple-like objects that have fields accessible by attribute lookup as well as being indexable and iterable. Instances of the subclass also have a helpful docstring (*with typename and field_names*) and a helpful `__repr__()` method which lists the tuple contents in a `name=value` format.\n",
    "\n",
    "The field_names are a sequence of strings such as `['x', 'y']`. Alternatively, field_names can be a single string with each fieldname separated by whitespace and/or commas, for example `'x, y'` or `'x y'`.\n",
    "\n",
    "Any valid Python identifier may be used for a fieldname except for names starting with an underscore. If *rename* is true, invalid fieldnames are automatically replaced with positional names.  For example, `['abc', 'def', 'ghi', 'abc']` is converted to `['abc', '_1', 'ghi', '_3']`, eliminating the keyword `def` and the duplicate fieldname `abc`.\n",
    "\n",
    "*defaults* can be `None` or an iterable of default values. They are applied to the rightmost parameters. For example, if the fieldnames are `['x', 'y', 'z']` and the defaults are `(1, 2)`, then `x` will be a required argument, `y` will default to `1`, and `z` will default to `2`.\n",
    "\n",
    "If *module* is defined, the `__module__` attribute of the named tuple is set to that value.\n",
    "\n",
    "Named tuple instances do not have per-instance dictionaries, so they are lightweight and require no more memory than regular tuples."
   ]
  },
  {
   "cell_type": "code",
   "execution_count": 4,
   "metadata": {},
   "outputs": [
    {
     "name": "stdout",
     "output_type": "stream",
     "text": [
      "Point(x=11, y=22)\n",
      "<class '__main__.Point'>\n",
      "True\n",
      "\n",
      "33\n",
      "11 22\n",
      "11 22\n"
     ]
    }
   ],
   "source": [
    "Point = namedtuple('Point', ['x', 'y'])\n",
    "p = Point(11, y=22)     #  instantiate with positional or keyword arguments\n",
    "print(p)                #  readable __repr__ with a name=value style\n",
    "                        #> Point(x=11, y=22)\n",
    "print(type(p))          #> <class '__main__.Point'>\n",
    "print(isinstance(p, tuple))  #> True\n",
    "print()\n",
    "\n",
    "\n",
    "print(p[0] + p[1])      #  indexable like the plain tuple (11, 22)\n",
    "                        #> 33\n",
    "    \n",
    "coor_x, coor_y = p      #  unpack like a regular tuple\n",
    "print(coor_x, coor_y)   #> 11 22\n",
    "\n",
    "print(p.x, p.y)         #  fields also accessible by name [you can also use expression 'getattr(p,'x')']\n",
    "                        #> 11 22\n",
    "# p.y = 30              #  AttributeError: can't set attribute - don't forget, this is a tuple"
   ]
  },
  {
   "cell_type": "markdown",
   "metadata": {},
   "source": [
    "In addition to the methods inherited from tuples, named tuples support three additional methods and two attributes.<br>\n",
    "To prevent conflicts with field names, the method and attribute names start with an underscore."
   ]
  },
  {
   "cell_type": "markdown",
   "metadata": {},
   "source": [
    "<br>\n",
    "\n",
    ".**_make**(iterable)<br>\n",
    "\n",
    "Class method that makes a new instance from an existing sequence or iterable."
   ]
  },
  {
   "cell_type": "code",
   "execution_count": 5,
   "metadata": {},
   "outputs": [
    {
     "data": {
      "text/plain": [
       "Point(x=11, y=22)"
      ]
     },
     "execution_count": 5,
     "metadata": {},
     "output_type": "execute_result"
    }
   ],
   "source": [
    "t = [11, 22]\n",
    "Point._make(t)         #> Point(x=11, y=22)"
   ]
  },
  {
   "cell_type": "markdown",
   "metadata": {},
   "source": [
    "<br>\n",
    "\n",
    ".**_asdict**()<br>\n",
    "Return a new `dict` which maps field names to their corresponding values.<br>\n",
    "In Python 3.8 the output is a regular `dict`. Earlier it was an `OrderedDict`."
   ]
  },
  {
   "cell_type": "code",
   "execution_count": 6,
   "metadata": {},
   "outputs": [
    {
     "data": {
      "text/plain": [
       "{'x': 11, 'y': 22}"
      ]
     },
     "execution_count": 6,
     "metadata": {},
     "output_type": "execute_result"
    }
   ],
   "source": [
    "p = Point(x=11, y=22)\n",
    "p._asdict()            #> {'x': 11, 'y': 22}"
   ]
  },
  {
   "cell_type": "markdown",
   "metadata": {},
   "source": [
    "<br>\n",
    "\n",
    ".**_replace**(\\**kwargs)<br>\n",
    "Return a new instance of the named tuple replacing specified fields with new values:"
   ]
  },
  {
   "cell_type": "code",
   "execution_count": 7,
   "metadata": {},
   "outputs": [
    {
     "data": {
      "text/plain": [
       "Point(x=33, y=22)"
      ]
     },
     "execution_count": 7,
     "metadata": {},
     "output_type": "execute_result"
    }
   ],
   "source": [
    "p = Point(x=11, y=22)\n",
    "p._replace(x=33)"
   ]
  },
  {
   "cell_type": "markdown",
   "metadata": {},
   "source": [
    "<br>\n",
    "\n",
    ".**_fields**<br>\n",
    "View the field names.<br>\n",
    "Useful for introspection and for creating new named tuple types from existing named tuples."
   ]
  },
  {
   "cell_type": "code",
   "execution_count": 8,
   "metadata": {},
   "outputs": [
    {
     "data": {
      "text/plain": [
       "('x', 'y')"
      ]
     },
     "execution_count": 8,
     "metadata": {},
     "output_type": "execute_result"
    }
   ],
   "source": [
    "p = Point(x=11, y=22)\n",
    "p._fields                        #> ('x', 'y')"
   ]
  },
  {
   "cell_type": "code",
   "execution_count": 9,
   "metadata": {},
   "outputs": [
    {
     "data": {
      "text/plain": [
       "Pixel(x=11, y=22, red=128, green=255, blue=0)"
      ]
     },
     "execution_count": 9,
     "metadata": {},
     "output_type": "execute_result"
    }
   ],
   "source": [
    "Color = namedtuple('Color', 'red green blue')\n",
    "Pixel = namedtuple('Pixel', Point._fields + Color._fields)\n",
    "Pixel(11, 22, 128, 255, 0)       #> Pixel(x=11, y=22, red=128, green=255, blue=0)"
   ]
  },
  {
   "cell_type": "markdown",
   "metadata": {},
   "source": [
    "<br>\n",
    "\n",
    ".**_field_defaults**<br>\n",
    "Dictionary mapping field names to default values. These values are applied to the rightmost parameters."
   ]
  },
  {
   "cell_type": "code",
   "execution_count": 10,
   "metadata": {},
   "outputs": [
    {
     "name": "stdout",
     "output_type": "stream",
     "text": [
      "{'balance': 0}\n",
      "Account(type='premium', balance=0)\n"
     ]
    }
   ],
   "source": [
    "Account = namedtuple('Account', ['type', 'balance'], defaults=[0])\n",
    "print(Account._field_defaults)   #> {'balance': 0}\n",
    "\n",
    "print(Account('premium'))        #> Account(type='premium', balance=0)"
   ]
  },
  {
   "cell_type": "code",
   "execution_count": 11,
   "metadata": {},
   "outputs": [
    {
     "name": "stdout",
     "output_type": "stream",
     "text": [
      "{'type': 'standard', 'balance': 0}\n",
      "Account(type='premium', balance=0)\n"
     ]
    }
   ],
   "source": [
    "Account = namedtuple('Account', ['type', 'balance'], defaults=['standard', 0])\n",
    "print(Account._field_defaults)   #> {'type': 'standard', 'balance': 0}\n",
    "\n",
    "print(Account('premium'))        #> Account(type='premium', balance=0)"
   ]
  },
  {
   "cell_type": "markdown",
   "metadata": {},
   "source": [
    "<br>\n",
    "\n",
    "To retrieve a field whose name is stored in a string, use access by name or `getattr()` function."
   ]
  },
  {
   "cell_type": "code",
   "execution_count": 12,
   "metadata": {},
   "outputs": [
    {
     "name": "stdout",
     "output_type": "stream",
     "text": [
      "11\n",
      "11\n"
     ]
    }
   ],
   "source": [
    "print(p.x)                       #> 11\n",
    "print(getattr(p, 'x'))           #> 11"
   ]
  },
  {
   "cell_type": "markdown",
   "metadata": {},
   "source": [
    "<br>\n",
    "\n",
    "To convert a dictionary to a named tuple, use the double-star-operator:"
   ]
  },
  {
   "cell_type": "code",
   "execution_count": 13,
   "metadata": {},
   "outputs": [
    {
     "data": {
      "text/plain": [
       "Point(x=11, y=22)"
      ]
     },
     "execution_count": 13,
     "metadata": {},
     "output_type": "execute_result"
    }
   ],
   "source": [
    "d = {'y': 22, 'x': 11}\n",
    "Point(**d)                       #> Point(x=11, y=22)"
   ]
  },
  {
   "cell_type": "markdown",
   "metadata": {},
   "source": [
    "<br>\n",
    "\n",
    "Documentation:"
   ]
  },
  {
   "cell_type": "code",
   "execution_count": 14,
   "metadata": {},
   "outputs": [
    {
     "name": "stdout",
     "output_type": "stream",
     "text": [
      "Represents a 2D Cartesian coordinate\n",
      "Abscissa\n"
     ]
    }
   ],
   "source": [
    "Point3D = namedtuple('Point3D', 'x, y')\n",
    "Point3D.__doc__ = 'Represents a 2D Cartesian coordinate'\n",
    "Point3D.x.__doc__ = 'Abscissa'\n",
    "Point3D.y.__doc__ = 'Ordinate'\n",
    "\n",
    "print(Point3D.__doc__)\n",
    "print(Point3D.x.__doc__)\n",
    "# help(Point3D)           # show a long description of the class"
   ]
  },
  {
   "cell_type": "code",
   "execution_count": 15,
   "metadata": {},
   "outputs": [
    {
     "data": {
      "text/plain": [
       "{'x': 0, 'y': 0}"
      ]
     },
     "execution_count": 15,
     "metadata": {},
     "output_type": "execute_result"
    }
   ],
   "source": [
    "Point2D = namedtuple('Point2D', 'x,y', defaults=(0,0))\n",
    "Point2D._field_defaults"
   ]
  },
  {
   "cell_type": "markdown",
   "metadata": {},
   "source": [
    "<br>\n",
    "<br>\n",
    "\n",
    "### Counter"
   ]
  },
  {
   "cell_type": "markdown",
   "metadata": {},
   "source": [
    "Counter is a special type of dictionary. It is provided to support convenient and rapid tallies.\n",
    "\n",
    "A `Counter` is a `dict` subclass for counting hashable objects. It is a collection where elements are stored as dictionary keys and their counts are stored as dictionary values. Counts are allowed to be any integer value including zero or negative counts."
   ]
  },
  {
   "cell_type": "markdown",
   "metadata": {},
   "source": [
    "Elements are counted from an iterable or initialized from another mapping (*or counter*):"
   ]
  },
  {
   "cell_type": "code",
   "execution_count": 16,
   "metadata": {},
   "outputs": [
    {
     "name": "stdout",
     "output_type": "stream",
     "text": [
      "Counter()\n",
      "Counter({'i': 4, 's': 4, 'p': 2, 'm': 1})\n",
      "Counter({'red': 8, 'blue': 2})\n",
      "Counter({'dogs': 5, 'cats': 3})\n"
     ]
    }
   ],
   "source": [
    "c = Counter()                           #  new, empty counter\n",
    "print(c)                                #> Counter()\n",
    "\n",
    "c = Counter('mississippi')              #  new counter from an iterable\n",
    "print(c)                                #> Counter({'i': 4, 's': 4, 'p': 2, 'm': 1})\n",
    "\n",
    "c = Counter({'red': 8, 'blue': 2})      #  new counter from a mapping\n",
    "print(c)                                #> Counter({'red': 8, 'blue': 2})\n",
    "\n",
    "c = Counter(cats=3, dogs=5)             #  new counter from keyword args\n",
    "print(c)                                #> Counter({'dogs': 5, 'cats': 3})"
   ]
  },
  {
   "cell_type": "markdown",
   "metadata": {},
   "source": [
    "<br>\n",
    "As a `dict` subclass, `Counter` Inherited the capability to remember insertion order.<br>\n",
    "Math operations on Counter objects also preserve order.\n",
    "\n",
    "Counter objects support three methods beyond those available for all dictionaries:"
   ]
  },
  {
   "cell_type": "markdown",
   "metadata": {},
   "source": [
    "**elements**()<br>\n",
    "Return an iterator over elements repeating each as many times as its count. Elements are returned in the order first encountered. Elements with zero and negative values are ignored."
   ]
  },
  {
   "cell_type": "code",
   "execution_count": 17,
   "metadata": {},
   "outputs": [
    {
     "data": {
      "text/plain": [
       "['a', 'a', 'a', 'a', 'b', 'b']"
      ]
     },
     "execution_count": 17,
     "metadata": {},
     "output_type": "execute_result"
    }
   ],
   "source": [
    "c = Counter(a=4, b=2, c=0, d=-2)\n",
    "list(c.elements())                      #> ['a', 'a', 'a', 'a', 'b', 'b']"
   ]
  },
  {
   "cell_type": "markdown",
   "metadata": {},
   "source": [
    "**most_common**(\\[n\\])<br>\n",
    "Return a list of the n most common elements and their counts from the most common to the least.<br>\n",
    "If n is omitted or `None`, `most_common()` returns all elements in the counter."
   ]
  },
  {
   "cell_type": "code",
   "execution_count": 18,
   "metadata": {},
   "outputs": [
    {
     "data": {
      "text/plain": [
       "[('i', 4), ('s', 4), ('p', 2)]"
      ]
     },
     "execution_count": 18,
     "metadata": {},
     "output_type": "execute_result"
    }
   ],
   "source": [
    "c = Counter('mississippi')\n",
    "c.most_common(3)                        #> [('i', 4), ('s', 4), ('p', 2)]"
   ]
  },
  {
   "cell_type": "markdown",
   "metadata": {},
   "source": [
    "**subtract**(\\[iterable-or-mapping\\])<br>\n",
    "Elements are subtracted from an iterable or from another mapping (*or counter*)."
   ]
  },
  {
   "cell_type": "code",
   "execution_count": 19,
   "metadata": {},
   "outputs": [
    {
     "data": {
      "text/plain": [
       "Counter({'a': 3, 'b': 0, 'c': -3, 'd': -6})"
      ]
     },
     "execution_count": 19,
     "metadata": {},
     "output_type": "execute_result"
    }
   ],
   "source": [
    "c1 = Counter(a=4, b=2, c=0, d=-2)\n",
    "c2 = Counter(a=1, b=2, c=3, d=4)\n",
    "c1.subtract(c2)\n",
    "c1                                      #> Counter({'a': 3, 'b': 0, 'c': -3, 'd': -6})"
   ]
  },
  {
   "cell_type": "markdown",
   "metadata": {},
   "source": [
    "It is possible mathematical operations with `Counter`. Pay attention, that the output excludes results with counts of zero or less."
   ]
  },
  {
   "cell_type": "code",
   "execution_count": 20,
   "metadata": {
    "scrolled": true
   },
   "outputs": [
    {
     "name": "stdout",
     "output_type": "stream",
     "text": [
      "Counter({'a': 4, 'b': 3})\n",
      "Counter({'a': 2})\n",
      "Counter({'a': 1, 'b': 1})\n",
      "Counter({'a': 3, 'b': 2})\n"
     ]
    }
   ],
   "source": [
    "c1 = Counter(a=3, b=1)\n",
    "c2 = Counter(a=1, b=2)\n",
    "print(c1 + c2)                          #  add two counters together:  c1[x] + c2[x]\n",
    "                                        #> Counter({'a': 4, 'b': 3})\n",
    "\n",
    "print(c1 - c2)                          #  subtract (keeping only positive counts)\n",
    "                                        #> Counter({'a': 2})\n",
    "    \n",
    "print(c1 & c2)                          #  intersection:  min(c1[x], c2[x]) \n",
    "                                        #> Counter({'a': 1, 'b': 1}\n",
    "\n",
    "print(c1 | c2)                          #  union:  max(c1[x], c2[x])\n",
    "                                        #> Counter({'a': 3, 'b': 2})"
   ]
  },
  {
   "cell_type": "markdown",
   "metadata": {},
   "source": [
    "Unary `+` and `-` allow to remove zeros and negative/positive counts.<br>\n",
    "Technically they are shortcuts for adding an empty counter or subtracting from an empty counter."
   ]
  },
  {
   "cell_type": "code",
   "execution_count": 21,
   "metadata": {},
   "outputs": [
    {
     "name": "stdout",
     "output_type": "stream",
     "text": [
      "Counter({'c': 4})\n",
      "Counter({'a': 2})\n"
     ]
    }
   ],
   "source": [
    "c = Counter(a=-2, b=0, c=4)\n",
    "print(+c)                    #> Counter({'c': 4})              \n",
    "print(-c)                    #> Counter({'a': 2})  -pay attention to changing of sign"
   ]
  },
  {
   "cell_type": "markdown",
   "metadata": {},
   "source": [
    "<br>\n",
    "<br>\n",
    "\n",
    "### defaultdict"
   ]
  },
  {
   "cell_type": "markdown",
   "metadata": {},
   "source": [
    "`defaultdict` is a subclass of the `dict` class. It overrides one method (`__missing__`) and adds one writable instance variable (`default_factory`). The remaining functionality is the same as for the dict class.\n",
    "\n",
    "The first argument provides the initial value for the `default_factory` attribute; it defaults to `None`. All remaining arguments are treated the same as if they were passed to the dict constructor, including keyword arguments.\n",
    "\n",
    "The attribute `default_factory` is initialized from the first argument to the constructor, if present, or to `None`, if absent."
   ]
  },
  {
   "cell_type": "markdown",
   "metadata": {},
   "source": [
    "<br>\n",
    "\n",
    "Setting the `default_factory` to `list` allows to group a sequence of key-value pairs into a dictionary of lists:"
   ]
  },
  {
   "cell_type": "code",
   "execution_count": 22,
   "metadata": {},
   "outputs": [
    {
     "data": {
      "text/plain": [
       "{'c': [1, 3], 'a': [2, 4], 'b': [1]}"
      ]
     },
     "execution_count": 22,
     "metadata": {},
     "output_type": "execute_result"
    }
   ],
   "source": [
    "dd = defaultdict(list)\n",
    "s = [('c', 1), ('a', 2), ('c', 3), ('a', 4), ('b', 1)]\n",
    "\n",
    "for k, v in s:\n",
    "    dd[k].append(v)\n",
    "    \n",
    "dict(dd)               #> {'c': [1, 3], 'a': [2, 4], 'b': [1]}"
   ]
  },
  {
   "cell_type": "markdown",
   "metadata": {},
   "source": [
    "<br>\n",
    "\n",
    "Setting the `default_factory` to `set` makes the `defaultdict` useful for building a dictionary of sets:"
   ]
  },
  {
   "cell_type": "code",
   "execution_count": 23,
   "metadata": {},
   "outputs": [
    {
     "data": {
      "text/plain": [
       "{'c': {1, 3}, 'a': {2, 4}, 'b': {1}}"
      ]
     },
     "execution_count": 23,
     "metadata": {},
     "output_type": "execute_result"
    }
   ],
   "source": [
    "dd = defaultdict(set)\n",
    "s = [('c', 1), ('a', 2), ('c', 3), ('a', 4), ('b', 1)]\n",
    "\n",
    "for k, v in s:\n",
    "    dd[k].add(v)\n",
    "\n",
    "dict(dd)               #> {'c': {1, 3}, 'a': {2, 4}, 'b': {1}}"
   ]
  },
  {
   "cell_type": "markdown",
   "metadata": {},
   "source": [
    "<br>\n",
    "\n",
    "Setting the `default_factory` to `int` makes the `defaultdict` useful for counting:"
   ]
  },
  {
   "cell_type": "code",
   "execution_count": 24,
   "metadata": {},
   "outputs": [
    {
     "data": {
      "text/plain": [
       "{'m': 1, 'i': 4, 's': 4, 'p': 2}"
      ]
     },
     "execution_count": 24,
     "metadata": {},
     "output_type": "execute_result"
    }
   ],
   "source": [
    "dd = defaultdict(int)\n",
    "st = 'mississippi'\n",
    "\n",
    "for k in st:\n",
    "    dd[k] += 1\n",
    "    \n",
    "dict(dd)               #> {'m': 1, 'i': 4, 's': 4, 'p': 2}"
   ]
  },
  {
   "cell_type": "markdown",
   "metadata": {},
   "source": [
    "When a letter is first encountered, it is missing from the mapping, so the `default_factory` function calls `int()` to supply a default count of zero. The function `int()` which always returns zero is just a special case of constant functions.\n",
    "\n",
    "A faster and more flexible way to create constant functions is to use a lambda function which can supply any constant value (*not just zero*):"
   ]
  },
  {
   "cell_type": "code",
   "execution_count": 25,
   "metadata": {},
   "outputs": [
    {
     "name": "stdout",
     "output_type": "stream",
     "text": [
      "{'name': 'John', 'action': 'ran'} \n",
      "\n",
      "John ran to <n/a>\n"
     ]
    }
   ],
   "source": [
    "def my_factory(value):\n",
    "    return lambda: value\n",
    "\n",
    "dd = defaultdict(my_factory('<n/a>'))\n",
    "dd.update(name='John', action='ran')\n",
    "\n",
    "print(dict(dd), '\\n')\n",
    "\n",
    "print(f\"{dd['name']} {dd['action']} to {dd['object']}\")"
   ]
  },
  {
   "cell_type": "markdown",
   "metadata": {},
   "source": [
    "<br>\n",
    "<br>\n",
    "\n",
    "### OrderedDict"
   ]
  },
  {
   "cell_type": "markdown",
   "metadata": {},
   "source": [
    "Ordered dictionaries are just like regular dictionaries but have some extra capabilities relating to ordering operations. They have become less important now that the built-in `dict` class gained the ability to remember insertion order. But some differences from dict still remain.\n",
    "\n",
    "The regular `dict` was designed to be very good at mapping operations - tracking insertion order was secondary.<br>On the other hand, the `OrderedDict` was designed to be good at reordering operations - space efficiency, iteration speed, and the performance of update operations were secondary.\n",
    "\n",
    "Equality test between OrderedDict objects is order-sensitive."
   ]
  },
  {
   "cell_type": "markdown",
   "metadata": {},
   "source": [
    "<br>\n",
    "\n",
    "**popitem**(last=True)<br>\n",
    "In `OrderedDict` this method has a different signature than in built-in `dict`.<br>\n",
    "It accepts an optional argument to specify whether the last item will be popped (*LIFO order*) or the first one (*FIFO order*)."
   ]
  },
  {
   "cell_type": "code",
   "execution_count": 26,
   "metadata": {},
   "outputs": [
    {
     "name": "stdout",
     "output_type": "stream",
     "text": [
      "OrderedDict([('a', 10), ('b', 20), ('c', 30), ('d', 40)])\n",
      "{'a': 10, 'b': 20, 'c': 30, 'd': 40}\n",
      "\n",
      "('d', 40)\n",
      "{'a': 10, 'b': 20, 'c': 30}\n",
      "\n",
      "('a', 10)\n",
      "{'b': 20, 'c': 30}\n"
     ]
    }
   ],
   "source": [
    "od = OrderedDict({'a':10, 'b': 20, 'c':30, 'd':40})\n",
    "print(od)                  #> OrderedDict([('a', 10), ('b', 20), ('c', 30), ('d', 40)])\n",
    "print(dict(od))            #> {'a': 10, 'b': 20, 'c': 30, 'd': 40}\n",
    "print()\n",
    "\n",
    "print(od.popitem())        #> ('d', 40)\n",
    "print(dict(od))            #> {'a': 10, 'b': 20, 'c': 30}\n",
    "print()\n",
    "\n",
    "print(od.popitem(False))   #> ('a', 10)\n",
    "print(dict(od))            #> {'b': 20, 'c': 30}"
   ]
  },
  {
   "cell_type": "markdown",
   "metadata": {},
   "source": [
    "<br>\n",
    "\n",
    "**move_to_end**(key, last=True)<br>\n",
    "This method allows to efficiently reposit an element to endpoint or startpoint."
   ]
  },
  {
   "cell_type": "code",
   "execution_count": 27,
   "metadata": {},
   "outputs": [
    {
     "name": "stdout",
     "output_type": "stream",
     "text": [
      "{'a': 10, 'c': 30, 'd': 40, 'b': 20}\n",
      "{'c': 30, 'a': 10, 'd': 40, 'b': 20}\n"
     ]
    }
   ],
   "source": [
    "od = OrderedDict({'a':10, 'b': 20, 'c':30, 'd':40})\n",
    "\n",
    "od.move_to_end('b')\n",
    "print(dict(od))                   #> {'a': 10, 'c': 30, 'd': 40, 'b': 20}\n",
    "\n",
    "od.move_to_end('c', last=False)\n",
    "print(dict(od))                   #> {'c': 30, 'a': 10, 'd': 40, 'b': 20}"
   ]
  },
  {
   "cell_type": "code",
   "execution_count": null,
   "metadata": {},
   "outputs": [],
   "source": []
  }
 ],
 "metadata": {
  "kernelspec": {
   "display_name": "Python 3",
   "language": "python",
   "name": "python3"
  },
  "language_info": {
   "codemirror_mode": {
    "name": "ipython",
    "version": 3
   },
   "file_extension": ".py",
   "mimetype": "text/x-python",
   "name": "python",
   "nbconvert_exporter": "python",
   "pygments_lexer": "ipython3",
   "version": "3.8.1"
  }
 },
 "nbformat": 4,
 "nbformat_minor": 4
}
