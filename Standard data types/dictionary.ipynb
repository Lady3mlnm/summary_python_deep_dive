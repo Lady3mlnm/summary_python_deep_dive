{
 "cells": [
  {
   "cell_type": "markdown",
   "metadata": {},
   "source": [
    "docs: [docs.python.org](https://docs.python.org/3/library/stdtypes.html#dict), &nbsp; [w3schools.com](https://www.w3schools.com/python/python_dictionaries.asp), &nbsp; [snakify.org](https://snakify.org/en/lessons/dictionaries_dicts/)\n",
    "\n",
    "Small warning: If two numbers compare equal (*such as 1 and 1.0*) then they can be used interchangeably to index the same dictionary entry. Note however, that since computers store floating-point numbers as approximations it is usually unwise to use them as dictionary keys."
   ]
  },
  {
   "cell_type": "code",
   "execution_count": 1,
   "metadata": {
    "scrolled": true
   },
   "outputs": [
    {
     "name": "stdout",
     "output_type": "stream",
     "text": [
      "{'a': 10, 'b': 20, 'c': 30}\n",
      "<class 'dict'>\n",
      "3\n",
      "\n",
      "20\n",
      "20\n",
      "None\n",
      "0\n",
      "\n",
      "True\n",
      "False\n",
      "True\n"
     ]
    }
   ],
   "source": [
    "dd = {'a': 10, 'b': 20, 'c': 30}\n",
    "print(dd)              #> {'a': 10, 'b': 20, 'c': 30}\n",
    "print(type(dd))        #> <class 'dict'>\n",
    "print(len(dd))         #> 3\n",
    "print()\n",
    "\n",
    "print(dd['b'])         #> 20\n",
    "# print(dd['x'])       #> KeyError: 'x'\n",
    "print(dd.get('b'))     #> 20\n",
    "print(dd.get('x'))     #> None\n",
    "print(dd.get('x', 0))  #> 0\n",
    "print()\n",
    "\n",
    "print('b' in dd)       #> True\n",
    "print('x' in dd)       #> False\n",
    "print('x' not in dd)   #> True\n",
    "\n",
    "# print(dir(dd))   # [list of methods]"
   ]
  },
  {
   "cell_type": "code",
   "execution_count": 2,
   "metadata": {},
   "outputs": [
    {
     "name": "stdout",
     "output_type": "stream",
     "text": [
      "{}\n",
      "<class 'dict'>\n",
      "\n",
      "{}\n",
      "<class 'dict'>\n",
      "\n",
      "{'a': 1, 'b': 2, 'cr': 'crow'}\n",
      "{'a': 1, 'b': 2, 'cr': 'crow', 3: 300, 9: 'fluorine'}\n"
     ]
    }
   ],
   "source": [
    "# empty dictionary\n",
    "dd_empty = {}\n",
    "print(dd_empty)         #> {}\n",
    "print(type(dd_empty))   #> <class 'dict'>\n",
    "print()\n",
    "\n",
    "dd_empty2 = dict()\n",
    "print(dd_empty2)        #> {}\n",
    "print(type(dd_empty2))  #> <class 'dict'>\n",
    "print()\n",
    "\n",
    "\n",
    "# dictinary constructor\n",
    "ddc = dict(a=1, b=2, cr='crow')  # limitation: key must be string\n",
    "print(ddc)              #> {'a': 1, 'b': 2, 'cr': 'crow'}\n",
    "\n",
    "ddc2 = dict([('a', 1),\n",
    "             ('b', 2),\n",
    "             ('cr', 'crow'),\n",
    "             (3, 300),\n",
    "             (9, 'fluorine')])\n",
    "print(ddc2)             #> {'a': 1, 'b': 2, 'cr': 'crow', 3: 300, 9: 'fluorine'}"
   ]
  },
  {
   "cell_type": "code",
   "execution_count": 3,
   "metadata": {},
   "outputs": [
    {
     "name": "stdout",
     "output_type": "stream",
     "text": [
      "{'a': 10, 'b': 200, 'e': 500}\n",
      "{'a': 10, 'b': 200, 'e': 500}\n",
      "{'a': 10, 'b': 20}\n",
      "{'a': 10, 'b': 20}\n",
      "{'a': 10, 'b': 20}\n"
     ]
    }
   ],
   "source": [
    "dd = {'a': 10, 'b': 20}\n",
    "\n",
    "dd_copied_ref = dd       # -copy of only reference\n",
    "\n",
    "dd_copied1 = dd.copy()   # -shallow copy\n",
    "\n",
    "dd_copied2 = dict(dd)\n",
    "\n",
    "dd_copied3 = {**dd}\n",
    "\n",
    "\n",
    "dd['b'] = 200    # change the original set to test independence of copies\n",
    "dd['e'] = 500\n",
    "\n",
    "print(dd)              #> {'a': 10, 'b': 200, 'e': 500}\n",
    "print(dd_copied_ref)   #> {'a': 10, 'b': 200, 'e': 500}\n",
    "print(dd_copied1)      #> {'a': 10, 'b': 20}\n",
    "print(dd_copied2)      #> {'a': 10, 'b': 20}\n",
    "print(dd_copied3)      #> {'a': 10, 'b': 20}\n",
    "\n",
    "# in case of dictionary dd.copy() shows better performance than other mentioned here ways\n",
    "# (This is a distinctive feature of dictionary from list and set,\n",
    "# that show approximately equal performance for all corresponding methods.)"
   ]
  },
  {
   "cell_type": "code",
   "execution_count": 4,
   "metadata": {},
   "outputs": [
    {
     "name": "stdout",
     "output_type": "stream",
     "text": [
      "{'a': 10, 'b': 20, 'c': 300, 'd': 400}\n",
      "['a', 'b', 'c', 'd']\n",
      "\n",
      "20\n",
      "0\n",
      "{'a': 10, 'c': 300, 'd': 400}\n",
      "\n",
      "('d', 400)\n",
      "{'a': 10, 'c': 300}\n",
      "\n",
      "{'c': 300}\n",
      "\n",
      "{}\n",
      "\n",
      "True\n",
      "False\n"
     ]
    }
   ],
   "source": [
    "dd = {'a': 10, 'b': 20, 'c': 30}\n",
    "\n",
    "dd['c'] = 300\n",
    "dd['d'] = 400\n",
    "print(dd)             #> {'a': 10, 'b': 20, 'c': 300, 'd': 400}\n",
    "print(list(dd))       #> ['a', 'b', 'c', 'd']  -list of all the keys used in the dictionary\n",
    "print()\n",
    "\n",
    "print(dd.pop('b'))    #> 20\n",
    "# print(dd.pop('x'))  #> KeyError: 'x'\n",
    "print(dd.pop('x', 0)) #> 0  -if key is not in the dictionary than return default value (here 0)\n",
    "print(dd)             #> {'a': 10, 'c': 300, 'd': 400}\n",
    "# print(dd.pop())     #  this operation does not applicable for dictionary\n",
    "print()\n",
    "\n",
    "print(dd.popitem())   #> ('d', 400) -withdraws and returns the last inserted item (LIFO order)\n",
    "print(dd)             #> {'a': 10, 'c': 300}     \n",
    "print()\n",
    "\n",
    "del dd['a']\n",
    "print(dd)             #> {'c': 300}\n",
    "# del dd['x']         #> KeyError: 'x'\n",
    "print()\n",
    "\n",
    "dd.clear()            #  clear the dictionary from all elements\n",
    "print(dd)             #> {}\n",
    "print()\n",
    "\n",
    "print('dd' in globals())\n",
    "del dd                #  delete the dictionary completely\n",
    "# print(dd)           #> NameError: name 'dd' is not defined\n",
    "print('dd' in globals())"
   ]
  },
  {
   "cell_type": "markdown",
   "metadata": {},
   "source": [
    "<br>\n",
    "<br>\n",
    "The objects returned by <code>dict.keys()</code>, <code>dict.values()</code> and <code>dict.items()</code> are <b>view objects</b>. They provide a dynamic view on the dictionary’s entries, which means that when the dictionary changes, the view reflects these changes."
   ]
  },
  {
   "cell_type": "code",
   "execution_count": 5,
   "metadata": {},
   "outputs": [
    {
     "name": "stdout",
     "output_type": "stream",
     "text": [
      "a\n",
      "b\n",
      "\n",
      "dict_keys(['a', 'b'])\n",
      "a\n",
      "b\n",
      "\n",
      "dict_values([10, 20])\n",
      "10\n",
      "20\n",
      "\n",
      "dict_items([('a', 10), ('b', 20)])\n",
      "a 10\n",
      "b 20\n",
      "\n",
      "<dict_keyiterator object at 0x7f1164036c70>\n",
      "a\n",
      "b\n",
      "\n",
      "b\n",
      "a\n"
     ]
    }
   ],
   "source": [
    "dd = {'a': 10, 'b': 20}\n",
    "\n",
    "for k in dd:             # 'k' are the same as if we iterate over dd.keys()\n",
    "    print(k)\n",
    "print()\n",
    "\n",
    "print(dd.keys())         #> dict_keys(['a', 'b'])\n",
    "for k in dd.keys():\n",
    "    print(k)\n",
    "print()\n",
    "\n",
    "print(dd.values())       #> dict_values([10, 20])\n",
    "for v in dd.values():\n",
    "    print(v)\n",
    "print()\n",
    "\n",
    "print(dd.items())        #> ict_items([('a', 10), ('b', 20)])\n",
    "for k, v in dd.items():\n",
    "    print(k, v)\n",
    "print()\n",
    "\n",
    "dd_iter = iter(dd)       #  Iterator over the keys of the dictionary. This is a shortcut for iter(d.keys())\n",
    "print(dd_iter)           #> <dict_keyiterator object at 0x…>\n",
    "print(next(dd_iter))     #> a\n",
    "print(next(dd_iter))     #> v\n",
    "# print(next(dd_iter))   #> StopIteration:\n",
    "print()\n",
    "\n",
    "for k in reversed(dd):    # Reverse iterator over the keys of the dictionary.\n",
    "    print(k)              # This is a shortcut for reversed(d.keys()).\n",
    "                          # Work only since v3.8"
   ]
  },
  {
   "cell_type": "code",
   "execution_count": 6,
   "metadata": {},
   "outputs": [
    {
     "name": "stdout",
     "output_type": "stream",
     "text": [
      "{'a': 10, 'b': 28, 'c': 30, 'e': 40}\n",
      "{'a': 10, 'b': 28, 'c': 30, 'e': 40}\n",
      "{'a': 10, 'b': 28, 'c': 30, 'e': 40}\n",
      "{'a': 10, 'b': 28, 'c': 30, 'e': 40}\n"
     ]
    }
   ],
   "source": [
    "# combine two dictionary together\n",
    "dd  = {'a': 10, 'b': 20, 'c': 30}\n",
    "dd2 = {'b': 28, 'e': 40}\n",
    "\n",
    "dd.update(dd2)\n",
    "print(dd)                          #> {'a': 10, 'b': 28, 'c': 30, 'e': 40}\n",
    "\n",
    "dd = {'a': 10, 'b': 20, 'c': 30}\n",
    "dd_comb = {**dd, **dd2}\n",
    "print(dd_comb)                     #> {'a': 10, 'b': 28, 'c': 30, 'e': 40}\n",
    "\n",
    "\n",
    "# in 'update' we can also use other iterables\n",
    "dd = {'a': 10, 'b': 20, 'c': 30}\n",
    "ls = [('b', 28), ('e', 40)] \n",
    "dd.update(ls)                      #> {'a': 10, 'b': 28, 'c': 30, 'e': 40}\n",
    "print(dd)\n",
    "\n",
    "# one more way\n",
    "dd = {'a': 10, 'b': 20, 'c': 30}\n",
    "dd.update(b=28, e=40)              #> {'a': 10, 'b': 28, 'c': 30, 'e': 40}\n",
    "print(dd)"
   ]
  },
  {
   "cell_type": "code",
   "execution_count": 7,
   "metadata": {},
   "outputs": [
    {
     "name": "stdout",
     "output_type": "stream",
     "text": [
      "{'key1': 6, 'key2': 6, 'key3': 6}\n",
      "{'key1': None, 'key2': None, 'key3': None}\n"
     ]
    }
   ],
   "source": [
    "# dict.fromkeys() - Create a dictionary with the specified keys and values.\n",
    "#                   This is a class method that returns a new dictionary.\n",
    "keys = ('key1', 'key2', 'key3')\n",
    "\n",
    "dd = dict.fromkeys(keys, 6)\n",
    "print(dd)                    #> {'key1': 6, 'key2': 6, 'key3': 6}\n",
    "\n",
    "dd2 = dict.fromkeys(keys)\n",
    "print(dd2)                   #> {'key1': None, 'key2': None, 'key3': None}"
   ]
  },
  {
   "cell_type": "code",
   "execution_count": 8,
   "metadata": {},
   "outputs": [
    {
     "name": "stdout",
     "output_type": "stream",
     "text": [
      "20\n",
      "{'a': 10, 'b': 20, 'c': 30}\n",
      "\n",
      "50\n",
      "{'a': 10, 'b': 20, 'c': 30, 'e': 50}\n",
      "\n",
      "None\n",
      "{'a': 10, 'b': 20, 'c': 30, 'e': 50, 'h': None}\n"
     ]
    }
   ],
   "source": [
    "# setdefault - If key exists in the dictionary, than do nothing with dictionary, return value of the key.\n",
    "#              If key does not exist, than insert the key with specified value, return this value\n",
    "#                                                              (by default 'None')\n",
    "dd  = {'a': 10, 'b': 20, 'c': 30}\n",
    "\n",
    "x = dd.setdefault('b', 12)\n",
    "print(x)                    #> 20\n",
    "print(dd)                   #> {'a': 10, 'b': 20, 'c': 30}\n",
    "print()\n",
    "\n",
    "y = dd.setdefault('e', 50)\n",
    "print(y)                    #> 50\n",
    "print(dd)                   #> {'a': 10, 'b': 20, 'c': 30, 'e': 50}\n",
    "print()\n",
    "\n",
    "z = dd.setdefault('h')\n",
    "print(z)                    #> None\n",
    "print(dd)                   #> {'a': 10, 'b': 20, 'c': 30, 'e': 50, 'h': None}"
   ]
  },
  {
   "cell_type": "markdown",
   "metadata": {},
   "source": [
    "<br>"
   ]
  },
  {
   "cell_type": "code",
   "execution_count": 9,
   "metadata": {},
   "outputs": [
    {
     "name": "stdout",
     "output_type": "stream",
     "text": [
      "{10: 'a', 20: 'b', 30: 'c'}\n",
      "{10: 'a', 20: 'b', 30: 'c'}\n"
     ]
    }
   ],
   "source": [
    "dd  = {'a': 10, 'b': 20, 'c': 30}\n",
    "\n",
    "# swap keys and values\n",
    "# way 1\n",
    "dd_swapped1 = {v:k for k,v in dd.items()}\n",
    "print(dd_swapped1)                               #> {10: 'a', 20: 'b', 30: 'c'}\n",
    "\n",
    "# way 2\n",
    "dd_swapped2 = dict(zip(dd.values(), dd.keys()))\n",
    "print(dd_swapped2)                               #> {10: 'a', 20: 'b', 30: 'c'}"
   ]
  },
  {
   "cell_type": "code",
   "execution_count": 10,
   "metadata": {},
   "outputs": [
    {
     "name": "stdout",
     "output_type": "stream",
     "text": [
      "{'a': 40, 'b': 20, 'c': 50, 'd': 10, 'e': 30}\n",
      "{'a': 40, 'b': 20, 'c': 50, 'd': 10, 'e': 30}\n",
      "\n",
      "{'d': 10, 'b': 20, 'e': 30, 'a': 40, 'c': 50}\n",
      "{'d': 10, 'b': 20, 'e': 30, 'a': 40, 'c': 50}\n",
      "{'d': 10, 'b': 20, 'e': 30, 'a': 40, 'c': 50}\n",
      "\n",
      "['c', 'a', 'e']\n"
     ]
    }
   ],
   "source": [
    "dd = {'c': 50, 'b': 20, 'd': 10, 'a': 40, 'e': 30}\n",
    "\n",
    "# sorting dictionary by key\n",
    "# way 1\n",
    "dd_sorted1 = {k:dd[k] for k in sorted(dd)}\n",
    "print(dd_sorted1)                           #> {'a': 40, 'b': 20, 'c': 50, 'd': 10, 'e': 30}\n",
    "\n",
    "# way 2\n",
    "dd_sorted2 = dict(sorted(dd.items()))\n",
    "print(dd_sorted2)                           #> {'a': 40, 'b': 20, 'c': 50, 'd': 10, 'e': 30}\n",
    "print()\n",
    "\n",
    "\n",
    "# sorting dictionary by value\n",
    "# method 1\n",
    "dd_sorted3 = {k:dd[k] for k in sorted(dd, key=lambda k:dd[k])}\n",
    "print(dd_sorted3)                           #> {'d': 10, 'b': 20, 'e': 30, 'a': 40, 'c': 50}\n",
    "\n",
    "# method 2\n",
    "dd_sorted5 = {k:v for k,v in sorted(dd.items(), key=lambda tpl:tpl[1])}\n",
    "print(dd_sorted5)                           #> {'d': 10, 'b': 20, 'e': 30, 'a': 40, 'c': 50}\n",
    "\n",
    "# method 3\n",
    "dd_sorted4 = dict(sorted(dd.items(), key=lambda tpl:tpl[1]))\n",
    "print(dd_sorted4)                           #> {'d': 10, 'b': 20, 'e': 30, 'a': 40, 'c': 50}\n",
    "print()\n",
    "\n",
    "\n",
    "# list of 3 elements with biggest values\n",
    "fr_list = sorted(dd, key=lambda k:dd[k], reverse=True)[:3]\n",
    "print(fr_list)                              #> ['c', 'a', 'e']"
   ]
  },
  {
   "cell_type": "code",
   "execution_count": null,
   "metadata": {},
   "outputs": [],
   "source": []
  }
 ],
 "metadata": {
  "kernelspec": {
   "display_name": "Python 3",
   "language": "python",
   "name": "python3"
  },
  "language_info": {
   "codemirror_mode": {
    "name": "ipython",
    "version": 3
   },
   "file_extension": ".py",
   "mimetype": "text/x-python",
   "name": "python",
   "nbconvert_exporter": "python",
   "pygments_lexer": "ipython3",
   "version": "3.8.1"
  }
 },
 "nbformat": 4,
 "nbformat_minor": 2
}
