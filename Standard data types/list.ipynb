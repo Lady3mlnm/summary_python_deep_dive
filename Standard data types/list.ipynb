{
 "cells": [
  {
   "cell_type": "markdown",
   "metadata": {},
   "source": [
    "docs: [docs.python.org](https://docs.python.org/3/library/stdtypes.html#list), &nbsp; [w3schools.com](https://www.w3schools.com/python/python_lists.asp) & [2](https://www.w3schools.com/python/python_arrays.asp), &nbsp; [snakify.org](https://snakify.org/en/lessons/lists/), &nbsp; [developers.google.com](https://developers.google.com/edu/python/lists)"
   ]
  },
  {
   "cell_type": "code",
   "execution_count": 1,
   "metadata": {},
   "outputs": [
    {
     "name": "stdout",
     "output_type": "stream",
     "text": [
      "[0, 10, 20]\n",
      "<class 'list'>\n",
      "3\n",
      "\n",
      "10\n",
      "20\n",
      "\n",
      "True\n",
      "False\n",
      "True\n"
     ]
    }
   ],
   "source": [
    "ls = [0, 10, 20]\n",
    "print(ls)              #> [0, 10, 20]\n",
    "print(type(ls))        #> <class 'list'>\n",
    "print(len(ls))         #> 3\n",
    "print()\n",
    "\n",
    "print(ls[1])           #> 10\n",
    "print(ls[-1])          #> 20\n",
    "# print(ls[99])        #> IndexError: list index out of range\n",
    "print()\n",
    "\n",
    "print(10 in ls)        #> True\n",
    "print('a' in ls)       #> False\n",
    "print('a' not in ls)   #> True\n",
    "\n",
    "# print(dir(ls))       # [list of methods]"
   ]
  },
  {
   "cell_type": "code",
   "execution_count": 2,
   "metadata": {},
   "outputs": [
    {
     "name": "stdout",
     "output_type": "stream",
     "text": [
      "[]\n",
      "<class 'list'>\n",
      "\n",
      "[]\n",
      "<class 'list'>\n",
      "\n",
      "['a', 'b', 'c']\n",
      "['a', 'b', 'c', 'd']\n"
     ]
    }
   ],
   "source": [
    "# empty list\n",
    "ls_empty = []\n",
    "print(ls_empty)        #> []\n",
    "print(type(ls_empty))  #> <class 'list'>\n",
    "print()\n",
    "\n",
    "ls_empty2 = list()\n",
    "print(ls_empty2)       #> []\n",
    "print(type(ls_empty2)) #> <class 'list'>\n",
    "print()\n",
    "\n",
    "\n",
    "# list constructor\n",
    "lsc = list(('a', 'b', 'c'))  # note the double brackets\n",
    "print(lsc)             #> ['a', 'b', 'c']\n",
    "\n",
    "lsc2 = list('abcd')\n",
    "print(lsc2)            #> ['a', 'b', 'c', 'd']"
   ]
  },
  {
   "cell_type": "code",
   "execution_count": 3,
   "metadata": {},
   "outputs": [
    {
     "name": "stdout",
     "output_type": "stream",
     "text": [
      "['a', 10]\n",
      "['a', 10]\n",
      "[0, 10, 20]\n",
      "[0, 10, 20]\n",
      "[0, 10, 20]\n",
      "[0, 10, 20]\n"
     ]
    }
   ],
   "source": [
    "ls = [0, 10, 20]\n",
    "\n",
    "ls_copied_ref = ls     # copy of references only\n",
    "\n",
    "ls_copied1 = ls.copy() # shallow copy\n",
    "\n",
    "ls_copied2 = list(ls)\n",
    "\n",
    "ls_copied3 = ls[:]\n",
    "\n",
    "ls_copied4 = [*ls]\n",
    "\n",
    "ls[0] = 'a'\n",
    "ls.remove(20)\n",
    "\n",
    "print(ls)              #> ['a', 10]\n",
    "print(ls_copied_ref)   #> ['a', 10]\n",
    "print(ls_copied1)      #> [0, 10, 20]\n",
    "print(ls_copied2)      #> [0, 10, 20]\n",
    "print(ls_copied3)      #> [0, 10, 20]\n",
    "print(ls_copied4)      #> [0, 10, 20]\n",
    "\n",
    "# All these methods of list copying show approximetely equal performance"
   ]
  },
  {
   "cell_type": "code",
   "execution_count": 4,
   "metadata": {},
   "outputs": [
    {
     "name": "stdout",
     "output_type": "stream",
     "text": [
      "[0, 10, 20, 30, 40, 50]\n",
      "[10, 20]\n",
      "[0, 10, 20, 30, 40]\n",
      "[10, 30]\n",
      "[40, 20]\n"
     ]
    }
   ],
   "source": [
    "# slicing\n",
    "ls = [0, 10, 20, 30, 40, 50]\n",
    "print(ls)              #> [0, 10, 20, 30, 40, 50]\n",
    "\n",
    "sublist1 = ls[1:3]\n",
    "print(sublist1)        #> [10, 20]\n",
    "\n",
    "sublist2 = ls[:-1]\n",
    "print(sublist2)        #> [0, 10, 20, 30, 40]\n",
    "\n",
    "sublist3 = ls[1:4:2]\n",
    "print(sublist3)        #> [10, 30]\n",
    "\n",
    "sublist4 = ls[4:1:-2]\n",
    "print(sublist4)        #> [40, 20]"
   ]
  },
  {
   "cell_type": "code",
   "execution_count": 5,
   "metadata": {},
   "outputs": [
    {
     "name": "stdout",
     "output_type": "stream",
     "text": [
      "[0, 20, 40]\n"
     ]
    }
   ],
   "source": [
    "ls = [0, 10, 20, 30, 40, 50]\n",
    "del ls[1::2]           #  remove every odd number in the list\n",
    "print(ls)              #> [0, 20, 40]"
   ]
  },
  {
   "cell_type": "code",
   "execution_count": 6,
   "metadata": {},
   "outputs": [
    {
     "name": "stdout",
     "output_type": "stream",
     "text": [
      "[0, 10, 20, 30]\n",
      "[0, 'a', 20, 30]\n",
      "[0, 'b', 30]\n",
      "[0, 'c', 'd', 30]\n",
      "[0, 30]\n",
      "[0, 10, 20, 30]\n",
      "\n",
      "[0, 'a', 20, 'b', 40, 50]\n"
     ]
    }
   ],
   "source": [
    "# changing of element and range of elements\n",
    "ls = [0, 10, 20, 30]\n",
    "print(ls)              #> [0, 10, 20, 30]\n",
    "\n",
    "ls[1] = 'a'            #  simplest replacement\n",
    "print(ls)              #> [0, 'a', 20, 30]\n",
    "\n",
    "ls[1:3] = 'b'          #  replacement range with single element\n",
    "print(ls)              #> [0, 'b', 30]\n",
    "\n",
    "ls[1:2] = ['c', 'd']   #  replacement single element with several\n",
    "print(ls)\n",
    "\n",
    "ls[1:3] = ''           #  <=> del ls[1:3], -delete range\n",
    "print(ls)\n",
    "\n",
    "ls[1:1] = [10, 20]     #  insert one element or range,\n",
    "print(ls)              #  approximately equal to 'ls.insert(1,el)' but work with only a single element\n",
    "print()\n",
    "\n",
    "ls = [0, 10, 20, 30, 40, 50]\n",
    "ls[1:4:2] = ['a', 'b']    # for this kind of replacement there's a strict limitation:\n",
    "                          # number of replaced elements must be equal to number of replacing elements\n",
    "print(ls)              #> [0, 'a', 20, 'b', 40, 50]"
   ]
  },
  {
   "cell_type": "code",
   "execution_count": 7,
   "metadata": {},
   "outputs": [
    {
     "name": "stdout",
     "output_type": "stream",
     "text": [
      "a b c \n",
      "a, b, c\n",
      "c b a "
     ]
    }
   ],
   "source": [
    "# looping through elements\n",
    "ls = ['a', 'b', 'c']\n",
    "\n",
    "for ch in ls:\n",
    "    print(ch, end=' ')   #> a b c \n",
    "print()\n",
    "\n",
    "print(*ls, sep=', ')     #> a, b, c\n",
    "\n",
    "for ch in reversed(ls):\n",
    "    print(ch, end=' ')   #> c b a "
   ]
  },
  {
   "cell_type": "code",
   "execution_count": 8,
   "metadata": {
    "scrolled": true
   },
   "outputs": [
    {
     "name": "stdout",
     "output_type": "stream",
     "text": [
      "['a', 'b']\n",
      "['a', 'b', 'c']\n",
      "['a', 'b', 'c', 'd', 'e']\n",
      "['a', 'd', 'b', 'c', 'd', 'e']\n",
      "['a', 'b', 'c', 'd', 'e']\n",
      "e\n",
      "['a', 'b', 'c', 'd']\n",
      "c\n",
      "['a', 'b', 'd']\n",
      "['a', 'd']\n",
      "[]\n"
     ]
    }
   ],
   "source": [
    "ls = ['a', 'b']\n",
    "print(ls)              #> ['a', 'b']\n",
    "\n",
    "ls.append('c')\n",
    "print(ls)              #> ['a', 'b', 'c']\n",
    "\n",
    "ls.extend(['d', 'e'])  #  <=> ls += ['d', 'e']\n",
    "print(ls)              #> ['a', 'b', 'c', 'd', 'e']\n",
    "\n",
    "ls.insert(1, 'd')      #  Approximately equal to ls[i:i] = ['d'], the difference is that the slice assignment\n",
    "                       #  also allows to insert several values. There's no default value for 'insert'.\n",
    "print(ls)              #> ['a', 'd', 'b', 'c', 'd', 'e']\n",
    "\n",
    "ls.remove('d')         #  removes the first occurrence of the element with the specified value\n",
    "print(ls)              #> ['a', 'b', 'c', 'd', 'e']\n",
    "\n",
    "# ls.remove('x')  # ValueError: list.remove(x): x not in list\n",
    "\n",
    "print(ls.pop())        #> e\n",
    "print(ls)              #> ['a', 'b', 'c', 'd']\n",
    "\n",
    "print(ls.pop(2))       #> c\n",
    "print(ls)              #> ['a', 'b', 'd']\n",
    "\n",
    "# print(ls.pop(99))    #> IndexError: pop index out of range\n",
    "\n",
    "del ls[1]              #  Remove element at the specified index. It's also possible to delete range, incl. sparse range\n",
    "print(ls)              #> ['a', 'd']\n",
    "\n",
    "ls.clear()             # <=> del s[:]\n",
    "print(ls)              #> []\n",
    "\n",
    "del ls                 #  delete list completely\n",
    "# print(ls)   #> NameError: name 'ls' is not defined\n",
    "              # for testing we can write 'ls' in globals() -> False"
   ]
  },
  {
   "cell_type": "code",
   "execution_count": 9,
   "metadata": {},
   "outputs": [
    {
     "name": "stdout",
     "output_type": "stream",
     "text": [
      "[0, 0, 0]\n",
      "['a', 'b', 'a', 'b', 'a', 'b']\n",
      "[100, 'b', 'a', 'b', 'a', 'b']\n",
      "\n",
      "[[10, 20], [10, 20], [10, 20]]\n",
      "[[55, 20], [55, 20], [55, 20]]\n"
     ]
    }
   ],
   "source": [
    "ls = [0] * 3\n",
    "print(ls)        #> [0, 0, 0]\n",
    "\n",
    "ls = ['a', 'b']\n",
    "ls *= 3          #  update the list with its contents repeated several times\n",
    "print(ls)        #> ['a', 'b', 'a', 'b', 'a', 'b']\n",
    "ls[0] = 100\n",
    "print(ls)        #> [100, 'b', 'a', 'b', 'a', 'b']\n",
    "print()\n",
    "\n",
    "ls_c = [[10, 20]]  # Potential caveat: complex objects in the sequence are not copied\n",
    "ls_c *=  3         #                   but they are referenced multiple times.\n",
    "print(ls_c)\n",
    "ls_c[0][0] = 55\n",
    "print(ls_c)"
   ]
  },
  {
   "cell_type": "code",
   "execution_count": 10,
   "metadata": {},
   "outputs": [
    {
     "name": "stdout",
     "output_type": "stream",
     "text": [
      "[0, 10, 20, 'a', 'b']\n",
      "id(ls1)     = 140407991305344\n",
      "id(ls2)     = 140407991305088\n",
      "id(ls_join) = 140407991305792\n",
      "\n",
      "[0, 10, 20, 'a', 'b']\n",
      "id(ls1)     = 140407991305344\n"
     ]
    }
   ],
   "source": [
    "ls1 = [0, 10, 20]\n",
    "ls2 = ['a', 'b']\n",
    "\n",
    "ls_join = ls1 + ls2\n",
    "print(ls_join)                       #> [0, 10, 20, 'a', 'b']\n",
    "print('id(ls1)     =', id(ls1))      #> id_1\n",
    "print('id(ls2)     =', id(ls2))      #> id_2\n",
    "print('id(ls_join) =', id(ls_join))  #> id_3\n",
    "print()\n",
    "\n",
    "\n",
    "ls1 += ls2                           #  <=> ls1.extend(ls2)\n",
    "print(ls1)                           #> [0, 10, 20, 'a', 'b']\n",
    "print('id(ls1)     =', id(ls1))      #> id_1"
   ]
  },
  {
   "cell_type": "code",
   "execution_count": 11,
   "metadata": {},
   "outputs": [
    {
     "name": "stdout",
     "output_type": "stream",
     "text": [
      "10\n",
      "50\n",
      "120\n",
      "\n",
      "a\n",
      "d\n"
     ]
    }
   ],
   "source": [
    "ls = [23, 10, 50, 37]\n",
    "\n",
    "print(min(ls))     #> 10\n",
    "print(max(ls))     #> 50\n",
    "print(sum(ls))     #> 120\n",
    "print()\n",
    "\n",
    "ls = ['b', 'a', 'd', 'c']\n",
    "print(min(ls))     #> a\n",
    "print(max(ls))     #> d\n",
    "# print(sum(ls))   #> TypeError: unsupported operand type(s) for +: 'int' and 'str'"
   ]
  },
  {
   "cell_type": "code",
   "execution_count": 12,
   "metadata": {},
   "outputs": [
    {
     "name": "stdout",
     "output_type": "stream",
     "text": [
      "3\n",
      "0\n",
      "\n",
      "1\n",
      "4\n"
     ]
    }
   ],
   "source": [
    "ls = ['a', 10, 20, 'a', 10, 'a']\n",
    "\n",
    "print(ls.count('a'))    #> 3  -number of elements with the specified value\n",
    "print(ls.count('xx'))   #> 0\n",
    "print()\n",
    "\n",
    "print(ls.index(10))     #> 1  -index of the first element with the specified value\n",
    "print(ls.index(10, 2))  #> 4  ——//—— beginning with the given start index"
   ]
  },
  {
   "cell_type": "code",
   "execution_count": 13,
   "metadata": {},
   "outputs": [
    {
     "name": "stdout",
     "output_type": "stream",
     "text": [
      "  sorted(ls):\n",
      "[10, 23, 37, 50]\n",
      "[23, 10, 50, 37]\n",
      "\n",
      "  ls.sort():\n",
      "[10, 23, 37, 50]\n",
      "\n",
      "  ls.sort(reverse=True):\n",
      "[50, 37, 23, 10]\n",
      "\n",
      "  ls.sort() with key parameter:\n",
      "['A', 'D', 'b', 'c']\n",
      "['A', 'b', 'c', 'D']\n"
     ]
    }
   ],
   "source": [
    "ls = [23, 10, 50, 37]\n",
    "print('  sorted(ls):')\n",
    "\n",
    "print(sorted(ls))      #> [10, 23, 37, 50]\n",
    "print(ls)              #> [23, 10, 50, 37]  -original has not changed\n",
    "print()\n",
    "\n",
    "\n",
    "ls = [23, 10, 50, 37]\n",
    "print('  ls.sort():')\n",
    "\n",
    "ls.sort()      # Sort the list in place ascending.\n",
    "               # The operation itself returns 'None'.\n",
    "               # Exceptions are not suppressed - if any comparison operation fails,\n",
    "               # the entire sort operation will fail\n",
    "               # (and the list will likely be left in a partially modified state).\n",
    "print(ls)              #> [10, 23, 37, 50]\n",
    "print()\n",
    "\n",
    "\n",
    "ls = [23, 10, 50, 37]\n",
    "print('  ls.sort(reverse=True):')\n",
    "\n",
    "ls.sort(reverse=True)  #  Sort descending. The operation itself returns 'None'.\n",
    "print(ls)              #> [50, 37, 23, 10]\n",
    "print()\n",
    "\n",
    "# It's also possible to specialize sorting criteria via 'key='\n",
    "print('  ls.sort() with key parameter:')\n",
    "ls = ['b', 'A', 'D', 'c']\n",
    "ls.sort()\n",
    "print(ls)              #> ['A', 'D', 'b', 'c']  -standard sort for comparison\n",
    "\n",
    "ls.sort(key=str.lower) #> ['A', 'b', 'c', 'D']\n",
    "print(ls)\n",
    "\n",
    "# The sort() method is guaranteed to be stable.\n",
    "# A sort is stable if it guarantees not to change the relative order of elements\n",
    "# that compare equal — this is helpful for sorting in multiple passes."
   ]
  },
  {
   "cell_type": "code",
   "execution_count": 14,
   "metadata": {},
   "outputs": [
    {
     "name": "stdout",
     "output_type": "stream",
     "text": [
      "  reversed(ls):\n",
      "<list_reverseiterator object at 0x7fb34872be80>\n",
      "b 10 a \n",
      "\n",
      "  ls.reverse():\n",
      "['b', 10, 'a']\n"
     ]
    }
   ],
   "source": [
    "ls = ['a', 10, 'b']\n",
    "print('  reversed(ls):')\n",
    "\n",
    "rev_iter = reversed(ls)\n",
    "print(rev_iter)          #> <list_reverseiterator object at 0x…>  -reversed iterator object\n",
    "\n",
    "for el in rev_iter:\n",
    "    print(el, end=' ')   #> d bb 10 a        # it can also be written 'print(*rev_iter)'\n",
    "print('\\n')\n",
    "\n",
    "\n",
    "ls = ['a', 10, 'b']\n",
    "print('  ls.reverse():')\n",
    "\n",
    "ls.reverse()       # Reverse the order of elements in the original list.\n",
    "                   # The operation itself returns 'None'.\n",
    "print(ls)                #> ['a', 10, 'a', 20, 10, 'a']"
   ]
  },
  {
   "cell_type": "code",
   "execution_count": 15,
   "metadata": {},
   "outputs": [
    {
     "name": "stdout",
     "output_type": "stream",
     "text": [
      "a = 10\n",
      "y = 40\n",
      "z = 50\n",
      "_ = [20, 30]\n"
     ]
    }
   ],
   "source": [
    "# unpacking\n",
    "ls= [10, 20, 30, 40, 50]\n",
    "\n",
    "a, *_, y, z = ls\n",
    "\n",
    "print('a =', a)\n",
    "print('y =', y)\n",
    "print('z =', z)\n",
    "print('_ =', _)"
   ]
  },
  {
   "cell_type": "markdown",
   "metadata": {},
   "source": [
    "<br>"
   ]
  },
  {
   "cell_type": "code",
   "execution_count": 16,
   "metadata": {},
   "outputs": [
    {
     "name": "stdout",
     "output_type": "stream",
     "text": [
      "Ax\n",
      "By\n",
      "Cz\n",
      "\n",
      "('A', 'x')\n",
      "('B', 'y')\n",
      "('C', 'z')\n",
      "\n",
      "('A', 'x')\n",
      "('B', 'y')\n",
      "('C', 'z')\n"
     ]
    }
   ],
   "source": [
    "# different ways to transpose list of iterable objects\n",
    "ls = ['ABC',\n",
    "      'xyz']\n",
    "ls_transposed1 = [''.join(tp) for tp in zip(*ls)]\n",
    "print(*ls_transposed1, sep='\\n')\n",
    "print()\n",
    "\n",
    "ls = [('A','B','C'),\n",
    "      ('x','y','z')]\n",
    "ls_transposed2 = list(zip(*ls))\n",
    "print(*ls_transposed2, sep='\\n')\n",
    "print()\n",
    "\n",
    "ls = [('A','B','C'),\n",
    "      ('x','y','z')]\n",
    "ls_transposed3 = [*zip(*ls)]\n",
    "print(*ls_transposed3, sep='\\n')"
   ]
  },
  {
   "cell_type": "markdown",
   "metadata": {},
   "source": [
    "<br>\n",
    "\n",
    "<br>\n",
    "\n",
    "**Caution**: mutable default arguments in the functions are a potential pitfall.<br>\n",
    "See [docs.python-guide.org](https://docs.python-guide.org/writing/gotchas), [florimond.dev](https://florimond.dev/blog/articles/2018/08/python-mutable-defaults-are-the-source-of-all-evil)"
   ]
  },
  {
   "cell_type": "code",
   "execution_count": 17,
   "metadata": {},
   "outputs": [
    {
     "name": "stdout",
     "output_type": "stream",
     "text": [
      "[3]\n",
      "[3, 5]\n",
      "[3, 5, 7]\n",
      "\n",
      "[3]\n",
      "[5]\n",
      "[7]\n"
     ]
    }
   ],
   "source": [
    "# piffall\n",
    "def foo(nmb, ls=[]):\n",
    "    ls.append(nmb)\n",
    "    return ls\n",
    "\n",
    "print(foo(3))   #> [3]\n",
    "print(foo(5))   #> [3, 5]\n",
    "print(foo(7))   #> [3, 5, 7]\n",
    "print()\n",
    "\n",
    "\n",
    "# instead of that use\n",
    "def goo(nmb, ls=None):\n",
    "    if ls is None:\n",
    "        ls = []\n",
    "    ls.append(nmb)\n",
    "    return ls\n",
    "\n",
    "print(goo(3))   #> [3]\n",
    "print(goo(5))   #> [5]\n",
    "print(goo(7))   #> [7]"
   ]
  },
  {
   "cell_type": "code",
   "execution_count": null,
   "metadata": {},
   "outputs": [],
   "source": []
  }
 ],
 "metadata": {
  "kernelspec": {
   "display_name": "Python 3",
   "language": "python",
   "name": "python3"
  },
  "language_info": {
   "codemirror_mode": {
    "name": "ipython",
    "version": 3
   },
   "file_extension": ".py",
   "mimetype": "text/x-python",
   "name": "python",
   "nbconvert_exporter": "python",
   "pygments_lexer": "ipython3",
   "version": "3.8.1"
  }
 },
 "nbformat": 4,
 "nbformat_minor": 4
}
