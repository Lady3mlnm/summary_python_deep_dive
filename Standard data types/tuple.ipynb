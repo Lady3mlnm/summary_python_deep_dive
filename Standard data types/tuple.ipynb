{
 "cells": [
  {
   "cell_type": "markdown",
   "metadata": {},
   "source": [
    "docs: [w3schools.com](https://www.w3schools.com/python/python_tuples.asp), &nbsp; [docs.python.org](https://docs.python.org/3/library/stdtypes.html#tuple)"
   ]
  },
  {
   "cell_type": "code",
   "execution_count": 1,
   "metadata": {},
   "outputs": [],
   "source": [
    "tp = (0, 10, 20)\n",
    "print(tp)              #> (0, 10, 20)\n",
    "print(type(tp))        #> <class 'tuple'>\n",
    "print(len(tp))         #> 3\n",
    "print()\n",
    "\n",
    "print(tp[1])           #> 10\n",
    "print(tp[-1])          #> 20\n",
    "# print(tp[99])        #> IndexError: tuple index out of range\n",
    "print()\n",
    "\n",
    "print(10 in tp)        #> True\n",
    "print('a' in tp)       #> False\n",
    "print('a' not in tp)   #> True\n",
    "\n",
    "# print(dir(tp))       # [list of methods]"
   ]
  },
  {
   "cell_type": "code",
   "execution_count": 2,
   "metadata": {},
   "outputs": [
    {
     "name": "stdout",
     "output_type": "stream",
     "text": [
      "()\n",
      "<class 'tuple'>\n",
      "\n",
      "[]\n",
      "<class 'list'>\n",
      "\n",
      "('a', 'b', 'c')\n",
      "('a', 'b', 'c', 'd')\n"
     ]
    }
   ],
   "source": [
    "# empty tuple\n",
    "tp_empty = ()\n",
    "print(tp_empty)        #> ()\n",
    "print(type(tp_empty))  #> <class 'tuple'>\n",
    "print()\n",
    "\n",
    "tp_empty2 = list()\n",
    "print(tp_empty2)       #> ()\n",
    "print(type(tp_empty2)) #> <class 'tuple'>\n",
    "print()\n",
    "\n",
    "\n",
    "# list constructor\n",
    "tpc = tuple(('a', 'b', 'c'))  # note the double brackets\n",
    "print(tpc)             #> ['list', 'con', 'structor']\n",
    "\n",
    "tpc2 = tuple('abcd')\n",
    "print(tpc2)            #> ('a', 'b', 'c', 'd')"
   ]
  },
  {
   "cell_type": "code",
   "execution_count": 3,
   "metadata": {},
   "outputs": [
    {
     "name": "stdout",
     "output_type": "stream",
     "text": [
      "(0, 10, 20)\n",
      "(0, 10, 20)\n"
     ]
    }
   ],
   "source": [
    "ls = (0, 10, 20)\n",
    "\n",
    "ls_copied = ls     # copy only references, but since tuple is immutable than this is OK\n",
    "\n",
    "print(ls)\n",
    "print(ls_copied)"
   ]
  },
  {
   "cell_type": "code",
   "execution_count": 4,
   "metadata": {},
   "outputs": [
    {
     "name": "stdout",
     "output_type": "stream",
     "text": [
      "(0, 10, 20, 30, 40, 50)\n",
      "(10, 20)\n",
      "(0, 10, 20, 30, 40)\n",
      "(10, 30)\n",
      "(40, 20)\n"
     ]
    }
   ],
   "source": [
    "# slicing\n",
    "tp = (0, 10, 20, 30, 40, 50)\n",
    "print(tp)              #> (0, 10, 20, 30, 40, 50)\n",
    "\n",
    "subtuple1 = tp[1:3]\n",
    "print(subtuple1)        #> (10, 20)\n",
    "\n",
    "subtuple2 = tp[:-1]\n",
    "print(subtuple2)        #> 0, 10, 20, 30, 40)\n",
    "\n",
    "subtuple3 = tp[1:4:2]\n",
    "print(subtuple3)        #> (10, 30)\n",
    "\n",
    "subtuple4 = tp[4:1:-2]\n",
    "print(subtuple4)        #> (40, 20)"
   ]
  },
  {
   "cell_type": "code",
   "execution_count": 5,
   "metadata": {},
   "outputs": [
    {
     "name": "stdout",
     "output_type": "stream",
     "text": [
      "a b c \n",
      "a, b, c\n",
      "c b a "
     ]
    }
   ],
   "source": [
    "# looping through elements\n",
    "tp = ('a', 'b', 'c')\n",
    "\n",
    "for ch in tp:\n",
    "    print(ch, end=' ')   #> a b c \n",
    "print()\n",
    "    \n",
    "print(*tp, sep=', ')     #> a, b, c\n",
    "\n",
    "for ch in reversed(tp):\n",
    "    print(ch, end=' ')   #> c b a "
   ]
  },
  {
   "cell_type": "code",
   "execution_count": 6,
   "metadata": {},
   "outputs": [],
   "source": [
    "tp = ('a', 'b')\n",
    "\n",
    "del tp        #  delete tuple completely\n",
    "# print(tp)   #> NameError: name 'tp' is not defined\n",
    "              # for testing we can write 'tp' in globals() -> False"
   ]
  },
  {
   "cell_type": "code",
   "execution_count": 7,
   "metadata": {},
   "outputs": [
    {
     "name": "stdout",
     "output_type": "stream",
     "text": [
      "(0, 0, 0)\n",
      "('a', 'b', 'a', 'b', 'a', 'b')\n",
      "[[10, 20], [10, 20], [10, 20]]\n",
      "[[55, 20], [55, 20], [55, 20]]\n"
     ]
    }
   ],
   "source": [
    "tp = (0,) * 3    #  notice comma, here it is required to denote one-element tuple\n",
    "print(tp)        #> (0, 0, 0)\n",
    "\n",
    "tp = ('a', 'b')\n",
    "tp *= 3          #  -update list with its contents repeated several times\n",
    "print(tp)        #> ('a', 'b', 'a', 'b', 'a', 'b')\n",
    "\n",
    "tp_c = [[10, 20]]  # potential caveat: if inside tuple there's a changeable object, it can be changed,\n",
    "tp_c *=  3         #                   and these changes will be duplicated\n",
    "print(tp_c)\n",
    "tp_c[0][0] = 55\n",
    "print(tp_c)"
   ]
  },
  {
   "cell_type": "code",
   "execution_count": 8,
   "metadata": {},
   "outputs": [
    {
     "name": "stdout",
     "output_type": "stream",
     "text": [
      "(0, 10, 20, 'a', 'b')\n",
      "id(tp1)     = 140679319249280\n",
      "id(tp2)     = 140679370060416\n",
      "id(tp_join) = 140679370266080\n",
      "\n",
      "(0, 10, 20, 'a', 'b')\n",
      "('a', 'b')\n",
      "id(tp1)     = 140679310793760\n"
     ]
    }
   ],
   "source": [
    "tp1 = (0, 10, 20)\n",
    "tp2 = ('a', 'b')\n",
    "\n",
    "tp_join = tp1 + tp2\n",
    "print(tp_join)                       #> (0, 10, 20, 'a', 'b')\n",
    "print('id(tp1)     =', id(tp1))      #> id_1\n",
    "print('id(tp2)     =', id(tp2))      #> id_2\n",
    "print('id(tp_join) =', id(tp_join))  #> id_3\n",
    "print()\n",
    "\n",
    "tp1 += tp2\n",
    "print(tp1)                           #> (0, 10, 20, 'a', 'b')\n",
    "print(tp2)                           #> ('a', 'b')\n",
    "print('id(tp1)     =', id(tp1))      #> id_4  -i.e. id changed"
   ]
  },
  {
   "cell_type": "code",
   "execution_count": 9,
   "metadata": {},
   "outputs": [
    {
     "name": "stdout",
     "output_type": "stream",
     "text": [
      "10\n",
      "50\n",
      "120\n",
      "\n",
      "a\n",
      "d\n"
     ]
    }
   ],
   "source": [
    "tp = (23, 10, 50, 37)\n",
    "\n",
    "print(min(tp))     #> 10\n",
    "print(max(tp))     #> 50\n",
    "print(sum(tp))     #> 120\n",
    "print()\n",
    "\n",
    "tp = ('b', 'a', 'd', 'c')\n",
    "print(min(tp))     #> a\n",
    "print(max(tp))     #> d\n",
    "# print(sum(tp))   #> TypeError: unsupported operand type(s) for +: 'int' and 'str'"
   ]
  },
  {
   "cell_type": "code",
   "execution_count": 10,
   "metadata": {},
   "outputs": [
    {
     "name": "stdout",
     "output_type": "stream",
     "text": [
      "3\n",
      "0\n",
      "\n",
      "1\n",
      "4\n"
     ]
    }
   ],
   "source": [
    "tp = ('a', 10, 20, 'a', 10, 'a')\n",
    "\n",
    "print(tp.count('a'))    #> 3  -number of elements with the specified value\n",
    "print(tp.count('xx'))   #> 0\n",
    "print()\n",
    "\n",
    "print(tp.index(10))     #>1  -index of the first element with the specified value\n",
    "print(tp.index(10, 2))  #>4  ——//—— beginning with the given start index"
   ]
  },
  {
   "cell_type": "code",
   "execution_count": 11,
   "metadata": {},
   "outputs": [
    {
     "name": "stdout",
     "output_type": "stream",
     "text": [
      "  sorted(tp):\n",
      "[10, 23, 37, 50]\n",
      "(23, 10, 50, 37)\n",
      "\n",
      "  sorted(tp, key=…):\n",
      "['A', 'D', 'b', 'c']\n",
      "['A', 'b', 'c', 'D']\n"
     ]
    }
   ],
   "source": [
    "tp = (23, 10, 50, 37)\n",
    "print('  sorted(tp):')\n",
    "\n",
    "print(sorted(tp))      #> [10, 23, 37, 50]  -result of operation is a list\n",
    "print(tp)              #> (23, 10, 50, 37)  -original has not changed\n",
    "print()\n",
    "\n",
    "\n",
    "# it's possible sorting according to specified rule (key=...)\n",
    "print('  sorted(tp, key=…):')\n",
    "\n",
    "tp = ('b', 'A', 'D', 'c')\n",
    "print(sorted(tp))                 #> ['A', 'D', 'b', 'c']\n",
    "print(sorted(tp, key=str.lower))  #> ['A', 'b', 'c', 'D']"
   ]
  },
  {
   "cell_type": "code",
   "execution_count": 12,
   "metadata": {},
   "outputs": [
    {
     "name": "stdout",
     "output_type": "stream",
     "text": [
      "  reversed(tp):\n",
      "<reversed object at 0x7ff274514eb0>\n",
      "b 10 a "
     ]
    }
   ],
   "source": [
    "tp = ('a', 10, 'b')\n",
    "print('  reversed(tp):')\n",
    "\n",
    "rev_iter = reversed(tp)\n",
    "print(rev_iter)          #> <list_reverseiterator object at 0x…>  -reversed iterator object\n",
    "\n",
    "for el in rev_iter:\n",
    "    print(el, end=' ')   #> d bb 10 a        # it can also be written 'print(*rev_iter)'"
   ]
  },
  {
   "cell_type": "code",
   "execution_count": 13,
   "metadata": {},
   "outputs": [
    {
     "name": "stdout",
     "output_type": "stream",
     "text": [
      "a = 10\n",
      "y = 40\n",
      "z = 50\n",
      "_ = [20, 30]\n"
     ]
    }
   ],
   "source": [
    "# unpacking\n",
    "tp = (10, 20, 30, 40, 50)\n",
    "\n",
    "a, *_, y, z = tp\n",
    "\n",
    "print('a =', a)\n",
    "print('y =', y)\n",
    "print('z =', z)\n",
    "print('_ =', _)"
   ]
  },
  {
   "cell_type": "markdown",
   "metadata": {},
   "source": [
    "<br>\n",
    "\n",
    "For heterogeneous collections of data, where access by name is clearer than access by index, [collections.namedtuple()](https://docs.python.org/3/library/collections.html#collections.namedtuple) may be a more appropriate choice than a simple tuple object."
   ]
  },
  {
   "cell_type": "code",
   "execution_count": null,
   "metadata": {},
   "outputs": [],
   "source": []
  }
 ],
 "metadata": {
  "kernelspec": {
   "display_name": "Python 3",
   "language": "python",
   "name": "python3"
  },
  "language_info": {
   "codemirror_mode": {
    "name": "ipython",
    "version": 3
   },
   "file_extension": ".py",
   "mimetype": "text/x-python",
   "name": "python",
   "nbconvert_exporter": "python",
   "pygments_lexer": "ipython3",
   "version": "3.8.1"
  }
 },
 "nbformat": 4,
 "nbformat_minor": 4
}
