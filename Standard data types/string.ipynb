{
 "cells": [
  {
   "cell_type": "markdown",
   "metadata": {},
   "source": [
    "docs: [docs.python.org](https://docs.python.org/3/library/stdtypes.html#str), &nbsp; [w3schools.com](https://www.w3schools.com/python/python_strings.asp), &nbsp; [snakify.org](https://snakify.org/en/lessons/strings_str/), &nbsp; [developers.google.com](https://developers.google.com/edu/python/strings)\n",
    "\n",
    "Formatting of string: see [docs.python.org](https://docs.python.org/3/library/string.html#formatstrings), [realpython.com](https://realpython.com/python-string-formatting/), [pyformat.info](https://pyformat.info/)\n",
    "\n",
    "Below are some methods, not all:"
   ]
  },
  {
   "cell_type": "markdown",
   "metadata": {},
   "source": [
    "<br>\n",
    "\n",
    "### Operations with letter case:"
   ]
  },
  {
   "cell_type": "code",
   "execution_count": 1,
   "metadata": {},
   "outputs": [],
   "source": [
    "st = 'the main cause of diseases is AGING. aging should be STOPPED.'"
   ]
  },
  {
   "cell_type": "markdown",
   "metadata": {},
   "source": [
    ".**capitalize**()<br>\n",
    "Return a copy of the string with its first character capitalized and the rest lowercased."
   ]
  },
  {
   "cell_type": "code",
   "execution_count": 2,
   "metadata": {},
   "outputs": [
    {
     "data": {
      "text/plain": [
       "'The main cause of diseases is aging. aging should be stopped.'"
      ]
     },
     "execution_count": 2,
     "metadata": {},
     "output_type": "execute_result"
    }
   ],
   "source": [
    "st.capitalize()"
   ]
  },
  {
   "cell_type": "markdown",
   "metadata": {},
   "source": [
    ".**lower**()<br>\n",
    "Return a copy of the string with all the cased characters converted to lowercase."
   ]
  },
  {
   "cell_type": "code",
   "execution_count": 3,
   "metadata": {},
   "outputs": [
    {
     "data": {
      "text/plain": [
       "'the main cause of diseases is aging. aging should be stopped.'"
      ]
     },
     "execution_count": 3,
     "metadata": {},
     "output_type": "execute_result"
    }
   ],
   "source": [
    "st.lower()"
   ]
  },
  {
   "cell_type": "markdown",
   "metadata": {},
   "source": [
    ".**upper**()<br>\n",
    "Return a copy of the string with all the cased characters converted to uppercase."
   ]
  },
  {
   "cell_type": "code",
   "execution_count": 4,
   "metadata": {},
   "outputs": [
    {
     "data": {
      "text/plain": [
       "'THE MAIN CAUSE OF DISEASES IS AGING. AGING SHOULD BE STOPPED.'"
      ]
     },
     "execution_count": 4,
     "metadata": {},
     "output_type": "execute_result"
    }
   ],
   "source": [
    "st.upper()"
   ]
  },
  {
   "cell_type": "markdown",
   "metadata": {},
   "source": [
    ".**swapcase**()<br>\n",
    "Return a copy of the string with uppercase characters converted to lowercase and vice versa.<br>\n",
    "Note that it is not necessarily true that `s.swapcase().swapcase() == s`."
   ]
  },
  {
   "cell_type": "code",
   "execution_count": 5,
   "metadata": {
    "scrolled": true
   },
   "outputs": [
    {
     "data": {
      "text/plain": [
       "'THE MAIN CAUSE OF DISEASES IS aging. AGING SHOULD BE stopped.'"
      ]
     },
     "execution_count": 5,
     "metadata": {},
     "output_type": "execute_result"
    }
   ],
   "source": [
    "st.swapcase()"
   ]
  },
  {
   "cell_type": "markdown",
   "metadata": {},
   "source": [
    ".**title**()<br>\n",
    "Return a titlecased version of the string where words start with an uppercase character and the remaining characters are lowercase."
   ]
  },
  {
   "cell_type": "code",
   "execution_count": 6,
   "metadata": {},
   "outputs": [
    {
     "data": {
      "text/plain": [
       "'The Main Cause Of Diseases Is Aging. Aging Should Be Stopped.'"
      ]
     },
     "execution_count": 6,
     "metadata": {},
     "output_type": "execute_result"
    }
   ],
   "source": [
    "st.title()"
   ]
  },
  {
   "cell_type": "markdown",
   "metadata": {},
   "source": [
    ".**casefold**()<br>\n",
    "Return a casefolded copy of the string. Casefolded strings may be used for caseless matching.<br>\n",
    "Casefolding is similar to lowercasing but more aggressive because it is intended to remove all case distinctions in a string. For example, the German lowercase letter `'ß'` is equivalent to `\"ss\"`. Since it is already lowercase, `lower()` would do nothing; `casefold()` converts it to \"ss\"."
   ]
  },
  {
   "cell_type": "code",
   "execution_count": 7,
   "metadata": {},
   "outputs": [
    {
     "data": {
      "text/plain": [
       "'the main cause of diseases is aging. aging should be stopped.'"
      ]
     },
     "execution_count": 7,
     "metadata": {},
     "output_type": "execute_result"
    }
   ],
   "source": [
    "st.casefold()"
   ]
  },
  {
   "cell_type": "markdown",
   "metadata": {},
   "source": [
    "<br>\n",
    "\n",
    "### Searching"
   ]
  },
  {
   "cell_type": "markdown",
   "metadata": {},
   "source": [
    ".**count**(*sub*[, *start*[, *end*]])<br>\n",
    "Return the number of non-overlapping occurrences of substring sub in the range [*start*, *end*]."
   ]
  },
  {
   "cell_type": "code",
   "execution_count": 8,
   "metadata": {},
   "outputs": [
    {
     "name": "stdout",
     "output_type": "stream",
     "text": [
      "2\n",
      "1\n",
      "0\n"
     ]
    }
   ],
   "source": [
    "fruit = 'banana'\n",
    "print(fruit.count('na'))   #> 2\n",
    "print(fruit.count('ana'))  #> 1\n",
    "print(fruit.count('XYZ'))  #> 0"
   ]
  },
  {
   "cell_type": "markdown",
   "metadata": {},
   "source": [
    ".**find**(*sub*[, *start*[, *end*]])<br>\n",
    "Return the lowest index in the string where substring sub is found within the slice `[start:end]`. On failure return `-1`."
   ]
  },
  {
   "cell_type": "code",
   "execution_count": 9,
   "metadata": {},
   "outputs": [
    {
     "name": "stdout",
     "output_type": "stream",
     "text": [
      "2\n",
      "-1\n"
     ]
    }
   ],
   "source": [
    "fruit = 'banana'\n",
    "print(fruit.find('na'))   #> 2\n",
    "print(fruit.find('XYZ'))  #> -1"
   ]
  },
  {
   "cell_type": "markdown",
   "metadata": {},
   "source": [
    ".**rfind**(*sub*[, *start*[, *end*]])<br>\n",
    "Return the highest index in the string where substring *sub* is found. On failure return `-1`."
   ]
  },
  {
   "cell_type": "code",
   "execution_count": 10,
   "metadata": {},
   "outputs": [
    {
     "name": "stdout",
     "output_type": "stream",
     "text": [
      "4\n",
      "-1\n"
     ]
    }
   ],
   "source": [
    "fruit = 'banana'\n",
    "print(fruit.rfind('na'))   #> 2\n",
    "print(fruit.rfind('XYZ'))  #> -1"
   ]
  },
  {
   "cell_type": "markdown",
   "metadata": {},
   "source": [
    ".**index**(*sub*[, *start*[, *end*]])<br>\n",
    "Like `find()`, but raise `ValueError` when the substring is not found."
   ]
  },
  {
   "cell_type": "code",
   "execution_count": 11,
   "metadata": {},
   "outputs": [
    {
     "name": "stdout",
     "output_type": "stream",
     "text": [
      "2\n"
     ]
    }
   ],
   "source": [
    "fruit = 'banana'\n",
    "print(fruit.index('na'))   #> 2\n",
    "# print(fruit.index('XYZ'))  #> ValueError: substring not found"
   ]
  },
  {
   "cell_type": "markdown",
   "metadata": {},
   "source": [
    ".**rindex**(*sub*[, *start*[, *end*]])<br>"
   ]
  },
  {
   "cell_type": "code",
   "execution_count": 12,
   "metadata": {},
   "outputs": [
    {
     "name": "stdout",
     "output_type": "stream",
     "text": [
      "4\n"
     ]
    }
   ],
   "source": [
    "fruit = 'banana'\n",
    "print(fruit.rindex('na'))   #> 2\n",
    "# print(fruit.rindex('XYZ'))  #> ValueError: substring not found"
   ]
  },
  {
   "cell_type": "markdown",
   "metadata": {},
   "source": [
    ".**startswith**(*suffix*[, *start*[, *end*]])<br>\n",
    "Return `True` if the string starts with the *prefix*, otherwise return `False`. *prefix* can also be a tuple of prefixes to look for. With optional *start*, test beginning at that position. With optional *start*, test beginning at that position."
   ]
  },
  {
   "cell_type": "code",
   "execution_count": 13,
   "metadata": {},
   "outputs": [
    {
     "name": "stdout",
     "output_type": "stream",
     "text": [
      "True\n",
      "True\n",
      "False\n",
      "True\n",
      "False\n"
     ]
    }
   ],
   "source": [
    "st = 'deoxyribose'\n",
    "\n",
    "print(st.startswith('de'))             #> True\n",
    "print(st.startswith(('mono','de')))    #> True\n",
    "print(st.startswith(('mono','moto')))  #> False\n",
    "\n",
    "print(st.startswith('ox', 2))          #> True\n",
    "print(st.startswith('ox', 3))          #> False"
   ]
  },
  {
   "cell_type": "markdown",
   "metadata": {},
   "source": [
    ".**endswith**(*suffix*[, *start*[, *end*]])<br>\n",
    "Return `True` if the string ends with the specified *suffix*, otherwise return `False`. *suffix* can also be a tuple of suffixes to look for. With optional *end*, stop comparing at that position."
   ]
  },
  {
   "cell_type": "code",
   "execution_count": 14,
   "metadata": {},
   "outputs": [
    {
     "name": "stdout",
     "output_type": "stream",
     "text": [
      "True\n",
      "True\n",
      "False\n",
      "True\n",
      "False\n"
     ]
    }
   ],
   "source": [
    "st = 'deoxyribose'\n",
    "\n",
    "print(st.endswith('ose'))           #> True\n",
    "print(st.endswith(('ana','ose')))   #> True\n",
    "print(st.endswith(('ana','ity')))   #> False\n",
    "\n",
    "print(st.endswith('oxy', 0, 5))     #> True\n",
    "print(st.endswith('oxy', 0, 6))     #> False"
   ]
  },
  {
   "cell_type": "markdown",
   "metadata": {},
   "source": [
    "<br>\n",
    "\n",
    "### Expanding and reduction"
   ]
  },
  {
   "cell_type": "markdown",
   "metadata": {},
   "source": [
    ".**center**(*width*[, *fillchar*])<br>\n",
    "Return centered in a string of length width. Padding is done using the specified fillchar (*default is space*). The original string is returned if width is less than or equal to string length."
   ]
  },
  {
   "cell_type": "code",
   "execution_count": 15,
   "metadata": {
    "scrolled": true
   },
   "outputs": [
    {
     "name": "stdout",
     "output_type": "stream",
     "text": [
      "                                  deoxyribose                                   \n",
      "==================================deoxyribose===================================\n",
      "  deoxyribose  \n"
     ]
    }
   ],
   "source": [
    "print(st.center(80))\n",
    "print(st.center(80, '='))\n",
    "print(st.center(15))"
   ]
  },
  {
   "cell_type": "markdown",
   "metadata": {},
   "source": [
    ".**ljust**(*width*[, *fillchar*])<br>\n",
    "Return the string left justified in a string of length *width*. Padding is done using the specified *fillchar* (default is space). The original string is returned if *width* is less than or equal to string length."
   ]
  },
  {
   "cell_type": "code",
   "execution_count": 16,
   "metadata": {},
   "outputs": [
    {
     "name": "stdout",
     "output_type": "stream",
     "text": [
      "mRNA       <\n",
      "mRNAAAAAAA <\n"
     ]
    }
   ],
   "source": [
    "st = 'mRNA'\n",
    "print(st.ljust(10), '<')\n",
    "print(st.ljust(10, 'A'), '<')"
   ]
  },
  {
   "cell_type": "markdown",
   "metadata": {},
   "source": [
    ".**rjust**(*width*[, *fillchar*])<br>\n",
    "Analogous operation for other end."
   ]
  },
  {
   "cell_type": "code",
   "execution_count": 17,
   "metadata": {},
   "outputs": [
    {
     "name": "stdout",
     "output_type": "stream",
     "text": [
      "      text\n",
      "......text\n"
     ]
    }
   ],
   "source": [
    "st = 'text'\n",
    "print(st.rjust(10))\n",
    "print(st.rjust(10, '.'))"
   ]
  },
  {
   "cell_type": "markdown",
   "metadata": {},
   "source": [
    ".**zfill**(*width*)<br>\n",
    "Return a copy of the string left filled with `'0'` digits to make a string of length `width`. A leading sign prefix (`'+'`/`'-'`) is handled by inserting the padding after the sign character."
   ]
  },
  {
   "cell_type": "code",
   "execution_count": 18,
   "metadata": {},
   "outputs": [
    {
     "name": "stdout",
     "output_type": "stream",
     "text": [
      "00042\n",
      "-0042\n"
     ]
    }
   ],
   "source": [
    "print('42'.zfill(5))\n",
    "print('-42'.zfill(5))"
   ]
  },
  {
   "cell_type": "markdown",
   "metadata": {},
   "source": [
    ".**strip**([*chars*])<br>\n",
    "Return a copy of the string with the leading and trailing characters removed. The *chars* argument is a string specifying the set of characters to be removed. If omitted or `None`, the chars argument defaults to removing whitespace. The *chars* argument is not a prefix or suffix; rather, all combinations of its values are stripped:"
   ]
  },
  {
   "cell_type": "code",
   "execution_count": 19,
   "metadata": {
    "scrolled": true
   },
   "outputs": [
    {
     "name": "stdout",
     "output_type": "stream",
     "text": [
      "spacious\n",
      "example\n",
      "Section 2\n"
     ]
    }
   ],
   "source": [
    "print('   spacious   '.strip())\n",
    "print('www.example.com'.strip('cmowz.'))\n",
    "print('#....... Section 2 .......'.strip('.# '))"
   ]
  },
  {
   "cell_type": "markdown",
   "metadata": {},
   "source": [
    "Varieties of this method that work only from one end:<br>\n",
    ".**lstrip**([*chars*])<br>\n",
    ".**rstrip**([*chars*])"
   ]
  },
  {
   "cell_type": "markdown",
   "metadata": {},
   "source": [
    "<br>\n",
    "\n",
    "### Transformation"
   ]
  },
  {
   "cell_type": "markdown",
   "metadata": {},
   "source": [
    ".**replace**(*old*, *new*[, *count*])<br>\n",
    "Return a copy of the string with all occurrences of substring *old* replaced by *new*. If the argument *count* is given, only the first *count* occurrences are replaced."
   ]
  },
  {
   "cell_type": "code",
   "execution_count": 20,
   "metadata": {},
   "outputs": [
    {
     "name": "stdout",
     "output_type": "stream",
     "text": [
      "ba#@_#@_\n",
      "ba#@_na\n"
     ]
    }
   ],
   "source": [
    "st = 'banana'\n",
    "print(st.replace('na', '#@_'))\n",
    "print(st.replace('na', '#@_', 1))"
   ]
  },
  {
   "cell_type": "markdown",
   "metadata": {},
   "source": [
    ".**expandtabs**(tabsize=8)<br>\n",
    "Return a copy of the string where all tab characters are replaced by one or more spaces, depending on the given tab size."
   ]
  },
  {
   "cell_type": "code",
   "execution_count": 21,
   "metadata": {},
   "outputs": [
    {
     "name": "stdout",
     "output_type": "stream",
     "text": [
      "01      012     0123    01234\n",
      "01  012 0123    01234\n"
     ]
    }
   ],
   "source": [
    "print('01\\t012\\t0123\\t01234'.expandtabs())  #> 01      012     0123    01234\n",
    "print('01\\t012\\t0123\\t01234'.expandtabs(4)) #> 01  012 0123    01234"
   ]
  },
  {
   "cell_type": "markdown",
   "metadata": {},
   "source": [
    "<br>\n",
    "\n",
    "*static* *str*.**maketrans**(*x*[, *y*[, *z*]])<br>\n",
    "This static method returns a translation table usable for str.**translate**().\n",
    "\n",
    "If there is only one argument, it must be a dictionary mapping integers or characters to integers, strings (*of arbitrary lengths*) or `None`. Character keys will then be converted to integers.\n",
    "\n",
    "If there are two arguments, they must be strings of equal length."
   ]
  },
  {
   "cell_type": "code",
   "execution_count": 22,
   "metadata": {
    "scrolled": false
   },
   "outputs": [
    {
     "name": "stdout",
     "output_type": "stream",
     "text": [
      "{84: 'A', 65: 'T', 67: 'G', 71: 'C'}\n",
      "{84: 65, 65: 84, 67: 71, 71: 67}\n"
     ]
    }
   ],
   "source": [
    "trans_table = str.maketrans({'T':'A', 'A':'T', 'C':'G', 'G':'C'})\n",
    "print(trans_table)\n",
    "\n",
    "# alternative\n",
    "trans_table = str.maketrans('TACG', 'ATGC')\n",
    "print(trans_table)"
   ]
  },
  {
   "cell_type": "markdown",
   "metadata": {},
   "source": [
    ".**translate**(*table*)<br>\n",
    "Return a copy of the string in which each character has been mapped through the given translation table.<br>\n",
    "The table must be an object that implements indexing via `__getitem__()`, typically a mapping or sequence.\n",
    "\n",
    "When indexed by an integer, the table object can do any of the following:<br>\n",
    "&nbsp; - return a Unicode ordinal or a string, to map the character to one or more other characters;<br>\n",
    "&nbsp; - return `None`, to delete the character from the return string;<br>\n",
    "&nbsp; - raise a LookupError exception, to map the character to itself."
   ]
  },
  {
   "cell_type": "code",
   "execution_count": 23,
   "metadata": {},
   "outputs": [
    {
     "name": "stdout",
     "output_type": "stream",
     "text": [
      "AATTGGTTCC\n",
      "AATTGGTTCC\n",
      "TTCCGG\n"
     ]
    }
   ],
   "source": [
    "dna = 'TTAACCAAGG'\n",
    "\n",
    "complement_dna1 = dna.translate({ord('T'):'A',\n",
    "                                 ord('A'):'T',\n",
    "                                 ord('C'):'G',\n",
    "                                 ord('G'):'C'})  # {84:'A', 65:'T', 67:'G', 71:'C'}\n",
    "print(complement_dna1)\n",
    "\n",
    "# alternative via maketrans\n",
    "trans_table = str.maketrans('TACG', 'ATGC')      # {84:65, 65:84, 67:71, 71:67}\n",
    "complement_dna2 = dna.translate(trans_table)\n",
    "print(complement_dna2)\n",
    "\n",
    "# delete one of nucleotides\n",
    "dna_del_adenine = dna.translate({ord('A'):None}) # {65:None}\n",
    "print(dna_del_adenine)"
   ]
  },
  {
   "cell_type": "markdown",
   "metadata": {},
   "source": [
    ".**encode**(*encoding*=\"*utf-8*\", *errors*=\"*strict*\")<br>\n",
    "Return an encoded version of the string as a bytes object."
   ]
  },
  {
   "cell_type": "markdown",
   "metadata": {},
   "source": [
    "<br>\n",
    "\n",
    "### Spliting and Joining"
   ]
  },
  {
   "cell_type": "markdown",
   "metadata": {},
   "source": [
    ".**split**(*sep=None*, *maxsplit=-1*)<br>\n",
    "Return a list of the words in the string, using *sep* as the delimiter string. If *maxsplit* is given, at most *maxsplit* splits are done"
   ]
  },
  {
   "cell_type": "code",
   "execution_count": 24,
   "metadata": {
    "scrolled": true
   },
   "outputs": [
    {
     "name": "stdout",
     "output_type": "stream",
     "text": [
      "['String', 'from', 'four', 'words']\n",
      "['String', 'from', '', '', 'four', 'words']\n",
      "['String', 'from   four words']\n"
     ]
    }
   ],
   "source": [
    "st = 'String from   four words'\n",
    "print(st.split())        #> ['String', 'from', 'four', 'words']\n",
    "print(st.split(' '))     #> ['String', 'from', '', '', 'four', 'words']\n",
    "print(st.split(' ', 1))  #> ['String', 'from   four words']"
   ]
  },
  {
   "cell_type": "markdown",
   "metadata": {},
   "source": [
    ".**rsplit**(*sep=None*, *maxsplit=-1*)<br>\n",
    "Analogous to .**split**, except that in case of presence of *maxsplit* spliting counts from the right."
   ]
  },
  {
   "cell_type": "code",
   "execution_count": 25,
   "metadata": {
    "scrolled": true
   },
   "outputs": [
    {
     "name": "stdout",
     "output_type": "stream",
     "text": [
      "['String', 'from', 'four', 'words']\n",
      "['String', 'from', '', '', 'four', 'words']\n",
      "['String from   four', 'words']\n"
     ]
    }
   ],
   "source": [
    "st = 'String from   four words'\n",
    "print(st.rsplit())        #> ['String', 'from', 'four', 'words']\n",
    "print(st.rsplit(' '))     #> ['String', 'from', '', '', 'four', 'words']\n",
    "print(st.rsplit(' ', 1))  #> ['String', 'from   four words']"
   ]
  },
  {
   "cell_type": "markdown",
   "metadata": {},
   "source": [
    ".**splitlines**([*keepends*])<br>\n",
    "Return a list of the lines in the string, breaking at line boundaries.<br>\n",
    "Line breaks are not included in the resulting list unless *keepends* is given and true.<br>\n",
    "Some differences between `split('\\n')` and `splitlines()`:"
   ]
  },
  {
   "cell_type": "code",
   "execution_count": 26,
   "metadata": {},
   "outputs": [
    {
     "name": "stdout",
     "output_type": "stream",
     "text": [
      "['']\n",
      "['One line', '']\n",
      "\n",
      "[]\n",
      "['One line']\n"
     ]
    }
   ],
   "source": [
    "print(\"\".split('\\n'))\n",
    "print(\"One line\\n\".split('\\n'))\n",
    "print()\n",
    "\n",
    "print(\"\".splitlines())\n",
    "print(\"One line\\n\".splitlines())"
   ]
  },
  {
   "cell_type": "markdown",
   "metadata": {},
   "source": [
    "<br>\n",
    "\n",
    ".**partition**(*sep*)<br>\n",
    "Split the string at the first occurrence of *sep*, and return a 3-tuple containing the part before the separator, the separator itself, and the part after the separator. If the separator is not found, return a 3-tuple containing the string itself, followed by two empty strings."
   ]
  },
  {
   "cell_type": "code",
   "execution_count": 27,
   "metadata": {},
   "outputs": [
    {
     "name": "stdout",
     "output_type": "stream",
     "text": [
      "('cat ', 'dog', ' dog crow')\n",
      "('cat dog dog crow', '', '')\n"
     ]
    }
   ],
   "source": [
    "txt = \"cat dog dog crow\"\n",
    "x = txt.partition(\"dog\")\n",
    "print(x)\n",
    "\n",
    "y = txt.partition(\"elephant\")\n",
    "print(y)"
   ]
  },
  {
   "cell_type": "markdown",
   "metadata": {},
   "source": [
    ".**rpartition**(*sep*)<br>\n",
    "Analogous to .*partition*, but search the last occurrence of *sep*.<br>\n",
    "Also, if the separator is not found, return a 3-tuple containing two empty strings, followed by the string itself."
   ]
  },
  {
   "cell_type": "code",
   "execution_count": 28,
   "metadata": {},
   "outputs": [
    {
     "name": "stdout",
     "output_type": "stream",
     "text": [
      "('cat dog ', 'dog', ' crow')\n",
      "('', '', 'cat dog dog crow')\n"
     ]
    }
   ],
   "source": [
    "txt = \"cat dog dog crow\"\n",
    "x = txt.rpartition(\"dog\")\n",
    "print(x)\n",
    "\n",
    "y = txt.rpartition(\"elephant\")\n",
    "print(y)"
   ]
  },
  {
   "cell_type": "markdown",
   "metadata": {},
   "source": [
    "<br>\n",
    "\n",
    ".**join**(*iterable*)<br>\n",
    "Return a string which is the concatenation of the strings in iterable. A `TypeError` will be raised if there are any non-string values in iterable."
   ]
  },
  {
   "cell_type": "code",
   "execution_count": 29,
   "metadata": {},
   "outputs": [
    {
     "name": "stdout",
     "output_type": "stream",
     "text": [
      "catdogcrow\n",
      "cat, dog, crow\n"
     ]
    }
   ],
   "source": [
    "words = ['cat', 'dog', 'crow']\n",
    "print(''.join(words))    #> catdogcrow\n",
    "print(', '.join(words))  #> cat, dog, crow"
   ]
  },
  {
   "cell_type": "code",
   "execution_count": null,
   "metadata": {},
   "outputs": [],
   "source": []
  }
 ],
 "metadata": {
  "kernelspec": {
   "display_name": "Python 3",
   "language": "python",
   "name": "python3"
  },
  "language_info": {
   "codemirror_mode": {
    "name": "ipython",
    "version": 3
   },
   "file_extension": ".py",
   "mimetype": "text/x-python",
   "name": "python",
   "nbconvert_exporter": "python",
   "pygments_lexer": "ipython3",
   "version": "3.8.1"
  }
 },
 "nbformat": 4,
 "nbformat_minor": 4
}
