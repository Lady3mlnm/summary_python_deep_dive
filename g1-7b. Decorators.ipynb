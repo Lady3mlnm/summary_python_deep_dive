{
 "cells": [
  {
   "cell_type": "markdown",
   "metadata": {},
   "source": [
    "for the course \"<a target=\"_blank\" href=\"https://www.udemy.com/course/python-3-deep-dive-part-1/\">Python 3: Deep Drive (part 1 - Functional)</a>\",<br>\n",
    "section 7: \"Scopes, Closures and Decorators\",<br>\n",
    "(Q&A for <a target=\"_blank\" href=\"https://www.udemy.com/course/python-3-deep-dive-part-1/learn/lecture/9376820#questions/8320248\">lecture 116</a>)"
   ]
  },
  {
   "cell_type": "markdown",
   "metadata": {},
   "source": [
    "<h3>Decorators</h3>"
   ]
  },
  {
   "cell_type": "code",
   "execution_count": 1,
   "metadata": {},
   "outputs": [],
   "source": [
    "# simplest decorator\n",
    "def counter(fn):\n",
    "    count = 0\n",
    "    def inner(*args, **kwargs):\n",
    "        \"\"\" This is the inner function \"\"\"\n",
    "        nonlocal count\n",
    "        count += 1\n",
    "        print(f\"Function '{fn.__name__}' has been called {count} times\")\n",
    "        return fn(*args, **kwargs)\n",
    "    return inner\n",
    "\n",
    "\n",
    "@counter                                 # add = counter(add)\n",
    "def add(a:int, b:int=0):\n",
    "    \"\"\" Add two values \"\"\"\n",
    "    return a + b"
   ]
  },
  {
   "cell_type": "code",
   "execution_count": 2,
   "metadata": {},
   "outputs": [
    {
     "name": "stdout",
     "output_type": "stream",
     "text": [
      "Function 'add' has been called 1 times\n",
      "30\n"
     ]
    }
   ],
   "source": [
    "print(add(10,20))"
   ]
  },
  {
   "cell_type": "code",
   "execution_count": 3,
   "metadata": {},
   "outputs": [
    {
     "name": "stdout",
     "output_type": "stream",
     "text": [
      "Function 'add' has been called 2 times\n",
      "70\n"
     ]
    }
   ],
   "source": [
    "print(add(30,40))"
   ]
  },
  {
   "cell_type": "code",
   "execution_count": 4,
   "metadata": {},
   "outputs": [
    {
     "name": "stdout",
     "output_type": "stream",
     "text": [
      "inner\n"
     ]
    }
   ],
   "source": [
    "# But without 'wrapper' such function has flaws in documentation\n",
    "print(add.__name__)"
   ]
  },
  {
   "cell_type": "code",
   "execution_count": 5,
   "metadata": {
    "scrolled": true
   },
   "outputs": [
    {
     "name": "stdout",
     "output_type": "stream",
     "text": [
      "Help on function inner in module __main__:\n",
      "\n",
      "inner(*args, **kwargs)\n",
      "    This is the inner function\n",
      "\n"
     ]
    }
   ],
   "source": [
    "help(add)"
   ]
  },
  {
   "cell_type": "code",
   "execution_count": 6,
   "metadata": {},
   "outputs": [
    {
     "name": "stdout",
     "output_type": "stream",
     "text": [
      " This is the inner function \n"
     ]
    }
   ],
   "source": [
    "print(add.__doc__)"
   ]
  },
  {
   "cell_type": "markdown",
   "metadata": {},
   "source": [
    "<br>\n",
    "<hr>"
   ]
  },
  {
   "cell_type": "code",
   "execution_count": 7,
   "metadata": {},
   "outputs": [],
   "source": [
    "# Using wrapper for more correct documentation\n",
    "from functools import wraps\n",
    "\n",
    "def counter(fn):\n",
    "    count = 0\n",
    "    @wraps(fn)                           # inner = wraps(fn)(inner)\n",
    "    def inner(*args, **kwargs):\n",
    "        \"\"\" This is the inner function \"\"\"\n",
    "        nonlocal count\n",
    "        count += 1\n",
    "        print(f\"Function '{fn.__name__}' has been called {count} times\")\n",
    "        return fn(*args, **kwargs)\n",
    "    return inner\n",
    "\n",
    "@counter                                 # mult = counter(add)\n",
    "def mult(a:int, b:int=1):\n",
    "    \"\"\" Multiply two values \"\"\"\n",
    "    return a + b"
   ]
  },
  {
   "cell_type": "code",
   "execution_count": 8,
   "metadata": {},
   "outputs": [
    {
     "name": "stdout",
     "output_type": "stream",
     "text": [
      "mult\n"
     ]
    }
   ],
   "source": [
    "print(mult.__name__)"
   ]
  },
  {
   "cell_type": "code",
   "execution_count": 9,
   "metadata": {},
   "outputs": [
    {
     "name": "stdout",
     "output_type": "stream",
     "text": [
      "Help on function mult in module __main__:\n",
      "\n",
      "mult(a: int, b: int = 1)\n",
      "    Multiply two values\n",
      "\n"
     ]
    }
   ],
   "source": [
    "help(mult)"
   ]
  },
  {
   "cell_type": "code",
   "execution_count": 10,
   "metadata": {},
   "outputs": [
    {
     "name": "stdout",
     "output_type": "stream",
     "text": [
      " Multiply two values \n"
     ]
    }
   ],
   "source": [
    "print(mult.__doc__)"
   ]
  },
  {
   "cell_type": "markdown",
   "metadata": {},
   "source": [
    "<br>\n",
    "<hr>"
   ]
  },
  {
   "cell_type": "code",
   "execution_count": 11,
   "metadata": {},
   "outputs": [
    {
     "name": "stdout",
     "output_type": "stream",
     "text": [
      "calculating fib(12)\n",
      "calculating fib(11)\n",
      "calculating fib(10)\n",
      "calculating fib(9)\n",
      "calculating fib(8)\n",
      "calculating fib(7)\n",
      "calculating fib(6)\n",
      "calculating fib(5)\n",
      "calculating fib(4)\n",
      "calculating fib(3)\n",
      "calculating fib(2)\n",
      "calculating fib(1)\n"
     ]
    },
    {
     "data": {
      "text/plain": [
       "144"
      ]
     },
     "execution_count": 11,
     "metadata": {},
     "output_type": "execute_result"
    }
   ],
   "source": [
    "# Memoization of recursive function with limited cache (via special decorator of Python)\n",
    "\n",
    "from functools import lru_cache   # lru - abbr. from 'least recently used'\n",
    "\n",
    "@lru_cache(maxsize=8)  # by default 128, more efficient to use the power of 2, None - unlimited cache\n",
    "def fib(n):\n",
    "    print(f'calculating fib({n})')\n",
    "    return 1 if n<=2 else fib(n-1) + fib(n-2)\n",
    "\n",
    "\n",
    "fib(12)                # all values calculated"
   ]
  },
  {
   "cell_type": "code",
   "execution_count": 12,
   "metadata": {},
   "outputs": [
    {
     "data": {
      "text/plain": [
       "5"
      ]
     },
     "execution_count": 12,
     "metadata": {},
     "output_type": "execute_result"
    }
   ],
   "source": [
    "fib(5)                 # value is taken from cache"
   ]
  },
  {
   "cell_type": "code",
   "execution_count": 13,
   "metadata": {},
   "outputs": [
    {
     "name": "stdout",
     "output_type": "stream",
     "text": [
      "calculating fib(4)\n",
      "calculating fib(3)\n",
      "calculating fib(2)\n",
      "calculating fib(1)\n"
     ]
    },
    {
     "data": {
      "text/plain": [
       "3"
      ]
     },
     "execution_count": 13,
     "metadata": {},
     "output_type": "execute_result"
    }
   ],
   "source": [
    "fib(4)                 # all values calculated again"
   ]
  },
  {
   "cell_type": "markdown",
   "metadata": {},
   "source": [
    "<br>\n",
    "<br>\n",
    "<hr>\n",
    "<h3>Decorator applications</h3>\n",
    "<br />\n",
    "Application 1 (timing)"
   ]
  },
  {
   "cell_type": "code",
   "execution_count": 16,
   "metadata": {},
   "outputs": [],
   "source": [
    "# Simple wrapper, with 1 iteration of the tested function\n",
    "def timed(fn):\n",
    "    from time import perf_counter\n",
    "    from functools import wraps\n",
    "    \n",
    "    @wraps(fn)\n",
    "    def inner(*args, **kwargs):\n",
    "        start = perf_counter()\n",
    "        result = fn(*args, **kwargs)\n",
    "        end = perf_counter()\n",
    "        elapsed = end - start\n",
    "        \n",
    "        args_ = [str(a) for a in args]\n",
    "        kwargs_ = [f'{k}={v}' for k,v in kwargs.items()]\n",
    "        all_args = args_ + kwargs_\n",
    "        args_str = ', '.join(all_args)\n",
    "        \n",
    "        print(f'{fn.__name__}({args_str}) took {elapsed:.6f}s to run.')\n",
    "        \n",
    "        return result\n",
    "    \n",
    "    return inner"
   ]
  },
  {
   "cell_type": "markdown",
   "metadata": {},
   "source": [
    " "
   ]
  },
  {
   "cell_type": "code",
   "execution_count": 17,
   "metadata": {},
   "outputs": [
    {
     "name": "stdout",
     "output_type": "stream",
     "text": [
      "fib_recursive(36) took 2.221604s to run.\n"
     ]
    },
    {
     "data": {
      "text/plain": [
       "14930352"
      ]
     },
     "execution_count": 17,
     "metadata": {},
     "output_type": "execute_result"
    }
   ],
   "source": [
    "# Finding n-th Fibonacci number via recursion\n",
    "\n",
    "def calc_recursive_fib(n):\n",
    "    if n<=2:\n",
    "        return 1\n",
    "    else:\n",
    "        return calc_recursive_fib(n-1) + calc_recursive_fib(n-2)\n",
    "\n",
    "@timed\n",
    "def fib_recursive(n):\n",
    "    return calc_recursive_fib(n)\n",
    "\n",
    "\n",
    "fib_recursive(36)"
   ]
  },
  {
   "cell_type": "markdown",
   "metadata": {},
   "source": [
    "<br>"
   ]
  },
  {
   "cell_type": "code",
   "execution_count": 18,
   "metadata": {},
   "outputs": [
    {
     "name": "stdout",
     "output_type": "stream",
     "text": [
      "fib_loop(36) took 0.000003s to run.\n"
     ]
    },
    {
     "data": {
      "text/plain": [
       "14930352"
      ]
     },
     "execution_count": 18,
     "metadata": {},
     "output_type": "execute_result"
    }
   ],
   "source": [
    "# Finding n-th Fibonacci number via loop\n",
    "\n",
    "@timed\n",
    "def fib_loop(n):\n",
    "    fib_1 = 1\n",
    "    fib_2 = 1\n",
    "    for i in range(n-2):\n",
    "        fib_1, fib_2 = fib_2, fib_1+fib_2\n",
    "        \n",
    "    return fib_2\n",
    "\n",
    "\n",
    "fib_loop(36)"
   ]
  },
  {
   "cell_type": "markdown",
   "metadata": {},
   "source": [
    " "
   ]
  },
  {
   "cell_type": "code",
   "execution_count": 19,
   "metadata": {},
   "outputs": [
    {
     "name": "stdout",
     "output_type": "stream",
     "text": [
      "fib_reduce(36) took 0.000021s to run.\n"
     ]
    },
    {
     "data": {
      "text/plain": [
       "14930352"
      ]
     },
     "execution_count": 19,
     "metadata": {},
     "output_type": "execute_result"
    }
   ],
   "source": [
    "# Finding n-th Fibonacci number via reduce\n",
    "\n",
    "from functools import reduce\n",
    "\n",
    "@timed\n",
    "def fib_reduce(n):\n",
    "    initial = (1, 1)\n",
    "    dummy = range(n-2)\n",
    "    fib_n = reduce(lambda fs, n: (fs[1], fs[0] + fs[1]), dummy, initial)  # fs - fibonacci sequence\n",
    "    return fib_n[1]\n",
    "\n",
    "\n",
    "fib_reduce(36)"
   ]
  },
  {
   "cell_type": "markdown",
   "metadata": {},
   "source": [
    "<br>\n",
    "<br>\n",
    "<hr>\n",
    "Application 2 (Logger, Stacked decorators)"
   ]
  },
  {
   "cell_type": "code",
   "execution_count": 20,
   "metadata": {},
   "outputs": [],
   "source": [
    "def logged(fn):\n",
    "    from functools import wraps\n",
    "    from datetime import datetime, timezone\n",
    "    \n",
    "    @wraps(fn)\n",
    "    def inner(*args, **kwargs):\n",
    "        run_dt = datetime.now(timezone.utc)\n",
    "        result = fn(*args, **kwargs)\n",
    "        print(f'{run_dt}: called {fn.__name__}')\n",
    "        return result\n",
    "    \n",
    "    return inner\n",
    "\n",
    "\n",
    "@logged\n",
    "def func_1():\n",
    "    pass      "
   ]
  },
  {
   "cell_type": "code",
   "execution_count": 21,
   "metadata": {},
   "outputs": [
    {
     "name": "stdout",
     "output_type": "stream",
     "text": [
      "2019-10-28 05:45:51.374193+00:00: called func_1\n"
     ]
    }
   ],
   "source": [
    "func_1()"
   ]
  },
  {
   "cell_type": "markdown",
   "metadata": {},
   "source": [
    "<br>"
   ]
  },
  {
   "cell_type": "code",
   "execution_count": 22,
   "metadata": {},
   "outputs": [],
   "source": [
    "# Simple wrapper, with 1 iteration of the tested function (copy from above)\n",
    "def timed(fn):\n",
    "    from time import perf_counter\n",
    "    from functools import wraps\n",
    "    \n",
    "    @wraps(fn)\n",
    "    def inner(*args, **kwargs):\n",
    "        start = perf_counter()\n",
    "        result = fn(*args, **kwargs)\n",
    "        end = perf_counter()\n",
    "        elapsed = end - start\n",
    "        \n",
    "        args_ = [str(a) for a in args]\n",
    "        kwargs_ = [f'{k}={v}' for k,v in kwargs.items()]\n",
    "        all_args = args_ + kwargs_\n",
    "        args_str = ', '.join(all_args)\n",
    "        \n",
    "        print(f'{fn.__name__}({args_str}) took {elapsed:.6f}s to run.')\n",
    "        \n",
    "        return result\n",
    "    \n",
    "    return inner"
   ]
  },
  {
   "cell_type": "code",
   "execution_count": 23,
   "metadata": {},
   "outputs": [],
   "source": [
    "@logged                                  # Stacked decorators:\n",
    "@timed                                   # fact = logged(timed(fact))\n",
    "def fact(n):\n",
    "    from operator import mul             # <=> lambda x,y: x*y\n",
    "    from functools import reduce\n",
    "    return reduce(mul, range(1,n+1), 1)"
   ]
  },
  {
   "cell_type": "code",
   "execution_count": 24,
   "metadata": {},
   "outputs": [
    {
     "name": "stdout",
     "output_type": "stream",
     "text": [
      "fact(6) took 0.000018s to run.\n",
      "2019-10-28 05:52:28.604572+00:00: called fact\n",
      "720\n"
     ]
    }
   ],
   "source": [
    "print(fact(6))"
   ]
  },
  {
   "cell_type": "markdown",
   "metadata": {},
   "source": [
    "<br>"
   ]
  },
  {
   "cell_type": "code",
   "execution_count": 34,
   "metadata": {},
   "outputs": [
    {
     "name": "stdout",
     "output_type": "stream",
     "text": [
      "logged decorator running...\n",
      "timer decorator running...\n",
      "timer inner running...\n",
      "logged inner running...\n",
      "fact running...\n"
     ]
    }
   ],
   "source": [
    "# Small researches, in what order decorators and functions work\n",
    "\n",
    "def logged(fn):\n",
    "    print('logged decorator running...')\n",
    "    @timed\n",
    "    def inner():\n",
    "        print('logged inner running...')\n",
    "        fn()\n",
    "    return inner\n",
    "\n",
    "def timed(fn):\n",
    "    print('timer decorator running...')\n",
    "    def inner():\n",
    "        print('timer inner running...')\n",
    "        fn()\n",
    "    return inner\n",
    "\n",
    "@logged\n",
    "def fact():\n",
    "    print('fact running...')\n",
    "\n",
    "fact()"
   ]
  },
  {
   "cell_type": "code",
   "execution_count": 35,
   "metadata": {},
   "outputs": [
    {
     "name": "stdout",
     "output_type": "stream",
     "text": [
      "logged decorator running...\n",
      "timer decorator running...\n",
      "inner_timed running...\n",
      "inner_logged running...\n",
      "fact running...\n"
     ]
    }
   ],
   "source": [
    "def logged(fn):\n",
    "    print('logged decorator running...')\n",
    "    @timed\n",
    "    def inner_logged():\n",
    "        print('inner_logged running...')\n",
    "        fn()\n",
    "    return inner_logged\n",
    "\n",
    "def timed(gn):\n",
    "    print('timer decorator running...')\n",
    "    def inner_timed():\n",
    "        print('inner_timed running...')\n",
    "        gn()\n",
    "    return inner_timed\n",
    "\n",
    "@logged\n",
    "def fact():\n",
    "    print('fact running...')\n",
    "    \n",
    "fact()"
   ]
  },
  {
   "cell_type": "code",
   "execution_count": 36,
   "metadata": {},
   "outputs": [
    {
     "name": "stdout",
     "output_type": "stream",
     "text": [
      "logged decorator running...\n",
      "timer decorator running...\n",
      "timed_inner running...\n",
      "\n",
      "logged_inner running...\n",
      "fact running...\n"
     ]
    }
   ],
   "source": [
    "def logged(fn):\n",
    "    print('logged decorator running...')\n",
    "    @timed\n",
    "    def logged_inner():\n",
    "        print('logged_inner running...')\n",
    "        fn()\n",
    "    return logged_inner\n",
    "\n",
    "def timed(gn):\n",
    "    print('timer decorator running...')\n",
    "    def timed_inner():\n",
    "        print('timed_inner running...\\n')\n",
    "        gn()\n",
    "    return timed_inner\n",
    "\n",
    "@logged\n",
    "def fact():\n",
    "    print('fact running...')\n",
    "    \n",
    "fact()"
   ]
  },
  {
   "cell_type": "markdown",
   "metadata": {},
   "source": [
    "<br>\n",
    "<hr>\n",
    "Futher experiments with calculation of Fibonacci number"
   ]
  },
  {
   "cell_type": "code",
   "execution_count": 25,
   "metadata": {},
   "outputs": [],
   "source": [
    "# Simple wrapper, with 1 iteration of the tested function (copy from above)\n",
    "def timed(fn):\n",
    "    from time import perf_counter\n",
    "    from functools import wraps\n",
    "    \n",
    "    @wraps(fn)\n",
    "    def inner(*args, **kwargs):\n",
    "        start = perf_counter()\n",
    "        result = fn(*args, **kwargs)\n",
    "        end = perf_counter()\n",
    "        elapsed = end - start\n",
    "        \n",
    "        args_ = [str(a) for a in args]\n",
    "        kwargs_ = [f'{k}={v}' for k,v in kwargs.items()]\n",
    "        all_args = args_ + kwargs_\n",
    "        args_str = ', '.join(all_args)\n",
    "        \n",
    "        print(f'{fn.__name__}({args_str}) took {elapsed:.6f}s to run.')\n",
    "        \n",
    "        return result\n",
    "    \n",
    "    return inner"
   ]
  },
  {
   "cell_type": "code",
   "execution_count": 26,
   "metadata": {},
   "outputs": [
    {
     "name": "stdout",
     "output_type": "stream",
     "text": [
      "calc_recursive_fib_cache(36) took 0.000017s to run.\n",
      "14930352\n"
     ]
    }
   ],
   "source": [
    "# Finding n-th Fibonacci number via recursion with cashe (my version)\n",
    "\n",
    "@timed\n",
    "def calc_recursive_fib_cache(n):\n",
    "    fib_cache = {1:1, 2:1}\n",
    "    \n",
    "    def inner(n):\n",
    "        if n not in fib_cache:\n",
    "            fib_cache[n] = inner(n-1) + inner(n-2)\n",
    "        return fib_cache[n]\n",
    "    return inner(n)\n",
    "\n",
    "\n",
    "print(calc_recursive_fib_cache(36))"
   ]
  },
  {
   "cell_type": "code",
   "execution_count": 27,
   "metadata": {},
   "outputs": [
    {
     "name": "stdout",
     "output_type": "stream",
     "text": [
      "calc_recursive_fib_cache() took 0.000002s to run.\n",
      "14930352\n"
     ]
    }
   ],
   "source": [
    "# instructor's version\n",
    "@timed\n",
    "def calc_recursive_fib_cache():\n",
    "    fib_cache = {1:1, 2:1}\n",
    "    \n",
    "    def inner(n):\n",
    "        if n not in fib_cache:\n",
    "            fib_cache[n] = inner(n-1) + inner(n-2)\n",
    "        return fib_cache[n]\n",
    "    return inner\n",
    "\n",
    "\n",
    "f = calc_recursive_fib_cache()\n",
    "print(f(36))"
   ]
  },
  {
   "cell_type": "code",
   "execution_count": 28,
   "metadata": {},
   "outputs": [
    {
     "name": "stdout",
     "output_type": "stream",
     "text": [
      "Fib() took 0.000001s to run.\n",
      "14930352\n"
     ]
    }
   ],
   "source": [
    "# via class\n",
    "@timed\n",
    "class Fib:\n",
    "    def __init__(self):\n",
    "        self.cache = {1:1, 2:1}\n",
    "    \n",
    "    def fib(self, n):\n",
    "        if n not in self.cache:\n",
    "            self.cache[n] = self.fib(n-1) + self.fib(n-2)\n",
    "        return self.cache[n]\n",
    "\n",
    "\n",
    "f = Fib()\n",
    "print(f.fib(36))"
   ]
  },
  {
   "cell_type": "code",
   "execution_count": 29,
   "metadata": {},
   "outputs": [
    {
     "name": "stdout",
     "output_type": "stream",
     "text": [
      "memoize(<function fib at 0x7f63689f1b70>) took 0.000002s to run.\n",
      "14930352\n",
      "\n"
     ]
    }
   ],
   "source": [
    "# via decorator\n",
    "@timed\n",
    "def memoize(fn):\n",
    "    cache = {}\n",
    "    \n",
    "    def inner(n):\n",
    "        if n not in cache:\n",
    "            cache[n] = fn(n)\n",
    "        return cache[n]\n",
    "    \n",
    "    return inner\n",
    "\n",
    "@memoize\n",
    "def fib(n):\n",
    "    return 1 if n<=2 else fib(n-1) + fib(n-2)\n",
    "\n",
    "\n",
    "print(fib(36))\n",
    "print()"
   ]
  },
  {
   "cell_type": "code",
   "execution_count": 30,
   "metadata": {},
   "outputs": [
    {
     "name": "stdout",
     "output_type": "stream",
     "text": [
      "calculating fib(12)\n",
      "calculating fib(11)\n",
      "calculating fib(10)\n",
      "calculating fib(9)\n",
      "calculating fib(8)\n",
      "calculating fib(7)\n",
      "calculating fib(6)\n",
      "calculating fib(5)\n",
      "calculating fib(4)\n",
      "calculating fib(3)\n",
      "calculating fib(2)\n",
      "calculating fib(1)\n"
     ]
    },
    {
     "data": {
      "text/plain": [
       "144"
      ]
     },
     "execution_count": 30,
     "metadata": {},
     "output_type": "execute_result"
    }
   ],
   "source": [
    "# Memoization of recursive function with limited cache (via special decorator of Python)\n",
    "\n",
    "from functools import lru_cache\n",
    "# lru - abbr. from 'least recently used'\n",
    "\n",
    "@lru_cache(maxsize=8)  # Def. 128, more efficient to use the power of 2, None - unlimited cache\n",
    "def fib(n):\n",
    "    print(f'calculating fib({n})')\n",
    "    return 1 if n<=2 else fib(n-1) + fib(n-2)\n",
    "\n",
    "\n",
    "fib(12)"
   ]
  },
  {
   "cell_type": "code",
   "execution_count": 31,
   "metadata": {},
   "outputs": [
    {
     "data": {
      "text/plain": [
       "5"
      ]
     },
     "execution_count": 31,
     "metadata": {},
     "output_type": "execute_result"
    }
   ],
   "source": [
    "fib(5)"
   ]
  },
  {
   "cell_type": "code",
   "execution_count": 32,
   "metadata": {},
   "outputs": [
    {
     "name": "stdout",
     "output_type": "stream",
     "text": [
      "calculating fib(4)\n",
      "calculating fib(3)\n",
      "calculating fib(2)\n",
      "calculating fib(1)\n"
     ]
    },
    {
     "data": {
      "text/plain": [
       "3"
      ]
     },
     "execution_count": 32,
     "metadata": {},
     "output_type": "execute_result"
    }
   ],
   "source": [
    "fib(4)"
   ]
  },
  {
   "cell_type": "markdown",
   "metadata": {},
   "source": [
    "<br>\n",
    "\n",
    "#### Counter of function calls"
   ]
  },
  {
   "cell_type": "code",
   "execution_count": 33,
   "metadata": {},
   "outputs": [
    {
     "name": "stdout",
     "output_type": "stream",
     "text": [
      "number of operations 1\n",
      "   f1 works\n",
      "number of operations 2\n",
      "   f1 works\n",
      "number of operations 3\n",
      "   f1 works\n",
      "resetting count...\n",
      "number of operations 1\n",
      "   f1 works\n",
      "number of operations 2\n",
      "   f1 works\n",
      "number of operations 3\n",
      "   f1 works\n"
     ]
    }
   ],
   "source": [
    "def op_count(fn):\n",
    "    from functools import wraps\n",
    "    \n",
    "    count = 0\n",
    "    \n",
    "    @wraps(fn)\n",
    "    def inner(*args, **kwargs):\n",
    "        nonlocal count  \n",
    "        result = fn(*args, **kwargs)\n",
    "        count += 1\n",
    "        print('number of operations', count)\n",
    "        return result\n",
    "\n",
    "    def reset():\n",
    "        nonlocal count\n",
    "        print('resetting count...')\n",
    "        count = 0\n",
    "\n",
    "    inner.reset = reset\n",
    "    return inner\n",
    "\n",
    "\n",
    "@op_count\n",
    "def f1():\n",
    "    return '   f1 works'\n",
    "\n",
    "\n",
    "for _ in range(3):\n",
    "    print(f1())\n",
    "\n",
    "f1.reset()\n",
    "\n",
    "for _ in range(3):\n",
    "    print(f1())"
   ]
  },
  {
   "cell_type": "markdown",
   "metadata": {},
   "source": [
    "<br>\n",
    "<br>\n",
    "<br>\n",
    "<hr>\n",
    "<h3>Decorators with parameter</h3"
   ]
  },
  {
   "cell_type": "code",
   "execution_count": 34,
   "metadata": {},
   "outputs": [],
   "source": [
    "# Simple wrapper, with 1 iteration of the tested function (copy from above)\n",
    "def timed(fn):\n",
    "    from time import perf_counter\n",
    "    from functools import wraps\n",
    "    \n",
    "    @wraps(fn)\n",
    "    def inner(*args, **kwargs):\n",
    "        start = perf_counter()\n",
    "        result = fn(*args, **kwargs)\n",
    "        end = perf_counter()\n",
    "        elapsed = end - start\n",
    "        \n",
    "        args_ = [str(a) for a in args]\n",
    "        kwargs_ = [f'{k}={v}' for k,v in kwargs.items()]\n",
    "        all_args = args_ + kwargs_\n",
    "        args_str = ', '.join(all_args)\n",
    "        \n",
    "        print(f'{fn.__name__}({args_str}) took {elapsed:.6f}s')\n",
    "        \n",
    "        return result\n",
    "    \n",
    "    return inner"
   ]
  },
  {
   "cell_type": "code",
   "execution_count": 35,
   "metadata": {},
   "outputs": [],
   "source": [
    "# Creating a decorator factory\n",
    "def timed_factory(count):\n",
    "    def timed(fn):\n",
    "        from time import perf_counter\n",
    "        from functools import wraps\n",
    "\n",
    "        @wraps(fn)\n",
    "        def inner(*args, **kwargs):\n",
    "            elapsed_total = 0\n",
    "\n",
    "            for i in range(count):        \n",
    "                start = perf_counter()\n",
    "                result = fn(*args, **kwargs)\n",
    "                end = perf_counter()\n",
    "                elapsed = end - start\n",
    "                elapsed_total += elapsed\n",
    "\n",
    "            args_ = [str(a) for a in args]\n",
    "            kwargs_ = [f'{k}={v}' for k,v in kwargs.items()]\n",
    "            all_args = args_ + kwargs_\n",
    "            args_str = ', '.join(all_args)\n",
    "\n",
    "            elapsed_avg = elapsed_total / count\n",
    "            print(f'{fn.__name__}({args_str}) took {elapsed_avg:.6f}s, {count} runs')\n",
    "\n",
    "            return result\n",
    "\n",
    "        return inner\n",
    "    \n",
    "    return timed"
   ]
  },
  {
   "cell_type": "code",
   "execution_count": 36,
   "metadata": {},
   "outputs": [
    {
     "name": "stdout",
     "output_type": "stream",
     "text": [
      "fib(28) took 0.051844s, 10 runs\n"
     ]
    },
    {
     "data": {
      "text/plain": [
       "317811"
      ]
     },
     "execution_count": 36,
     "metadata": {},
     "output_type": "execute_result"
    }
   ],
   "source": [
    "def cal_fib_recursive(n):\n",
    "    return 1 if n<=2 else cal_fib_recursive(n-1) + cal_fib_recursive(n-2)\n",
    "\n",
    "@timed_factory(10)\n",
    "def fib(n):\n",
    "    return cal_fib_recursive(n)\n",
    "\n",
    "fib(28)"
   ]
  },
  {
   "cell_type": "markdown",
   "metadata": {},
   "source": [
    "<br>\n",
    "<br>\n",
    "<br>\n",
    "<hr>\n",
    "<h3>Decorators in general form</h3>\n",
    "<h4>simple decorator</h4>\n",
    "\n",
    "(Q&A for <a target=\"_blank\" href=\"https://www.udemy.com/course/python-3-deep-dive-part-1/learn/lecture/9376820#questions/8309596\">lecture 116</a>)"
   ]
  },
  {
   "cell_type": "code",
   "execution_count": 37,
   "metadata": {},
   "outputs": [],
   "source": [
    "def dec(fn):\n",
    "    print(\"running dec\")\n",
    "    \n",
    "    def inner(*args, **kwargs):\n",
    "        print(\"running inner\")\n",
    "        return fn(*args, **kwargs)\n",
    "    \n",
    "    return inner"
   ]
  },
  {
   "cell_type": "code",
   "execution_count": 38,
   "metadata": {},
   "outputs": [
    {
     "name": "stdout",
     "output_type": "stream",
     "text": [
      "running dec\n"
     ]
    }
   ],
   "source": [
    "@dec                         # f1 = dec(f1)\n",
    "def f1():\n",
    "    print(\"running f1\")"
   ]
  },
  {
   "cell_type": "code",
   "execution_count": 39,
   "metadata": {},
   "outputs": [
    {
     "name": "stdout",
     "output_type": "stream",
     "text": [
      "running inner\n",
      "running f1\n"
     ]
    }
   ],
   "source": [
    "f1()"
   ]
  },
  {
   "cell_type": "markdown",
   "metadata": {},
   "source": [
    "<br>\n",
    "<h4>decorator factory (decorator with parameter)</h4>"
   ]
  },
  {
   "cell_type": "code",
   "execution_count": 40,
   "metadata": {},
   "outputs": [],
   "source": [
    "def dec_factory(n):\n",
    "    print(\"running dec_factory\")\n",
    "    \n",
    "    def dec(fn):\n",
    "        print(f\"running dec with parameter n={n}\")\n",
    "\n",
    "        def inner(*args, **kwargs):\n",
    "            print(\"running inner\")\n",
    "            return fn(*args, **kwargs)\n",
    "\n",
    "        return inner\n",
    "\n",
    "    return dec"
   ]
  },
  {
   "cell_type": "code",
   "execution_count": 41,
   "metadata": {},
   "outputs": [
    {
     "name": "stdout",
     "output_type": "stream",
     "text": [
      "running dec_factory\n",
      "running dec with parameter n=10\n"
     ]
    }
   ],
   "source": [
    "@dec_factory(10)             # f2 = dec_factory(10)(f2)\n",
    "def f2():\n",
    "    print(\"running f2\")"
   ]
  },
  {
   "cell_type": "code",
   "execution_count": 42,
   "metadata": {},
   "outputs": [
    {
     "name": "stdout",
     "output_type": "stream",
     "text": [
      "running inner\n",
      "running f2\n"
     ]
    }
   ],
   "source": [
    "f2()"
   ]
  },
  {
   "cell_type": "markdown",
   "metadata": {},
   "source": [
    "<br>\n",
    "<h4>Decorator class</h4>"
   ]
  },
  {
   "cell_type": "code",
   "execution_count": 43,
   "metadata": {},
   "outputs": [
    {
     "name": "stdout",
     "output_type": "stream",
     "text": [
      "decorated function called: a=10, b=20\n",
      "Hello World\n"
     ]
    }
   ],
   "source": [
    "# Decorator factory for comparison\n",
    "def my_dec(a, b):\n",
    "    def dec(fn):\n",
    "        def inner(*args, **kwargs):\n",
    "            print(f'decorated function called: a={a}, b={b}')\n",
    "            return fn(*args, **kwargs)\n",
    "        return inner\n",
    "    return dec\n",
    "\n",
    "\n",
    "@my_dec(10, 20)\n",
    "def f1(st):\n",
    "    print(f'Hello {st}')\n",
    "\n",
    "\n",
    "f1('World')"
   ]
  },
  {
   "cell_type": "code",
   "execution_count": 44,
   "metadata": {},
   "outputs": [
    {
     "name": "stdout",
     "output_type": "stream",
     "text": [
      "called a=10, b=20, c=100\n"
     ]
    }
   ],
   "source": [
    "# The work of traditional class\n",
    "class MyClass:\n",
    "    def __init__(self, a, b):\n",
    "        self.a = a\n",
    "        self.b = b\n",
    "        \n",
    "    def __call__(self, c):\n",
    "        print(f'called a={self.a}, b={self.b}, c={c}')\n",
    "\n",
    "\n",
    "obj = MyClass(10, 20)\n",
    "\n",
    "\n",
    "obj(100)                  # obj.__call__(100)"
   ]
  },
  {
   "cell_type": "code",
   "execution_count": 45,
   "metadata": {},
   "outputs": [
    {
     "name": "stdout",
     "output_type": "stream",
     "text": [
      "decorated function called: a=30, b=40\n",
      "Hello Python\n"
     ]
    }
   ],
   "source": [
    "# Decoration via class (example 1)\n",
    "class MyClass:\n",
    "    def __init__(self, a, b):\n",
    "        self.a = a\n",
    "        self.b = b\n",
    "        \n",
    "    def __call__(self, fn):\n",
    "        def inner(*args, **kwargs):\n",
    "            print(f'decorated function called: a={self.a}, b={self.b}')\n",
    "            return fn(*args, **kwargs)\n",
    "        return inner\n",
    "\n",
    "\n",
    "@MyClass(30, 40)\n",
    "def f2(st):\n",
    "    print(f'Hello {st}')\n",
    "\n",
    "\n",
    "f2('Python')"
   ]
  },
  {
   "cell_type": "code",
   "execution_count": 46,
   "metadata": {},
   "outputs": [],
   "source": [
    "# Decoration via class (example 2, in general form)\n",
    "class DecClass:\n",
    "    def __init__(self, n):\n",
    "        print('running DecClass')\n",
    "        self.n = n\n",
    "    \n",
    "    def __call__(self, fn):\n",
    "        print(f'running __call__ with parameter n={self.n}')\n",
    "        def inner(*args, **kwargs):\n",
    "            print('running inner')\n",
    "            return fn(*args, **kwargs)\n",
    "        return inner"
   ]
  },
  {
   "cell_type": "code",
   "execution_count": 47,
   "metadata": {},
   "outputs": [
    {
     "name": "stdout",
     "output_type": "stream",
     "text": [
      "running DecClass\n",
      "running __call__ with parameter n=10\n"
     ]
    }
   ],
   "source": [
    "@DecClass(10)\n",
    "def f3():\n",
    "    print('running f3')  "
   ]
  },
  {
   "cell_type": "code",
   "execution_count": 48,
   "metadata": {},
   "outputs": [
    {
     "name": "stdout",
     "output_type": "stream",
     "text": [
      "running inner\n",
      "running f3\n"
     ]
    }
   ],
   "source": [
    "f3()"
   ]
  },
  {
   "cell_type": "markdown",
   "metadata": {},
   "source": [
    "<br>\n",
    "\n",
    "<h4>Decorating classes</h4>"
   ]
  },
  {
   "cell_type": "code",
   "execution_count": 128,
   "metadata": {},
   "outputs": [
    {
     "name": "stdout",
     "output_type": "stream",
     "text": [
      "Crow says: Kah\n"
     ]
    }
   ],
   "source": [
    "# simplest example\n",
    "class Crow:\n",
    "    pass\n",
    "\n",
    "def speak(cls):\n",
    "    cls.speak = lambda self, msg: f'{self.__class__.__name__} says: {msg}'  # \"monkey patching\"\n",
    "    return cls\n",
    "    \n",
    "Crow = speak(Crow)\n",
    "\n",
    "\n",
    "cr = Crow()\n",
    "print(cr.speak('Kah'))"
   ]
  },
  {
   "cell_type": "markdown",
   "metadata": {},
   "source": [
    "<br>"
   ]
  },
  {
   "cell_type": "code",
   "execution_count": 49,
   "metadata": {},
   "outputs": [
    {
     "data": {
      "text/plain": [
       "['class: Person', 'name: Xena', 'birth_year: 1995']"
      ]
     },
     "execution_count": 49,
     "metadata": {},
     "output_type": "execute_result"
    }
   ],
   "source": [
    "# more complicated examle:\n",
    "# extracting infomation about an object via applying decorator to a class\n",
    "def info(self):\n",
    "    results = []\n",
    "    results.append(f'class: {self.__class__.__name__}')\n",
    "    for k,v in vars(self).items():\n",
    "        results.append(f'{k}: {v}')\n",
    "    return results\n",
    "\n",
    "def debug_info(cls):\n",
    "    cls.debug = info\n",
    "    return cls  # we return the class only for using decorator syntax\n",
    "\n",
    "@debug_info             # Person = debug_info(Person)\n",
    "class Person:\n",
    "    def __init__(self, name, birth_year):\n",
    "        self.name = name\n",
    "        self.birth_year = birth_year\n",
    "\n",
    "\n",
    "p = Person('Xena', 1995)\n",
    "\n",
    "p.debug()"
   ]
  },
  {
   "cell_type": "markdown",
   "metadata": {},
   "source": [
    "<br>\n",
    "\n",
    "<br>\n",
    "\n",
    "<br>\n",
    "\n",
    "### Dispatching (Decorator Application)\n",
    "\n",
    "Dispatch is the act of sending something somewhere.\n",
    "\n",
    "#### I. Our implementation"
   ]
  },
  {
   "cell_type": "code",
   "execution_count": 1,
   "metadata": {},
   "outputs": [],
   "source": [
    "from html import escape"
   ]
  },
  {
   "cell_type": "code",
   "execution_count": 2,
   "metadata": {},
   "outputs": [],
   "source": [
    "def singledispatch(fn):\n",
    "    registry = {object: fn}   # initial dictionary\n",
    "    \n",
    "    def decorated(arg):\n",
    "        \"\"\" Choose applied function according type of given argument \"\"\"\n",
    "        f = registry.get(type(arg), registry[object])\n",
    "        return f(arg)\n",
    "        \n",
    "    def register(type_):\n",
    "        \"\"\" Register new couple 'type: function' \"\"\"\n",
    "        def inner(fn):\n",
    "            registry[type_] = fn\n",
    "            return fn              # we need this return for stacking register recorators\n",
    "        return inner\n",
    "\n",
    "    def dispatch(type_):\n",
    "        \"\"\" Allow user to check what function is used for given type \"\"\"\n",
    "        return registry.get(type_, registry[object])\n",
    "    \n",
    "    decorated.register = register\n",
    "    decorated.registry = registry  # for security it's better don't open access,\n",
    "                                   # only for debugging purpose\n",
    "    decorated.dispatch = dispatch\n",
    "        \n",
    "    return decorated"
   ]
  },
  {
   "cell_type": "code",
   "execution_count": 3,
   "metadata": {},
   "outputs": [],
   "source": [
    "# Set default couple 'object: function'\n",
    "@singledispatch\n",
    "def htmlize(a):             # htmlize now our default function, for object\n",
    "    return escape(str(a))"
   ]
  },
  {
   "cell_type": "code",
   "execution_count": 4,
   "metadata": {},
   "outputs": [
    {
     "data": {
      "text/plain": [
       "{object: <function __main__.htmlize(a)>}"
      ]
     },
     "execution_count": 4,
     "metadata": {},
     "output_type": "execute_result"
    }
   ],
   "source": [
    "htmlize.registry            # check content of inner dictionary 'registry'"
   ]
  },
  {
   "cell_type": "code",
   "execution_count": 5,
   "metadata": {},
   "outputs": [],
   "source": [
    "# register new couple 'type: function'\n",
    "@htmlize.register(int)     # html_int = htmlize.register(int)(html_int)\n",
    "def html_int(a):\n",
    "    return f'{a}(<i>({hex(a)})</i>)'"
   ]
  },
  {
   "cell_type": "code",
   "execution_count": 6,
   "metadata": {},
   "outputs": [
    {
     "data": {
      "text/plain": [
       "{object: <function __main__.htmlize(a)>, int: <function __main__.html_int(a)>}"
      ]
     },
     "execution_count": 6,
     "metadata": {},
     "output_type": "execute_result"
    }
   ],
   "source": [
    "htmlize.registry            # check content of inner dictionary 'registry' again"
   ]
  },
  {
   "cell_type": "code",
   "execution_count": 7,
   "metadata": {},
   "outputs": [
    {
     "data": {
      "text/plain": [
       "<function __main__.html_int(a)>"
      ]
     },
     "execution_count": 7,
     "metadata": {},
     "output_type": "execute_result"
    }
   ],
   "source": [
    "htmlize.dispatch(int)       # check what function is used for type 'int'"
   ]
  },
  {
   "cell_type": "code",
   "execution_count": 8,
   "metadata": {},
   "outputs": [
    {
     "name": "stdout",
     "output_type": "stream",
     "text": [
      "0 &lt; 1\n"
     ]
    }
   ],
   "source": [
    "print(htmlize('0 < 1'))     # check of work 1"
   ]
  },
  {
   "cell_type": "code",
   "execution_count": 9,
   "metadata": {},
   "outputs": [
    {
     "name": "stdout",
     "output_type": "stream",
     "text": [
      "255(<i>(0xff)</i>)\n"
     ]
    }
   ],
   "source": [
    "print(htmlize(255))         # check of work 2"
   ]
  },
  {
   "cell_type": "code",
   "execution_count": 10,
   "metadata": {},
   "outputs": [],
   "source": [
    "# register simultaneously two couple 'type1: function1', 'type2: function1'\n",
    "@htmlize.register(tuple)  # html_sequence = htmlize.register(tuple)(html_sequence)\n",
    "@htmlize.register(list)   # html_sequence = htmlize.register(list)(html_sequence)\n",
    "def html_sequence(ls):\n",
    "    items = (f'<li>{htmlize(item)}</li>' for item in ls)\n",
    "    return '<ul>\\n' + '\\n'.join(items) + '\\n</ul>'"
   ]
  },
  {
   "cell_type": "code",
   "execution_count": 11,
   "metadata": {},
   "outputs": [
    {
     "data": {
      "text/plain": [
       "{object: <function __main__.htmlize(a)>,\n",
       " int: <function __main__.html_int(a)>,\n",
       " list: <function __main__.html_sequence(ls)>,\n",
       " tuple: <function __main__.html_sequence(ls)>}"
      ]
     },
     "execution_count": 11,
     "metadata": {},
     "output_type": "execute_result"
    }
   ],
   "source": [
    "htmlize.registry            # check content of inner dictionary 'registry'"
   ]
  },
  {
   "cell_type": "code",
   "execution_count": 12,
   "metadata": {},
   "outputs": [
    {
     "name": "stdout",
     "output_type": "stream",
     "text": [
      "<ul>\n",
      "<li>10(<i>(0xa)</i>)</li>\n",
      "<li>20(<i>(0x14)</i>)</li>\n",
      "<li>30(<i>(0x1e)</i>)</li>\n",
      "</ul>\n"
     ]
    }
   ],
   "source": [
    "print(htmlize([10, 20, 30]))  # check of work 3"
   ]
  },
  {
   "cell_type": "markdown",
   "metadata": {},
   "source": [
    "Our implementation is simplified and there're problems if, e.g., we try to use Integral and Sequence types."
   ]
  },
  {
   "cell_type": "markdown",
   "metadata": {},
   "source": [
    "<br>\n",
    "\n",
    "<br>\n",
    "\n",
    "#### II. Implementation using module functools"
   ]
  },
  {
   "cell_type": "code",
   "execution_count": 1,
   "metadata": {},
   "outputs": [],
   "source": [
    "from functools import singledispatch\n",
    "from numbers import Integral\n",
    "from collections.abc import Sequence\n",
    "from html import escape"
   ]
  },
  {
   "cell_type": "code",
   "execution_count": 2,
   "metadata": {},
   "outputs": [],
   "source": [
    "# Set default couple 'object: function'\n",
    "@singledispatch\n",
    "def htmlize(a):             # htmlize now our default function, for object\n",
    "    return escape(str(a))"
   ]
  },
  {
   "cell_type": "code",
   "execution_count": 3,
   "metadata": {},
   "outputs": [
    {
     "data": {
      "text/plain": [
       "mappingproxy({object: <function __main__.htmlize(a)>})"
      ]
     },
     "execution_count": 3,
     "metadata": {},
     "output_type": "execute_result"
    }
   ],
   "source": [
    "htmlize.registry            # check content of inner dictionary 'registry'"
   ]
  },
  {
   "cell_type": "code",
   "execution_count": 4,
   "metadata": {},
   "outputs": [],
   "source": [
    "# register new couple 'type: function'\n",
    "@htmlize.register(Integral)\n",
    "def htmlize_integral_number(a):\n",
    "    return f'{a}(<i>({hex(a)})</i>)'"
   ]
  },
  {
   "cell_type": "code",
   "execution_count": 5,
   "metadata": {},
   "outputs": [
    {
     "data": {
      "text/plain": [
       "mappingproxy({object: <function __main__.htmlize(a)>,\n",
       "              numbers.Integral: <function __main__.htmlize_integral_number(a)>})"
      ]
     },
     "execution_count": 5,
     "metadata": {},
     "output_type": "execute_result"
    }
   ],
   "source": [
    "htmlize.registry            # check content of inner dictionary 'registry' again"
   ]
  },
  {
   "cell_type": "code",
   "execution_count": 6,
   "metadata": {},
   "outputs": [
    {
     "data": {
      "text/plain": [
       "<function __main__.htmlize_integral_number(a)>"
      ]
     },
     "execution_count": 6,
     "metadata": {},
     "output_type": "execute_result"
    }
   ],
   "source": [
    "htmlize.dispatch(int)       # check what function is used for type 'int'"
   ]
  },
  {
   "cell_type": "code",
   "execution_count": 7,
   "metadata": {},
   "outputs": [
    {
     "name": "stdout",
     "output_type": "stream",
     "text": [
      "0 &lt; 1\n"
     ]
    }
   ],
   "source": [
    "print(htmlize('0 < 1'))     # check of work 1"
   ]
  },
  {
   "cell_type": "code",
   "execution_count": 8,
   "metadata": {},
   "outputs": [
    {
     "name": "stdout",
     "output_type": "stream",
     "text": [
      "255(<i>(0xff)</i>)\n"
     ]
    }
   ],
   "source": [
    "print(htmlize(255))         # check of work 2"
   ]
  },
  {
   "cell_type": "code",
   "execution_count": 9,
   "metadata": {},
   "outputs": [],
   "source": [
    "@htmlize.register(Sequence)  # html_sequence = htmlize.register(Sequence)(html_sequence)\n",
    "def html_sequence(ls):\n",
    "    items = (f'<li>{htmlize(item)}</li>' for item in ls)\n",
    "    return '<ul>\\n' + '\\n'.join(items) + '\\n</ul>'"
   ]
  },
  {
   "cell_type": "code",
   "execution_count": 10,
   "metadata": {},
   "outputs": [
    {
     "data": {
      "text/plain": [
       "mappingproxy({object: <function __main__.htmlize(a)>,\n",
       "              numbers.Integral: <function __main__.htmlize_integral_number(a)>,\n",
       "              collections.abc.Sequence: <function __main__.html_sequence(ls)>})"
      ]
     },
     "execution_count": 10,
     "metadata": {},
     "output_type": "execute_result"
    }
   ],
   "source": [
    "htmlize.registry            # check content of inner dictionary 'registry'"
   ]
  },
  {
   "cell_type": "code",
   "execution_count": 11,
   "metadata": {},
   "outputs": [
    {
     "name": "stdout",
     "output_type": "stream",
     "text": [
      "<ul>\n",
      "<li>10(<i>(0xa)</i>)</li>\n",
      "<li>20(<i>(0x14)</i>)</li>\n",
      "<li>30(<i>(0x1e)</i>)</li>\n",
      "</ul>\n"
     ]
    }
   ],
   "source": [
    "print(htmlize([10, 20, 30]))  # check of work 3"
   ]
  },
  {
   "cell_type": "markdown",
   "metadata": {},
   "source": [
    "<br>\n",
    "\n",
    "Error then sequence is applied to string:"
   ]
  },
  {
   "cell_type": "code",
   "execution_count": 12,
   "metadata": {
    "scrolled": true
   },
   "outputs": [
    {
     "ename": "RecursionError",
     "evalue": "maximum recursion depth exceeded",
     "output_type": "error",
     "traceback": [
      "\u001b[0;31m---------------------------------------------------------------------------\u001b[0m",
      "\u001b[0;31mRecursionError\u001b[0m                            Traceback (most recent call last)",
      "\u001b[0;32m<ipython-input-12-101bddf24fc0>\u001b[0m in \u001b[0;36m<module>\u001b[0;34m\u001b[0m\n\u001b[0;32m----> 1\u001b[0;31m \u001b[0mprint\u001b[0m\u001b[0;34m(\u001b[0m\u001b[0mhtmlize\u001b[0m\u001b[0;34m(\u001b[0m\u001b[0;34m'python'\u001b[0m\u001b[0;34m)\u001b[0m\u001b[0;34m)\u001b[0m\u001b[0;34m\u001b[0m\u001b[0;34m\u001b[0m\u001b[0m\n\u001b[0m",
      "\u001b[0;32m~/anaconda3/lib/python3.7/functools.py\u001b[0m in \u001b[0;36mwrapper\u001b[0;34m(*args, **kw)\u001b[0m\n\u001b[1;32m    825\u001b[0m                             '1 positional argument')\n\u001b[1;32m    826\u001b[0m \u001b[0;34m\u001b[0m\u001b[0m\n\u001b[0;32m--> 827\u001b[0;31m         \u001b[0;32mreturn\u001b[0m \u001b[0mdispatch\u001b[0m\u001b[0;34m(\u001b[0m\u001b[0margs\u001b[0m\u001b[0;34m[\u001b[0m\u001b[0;36m0\u001b[0m\u001b[0;34m]\u001b[0m\u001b[0;34m.\u001b[0m\u001b[0m__class__\u001b[0m\u001b[0;34m)\u001b[0m\u001b[0;34m(\u001b[0m\u001b[0;34m*\u001b[0m\u001b[0margs\u001b[0m\u001b[0;34m,\u001b[0m \u001b[0;34m**\u001b[0m\u001b[0mkw\u001b[0m\u001b[0;34m)\u001b[0m\u001b[0;34m\u001b[0m\u001b[0;34m\u001b[0m\u001b[0m\n\u001b[0m\u001b[1;32m    828\u001b[0m \u001b[0;34m\u001b[0m\u001b[0m\n\u001b[1;32m    829\u001b[0m     \u001b[0mfuncname\u001b[0m \u001b[0;34m=\u001b[0m \u001b[0mgetattr\u001b[0m\u001b[0;34m(\u001b[0m\u001b[0mfunc\u001b[0m\u001b[0;34m,\u001b[0m \u001b[0;34m'__name__'\u001b[0m\u001b[0;34m,\u001b[0m \u001b[0;34m'singledispatch function'\u001b[0m\u001b[0;34m)\u001b[0m\u001b[0;34m\u001b[0m\u001b[0;34m\u001b[0m\u001b[0m\n",
      "\u001b[0;32m<ipython-input-9-3f5032ae7467>\u001b[0m in \u001b[0;36mhtml_sequence\u001b[0;34m(ls)\u001b[0m\n\u001b[1;32m      2\u001b[0m \u001b[0;32mdef\u001b[0m \u001b[0mhtml_sequence\u001b[0m\u001b[0;34m(\u001b[0m\u001b[0mls\u001b[0m\u001b[0;34m)\u001b[0m\u001b[0;34m:\u001b[0m\u001b[0;34m\u001b[0m\u001b[0;34m\u001b[0m\u001b[0m\n\u001b[1;32m      3\u001b[0m     \u001b[0mitems\u001b[0m \u001b[0;34m=\u001b[0m \u001b[0;34m(\u001b[0m\u001b[0;34mf'<li>{htmlize(item)}</li>'\u001b[0m \u001b[0;32mfor\u001b[0m \u001b[0mitem\u001b[0m \u001b[0;32min\u001b[0m \u001b[0mls\u001b[0m\u001b[0;34m)\u001b[0m\u001b[0;34m\u001b[0m\u001b[0;34m\u001b[0m\u001b[0m\n\u001b[0;32m----> 4\u001b[0;31m     \u001b[0;32mreturn\u001b[0m \u001b[0;34m'<ul>\\n'\u001b[0m \u001b[0;34m+\u001b[0m \u001b[0;34m'\\n'\u001b[0m\u001b[0;34m.\u001b[0m\u001b[0mjoin\u001b[0m\u001b[0;34m(\u001b[0m\u001b[0mitems\u001b[0m\u001b[0;34m)\u001b[0m \u001b[0;34m+\u001b[0m \u001b[0;34m'\\n</ul>'\u001b[0m\u001b[0;34m\u001b[0m\u001b[0;34m\u001b[0m\u001b[0m\n\u001b[0m",
      "\u001b[0;32m<ipython-input-9-3f5032ae7467>\u001b[0m in \u001b[0;36m<genexpr>\u001b[0;34m(.0)\u001b[0m\n\u001b[1;32m      1\u001b[0m \u001b[0;34m@\u001b[0m\u001b[0mhtmlize\u001b[0m\u001b[0;34m.\u001b[0m\u001b[0mregister\u001b[0m\u001b[0;34m(\u001b[0m\u001b[0mSequence\u001b[0m\u001b[0;34m)\u001b[0m  \u001b[0;31m# html_sequence = htmlize.register(Sequence)(html_sequence)\u001b[0m\u001b[0;34m\u001b[0m\u001b[0;34m\u001b[0m\u001b[0m\n\u001b[1;32m      2\u001b[0m \u001b[0;32mdef\u001b[0m \u001b[0mhtml_sequence\u001b[0m\u001b[0;34m(\u001b[0m\u001b[0mls\u001b[0m\u001b[0;34m)\u001b[0m\u001b[0;34m:\u001b[0m\u001b[0;34m\u001b[0m\u001b[0;34m\u001b[0m\u001b[0m\n\u001b[0;32m----> 3\u001b[0;31m     \u001b[0mitems\u001b[0m \u001b[0;34m=\u001b[0m \u001b[0;34m(\u001b[0m\u001b[0;34mf'<li>{htmlize(item)}</li>'\u001b[0m \u001b[0;32mfor\u001b[0m \u001b[0mitem\u001b[0m \u001b[0;32min\u001b[0m \u001b[0mls\u001b[0m\u001b[0;34m)\u001b[0m\u001b[0;34m\u001b[0m\u001b[0;34m\u001b[0m\u001b[0m\n\u001b[0m\u001b[1;32m      4\u001b[0m     \u001b[0;32mreturn\u001b[0m \u001b[0;34m'<ul>\\n'\u001b[0m \u001b[0;34m+\u001b[0m \u001b[0;34m'\\n'\u001b[0m\u001b[0;34m.\u001b[0m\u001b[0mjoin\u001b[0m\u001b[0;34m(\u001b[0m\u001b[0mitems\u001b[0m\u001b[0;34m)\u001b[0m \u001b[0;34m+\u001b[0m \u001b[0;34m'\\n</ul>'\u001b[0m\u001b[0;34m\u001b[0m\u001b[0;34m\u001b[0m\u001b[0m\n",
      "... last 3 frames repeated, from the frame below ...\n",
      "\u001b[0;32m~/anaconda3/lib/python3.7/functools.py\u001b[0m in \u001b[0;36mwrapper\u001b[0;34m(*args, **kw)\u001b[0m\n\u001b[1;32m    825\u001b[0m                             '1 positional argument')\n\u001b[1;32m    826\u001b[0m \u001b[0;34m\u001b[0m\u001b[0m\n\u001b[0;32m--> 827\u001b[0;31m         \u001b[0;32mreturn\u001b[0m \u001b[0mdispatch\u001b[0m\u001b[0;34m(\u001b[0m\u001b[0margs\u001b[0m\u001b[0;34m[\u001b[0m\u001b[0;36m0\u001b[0m\u001b[0;34m]\u001b[0m\u001b[0;34m.\u001b[0m\u001b[0m__class__\u001b[0m\u001b[0;34m)\u001b[0m\u001b[0;34m(\u001b[0m\u001b[0;34m*\u001b[0m\u001b[0margs\u001b[0m\u001b[0;34m,\u001b[0m \u001b[0;34m**\u001b[0m\u001b[0mkw\u001b[0m\u001b[0;34m)\u001b[0m\u001b[0;34m\u001b[0m\u001b[0;34m\u001b[0m\u001b[0m\n\u001b[0m\u001b[1;32m    828\u001b[0m \u001b[0;34m\u001b[0m\u001b[0m\n\u001b[1;32m    829\u001b[0m     \u001b[0mfuncname\u001b[0m \u001b[0;34m=\u001b[0m \u001b[0mgetattr\u001b[0m\u001b[0;34m(\u001b[0m\u001b[0mfunc\u001b[0m\u001b[0;34m,\u001b[0m \u001b[0;34m'__name__'\u001b[0m\u001b[0;34m,\u001b[0m \u001b[0;34m'singledispatch function'\u001b[0m\u001b[0;34m)\u001b[0m\u001b[0;34m\u001b[0m\u001b[0;34m\u001b[0m\u001b[0m\n",
      "\u001b[0;31mRecursionError\u001b[0m: maximum recursion depth exceeded"
     ]
    }
   ],
   "source": [
    "print(htmlize('python'))"
   ]
  },
  {
   "cell_type": "code",
   "execution_count": 13,
   "metadata": {},
   "outputs": [],
   "source": [
    "# Correction of aforementioned error \n",
    "@htmlize.register(str)\n",
    "def html_str(s):\n",
    "    return escape(str(s)).replace('\\n', '<br/>\\n')"
   ]
  },
  {
   "cell_type": "code",
   "execution_count": 14,
   "metadata": {},
   "outputs": [
    {
     "name": "stdout",
     "output_type": "stream",
     "text": [
      "python\n"
     ]
    }
   ],
   "source": [
    "print(htmlize('python'))   # check of work 4"
   ]
  }
 ],
 "metadata": {
  "kernelspec": {
   "display_name": "Python 3",
   "language": "python",
   "name": "python3"
  },
  "language_info": {
   "codemirror_mode": {
    "name": "ipython",
    "version": 3
   },
   "file_extension": ".py",
   "mimetype": "text/x-python",
   "name": "python",
   "nbconvert_exporter": "python",
   "pygments_lexer": "ipython3",
   "version": "3.7.3"
  }
 },
 "nbformat": 4,
 "nbformat_minor": 2
}
