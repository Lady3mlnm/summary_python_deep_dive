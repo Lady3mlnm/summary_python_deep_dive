{
 "cells": [
  {
   "cell_type": "markdown",
   "metadata": {},
   "source": [
    "<h3>Iterators</h3>"
   ]
  },
  {
   "cell_type": "code",
   "execution_count": 1,
   "metadata": {},
   "outputs": [],
   "source": [
    "class Squares:\n",
    "    def __init__(self, length):\n",
    "        self.length = length\n",
    "        self.i = 0\n",
    "        \n",
    "    def __next__(self):\n",
    "        if self.i >= self.length:\n",
    "            raise StopIteration('Sequence is over')\n",
    "        else:\n",
    "            result = self.i ** 2\n",
    "            self.i += 1\n",
    "            return result\n",
    "        \n",
    "    def __iter__(self):               # iterator, returns the object itself\n",
    "        return self"
   ]
  },
  {
   "cell_type": "code",
   "execution_count": 2,
   "metadata": {},
   "outputs": [
    {
     "name": "stdout",
     "output_type": "stream",
     "text": [
      "0\n",
      "1\n",
      "4\n"
     ]
    }
   ],
   "source": [
    "sq = Squares(3)\n",
    "\n",
    "for item in sq:\n",
    "    print(item)\n",
    "    \n",
    "# print(next(sq))  # error: StopIteration: Sequence is over"
   ]
  },
  {
   "cell_type": "markdown",
   "metadata": {},
   "source": [
    "<br>"
   ]
  },
  {
   "cell_type": "code",
   "execution_count": 3,
   "metadata": {},
   "outputs": [],
   "source": [
    "# let's look at the working mechanism\n",
    "\n",
    "class Squares:\n",
    "    def __init__(self, length):\n",
    "        self.length = length\n",
    "        self.i = 0\n",
    "        \n",
    "    def __next__(self):\n",
    "        print('  __next__ called')\n",
    "        if self.i >= self.length:\n",
    "            raise StopIteration('Sequence is over')\n",
    "        else:\n",
    "            result = self.i ** 2\n",
    "            self.i += 1\n",
    "            return result\n",
    "        \n",
    "    def __iter__(self):               # iterator, returns the object itself\n",
    "        print('  __iter__ called')\n",
    "        return self"
   ]
  },
  {
   "cell_type": "code",
   "execution_count": 4,
   "metadata": {},
   "outputs": [
    {
     "name": "stdout",
     "output_type": "stream",
     "text": [
      "  __iter__ called\n",
      "  __next__ called\n",
      "0\n",
      "  __next__ called\n",
      "1\n",
      "  __next__ called\n",
      "4\n",
      "  __next__ called\n"
     ]
    }
   ],
   "source": [
    "sq = Squares(3)\n",
    "\n",
    "for item in sq:\n",
    "    print(item)"
   ]
  },
  {
   "cell_type": "markdown",
   "metadata": {},
   "source": [
    "<br>\n",
    "\n",
    "from <a href=\"https://www.udemy.com/course/python-3-deep-dive-part-2/learn/lecture/10059700#questions/8297476\">FAQ</a>:<br>\n",
    "<code>sq</code> here is both an iterator and iterable.<br>\n",
    "An iterator is an iterable since it implements <code>\\_\\_iter\\_\\_</code>"
   ]
  },
  {
   "cell_type": "markdown",
   "metadata": {},
   "source": [
    "—<br>\n",
    "from lecture \"<a href=\"https://www.udemy.com/course/python-3-deep-dive-part-2/learn/lecture/10059702#questions/8302044\">37. Iterators and iterables</a>\":\n",
    "- An <b>iterable</b> is an object that implements <code>\\_\\_iter\\_\\_</code> (<i>returns an iterator</i>)\n",
    "- An <b>iterator</b> is an object that implements <code>\\_\\_iter\\_\\_</code> (<i>returns itself</i>) and <code>\\_\\_next\\_\\_</code>\n",
    "\n",
    "<b>Iterators</b> are like iterables but become exhausted. <b>Iterables</b> on the other hand never become exhausted because they always return a new iterator that is then used to iterate."
   ]
  },
  {
   "cell_type": "markdown",
   "metadata": {},
   "source": [
    "<br>\n",
    "<br>\n",
    "<h3>Iterators and iterables</h3>"
   ]
  },
  {
   "cell_type": "code",
   "execution_count": 5,
   "metadata": {},
   "outputs": [],
   "source": [
    "class Cities:\n",
    "    def __init__(self):\n",
    "        self._cities = ['Beijing', 'Seoul', 'Tokyo']\n",
    "        self._index = 0\n",
    "        \n",
    "    def __len__(self):\n",
    "        return len(self._cities)\n",
    "    \n",
    "    def __iter__(self):\n",
    "        return CityIterator(self)"
   ]
  },
  {
   "cell_type": "code",
   "execution_count": 6,
   "metadata": {},
   "outputs": [],
   "source": [
    "class CityIterator:\n",
    "    def __init__(self, city_obj):\n",
    "        self._city_obj = city_obj\n",
    "        self._index = 0\n",
    "        \n",
    "    def __iter__(self):\n",
    "        return self\n",
    "    \n",
    "    def __next__(self):\n",
    "        if self._index >= len(self._city_obj):\n",
    "            raise StopIteration\n",
    "        else:\n",
    "            item = self._city_obj._cities[self._index]\n",
    "            self._index += 1\n",
    "            return item"
   ]
  },
  {
   "cell_type": "code",
   "execution_count": 7,
   "metadata": {},
   "outputs": [
    {
     "name": "stdout",
     "output_type": "stream",
     "text": [
      "Beijing\n",
      "Seoul\n",
      "Tokyo\n"
     ]
    }
   ],
   "source": [
    "cities = Cities()\n",
    "\n",
    "for city in cities:\n",
    "    print(city)"
   ]
  },
  {
   "cell_type": "code",
   "execution_count": 8,
   "metadata": {},
   "outputs": [
    {
     "name": "stdout",
     "output_type": "stream",
     "text": [
      "Beijing\n",
      "Seoul\n",
      "Tokyo\n"
     ]
    }
   ],
   "source": [
    "# iterator is not exhausted\n",
    "for city in cities:\n",
    "    print(city)"
   ]
  },
  {
   "cell_type": "markdown",
   "metadata": {},
   "source": [
    "<br>"
   ]
  },
  {
   "cell_type": "code",
   "execution_count": 9,
   "metadata": {},
   "outputs": [],
   "source": [
    "# let's see what under the hood\n",
    "\n",
    "class Cities:\n",
    "    def __init__(self):\n",
    "        self._cities = ['Beijing', 'Seoul', 'Tokyo']\n",
    "        self._index = 0\n",
    "        \n",
    "    def __len__(self):\n",
    "        return len(self._cities)\n",
    "    \n",
    "    def __iter__(self):\n",
    "        print('Cities __iter__ called')\n",
    "        return CityIterator(self)"
   ]
  },
  {
   "cell_type": "code",
   "execution_count": 10,
   "metadata": {},
   "outputs": [],
   "source": [
    "class CityIterator:\n",
    "    def __init__(self, city_obj):\n",
    "        print('CityIterator new object!')\n",
    "        self._city_obj = city_obj\n",
    "        self._index = 0\n",
    "        \n",
    "    def __iter__(self):\n",
    "        print('CityIterator __iter__ called')\n",
    "        return self\n",
    "    \n",
    "    def __next__(self):\n",
    "        print('CityIterator __next__ called')\n",
    "        if self._index >= len(self._city_obj):\n",
    "            raise StopIteration\n",
    "        else:\n",
    "            item = self._city_obj._cities[self._index]\n",
    "            self._index += 1\n",
    "            return item"
   ]
  },
  {
   "cell_type": "code",
   "execution_count": 11,
   "metadata": {},
   "outputs": [
    {
     "name": "stdout",
     "output_type": "stream",
     "text": [
      "Cities __iter__ called\n",
      "CityIterator new object!\n",
      "CityIterator __next__ called\n",
      "Beijing\n",
      "CityIterator __next__ called\n",
      "Seoul\n",
      "CityIterator __next__ called\n",
      "Tokyo\n",
      "CityIterator __next__ called\n"
     ]
    }
   ],
   "source": [
    "cities = Cities()\n",
    "\n",
    "for city in cities:\n",
    "    print(city)"
   ]
  },
  {
   "cell_type": "markdown",
   "metadata": {},
   "source": [
    "<br>"
   ]
  },
  {
   "cell_type": "code",
   "execution_count": 12,
   "metadata": {},
   "outputs": [],
   "source": [
    "# delete 'CityIterator' and 'Cities' so they don't confuse us\n",
    "if 'CityIterator' in globals():\n",
    "    del CityIterator\n",
    "    \n",
    "if 'Cities' in globals():   \n",
    "    del Cities"
   ]
  },
  {
   "cell_type": "markdown",
   "metadata": {},
   "source": [
    "<br>"
   ]
  },
  {
   "cell_type": "code",
   "execution_count": 13,
   "metadata": {},
   "outputs": [],
   "source": [
    "# use nested class and add __getitem__\n",
    "\n",
    "class Cities:\n",
    "    def __init__(self):\n",
    "        self._cities = ['Beijing', 'Seoul', 'Tokyo']\n",
    "        self._index = 0\n",
    "        \n",
    "    def __len__(self):\n",
    "        return len(self._cities)\n",
    "    \n",
    "    def __getitem__(self, s):            # for using constructions like cities[0]\n",
    "        return self._cities[s]\n",
    "    \n",
    "    def __iter__(self):\n",
    "        return self.CityIterator(self)   # attention to appearance of 'self'\n",
    "     \n",
    "    class CityIterator:\n",
    "        def __init__(self, city_obj):\n",
    "            self._city_obj = city_obj\n",
    "            self._index = 0\n",
    "\n",
    "        def __iter__(self):\n",
    "            return self\n",
    "\n",
    "        def __next__(self):\n",
    "            if self._index >= len(self._city_obj):\n",
    "                raise StopIteration\n",
    "            else:\n",
    "                item = self._city_obj._cities[self._index]\n",
    "                self._index += 1\n",
    "                return item"
   ]
  },
  {
   "cell_type": "code",
   "execution_count": 14,
   "metadata": {},
   "outputs": [
    {
     "name": "stdout",
     "output_type": "stream",
     "text": [
      "Beijing\n",
      "Seoul\n",
      "Tokyo\n"
     ]
    }
   ],
   "source": [
    "cities = Cities()\n",
    "\n",
    "for city in cities:\n",
    "    print(city)"
   ]
  },
  {
   "cell_type": "code",
   "execution_count": 15,
   "metadata": {},
   "outputs": [
    {
     "name": "stdout",
     "output_type": "stream",
     "text": [
      "Beijing\n"
     ]
    }
   ],
   "source": [
    "print(cities[0])"
   ]
  },
  {
   "cell_type": "markdown",
   "metadata": {},
   "source": [
    "<br>\n",
    "<br>\n",
    "<h4>Consuming iterators manually</h4>\n",
    "Task: read data about cars from csv file (with two first line of header) and write them in list 'cars'"
   ]
  },
  {
   "cell_type": "code",
   "execution_count": null,
   "metadata": {},
   "outputs": [],
   "source": []
  },
  {
   "cell_type": "code",
   "execution_count": 16,
   "metadata": {},
   "outputs": [],
   "source": [
    "# data casting\n",
    "def cast(data_type, value):\n",
    "    if data_type == 'DOUBLE':\n",
    "        return float(value)\n",
    "    elif data_type == 'INT':\n",
    "        return int(value)\n",
    "    else:\n",
    "        return str(value)"
   ]
  },
  {
   "cell_type": "code",
   "execution_count": 17,
   "metadata": {},
   "outputs": [],
   "source": [
    "def cast_row(data_types, data_row):\n",
    "    return [cast(data_type, value) for data_type, value in zip(data_types, data_row)]"
   ]
  },
  {
   "cell_type": "code",
   "execution_count": 18,
   "metadata": {},
   "outputs": [
    {
     "data": {
      "text/plain": [
       "[Car(Car='Chevrolet Chevelle Malibu', MPG=18.0, Cylinders=8, Displacement=307.0, Horsepower=130.0, Weight=3504.0, Acceleration=12.0, Model=70, Origin='US'),\n",
       " Car(Car='Buick Skylark 320', MPG=15.0, Cylinders=8, Displacement=350.0, Horsepower=165.0, Weight=3693.0, Acceleration=11.5, Model=70, Origin='US'),\n",
       " Car(Car='Plymouth Satellite', MPG=18.0, Cylinders=8, Displacement=318.0, Horsepower=150.0, Weight=3436.0, Acceleration=11.0, Model=70, Origin='US')]"
      ]
     },
     "execution_count": 18,
     "metadata": {},
     "output_type": "execute_result"
    }
   ],
   "source": [
    "from collections import namedtuple\n",
    "cars = []\n",
    "\n",
    "with open('working_files/cars.csv') as fh:\n",
    "    file_iter = iter(fh)                # actually here we can not use 'file_iter',\n",
    "                                        # because 'fh' is itself iterable and iterator simultaneously\n",
    "                                        # fh == file_iter -> true\n",
    "    headers = next(file_iter).strip().split(';')\n",
    "    Car = namedtuple('Car', headers)\n",
    "    data_types = next(file_iter).strip().split(';')\n",
    "    \n",
    "    for line in file_iter:\n",
    "        data = line.strip().split(';')\n",
    "        data = cast_row(data_types, data)\n",
    "        car = Car(*data)\n",
    "        cars.append(car)\n",
    "\n",
    "\n",
    "cars[:3]"
   ]
  },
  {
   "cell_type": "code",
   "execution_count": 19,
   "metadata": {},
   "outputs": [
    {
     "data": {
      "text/plain": [
       "[Car(Car='Chevrolet Chevelle Malibu', MPG=18.0, Cylinders=8, Displacement=307.0, Horsepower=130.0, Weight=3504.0, Acceleration=12.0, Model=70, Origin='US'),\n",
       " Car(Car='Buick Skylark 320', MPG=15.0, Cylinders=8, Displacement=350.0, Horsepower=165.0, Weight=3693.0, Acceleration=11.5, Model=70, Origin='US'),\n",
       " Car(Car='Plymouth Satellite', MPG=18.0, Cylinders=8, Displacement=318.0, Horsepower=150.0, Weight=3436.0, Acceleration=11.0, Model=70, Origin='US')]"
      ]
     },
     "execution_count": 19,
     "metadata": {},
     "output_type": "execute_result"
    }
   ],
   "source": [
    "# so without file_iter the program looks like this\n",
    "\n",
    "from collections import namedtuple\n",
    "cars = []\n",
    "\n",
    "with open('working_files/cars.csv') as fh:\n",
    "    headers = next(fh).strip().split(';')\n",
    "    Car = namedtuple('Car', headers)\n",
    "    data_types = next(fh).strip().split(';')\n",
    "    \n",
    "    for line in fh:\n",
    "        data = line.strip().split(';')\n",
    "        data = cast_row(data_types, data)\n",
    "        car = Car(*data)\n",
    "        cars.append(car)\n",
    "\n",
    "\n",
    "cars[:3]"
   ]
  },
  {
   "cell_type": "markdown",
   "metadata": {},
   "source": [
    "<br>\n",
    "<br>\n",
    "<h4>Cyclic iterators</h4>\n",
    "Task: create iterator that constuct infinite sequence<br>\n",
    "\n",
    "```\n",
    "1 2 3 4 5 6 7 8 9 10 ...\n",
    "N S W E\n",
    "\n",
    "1N 2S 3W 4E 5N 6S 7W 8E 9N 10S ...\n",
    "```"
   ]
  },
  {
   "cell_type": "code",
   "execution_count": 20,
   "metadata": {},
   "outputs": [],
   "source": [
    "# infinite iterator\n",
    "class CyclicIterator:\n",
    "    def __init__(self, lst):\n",
    "        self.lst = lst\n",
    "        self.i = 0\n",
    "        \n",
    "    def __iter__(self):\n",
    "        return self\n",
    "    \n",
    "    def __next__(self):\n",
    "        result = self.lst[self.i % len(self.lst)]\n",
    "        self.i += 1\n",
    "        return result"
   ]
  },
  {
   "cell_type": "code",
   "execution_count": 21,
   "metadata": {},
   "outputs": [
    {
     "name": "stdout",
     "output_type": "stream",
     "text": [
      "N\n",
      "S\n",
      "W\n",
      "E\n",
      "N\n",
      "S\n"
     ]
    }
   ],
   "source": [
    "# let's see CyclicIterator at work\n",
    "iter_cycl = CyclicIterator('NSWE')\n",
    "\n",
    "for _ in range(6):\n",
    "    print(next(iter_cycl))"
   ]
  },
  {
   "cell_type": "code",
   "execution_count": 22,
   "metadata": {},
   "outputs": [
    {
     "name": "stdout",
     "output_type": "stream",
     "text": [
      "1N\n",
      "2S\n",
      "3W\n",
      "4E\n",
      "5N\n",
      "6S\n",
      "7W\n",
      "8E\n",
      "9N\n",
      "10S\n"
     ]
    }
   ],
   "source": [
    "n = 10\n",
    "iter_cycl = CyclicIterator('NSWE')\n",
    "\n",
    "for i in range(1, n+1):\n",
    "    direction = next(iter_cycl)\n",
    "    print(f'{i}{direction}')"
   ]
  },
  {
   "cell_type": "code",
   "execution_count": 23,
   "metadata": {},
   "outputs": [
    {
     "data": {
      "text/plain": [
       "['1N', '2S', '3W', '4E', '5N', '6S', '7W', '8E', '9N', '10S']"
      ]
     },
     "execution_count": 23,
     "metadata": {},
     "output_type": "execute_result"
    }
   ],
   "source": [
    "# or using list comprehension\n",
    "n = 10\n",
    "iter_cycl = CyclicIterator('NSWE')\n",
    "\n",
    "items = [f'{i}{next(iter_cycl)}' for i in range(1, n+1)]\n",
    "items"
   ]
  },
  {
   "cell_type": "code",
   "execution_count": 24,
   "metadata": {},
   "outputs": [
    {
     "data": {
      "text/plain": [
       "['1N', '2S', '3W', '4E', '5N', '6S', '7W', '8E', '9N', '10S']"
      ]
     },
     "execution_count": 24,
     "metadata": {},
     "output_type": "execute_result"
    }
   ],
   "source": [
    "# or using list comprehension with zip\n",
    "n = 10\n",
    "iter_cycl = CyclicIterator('NSWE')\n",
    "\n",
    "items = [f'{number}{direction}' for number, direction in zip(range(1, n+1), iter_cycl)]\n",
    "items"
   ]
  },
  {
   "cell_type": "code",
   "execution_count": 25,
   "metadata": {},
   "outputs": [
    {
     "data": {
      "text/plain": [
       "['1N', '2S', '3W', '4E', '5N', '6S', '7W', '8E', '9N', '10S']"
      ]
     },
     "execution_count": 25,
     "metadata": {},
     "output_type": "execute_result"
    }
   ],
   "source": [
    "# a little differently\n",
    "n = 10\n",
    "\n",
    "items = [f'{number}{direction}' for number, direction in zip(range(1, n+1), 'NSWE' * (n // 4 + 1))]\n",
    "items"
   ]
  },
  {
   "cell_type": "code",
   "execution_count": 26,
   "metadata": {},
   "outputs": [
    {
     "data": {
      "text/plain": [
       "['1N', '2S', '3W', '4E', '5N', '6S', '7W', '8E', '9N', '10S']"
      ]
     },
     "execution_count": 26,
     "metadata": {},
     "output_type": "execute_result"
    }
   ],
   "source": [
    "# or using itertools.cycle\n",
    "# [details - help(itertools.cycle)]\n",
    "\n",
    "import itertools\n",
    "\n",
    "n = 10\n",
    "iter_cycl = itertools.cycle('NSWE')\n",
    "\n",
    "items = [f'{i}{next(iter_cycl)}' for i in range(1, n+1)]\n",
    "items"
   ]
  },
  {
   "cell_type": "markdown",
   "metadata": {},
   "source": [
    "<br>\n",
    "<br>\n",
    "<h3>Lazy iterables</h3>"
   ]
  },
  {
   "cell_type": "code",
   "execution_count": 27,
   "metadata": {},
   "outputs": [],
   "source": [
    "import math"
   ]
  },
  {
   "cell_type": "code",
   "execution_count": 28,
   "metadata": {},
   "outputs": [],
   "source": [
    "class Circle:\n",
    "    def __init__(self, r):\n",
    "        self.radius = r\n",
    "        self._area = None\n",
    "        \n",
    "    @property\n",
    "    def radius(self):\n",
    "        return self._radius\n",
    "    \n",
    "    @radius.setter\n",
    "    def radius(self, r):\n",
    "        self._radius = r\n",
    "        self._area = None\n",
    "    \n",
    "    @property\n",
    "    def area(self):\n",
    "        if self._area is None:\n",
    "            print('Calculating area...')\n",
    "            self._area = math.pi * (self.radius**2)\n",
    "        return self._area"
   ]
  },
  {
   "cell_type": "code",
   "execution_count": 29,
   "metadata": {},
   "outputs": [
    {
     "name": "stdout",
     "output_type": "stream",
     "text": [
      "Calculating area...\n",
      "3.141592653589793\n"
     ]
    }
   ],
   "source": [
    "c = Circle(1)\n",
    "\n",
    "print(c.area)"
   ]
  },
  {
   "cell_type": "code",
   "execution_count": 30,
   "metadata": {},
   "outputs": [
    {
     "name": "stdout",
     "output_type": "stream",
     "text": [
      "Calculating area...\n",
      "12.566370614359172\n"
     ]
    }
   ],
   "source": [
    "c.radius = 2\n",
    "\n",
    "print(c.area)"
   ]
  },
  {
   "cell_type": "code",
   "execution_count": 31,
   "metadata": {},
   "outputs": [
    {
     "name": "stdout",
     "output_type": "stream",
     "text": [
      "12.566370614359172\n"
     ]
    }
   ],
   "source": [
    "print(c.area)\n",
    "# Since we already calculated the area and didn't change the radius after that, the area is not calculated again."
   ]
  },
  {
   "cell_type": "markdown",
   "metadata": {},
   "source": [
    "<br>\n",
    "<br>\n",
    "<hr>"
   ]
  },
  {
   "cell_type": "code",
   "execution_count": 32,
   "metadata": {},
   "outputs": [],
   "source": [
    "# finite iterable\n",
    "class Factorials:\n",
    "    def __init__(self, length):\n",
    "        self.length = length\n",
    "        \n",
    "    def __iter__(self):\n",
    "        return self.FactIter(self.length)\n",
    "    \n",
    "    class FactIter:\n",
    "        def __init__(self, length):\n",
    "            self.length = length\n",
    "            self.i = 0\n",
    "            \n",
    "        def __iter__(self):\n",
    "            return self\n",
    "        \n",
    "        def __next__(self):\n",
    "            if self.i >= self.length:\n",
    "                raise StopIteration\n",
    "            else:\n",
    "                result = math.factorial(self.i)\n",
    "                self.i += 1\n",
    "                return result"
   ]
  },
  {
   "cell_type": "code",
   "execution_count": 33,
   "metadata": {},
   "outputs": [
    {
     "data": {
      "text/plain": [
       "[1, 1, 2, 6, 24, 120]"
      ]
     },
     "execution_count": 33,
     "metadata": {},
     "output_type": "execute_result"
    }
   ],
   "source": [
    "facts = Factorials(6)\n",
    "\n",
    "list(facts)"
   ]
  },
  {
   "cell_type": "markdown",
   "metadata": {},
   "source": [
    "<br>"
   ]
  },
  {
   "cell_type": "code",
   "execution_count": 34,
   "metadata": {},
   "outputs": [],
   "source": [
    "# infinite iterable\n",
    "class Factorials:\n",
    "    def __iter__(self):\n",
    "        return self.FactIter()\n",
    "    \n",
    "    class FactIter:\n",
    "        def __init__(self):\n",
    "            self.i = 0\n",
    "            \n",
    "        def __iter__(self):\n",
    "            return self\n",
    "        \n",
    "        def __next__(self):\n",
    "            result = math.factorial(self.i)\n",
    "            self.i += 1\n",
    "            return result"
   ]
  },
  {
   "cell_type": "code",
   "execution_count": 35,
   "metadata": {},
   "outputs": [
    {
     "name": "stdout",
     "output_type": "stream",
     "text": [
      "1\n",
      "1\n",
      "2\n",
      "6\n",
      "24\n",
      "120\n"
     ]
    }
   ],
   "source": [
    "facts = Factorials()\n",
    "\n",
    "fact_iter = iter(facts)\n",
    "\n",
    "for _ in range(6):\n",
    "    print(next(fact_iter))"
   ]
  },
  {
   "cell_type": "markdown",
   "metadata": {},
   "source": [
    "<br>\n",
    "<br>\n",
    "<h3>Built-in iterators and iterables</h3>\n",
    "\n",
    "Examination of some built-in functions of Python (<code>range</code>, <code>zip</code>, <code>open</code>, <code>enumerate</code>, <code>dictionary.keys</code>)"
   ]
  },
  {
   "cell_type": "code",
   "execution_count": 36,
   "metadata": {},
   "outputs": [
    {
     "name": "stdout",
     "output_type": "stream",
     "text": [
      "range(0, 10)\n",
      "<class 'range'>\n",
      "True\n",
      "False\n",
      "<range_iterator object at 0x7f64f82fd3f0>\n",
      "<range_iterator object at 0x7f64f82fd3f0>\n",
      "False\n"
     ]
    }
   ],
   "source": [
    "r = range(10)\n",
    "\n",
    "print(r)                     #> range(0, 10) -the object use lazy evaluation\n",
    "print(type(r))               #> <class 'range'>\n",
    "print('__iter__' in dir(r))  #> True\n",
    "print('__next__' in dir(r))  #> False - thus 'range' is not iterator, it is iterable\n",
    "print(iter(r))               #> <range_iterator object at 0x…> - thus we can iterate over the object\n",
    "print(r.__iter__())          #> --/--\n",
    "print(iter(r) == r)          #> False"
   ]
  },
  {
   "cell_type": "code",
   "execution_count": 37,
   "metadata": {},
   "outputs": [
    {
     "name": "stdout",
     "output_type": "stream",
     "text": [
      "<zip object at 0x7f64f82d3f88>\n",
      "<class 'zip'>\n",
      "True\n",
      "True\n",
      "<zip object at 0x7f64f82d3f88>\n",
      "<zip object at 0x7f64f82d3f88>\n",
      "True\n",
      "——\n",
      "[(1, 'a'), (2, 'b'), (3, 'c')]\n",
      "[]\n"
     ]
    }
   ],
   "source": [
    "z = zip([1, 2, 3], 'abc')\n",
    "\n",
    "print(z)                     #> <zip object at 0x7ff2d032c9c8> -the object use lazy evaluation\n",
    "print(type(z))               #> <class 'zip'>\n",
    "print('__iter__' in dir(z))  #> True\n",
    "print('__next__' in dir(z))  #> True - thus 'range' is iterator\n",
    "print(iter(z))               #> <zip object at 0x7ff2d032c9c8> - thus we can iterate over the object\n",
    "print(z.__iter__())          #> --/--\n",
    "print(iter(z) == z)         #> True\n",
    "print('——')\n",
    "\n",
    "print(list(z))               #> [(1, 'a'), (2, 'b'), (3, 'c')]\n",
    "print(list(z))               #> []  - the object was exhausted"
   ]
  },
  {
   "cell_type": "code",
   "execution_count": 38,
   "metadata": {},
   "outputs": [
    {
     "name": "stdout",
     "output_type": "stream",
     "text": [
      "<_io.TextIOWrapper name='working_files/cars.csv' mode='r' encoding='UTF-8'>\n",
      "<class '_io.TextIOWrapper'>\n",
      "True\n",
      "True\n",
      "<_io.TextIOWrapper name='working_files/cars.csv' mode='r' encoding='UTF-8'>\n",
      "<_io.TextIOWrapper name='working_files/cars.csv' mode='r' encoding='UTF-8'>\n",
      "True\n",
      "——\n",
      "Car;MPG;Cylinders;Displacement;Horsepower;Weight;Acceleration;Model;Origin\n",
      "STRING;DOUBLE;INT;DOUBLE;DOUBLE;DOUBLE;DOUBLE;INT;CAT\n",
      "Chevrolet Chevelle Malibu;18.0;8;307.0;130.0;3504.;12.0;70;US\n"
     ]
    }
   ],
   "source": [
    "fh = open('working_files/cars.csv')\n",
    "\n",
    "print(fh)                     #> <_io.TextIOWrapper name='working_files/cars.csv' mode='r' encoding='UTF-8'>\n",
    "print(type(fh))               #> <class '_io.TextIOWrapper'>\n",
    "print('__iter__' in dir(fh))  #> True\n",
    "print('__next__' in dir(fh))  #> True - thus 'open' is iterator\n",
    "print(iter(fh))               #> <_io.TextIOWrapper name='working_files/cars.csv' mode='r' encoding='UTF-8'>\n",
    "print(fh.__iter__())          #> --/--\n",
    "print(iter(fh) == fh)         #> True\n",
    "print('——')\n",
    "\n",
    "print(next(fh), end='')\n",
    "print(fh.__next__(), end='')\n",
    "print(fh.readline(), end='')\n",
    "\n",
    "fh.close()"
   ]
  },
  {
   "cell_type": "code",
   "execution_count": 39,
   "metadata": {},
   "outputs": [
    {
     "name": "stdout",
     "output_type": "stream",
     "text": [
      "<enumerate object at 0x7f64f82f7d38>\n",
      "<class 'enumerate'>\n",
      "True\n",
      "True\n",
      "<enumerate object at 0x7f64f82f7d38>\n",
      "<enumerate object at 0x7f64f82f7d38>\n",
      "True\n",
      "——\n",
      "[(0, 'P'), (1, 'y'), (2, 't'), (3, 'h'), (4, 'o'), (5, 'n'), (6, ' '), (7, 'r'), (8, 'o'), (9, 'c'), (10, 'k'), (11, 's'), (12, '!')]\n",
      "[]\n"
     ]
    }
   ],
   "source": [
    "e = enumerate('Python rocks!')\n",
    "\n",
    "print(e)                     #> <enumerate object at 0x7ff2d0300d80> -the object use lazy evaluation\n",
    "print(type(e))               #> <class 'enumerate'>\n",
    "print('__iter__' in dir(e))  #> True\n",
    "print('__next__' in dir(e))  #> True - thus 'enumerate' is iterator\n",
    "print(iter(e))               #> <zip object at 0x7ff2d0300d80> - thus we can iterate over the object\n",
    "print(e.__iter__())          #> --/--\n",
    "print(iter(e) == e)          #> True\n",
    "print('——')\n",
    "\n",
    "print(list(e))               #> [(0, 'P'), (1, 'y'), (2, 't'), …]\n",
    "print(list(e))               #> []  - the object was exhausted"
   ]
  },
  {
   "cell_type": "code",
   "execution_count": 40,
   "metadata": {},
   "outputs": [
    {
     "name": "stdout",
     "output_type": "stream",
     "text": [
      "False\n",
      "True\n",
      "False\n"
     ]
    }
   ],
   "source": [
    "d = {'a': 1, 'b': 2}\n",
    "keys = d.keys()\n",
    "print(iter(keys) is keys)       #> False  - dictionary.keys() is iterable\n",
    "print('__iter__' in dir(keys))  #> True\n",
    "print('__next__' in dir(keys))  #> False"
   ]
  },
  {
   "cell_type": "code",
   "execution_count": 41,
   "metadata": {},
   "outputs": [],
   "source": [
    "# The same with dictionaty.items and dictionary.values"
   ]
  },
  {
   "cell_type": "markdown",
   "metadata": {},
   "source": [
    "<br>\n",
    "<br>\n",
    "<h3>Sorting iterables</h3>"
   ]
  },
  {
   "cell_type": "code",
   "execution_count": 42,
   "metadata": {},
   "outputs": [],
   "source": [
    "import random"
   ]
  },
  {
   "cell_type": "code",
   "execution_count": 43,
   "metadata": {},
   "outputs": [],
   "source": [
    "class RandomInts:\n",
    "    def __init__(self, length, *, seed=0, lower=0, upper=10):\n",
    "        self.length = length\n",
    "        self.seed = seed\n",
    "        self.lower = lower\n",
    "        self.upper = upper\n",
    "        \n",
    "    def __len__(self):\n",
    "        return self.length\n",
    "    \n",
    "    def __iter__(self):\n",
    "        return self.RandomIterator(self.length,\n",
    "                                   seed = self.seed,\n",
    "                                   lower = self.lower,\n",
    "                                   upper = self.upper)\n",
    "    \n",
    "    class RandomIterator:\n",
    "        def __init__(self, length, *, seed, lower, upper):\n",
    "            self.length = length\n",
    "            self.lower = lower\n",
    "            self.upper = upper\n",
    "            self.num_requests = 0\n",
    "            random.seed(seed)\n",
    "            \n",
    "        def __iter__(self):\n",
    "            return self\n",
    "        \n",
    "        def __next__(self):\n",
    "            if self.num_requests >= self.length:\n",
    "                raise StopIteration\n",
    "            else:\n",
    "                result = random.randint(self.lower, self.upper)\n",
    "                self.num_requests += 1\n",
    "                return result"
   ]
  },
  {
   "cell_type": "code",
   "execution_count": 44,
   "metadata": {},
   "outputs": [
    {
     "name": "stdout",
     "output_type": "stream",
     "text": [
      "6 6 0 4 8 7 6 4 7 5 \n",
      "6 6 0 4 8 7 6 4 7 5 "
     ]
    }
   ],
   "source": [
    "randoms = RandomInts(10)\n",
    "\n",
    "for num in randoms:\n",
    "    print(num, end=' ')\n",
    "print()\n",
    "\n",
    "for num in randoms:\n",
    "    print(num, end=' ')"
   ]
  },
  {
   "cell_type": "code",
   "execution_count": 45,
   "metadata": {},
   "outputs": [
    {
     "name": "stdout",
     "output_type": "stream",
     "text": [
      "6 6 2 4 4 2 10 9 0 3 \n",
      "10 9 5 1 10 8 3 4 5 0 "
     ]
    }
   ],
   "source": [
    "randoms = RandomInts(10, seed=None)\n",
    "\n",
    "for num in randoms:\n",
    "    print(num, end=' ')\n",
    "print()\n",
    "\n",
    "for num in randoms:\n",
    "    print(num, end=' ')"
   ]
  },
  {
   "cell_type": "code",
   "execution_count": 46,
   "metadata": {},
   "outputs": [
    {
     "name": "stdout",
     "output_type": "stream",
     "text": [
      "[6, 6, 0, 4, 8, 7, 6, 4, 7, 5]\n",
      "[0, 4, 4, 5, 6, 6, 6, 7, 7, 8]\n",
      "[8, 7, 7, 6, 6, 6, 5, 4, 4, 0]\n"
     ]
    }
   ],
   "source": [
    "randoms = RandomInts(10)\n",
    "\n",
    "print(list(randoms))\n",
    "\n",
    "print(sorted(randoms))\n",
    "\n",
    "print(sorted(randoms, reverse=True))"
   ]
  },
  {
   "cell_type": "markdown",
   "metadata": {},
   "source": [
    "<br>"
   ]
  },
  {
   "cell_type": "markdown",
   "metadata": {},
   "source": [
    "<br>\n",
    "<br>\n",
    "<h3>Detection whether the object is iterable</h3>"
   ]
  },
  {
   "cell_type": "code",
   "execution_count": 47,
   "metadata": {},
   "outputs": [],
   "source": [
    "obj1 = 50\n",
    "obj2 = [10, 20, 30]"
   ]
  },
  {
   "cell_type": "code",
   "execution_count": 48,
   "metadata": {},
   "outputs": [
    {
     "name": "stdout",
     "output_type": "stream",
     "text": [
      "False\n",
      "True\n"
     ]
    }
   ],
   "source": [
    "def is_iterable(obj):\n",
    "    try:\n",
    "        iter(obj)\n",
    "        return True\n",
    "    except TypeError:\n",
    "        return False\n",
    "    \n",
    "print(is_iterable(obj1))\n",
    "print(is_iterable(obj2))"
   ]
  },
  {
   "cell_type": "code",
   "execution_count": 49,
   "metadata": {},
   "outputs": [
    {
     "name": "stdout",
     "output_type": "stream",
     "text": [
      "Object '50' is not iterable\n",
      "10 20 30 "
     ]
    }
   ],
   "source": [
    "# alternative approach\n",
    "def explore_obj(obj):\n",
    "    try:\n",
    "        for i in obj:\n",
    "            print(i, end=\" \")        \n",
    "    except TypeError:\n",
    "        print(f\"Object '{obj}' is not iterable\")\n",
    "    \n",
    "explore_obj(obj1)\n",
    "explore_obj(obj2)"
   ]
  },
  {
   "cell_type": "markdown",
   "metadata": {},
   "source": [
    "<br>\n",
    "<br>\n",
    "<h3>Iterating callables</h3>\n",
    "Skipped. I consider that this topic is unpractical and simultaneously too complicated to keep summary."
   ]
  },
  {
   "cell_type": "markdown",
   "metadata": {},
   "source": [
    "<br>\n",
    "<br>\n",
    "<h3>Delegating iterators</h3>"
   ]
  },
  {
   "cell_type": "code",
   "execution_count": 50,
   "metadata": {},
   "outputs": [],
   "source": [
    "from collections import namedtuple\n",
    "\n",
    "Person = namedtuple('Person', 'first, last')"
   ]
  },
  {
   "cell_type": "code",
   "execution_count": 51,
   "metadata": {},
   "outputs": [],
   "source": [
    "class PersonNames:\n",
    "    def __init__(self, persons):\n",
    "        try:\n",
    "            self._persons = [person.first.capitalize() + ' ' + person.last.capitalize()\n",
    "                             for person in persons]\n",
    "        except (TypeError, AttributeError):\n",
    "            self._persons = []\n",
    "            \n",
    "    def __iter__(self):\n",
    "        return iter(self._persons)  # we delegate the responsibility for iteration to the list itself"
   ]
  },
  {
   "cell_type": "code",
   "execution_count": 52,
   "metadata": {},
   "outputs": [
    {
     "name": "stdout",
     "output_type": "stream",
     "text": [
      "Rene Descartes\n",
      "Robert Hooke\n",
      "Isaac Newton\n"
     ]
    }
   ],
   "source": [
    "persons = [Person('reNe', 'DESCarteS'),\n",
    "           Person('robert', 'HOOKE'),\n",
    "           Person('isAAc', 'newTON')]\n",
    "\n",
    "person_names = PersonNames(persons)\n",
    "\n",
    "for name in person_names:  # now it works\n",
    "    print(name)"
   ]
  },
  {
   "cell_type": "markdown",
   "metadata": {},
   "source": [
    "<br>\n",
    "<br>\n",
    "<h3>Reversed iteration</h3>"
   ]
  },
  {
   "cell_type": "code",
   "execution_count": 53,
   "metadata": {},
   "outputs": [],
   "source": [
    "_SUITS = ('Spades', 'Hearts', 'Diamonds', 'Clubs')\n",
    "_RANKS = tuple(range(2, 11)) + tuple('JQKA')        # (2, 3, 4, 5, 6, 7, 8, 9, 10, 'J', 'Q', 'K', 'A')"
   ]
  },
  {
   "cell_type": "code",
   "execution_count": 54,
   "metadata": {},
   "outputs": [],
   "source": [
    "from collections import namedtuple\n",
    "\n",
    "Card = namedtuple('Card', 'rank, suit')"
   ]
  },
  {
   "cell_type": "code",
   "execution_count": 55,
   "metadata": {},
   "outputs": [],
   "source": [
    "class CardDeck:\n",
    "    def __init__(self):\n",
    "        self.length = len(_SUITS) * len(_RANKS)\n",
    "        \n",
    "    def __len__(self):\n",
    "        return self.length\n",
    "    \n",
    "    def __iter__(self):\n",
    "        return self.CardDeckIterator(self.length)\n",
    "    \n",
    "    def __reversed__(self):                                     # reversed method     \n",
    "        return self.CardDeckIterator(self.length, reverse=True)\n",
    "    \n",
    "    class CardDeckIterator:\n",
    "        def __init__(self, length, reverse=False):\n",
    "            self.length = length\n",
    "            self.reverse = reverse\n",
    "            self.i = 0\n",
    "            \n",
    "        def __iter__(self):\n",
    "            return self\n",
    "        \n",
    "        def __next__(self):\n",
    "            if self.i >= self.length:\n",
    "                raise StopIteration\n",
    "            else:\n",
    "                if self.reverse:\n",
    "                    index = self.length - 1 - self.i\n",
    "                else:\n",
    "                    index = self.i\n",
    "                \n",
    "                suit = _SUITS[index // len(_RANKS)]\n",
    "                rank = _RANKS[index %  len(_RANKS)]\n",
    "                self.i += 1\n",
    "                return Card(rank, suit)"
   ]
  },
  {
   "cell_type": "code",
   "execution_count": 56,
   "metadata": {
    "scrolled": true
   },
   "outputs": [
    {
     "name": "stdout",
     "output_type": "stream",
     "text": [
      "Card(rank='A', suit='Clubs')\n",
      "Card(rank='K', suit='Clubs')\n",
      "Card(rank='Q', suit='Clubs')\n",
      "Card(rank='J', suit='Clubs')\n",
      "Card(rank=10, suit='Clubs')\n",
      "Card(rank=9, suit='Clubs')\n",
      "Card(rank=8, suit='Clubs')\n",
      "Card(rank=7, suit='Clubs')\n",
      "Card(rank=6, suit='Clubs')\n",
      "Card(rank=5, suit='Clubs')\n",
      "Card(rank=4, suit='Clubs')\n",
      "Card(rank=3, suit='Clubs')\n",
      "Card(rank=2, suit='Clubs')\n",
      "Card(rank='A', suit='Diamonds')\n",
      "Card(rank='K', suit='Diamonds')\n",
      "Card(rank='Q', suit='Diamonds')\n",
      "Card(rank='J', suit='Diamonds')\n",
      "Card(rank=10, suit='Diamonds')\n",
      "Card(rank=9, suit='Diamonds')\n",
      "Card(rank=8, suit='Diamonds')\n",
      "Card(rank=7, suit='Diamonds')\n",
      "Card(rank=6, suit='Diamonds')\n",
      "Card(rank=5, suit='Diamonds')\n",
      "Card(rank=4, suit='Diamonds')\n",
      "Card(rank=3, suit='Diamonds')\n",
      "Card(rank=2, suit='Diamonds')\n",
      "Card(rank='A', suit='Hearts')\n",
      "Card(rank='K', suit='Hearts')\n",
      "Card(rank='Q', suit='Hearts')\n",
      "Card(rank='J', suit='Hearts')\n",
      "Card(rank=10, suit='Hearts')\n",
      "Card(rank=9, suit='Hearts')\n",
      "Card(rank=8, suit='Hearts')\n",
      "Card(rank=7, suit='Hearts')\n",
      "Card(rank=6, suit='Hearts')\n",
      "Card(rank=5, suit='Hearts')\n",
      "Card(rank=4, suit='Hearts')\n",
      "Card(rank=3, suit='Hearts')\n",
      "Card(rank=2, suit='Hearts')\n",
      "Card(rank='A', suit='Spades')\n",
      "Card(rank='K', suit='Spades')\n",
      "Card(rank='Q', suit='Spades')\n",
      "Card(rank='J', suit='Spades')\n",
      "Card(rank=10, suit='Spades')\n",
      "Card(rank=9, suit='Spades')\n",
      "Card(rank=8, suit='Spades')\n",
      "Card(rank=7, suit='Spades')\n",
      "Card(rank=6, suit='Spades')\n",
      "Card(rank=5, suit='Spades')\n",
      "Card(rank=4, suit='Spades')\n",
      "Card(rank=3, suit='Spades')\n",
      "Card(rank=2, suit='Spades')\n"
     ]
    }
   ],
   "source": [
    "deck = reversed(CardDeck())\n",
    "\n",
    "for card in deck:\n",
    "    print(card)"
   ]
  },
  {
   "cell_type": "markdown",
   "metadata": {},
   "source": [
    "<br>\n",
    "<h4>Reversed iteration</h4>"
   ]
  },
  {
   "cell_type": "code",
   "execution_count": 57,
   "metadata": {},
   "outputs": [],
   "source": [
    "class Squares:\n",
    "    def __init__(self, length):\n",
    "        self.squares = [i **2 for i in range(length)]\n",
    "        \n",
    "    def __len__(self):\n",
    "        return len(self.squares)\n",
    "    \n",
    "    def __getitem__(self, s):\n",
    "        return self.squares[s]"
   ]
  },
  {
   "cell_type": "code",
   "execution_count": 58,
   "metadata": {},
   "outputs": [
    {
     "name": "stdout",
     "output_type": "stream",
     "text": [
      "16\n",
      "9\n",
      "4\n",
      "1\n",
      "0\n"
     ]
    }
   ],
   "source": [
    "# If sequence implements __len__ and __getitem__ then Python can implement 'reversed' itself\n",
    "for num in reversed(Squares(5)):\n",
    "    print(num)"
   ]
  },
  {
   "cell_type": "code",
   "execution_count": 59,
   "metadata": {},
   "outputs": [],
   "source": [
    "# but we also can implement __reversed__ manually"
   ]
  },
  {
   "cell_type": "markdown",
   "metadata": {},
   "source": [
    "<br>\n",
    "<br>\n",
    "<h3>Using iterators as function arguments</h3>"
   ]
  },
  {
   "cell_type": "code",
   "execution_count": 60,
   "metadata": {},
   "outputs": [],
   "source": [
    "import random"
   ]
  },
  {
   "cell_type": "code",
   "execution_count": 61,
   "metadata": {},
   "outputs": [],
   "source": [
    "class Randoms:\n",
    "    def __init__(self, n):\n",
    "        self.n = n\n",
    "        self.i = 0\n",
    "        \n",
    "    def __iter__(self):\n",
    "        return self\n",
    "    \n",
    "    def __next__(self):\n",
    "        if self.i >= self.n:\n",
    "            raise StopIteration\n",
    "        else:\n",
    "            self.i += 1\n",
    "            return random.randint(0, 100)"
   ]
  },
  {
   "cell_type": "code",
   "execution_count": 62,
   "metadata": {},
   "outputs": [
    {
     "name": "stdout",
     "output_type": "stream",
     "text": [
      "<__main__.Randoms object at 0x7f64f82bb0b8>\n",
      "5\n"
     ]
    }
   ],
   "source": [
    "random.seed(0)\n",
    "rs = Randoms(10)\n",
    "print(rs)\n",
    "print(min(rs))\n",
    "# print(max(rs))   # ValueError: max() arg is an empty sequence"
   ]
  },
  {
   "cell_type": "code",
   "execution_count": null,
   "metadata": {},
   "outputs": [],
   "source": []
  }
 ],
 "metadata": {
  "kernelspec": {
   "display_name": "Python 3",
   "language": "python",
   "name": "python3"
  },
  "language_info": {
   "codemirror_mode": {
    "name": "ipython",
    "version": 3
   },
   "file_extension": ".py",
   "mimetype": "text/x-python",
   "name": "python",
   "nbconvert_exporter": "python",
   "pygments_lexer": "ipython3",
   "version": "3.7.3"
  }
 },
 "nbformat": 4,
 "nbformat_minor": 4
}
