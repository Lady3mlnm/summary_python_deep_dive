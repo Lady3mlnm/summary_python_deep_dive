{
 "cells": [
  {
   "cell_type": "markdown",
   "metadata": {},
   "source": [
    "for the course \"<a target=\"_blank\" href=\"https://www.udemy.com/course/python-3-deep-dive-part-1/\">Python 3: Deep Drive (part 1 - Functional)</a>\",<br>\n",
    "section 5: \"Function Parameters\""
   ]
  },
  {
   "cell_type": "code",
   "execution_count": 1,
   "metadata": {
    "scrolled": true
   },
   "outputs": [
    {
     "name": "stdout",
     "output_type": "stream",
     "text": [
      "0x7f0c304e8510 0x7f0c3578d228\n",
      "\n",
      "0x7f0c304e8510 0x7f0c3578d228\n",
      "  now local variable is changed to 1020\n",
      "  now local variable is changed to abcdef\n",
      "0x7f0c304e8610 0x7f0c304aff10\n",
      "\n",
      "0x7f0c304e8510 0x7f0c3578d228\n",
      "  global variable x = 510\n",
      "  global variable y = abc\n"
     ]
    }
   ],
   "source": [
    "# Arguments are passed by reference (memory addresses are passed).\n",
    "# But if we change values of simple variables than they become to point to a new object,\n",
    "# so global variables don't change\n",
    "\n",
    "def my_f(a, b):  # parameters\n",
    "    print(hex(id(a)), hex(id(b)))\n",
    "    a *= 2\n",
    "    b += 'def'\n",
    "    print('  now local variable is changed to', a)\n",
    "    print('  now local variable is changed to', b)\n",
    "    print(hex(id(a)), hex(id(b)))\n",
    "    \n",
    "x = 510\n",
    "y = 'abc'\n",
    "\n",
    "print(hex(id(x)), hex(id(y)))\n",
    "print()\n",
    "\n",
    "my_f(x, y)\n",
    "\n",
    "print()\n",
    "print(hex(id(x)), hex(id(y)))\n",
    "\n",
    "print('  global variable x =', x)\n",
    "print('  global variable y =', y)"
   ]
  },
  {
   "cell_type": "code",
   "execution_count": 2,
   "metadata": {
    "scrolled": true
   },
   "outputs": [
    {
     "name": "stdout",
     "output_type": "stream",
     "text": [
      "0x7f0c304e8090\n",
      "0x7f0c304e85b0\n"
     ]
    }
   ],
   "source": [
    "# test the same feature in only global scope\n",
    "x = 300\n",
    "print(hex(id(x)))\n",
    "\n",
    "x += 1\n",
    "print(hex(id(x)))"
   ]
  },
  {
   "cell_type": "markdown",
   "metadata": {},
   "source": [
    "<br> \n",
    "<br> \n",
    "<hr> \n",
    "<h3>unpacking</h3>"
   ]
  },
  {
   "cell_type": "code",
   "execution_count": 3,
   "metadata": {},
   "outputs": [
    {
     "name": "stdout",
     "output_type": "stream",
     "text": [
      "[10, 20, 30, 30, 40] <class 'list'>\n",
      "(10, 20, 30, 30, 40) <class 'tuple'>\n"
     ]
    }
   ],
   "source": [
    "# union of lists by way of unpacking\n",
    "ls1 = [10, 20, 30]\n",
    "ls2 = [30, 40]\n",
    "ls3 = [*ls1, *ls2]\n",
    "print(ls3, type(ls3))\n",
    "\n",
    "tp = (*ls1, *ls2)\n",
    "print(tp, type(tp))"
   ]
  },
  {
   "cell_type": "code",
   "execution_count": 4,
   "metadata": {},
   "outputs": [
    {
     "name": "stdout",
     "output_type": "stream",
     "text": [
      "{'c', 'b', 'd', 'a'} <class 'set'>\n",
      "{'a': 10, 'b': 20, 'c': 35, 'd': 45} <class 'dict'>\n"
     ]
    }
   ],
   "source": [
    "# union of dictionaries by way of unpacking\n",
    "dd1 = {'a': 10, 'b': 20, 'c': 30}\n",
    "dd2 = {'c': 35, 'd': 45}\n",
    "x = {*dd1, *dd2}\n",
    "print(x, type(x))\n",
    "\n",
    "y = {**dd1, **dd2}\n",
    "print(y, type(y))"
   ]
  },
  {
   "cell_type": "markdown",
   "metadata": {},
   "source": [
    "<br>"
   ]
  },
  {
   "cell_type": "code",
   "execution_count": 5,
   "metadata": {},
   "outputs": [
    {
     "name": "stdout",
     "output_type": "stream",
     "text": [
      "['P', 'y', 't', 'h', 'o', 'n']\n"
     ]
    }
   ],
   "source": [
    "# so we have interesting way of conversion string to a list of characters\n",
    "st = 'Python'\n",
    "*ls, = st\n",
    "print(ls)"
   ]
  },
  {
   "cell_type": "code",
   "execution_count": 6,
   "metadata": {},
   "outputs": [
    {
     "name": "stdout",
     "output_type": "stream",
     "text": [
      "1 [2, 3] P ['y', 't', 'h', 'o', 'n']\n"
     ]
    }
   ],
   "source": [
    "# more complicated examples\n",
    "a, *b, (c, *d) = [1, 2, 3, 'Python']\n",
    "print(a, b, c, d)"
   ]
  },
  {
   "cell_type": "markdown",
   "metadata": {},
   "source": [
    "<br>"
   ]
  },
  {
   "cell_type": "code",
   "execution_count": 7,
   "metadata": {},
   "outputs": [
    {
     "data": {
      "text/plain": [
       "(40, [10, 20, 30])"
      ]
     },
     "execution_count": 7,
     "metadata": {},
     "output_type": "execute_result"
    }
   ],
   "source": [
    "# packing\n",
    "s = {10, 20, 30, 40}\n",
    "a, *b = s\n",
    "a, b"
   ]
  },
  {
   "cell_type": "markdown",
   "metadata": {},
   "source": [
    "<br> \n",
    "<br> \n",
    "<hr> \n",
    "<h3>Passing arguments</h3>"
   ]
  },
  {
   "cell_type": "code",
   "execution_count": 8,
   "metadata": {
    "scrolled": false
   },
   "outputs": [
    {
     "name": "stdout",
     "output_type": "stream",
     "text": [
      "10\n",
      "20\n",
      "() <class 'tuple'>\n",
      "\n",
      "\n",
      "10\n",
      "20\n",
      "(30,) <class 'tuple'>\n",
      "30\n",
      "\n",
      "10\n",
      "20\n",
      "(30, 40) <class 'tuple'>\n",
      "30 40\n",
      "\n"
     ]
    }
   ],
   "source": [
    "# passing mandatory and additional arguments → parameters\n",
    "def f1(a, b, *args):\n",
    "    print(a)\n",
    "    print(b)\n",
    "    print(args, type(args))\n",
    "    print(*args)\n",
    "    print()\n",
    "\n",
    "f1(10, 20)\n",
    "f1(10, 20, 30)\n",
    "f1(10, 20, 30, 40)"
   ]
  },
  {
   "cell_type": "code",
   "execution_count": 9,
   "metadata": {},
   "outputs": [
    {
     "name": "stdout",
     "output_type": "stream",
     "text": [
      "10\n",
      "20\n",
      "30\n",
      "\n"
     ]
    }
   ],
   "source": [
    "# passing arguments via unpacking\n",
    "def f2(a, b, c):\n",
    "    print(a)\n",
    "    print(b)\n",
    "    print(c)\n",
    "    print()\n",
    "\n",
    "ls = [10, 20, 30]\n",
    "f2(*ls)"
   ]
  },
  {
   "cell_type": "code",
   "execution_count": 10,
   "metadata": {},
   "outputs": [
    {
     "name": "stdout",
     "output_type": "stream",
     "text": [
      "10\n",
      "20\n",
      "(30, 40, 50) <class 'tuple'>\n",
      "30 40 50\n",
      "14\n",
      "\n"
     ]
    }
   ],
   "source": [
    "# passing positional mandatory, positional additional, and keyword optional arguments\n",
    "def f3(a, b, *args, d=14):\n",
    "    print(a)\n",
    "    print(b)\n",
    "    print(args, type(args))\n",
    "    print(*args)\n",
    "    print(d)\n",
    "    print()\n",
    "\n",
    "f3(10, 20, 30, 40, 50)"
   ]
  },
  {
   "cell_type": "markdown",
   "metadata": {},
   "source": [
    "<br>"
   ]
  },
  {
   "cell_type": "code",
   "execution_count": 11,
   "metadata": {
    "scrolled": true
   },
   "outputs": [
    {
     "name": "stdout",
     "output_type": "stream",
     "text": [
      "15.0\n",
      "()\n"
     ]
    }
   ],
   "source": [
    "# example of using: finding average of several numbers\n",
    "def average(*param):\n",
    "    return param and sum(param)/len(param)\n",
    "\n",
    "print(average(10, 20))\n",
    "print(average())"
   ]
  },
  {
   "cell_type": "code",
   "execution_count": 12,
   "metadata": {},
   "outputs": [
    {
     "name": "stdout",
     "output_type": "stream",
     "text": [
      "{'a': 10, 'b': 20, 'c': 30}\n"
     ]
    }
   ],
   "source": [
    "# example of using: printing received keyword additional arguments\n",
    "def f1(**kwargs):\n",
    "    print(kwargs)\n",
    "\n",
    "f1 (a=10, b=20, c=30)"
   ]
  },
  {
   "cell_type": "code",
   "execution_count": 13,
   "metadata": {},
   "outputs": [
    {
     "name": "stdout",
     "output_type": "stream",
     "text": [
      "(4, 5) {'a': 10, 'b': 20, 'c': 30}\n"
     ]
    }
   ],
   "source": [
    "# extending of previous example: printing received positional additional and keyword additional arguments\n",
    "def f2(*args, **kwargs):\n",
    "    print(args, kwargs)\n",
    "\n",
    "f2 (4, 5, a=10, b=20, c=30)"
   ]
  },
  {
   "cell_type": "markdown",
   "metadata": {},
   "source": [
    "<br> \n",
    "<br> \n",
    "<hr> \n",
    "<h3>Examples</h3>\n",
    "<br>\n",
    "1) A simple function timer that calls a function repeatedly and calculate average time"
   ]
  },
  {
   "cell_type": "code",
   "execution_count": 14,
   "metadata": {},
   "outputs": [
    {
     "name": "stdout",
     "output_type": "stream",
     "text": [
      "1 - 2 - 3___\n",
      "1 - 2 - 3___\n",
      "1 - 2 - 3___\n",
      "0.00012029666656114084\n"
     ]
    }
   ],
   "source": [
    "from time import perf_counter\n",
    "\n",
    "def time_it(fn, *args, rep=1, **kwargs):\n",
    "    start = perf_counter()\n",
    "    for i in range(rep):\n",
    "        fn(*args, **kwargs)\n",
    "    end = perf_counter()\n",
    "    return (end-start) / rep\n",
    "\n",
    "print(time_it(print, 1, 2, 3, sep=' - ', end='__\\n', rep=3))"
   ]
  },
  {
   "cell_type": "markdown",
   "metadata": {},
   "source": [
    " "
   ]
  },
  {
   "cell_type": "code",
   "execution_count": 15,
   "metadata": {},
   "outputs": [
    {
     "data": {
      "text/plain": [
       "[2, 4, 8, 16]"
      ]
     },
     "execution_count": 15,
     "metadata": {},
     "output_type": "execute_result"
    }
   ],
   "source": [
    "# For purpose of testing let's give it several versions of function for creation a list with powers of given number\n",
    "\n",
    "# using a for loop\n",
    "def compute_powers_v1(n, *, start=1, end):\n",
    "    results = []\n",
    "    for i in range(start, end):\n",
    "        results.append(n**i)\n",
    "    return results\n",
    "\n",
    "compute_powers_v1(2, end=5)"
   ]
  },
  {
   "cell_type": "code",
   "execution_count": 16,
   "metadata": {},
   "outputs": [
    {
     "data": {
      "text/plain": [
       "[2, 4, 8, 16]"
      ]
     },
     "execution_count": 16,
     "metadata": {},
     "output_type": "execute_result"
    }
   ],
   "source": [
    "# using a list comprehension\n",
    "def compute_powers_v2(n, *, start=1, end):\n",
    "    return [n**i for i in range(start, end)]\n",
    "\n",
    "compute_powers_v2(2, end=5)"
   ]
  },
  {
   "cell_type": "code",
   "execution_count": 17,
   "metadata": {},
   "outputs": [
    {
     "data": {
      "text/plain": [
       "[2, 4, 8, 16]"
      ]
     },
     "execution_count": 17,
     "metadata": {},
     "output_type": "execute_result"
    }
   ],
   "source": [
    "# using generators expression\n",
    "def compute_powers_v3(n, *, start=1, end):\n",
    "    return list((n**i for i in range(start, end)))\n",
    "\n",
    "compute_powers_v3(2, end=5)\n",
    "\n",
    "\n",
    "# More correct approach of generator usage\n",
    "# (but in this case our function 'time_it' will measure just time of generator creation)\n",
    "# def compute_powers_v4(n, *, start=1, end):\n",
    "#     return (n**i for i in range(start, end))\n",
    "#\n",
    "# list(compute_powers_v4(2, end=5))"
   ]
  },
  {
   "cell_type": "markdown",
   "metadata": {},
   "source": [
    " "
   ]
  },
  {
   "cell_type": "code",
   "execution_count": 18,
   "metadata": {},
   "outputs": [
    {
     "name": "stdout",
     "output_type": "stream",
     "text": [
      "0.3151316670000597\n",
      "0.31217540259995075\n",
      "0.3122552836000068\n"
     ]
    }
   ],
   "source": [
    "# Now measure their performance\n",
    "\n",
    "print(time_it(compute_powers_v1, 2, end=20_000, rep=5))\n",
    "print(time_it(compute_powers_v2, 2, end=20_000, rep=5))\n",
    "print(time_it(compute_powers_v3, 2, end=20_000, rep=5))"
   ]
  },
  {
   "cell_type": "markdown",
   "metadata": {},
   "source": [
    "<br>\n",
    "<br>\n",
    "2) Factorial with cashe"
   ]
  },
  {
   "cell_type": "code",
   "execution_count": 19,
   "metadata": {},
   "outputs": [
    {
     "name": "stdout",
     "output_type": "stream",
     "text": [
      "calculating 3!\n",
      "calculating 2!\n",
      "calculating 1!\n"
     ]
    },
    {
     "data": {
      "text/plain": [
       "6"
      ]
     },
     "execution_count": 19,
     "metadata": {},
     "output_type": "execute_result"
    }
   ],
   "source": [
    "def factorial(n, cashe={}):\n",
    "    if n < 1:\n",
    "        return 1\n",
    "    elif n in cashe:\n",
    "        return cashe[n]\n",
    "    else:\n",
    "        print(f'calculating {n}!')\n",
    "        result = n * factorial(n-1)\n",
    "        cashe[n] = result\n",
    "        return result\n",
    "    \n",
    "factorial(3)"
   ]
  },
  {
   "cell_type": "code",
   "execution_count": 20,
   "metadata": {},
   "outputs": [
    {
     "data": {
      "text/plain": [
       "6"
      ]
     },
     "execution_count": 20,
     "metadata": {},
     "output_type": "execute_result"
    }
   ],
   "source": [
    "factorial(3)"
   ]
  },
  {
   "cell_type": "code",
   "execution_count": 21,
   "metadata": {},
   "outputs": [
    {
     "name": "stdout",
     "output_type": "stream",
     "text": [
      "({1: 1, 2: 2, 3: 6},)\n"
     ]
    }
   ],
   "source": [
    "print(factorial.__defaults__)"
   ]
  }
 ],
 "metadata": {
  "kernelspec": {
   "display_name": "Python 3",
   "language": "python",
   "name": "python3"
  },
  "language_info": {
   "codemirror_mode": {
    "name": "ipython",
    "version": 3
   },
   "file_extension": ".py",
   "mimetype": "text/x-python",
   "name": "python",
   "nbconvert_exporter": "python",
   "pygments_lexer": "ipython3",
   "version": "3.7.3"
  }
 },
 "nbformat": 4,
 "nbformat_minor": 2
}
