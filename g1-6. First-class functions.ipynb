{
 "cells": [
  {
   "cell_type": "markdown",
   "metadata": {},
   "source": [
    "for the course \"<a target=\"_blank\" href=\"https://www.udemy.com/course/python-3-deep-dive-part-1/\">Python 3: Deep Drive (part 1 - Functional)</a>\",<br>\n",
    "section 6: \"First-Class Functions\",<br>\n",
    "(Q&A for <a target=\"_blank\" href=\"https://www.udemy.com/course/python-3-deep-dive-part-1/learn/lecture/9376820#questions/8403438\">lecture 95</a>)"
   ]
  },
  {
   "cell_type": "markdown",
   "metadata": {},
   "source": [
    "<h4>General structure of usage</h4>"
   ]
  },
  {
   "cell_type": "code",
   "execution_count": 1,
   "metadata": {},
   "outputs": [
    {
     "name": "stdout",
     "output_type": "stream",
     "text": [
      "6\n",
      "ABC\n"
     ]
    }
   ],
   "source": [
    "# Function that receives a function, its argument and launches the function with this argument\n",
    "def apply_func(fn: 'function',\n",
    "               x : 'any single argument'):\n",
    "    return fn(x)\n",
    "\n",
    "print(apply_func(lambda x: x*2, 3))              #> 6\n",
    "print(apply_func(lambda st: st.upper(), 'abc'))  #> ABC"
   ]
  },
  {
   "cell_type": "code",
   "execution_count": 2,
   "metadata": {},
   "outputs": [
    {
     "name": "stdout",
     "output_type": "stream",
     "text": [
      "args  : (1, 2, 3)\n",
      "kwargs: {'x4': 10, 'x5': 20}\n"
     ]
    }
   ],
   "source": [
    "# Complication of the previous example\n",
    "def apply_func(fn,\n",
    "               *args   : 'any number of positional arguments',\n",
    "               **kwargs: 'any number of keyword arguments'):\n",
    "    return fn(*args, **kwargs)\n",
    "\n",
    "def fn1(*args, **kwargs):\n",
    "    print('args  :', args)           # show received positional arguments\n",
    "    print('kwargs:', kwargs)         # show received keyword arguments\n",
    "\n",
    "apply_func(fn1, 1, 2, 3, x4=10, x5=20)"
   ]
  },
  {
   "cell_type": "markdown",
   "metadata": {},
   "source": [
    "<br>\n",
    "<br>\n",
    "<h4>Sorting</h4>"
   ]
  },
  {
   "cell_type": "code",
   "execution_count": 3,
   "metadata": {},
   "outputs": [
    {
     "name": "stdout",
     "output_type": "stream",
     "text": [
      "['a', 'B', 'c', 'D']\n"
     ]
    }
   ],
   "source": [
    "# Sorting a list of characters case-insensitive\n",
    "ls = ['c', 'B', 'D', 'a']\n",
    "\n",
    "sorted_ls = sorted(ls, key = str.upper)\n",
    "\n",
    "print(sorted_ls)"
   ]
  },
  {
   "cell_type": "code",
   "execution_count": 4,
   "metadata": {},
   "outputs": [
    {
     "name": "stdout",
     "output_type": "stream",
     "text": [
      "['ghi', 'abc', 'def']\n"
     ]
    }
   ],
   "source": [
    "# Sorting a dictionary based on values\n",
    "dict = {'def':300, 'abc':200, 'ghi':100}\n",
    "\n",
    "sorted_list = sorted(dict, key = lambda e: dict[e])  # 'sorted' always returns a list\n",
    "\n",
    "print(sorted_list)"
   ]
  },
  {
   "cell_type": "code",
   "execution_count": 5,
   "metadata": {},
   "outputs": [
    {
     "name": "stdout",
     "output_type": "stream",
     "text": [
      "[(2+3j), (3-4j), (10+10j)]\n"
     ]
    }
   ],
   "source": [
    "# Sorting a list of complex numbers based on distance from origin\n",
    "comp_numbers = [3 - 4j, 2 + 3j, 10 + 10j]\n",
    "\n",
    "sorted_comp2 = sorted(comp_numbers, key=lambda c: c.real**2 + c.imag**2)\n",
    "\n",
    "print(sorted_comp2)"
   ]
  },
  {
   "cell_type": "code",
   "execution_count": 6,
   "metadata": {},
   "outputs": [
    {
     "name": "stdout",
     "output_type": "stream",
     "text": [
      "[30, 40, 50, 20, 10]\n"
     ]
    }
   ],
   "source": [
    "# Randomize the list via sorted function\n",
    "from random import random\n",
    "\n",
    "ls_ordered = [10, 20, 30, 40, 50]\n",
    "\n",
    "ls_random = sorted(ls_ordered, key=lambda x: random())\n",
    "\n",
    "print(ls_random)"
   ]
  },
  {
   "cell_type": "markdown",
   "metadata": {},
   "source": [
    "<br>\n",
    "<br>\n",
    "<hr>\n",
    "<h4>Map, Filter, Zip</h4>"
   ]
  },
  {
   "cell_type": "code",
   "execution_count": 7,
   "metadata": {},
   "outputs": [
    {
     "name": "stdout",
     "output_type": "stream",
     "text": [
      "<map object at 0x7f3fe43f8198>\n",
      "[0, 1, 4, 9]\n"
     ]
    }
   ],
   "source": [
    "# map: calculation square of numbers\n",
    "ls = [0, 1, 2, 3]\n",
    "\n",
    "print(map(lambda x: x*x, ls))        #> <map object at 0x…>\n",
    "print(list(map(lambda x: x*x, ls)))  #> [0, 1, 4, 9]"
   ]
  },
  {
   "cell_type": "code",
   "execution_count": 8,
   "metadata": {},
   "outputs": [
    {
     "name": "stdout",
     "output_type": "stream",
     "text": [
      "<filter object at 0x7f3fe43f83c8>\n",
      "[-1, 1, 3]\n"
     ]
    }
   ],
   "source": [
    "# filter: finding odd numbers in a list\n",
    "ls = [-1, 0, 1, 2, 3]\n",
    "\n",
    "print(filter(lambda x: x % 2, ls))        #> <filter object at 0x…>\n",
    "print(list(filter(lambda x: x % 2, ls)))  #> [-1, 1, 3]"
   ]
  },
  {
   "cell_type": "code",
   "execution_count": 9,
   "metadata": {},
   "outputs": [
    {
     "name": "stdout",
     "output_type": "stream",
     "text": [
      "[-1, 1, 2, 3]\n"
     ]
    }
   ],
   "source": [
    "# warning:\n",
    "print(list(filter(None, ls)))\n",
    "#> [-1, 1, 2, 3] -0 is skipped because 0 is equivalent to False"
   ]
  },
  {
   "cell_type": "code",
   "execution_count": 10,
   "metadata": {},
   "outputs": [
    {
     "name": "stdout",
     "output_type": "stream",
     "text": [
      "[(1, 10), (2, 20), (3, 30)]\n"
     ]
    }
   ],
   "source": [
    "# zip: aggregate numbers in lists\n",
    "ls1 = [1, 2, 3]\n",
    "ls2 = [10, 20, 30, 40]\n",
    "\n",
    "print(list(zip(ls1, ls2)))                #> [(1, 10), (2, 20), (3, 30)]"
   ]
  },
  {
   "cell_type": "code",
   "execution_count": 11,
   "metadata": {},
   "outputs": [
    {
     "name": "stdout",
     "output_type": "stream",
     "text": [
      "[11, 22, 33]\n"
     ]
    }
   ],
   "source": [
    "# zip + list comprehension: pairwise addition of numbers in lists\n",
    "# (numbers without a pair will be discarded)\n",
    "ls1 = [1, 2, 3]\n",
    "ls2 = [10, 20, 30, 40]\n",
    "\n",
    "print([x + y for x, y in zip(ls1, ls2)])  #> [11, 22, 33]"
   ]
  },
  {
   "cell_type": "markdown",
   "metadata": {},
   "source": [
    "<br>\n",
    "<br>\n",
    "<hr>\n",
    "<h4>Reduce</h4>"
   ]
  },
  {
   "cell_type": "code",
   "execution_count": 12,
   "metadata": {},
   "outputs": [],
   "source": [
    "from functools import reduce"
   ]
  },
  {
   "cell_type": "code",
   "execution_count": 13,
   "metadata": {
    "scrolled": true
   },
   "outputs": [
    {
     "name": "stdout",
     "output_type": "stream",
     "text": [
      "6\n"
     ]
    }
   ],
   "source": [
    "# reduce: finding sum of all numbers in a list\n",
    "ls = [1, 2, 3]\n",
    "print(reduce(lambda a, b: a+b, ls))                #> 6"
   ]
  },
  {
   "cell_type": "code",
   "execution_count": 14,
   "metadata": {},
   "outputs": [
    {
     "name": "stdout",
     "output_type": "stream",
     "text": [
      "10\n"
     ]
    }
   ],
   "source": [
    "# reduce: finding maximum value in a list\n",
    "ls = [5, 8, 6, 10, 9]\n",
    "print(reduce(lambda a, b: a if a > b else b, ls))  #> 10"
   ]
  },
  {
   "cell_type": "code",
   "execution_count": 15,
   "metadata": {},
   "outputs": [
    {
     "name": "stdout",
     "output_type": "stream",
     "text": [
      "1\n",
      "1\n",
      "120\n"
     ]
    }
   ],
   "source": [
    "# implementation of factorial via reduce\n",
    "def fact(n):\n",
    "    return reduce(lambda a,b: a*b, range(1, n+1), 1)  # 1 is initial value\n",
    "\n",
    "print(fact(0))                                     #> 1\n",
    "print(fact(1))                                     #> 1\n",
    "print(fact(5))                                     #> 120"
   ]
  },
  {
   "cell_type": "markdown",
   "metadata": {},
   "source": [
    "<br>\n",
    "<br>\n",
    "<hr>\n",
    "<h4>Partial functions</h4>"
   ]
  },
  {
   "cell_type": "code",
   "execution_count": 16,
   "metadata": {},
   "outputs": [
    {
     "name": "stdout",
     "output_type": "stream",
     "text": [
      "a=10, b=20, c=30\n"
     ]
    }
   ],
   "source": [
    "from functools import partial\n",
    "\n",
    "def my_func(a, b, c):\n",
    "    print(f'a={a}, b={b}, c={c}')\n",
    "\n",
    "f1 = partial(my_func, 10, 20)\n",
    "\n",
    "f1(30)"
   ]
  },
  {
   "cell_type": "code",
   "execution_count": 17,
   "metadata": {},
   "outputs": [
    {
     "name": "stdout",
     "output_type": "stream",
     "text": [
      "[(0, 0), (1, 1), (0, 2), (-3, 2), (10, 10)]\n",
      "[(0, 0), (1, 1), (0, 2), (-3, 2), (10, 10)]\n"
     ]
    }
   ],
   "source": [
    "# sorting a list of 2D-points according their distance from origin (0, 0)\n",
    "origin = (0, 0)\n",
    "ls = [(1, 1), (0, 2), (-3, 2), (0, 0), (10, 10)]\n",
    "\n",
    "find_dist = lambda a,b: (a[0]-b[0])**2 + (a[1]-b[1])**2  # function of finding distance from origin\n",
    "\n",
    "\n",
    "# way 1\n",
    "dist_from_origin = partial(find_dist, origin)\n",
    "print(sorted(ls, key=dist_from_origin))        #> [(0, 0), (1, 1), (0, 2), (-3, 2), (10, 10)]\n",
    "\n",
    "\n",
    "# way 2\n",
    "f2 = lambda x: find_dist(origin, x)\n",
    "print(sorted(ls, key=f2))                      #> [(0, 0), (1, 1), (0, 2), (-3, 2), (10, 10)]"
   ]
  },
  {
   "cell_type": "markdown",
   "metadata": {},
   "source": [
    "<br>\n",
    "<br>\n",
    "<hr>\n",
    "<h4>The operator module</h4>\n",
    "Replacement of lambda for high-order functions. Just for convenience.<br>\n",
    "Documentation: <a href='https://docs.python.org/3/library/operator.html'>docs.python.org/3/library/operator.html</a>"
   ]
  },
  {
   "cell_type": "code",
   "execution_count": 18,
   "metadata": {
    "scrolled": true
   },
   "outputs": [
    {
     "data": {
      "text/plain": [
       "['__abs__',\n",
       " '__add__',\n",
       " '__all__',\n",
       " '__and__',\n",
       " '__builtins__',\n",
       " '__cached__',\n",
       " '__concat__',\n",
       " '__contains__',\n",
       " '__delitem__',\n",
       " '__doc__',\n",
       " '__eq__',\n",
       " '__file__',\n",
       " '__floordiv__',\n",
       " '__ge__',\n",
       " '__getitem__',\n",
       " '__gt__',\n",
       " '__iadd__',\n",
       " '__iand__',\n",
       " '__iconcat__',\n",
       " '__ifloordiv__',\n",
       " '__ilshift__',\n",
       " '__imatmul__',\n",
       " '__imod__',\n",
       " '__imul__',\n",
       " '__index__',\n",
       " '__inv__',\n",
       " '__invert__',\n",
       " '__ior__',\n",
       " '__ipow__',\n",
       " '__irshift__',\n",
       " '__isub__',\n",
       " '__itruediv__',\n",
       " '__ixor__',\n",
       " '__le__',\n",
       " '__loader__',\n",
       " '__lshift__',\n",
       " '__lt__',\n",
       " '__matmul__',\n",
       " '__mod__',\n",
       " '__mul__',\n",
       " '__name__',\n",
       " '__ne__',\n",
       " '__neg__',\n",
       " '__not__',\n",
       " '__or__',\n",
       " '__package__',\n",
       " '__pos__',\n",
       " '__pow__',\n",
       " '__rshift__',\n",
       " '__setitem__',\n",
       " '__spec__',\n",
       " '__sub__',\n",
       " '__truediv__',\n",
       " '__xor__',\n",
       " '_abs',\n",
       " 'abs',\n",
       " 'add',\n",
       " 'and_',\n",
       " 'attrgetter',\n",
       " 'concat',\n",
       " 'contains',\n",
       " 'countOf',\n",
       " 'delitem',\n",
       " 'eq',\n",
       " 'floordiv',\n",
       " 'ge',\n",
       " 'getitem',\n",
       " 'gt',\n",
       " 'iadd',\n",
       " 'iand',\n",
       " 'iconcat',\n",
       " 'ifloordiv',\n",
       " 'ilshift',\n",
       " 'imatmul',\n",
       " 'imod',\n",
       " 'imul',\n",
       " 'index',\n",
       " 'indexOf',\n",
       " 'inv',\n",
       " 'invert',\n",
       " 'ior',\n",
       " 'ipow',\n",
       " 'irshift',\n",
       " 'is_',\n",
       " 'is_not',\n",
       " 'isub',\n",
       " 'itemgetter',\n",
       " 'itruediv',\n",
       " 'ixor',\n",
       " 'le',\n",
       " 'length_hint',\n",
       " 'lshift',\n",
       " 'lt',\n",
       " 'matmul',\n",
       " 'methodcaller',\n",
       " 'mod',\n",
       " 'mul',\n",
       " 'ne',\n",
       " 'neg',\n",
       " 'not_',\n",
       " 'or_',\n",
       " 'pos',\n",
       " 'pow',\n",
       " 'rshift',\n",
       " 'setitem',\n",
       " 'sub',\n",
       " 'truediv',\n",
       " 'truth',\n",
       " 'xor']"
      ]
     },
     "execution_count": 18,
     "metadata": {},
     "output_type": "execute_result"
    }
   ],
   "source": [
    "import operator\n",
    "\n",
    "dir (operator)  # list of accessible methods"
   ]
  },
  {
   "cell_type": "code",
   "execution_count": 19,
   "metadata": {},
   "outputs": [
    {
     "name": "stdout",
     "output_type": "stream",
     "text": [
      "6\n",
      "6\n"
     ]
    }
   ],
   "source": [
    "# E.g., finding sum of all numbers in a list (via lambda-function and operator-module)\n",
    "ls = [1, 2, 3]\n",
    "print(reduce(lambda a, b: a+b, ls))            #> 6\n",
    "print(reduce(operator.add, ls))                #> 6"
   ]
  },
  {
   "cell_type": "code",
   "execution_count": 20,
   "metadata": {},
   "outputs": [
    {
     "name": "stdout",
     "output_type": "stream",
     "text": [
      "720\n",
      "720\n"
     ]
    }
   ],
   "source": [
    "# Example2: calculation of factorial\n",
    "n = 6\n",
    "print(reduce(lambda a,b: a*b, range(1, n+1)))  # 720\n",
    "print(reduce(operator.mul, range(1, n+1)))     # 720"
   ]
  },
  {
   "cell_type": "code",
   "execution_count": 21,
   "metadata": {},
   "outputs": [
    {
     "name": "stdout",
     "output_type": "stream",
     "text": [
      "20\n",
      "[10, 'A', 30, 40]\n",
      "[10, 'A', 40]\n"
     ]
    }
   ],
   "source": [
    "ls = [10, 20, 30, 40]\n",
    "\n",
    "# operator.getitem(a, b) returns the value of a at index b.\n",
    "print(operator.getitem(ls, 1))  #> 20   # equivalent to print(ls[1])\n",
    "\n",
    "# operator.setitem(a, b) sets the value of a at index b\n",
    "operator.setitem(ls, 1, 'A')            # equivalent to ls.insert(1, 'A')\n",
    "print(ls)                       #> [10, 'A', 30, 40]\n",
    "\n",
    "# operator.delitem(a, b) removes the value of a at index b\n",
    "operator.delitem(ls, 2)                 # equivalent to  del ls[2]\n",
    "print(ls)                       #> [10, 'A', 40]"
   ]
  },
  {
   "cell_type": "markdown",
   "metadata": {},
   "source": [
    "<br>\n",
    "<b>operator.itemgetter</b> takes a sequence object (<i>such as list, tuple, string</i>) and returns a value that is located in according index (<i>or a tuple with such values</i>)"
   ]
  },
  {
   "cell_type": "code",
   "execution_count": 22,
   "metadata": {},
   "outputs": [
    {
     "name": "stdout",
     "output_type": "stream",
     "text": [
      "20\n",
      "y\n",
      "(10, 40)\n",
      "('P', 'n')\n"
     ]
    }
   ],
   "source": [
    "ls = [10, 20, 30, 40]\n",
    "st = 'Python'\n",
    "\n",
    "# get the second element in sequence\n",
    "f1 = operator.itemgetter(1)\n",
    "print(f1(ls))                         #> 20\n",
    "print(f1(st))                         #> y\n",
    "\n",
    "# get the first and the last elements in sequence\n",
    "f2 = operator.itemgetter(0, -1)\n",
    "print(f2(ls))                         #> (10, 40)\n",
    "print(f2(st))                         #> ('P', 'n')"
   ]
  },
  {
   "cell_type": "markdown",
   "metadata": {},
   "source": [
    "<br>\n",
    "<b>operator.attrgetter</b> is similar to <b>operator.itemgetter</b> but retrieves object attributes"
   ]
  },
  {
   "cell_type": "code",
   "execution_count": 23,
   "metadata": {},
   "outputs": [
    {
     "name": "stdout",
     "output_type": "stream",
     "text": [
      "attribute_b\n",
      "('attribute_a', 'attribute_c')\n"
     ]
    }
   ],
   "source": [
    "class MyClass:\n",
    "    def __init__(self):\n",
    "        self.a = 'attribute_a'\n",
    "        self.b = 'attribute_b'\n",
    "        self.c = 'attribute_c'\n",
    "\n",
    "obj = MyClass()\n",
    "\n",
    "atr_b = operator.attrgetter('b')\n",
    "print(atr_b(obj))                       #> attribute_b\n",
    "\n",
    "atr_ac = operator.attrgetter('a', 'c')\n",
    "print(atr_ac(obj))                      #> ('attribute_a', 'attribute_c')"
   ]
  },
  {
   "cell_type": "code",
   "execution_count": 24,
   "metadata": {},
   "outputs": [
    {
     "name": "stdout",
     "output_type": "stream",
     "text": [
      "[5.0, 3.0, 2.0]\n",
      "[5.0, 3.0, 2.0]\n",
      "[-10.0, 3.0, -100.0]\n",
      "[-10.0, 3.0, -100.0]\n",
      "[(2-100j), (3+3j), (5-10j)]\n",
      "[(2-100j), (3+3j), (5-10j)]\n"
     ]
    }
   ],
   "source": [
    "ls = [5-10j, 3+3j, 2-100j]\n",
    "\n",
    "# extracting real and imaginary part of complex numbers (via direct attribute and using operator.attrgetter)\n",
    "real_numbers1 = [n.real for n in ls]\n",
    "real_numbers2 = [operator.attrgetter('real')(n) for n in ls]\n",
    "print(real_numbers1)                                          #> [5.0, 3.0, 2.0]\n",
    "print(real_numbers2)                                          #> [5.0, 3.0, 2.0]\n",
    "\n",
    "real_imag1 = [n.imag for n in ls]\n",
    "real_imag2 = [operator.attrgetter('imag')(n) for n in ls]\n",
    "print(real_imag1)                                             #> [-10.0, 3.0, -100.0]\n",
    "print(real_imag2)                                             #> [-10.0, 3.0, -100.0]\n",
    "\n",
    "# sorting list based on real part of numbers (via lambda and using operator.attrgetter)\n",
    "print(sorted(ls, key=lambda x: x.real))                       #> [(2-100j), (3+3j), (5-10j)]\n",
    "print(sorted(ls, key=operator.attrgetter('real')))            #> [(2-100j), (3+3j), (5-10j)]"
   ]
  },
  {
   "cell_type": "markdown",
   "metadata": {},
   "source": [
    "<br>\n",
    "<b>operator.methodcaller</b> is essentially <b>operator.attrgetter</b> with auto-calling [<i>we can not write additional <b>()</b></i>]"
   ]
  },
  {
   "cell_type": "code",
   "execution_count": 25,
   "metadata": {},
   "outputs": [
    {
     "name": "stdout",
     "output_type": "stream",
     "text": [
      "PYTHON\n",
      "PYTHON\n"
     ]
    }
   ],
   "source": [
    "st = 'Python'\n",
    "print(operator.attrgetter('upper')(st)())  #> PYTHON\n",
    "print(operator.methodcaller('upper')(st))  #> PYTHON"
   ]
  }
 ],
 "metadata": {
  "kernelspec": {
   "display_name": "Python 3",
   "language": "python",
   "name": "python3"
  },
  "language_info": {
   "codemirror_mode": {
    "name": "ipython",
    "version": 3
   },
   "file_extension": ".py",
   "mimetype": "text/x-python",
   "name": "python",
   "nbconvert_exporter": "python",
   "pygments_lexer": "ipython3",
   "version": "3.7.3"
  }
 },
 "nbformat": 4,
 "nbformat_minor": 2
}
